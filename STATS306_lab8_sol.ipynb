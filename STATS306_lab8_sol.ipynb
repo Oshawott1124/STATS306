{
  "nbformat": 4,
  "nbformat_minor": 0,
  "metadata": {
    "colab": {
      "name": "STATS306_lab8_sol.ipynb",
      "provenance": []
    },
    "kernelspec": {
      "name": "ir",
      "display_name": "R"
    }
  },
  "cells": [
    {
      "cell_type": "code",
      "metadata": {
        "id": "MsS9zGvoy0oh",
        "colab_type": "code",
        "outputId": "a4066045-7a9a-4ef7-a52e-70dde6887085",
        "colab": {
          "base_uri": "https://localhost:8080/",
          "height": 204
        }
      },
      "source": [
        "library (tidyverse)"
      ],
      "execution_count": 0,
      "outputs": [
        {
          "output_type": "stream",
          "text": [
            "── \u001b[1mAttaching packages\u001b[22m ─────────────────────────────────────── tidyverse 1.3.0 ──\n",
            "\n",
            "\u001b[32m✔\u001b[39m \u001b[34mggplot2\u001b[39m 3.2.1     \u001b[32m✔\u001b[39m \u001b[34mpurrr  \u001b[39m 0.3.3\n",
            "\u001b[32m✔\u001b[39m \u001b[34mtibble \u001b[39m 2.1.3     \u001b[32m✔\u001b[39m \u001b[34mdplyr  \u001b[39m 0.8.4\n",
            "\u001b[32m✔\u001b[39m \u001b[34mtidyr  \u001b[39m 1.0.2     \u001b[32m✔\u001b[39m \u001b[34mstringr\u001b[39m 1.4.0\n",
            "\u001b[32m✔\u001b[39m \u001b[34mreadr  \u001b[39m 1.3.1     \u001b[32m✔\u001b[39m \u001b[34mforcats\u001b[39m 0.4.0\n",
            "\n",
            "── \u001b[1mConflicts\u001b[22m ────────────────────────────────────────── tidyverse_conflicts() ──\n",
            "\u001b[31m✖\u001b[39m \u001b[34mdplyr\u001b[39m::\u001b[32mfilter()\u001b[39m masks \u001b[34mstats\u001b[39m::filter()\n",
            "\u001b[31m✖\u001b[39m \u001b[34mdplyr\u001b[39m::\u001b[32mlag()\u001b[39m    masks \u001b[34mstats\u001b[39m::lag()\n",
            "\n"
          ],
          "name": "stderr"
        }
      ]
    },
    {
      "cell_type": "code",
      "metadata": {
        "id": "7pWij_gFy3En",
        "colab_type": "code",
        "outputId": "61935813-25f9-415d-b5d8-53796d0dbbf5",
        "colab": {
          "base_uri": "https://localhost:8080/",
          "height": 235
        }
      },
      "source": [
        "df <- data.frame(abc = 1, xyz = \"a\")\n",
        "df$x\n",
        "df[, \"xyz\"]\n",
        "df[, c(\"abc\", \"xyz\")]\n",
        "class(df[, \"xyz\"])\n",
        "class(df[, c(\"abc\", \"xyz\")])"
      ],
      "execution_count": 0,
      "outputs": [
        {
          "output_type": "display_data",
          "data": {
            "text/plain": [
              "[1] a\n",
              "Levels: a"
            ],
            "text/latex": "a\n\\emph{Levels}: 'a'",
            "text/markdown": "a\n**Levels**: 'a'",
            "text/html": [
              "a\n",
              "<details>\n",
              "\t<summary style=display:list-item;cursor:pointer>\n",
              "\t\t<strong>Levels</strong>:\n",
              "\t</summary>\n",
              "\t'a'\n",
              "</details>"
            ]
          },
          "metadata": {
            "tags": []
          }
        },
        {
          "output_type": "display_data",
          "data": {
            "text/plain": [
              "[1] a\n",
              "Levels: a"
            ],
            "text/latex": "a\n\\emph{Levels}: 'a'",
            "text/markdown": "a\n**Levels**: 'a'",
            "text/html": [
              "a\n",
              "<details>\n",
              "\t<summary style=display:list-item;cursor:pointer>\n",
              "\t\t<strong>Levels</strong>:\n",
              "\t</summary>\n",
              "\t'a'\n",
              "</details>"
            ]
          },
          "metadata": {
            "tags": []
          }
        },
        {
          "output_type": "display_data",
          "data": {
            "text/plain": [
              "  abc xyz\n",
              "1 1   a  "
            ],
            "text/latex": "A data.frame: 1 × 2\n\\begin{tabular}{ll}\n abc & xyz\\\\\n <dbl> & <fct>\\\\\n\\hline\n\t 1 & a\\\\\n\\end{tabular}\n",
            "text/markdown": "\nA data.frame: 1 × 2\n\n| abc &lt;dbl&gt; | xyz &lt;fct&gt; |\n|---|---|\n| 1 | a |\n\n",
            "text/html": [
              "<table>\n",
              "<caption>A data.frame: 1 × 2</caption>\n",
              "<thead>\n",
              "\t<tr><th scope=col>abc</th><th scope=col>xyz</th></tr>\n",
              "\t<tr><th scope=col>&lt;dbl&gt;</th><th scope=col>&lt;fct&gt;</th></tr>\n",
              "</thead>\n",
              "<tbody>\n",
              "\t<tr><td>1</td><td>a</td></tr>\n",
              "</tbody>\n",
              "</table>\n"
            ]
          },
          "metadata": {
            "tags": []
          }
        },
        {
          "output_type": "display_data",
          "data": {
            "text/plain": [
              "[1] \"factor\""
            ],
            "text/latex": "'factor'",
            "text/markdown": "'factor'",
            "text/html": [
              "'factor'"
            ]
          },
          "metadata": {
            "tags": []
          }
        },
        {
          "output_type": "display_data",
          "data": {
            "text/plain": [
              "[1] \"data.frame\""
            ],
            "text/latex": "'data.frame'",
            "text/markdown": "'data.frame'",
            "text/html": [
              "'data.frame'"
            ]
          },
          "metadata": {
            "tags": []
          }
        }
      ]
    },
    {
      "cell_type": "code",
      "metadata": {
        "id": "h2CmOk-6y63S",
        "colab_type": "code",
        "outputId": "c8af0061-93af-4d7b-eaa3-ac78696f0ebe",
        "colab": {
          "base_uri": "https://localhost:8080/",
          "height": 184
        }
      },
      "source": [
        "df1 <- as_tibble(df)\n",
        "df1$x\n",
        "class(df1[, \"xyz\"])\n",
        "df1[, c(\"abc\", \"xyz\")]"
      ],
      "execution_count": 0,
      "outputs": [
        {
          "output_type": "stream",
          "text": [
            "Warning message:\n",
            "“Unknown or uninitialised column: 'x'.”\n"
          ],
          "name": "stderr"
        },
        {
          "output_type": "display_data",
          "data": {
            "text/plain": [
              "NULL"
            ]
          },
          "metadata": {
            "tags": []
          }
        },
        {
          "output_type": "display_data",
          "data": {
            "text/plain": [
              "[1] \"tbl_df\"     \"tbl\"        \"data.frame\""
            ],
            "text/latex": "\\begin{enumerate*}\n\\item 'tbl\\_df'\n\\item 'tbl'\n\\item 'data.frame'\n\\end{enumerate*}\n",
            "text/markdown": "1. 'tbl_df'\n2. 'tbl'\n3. 'data.frame'\n\n\n",
            "text/html": [
              "<style>\n",
              ".list-inline {list-style: none; margin:0; padding: 0}\n",
              ".list-inline>li {display: inline-block}\n",
              ".list-inline>li:not(:last-child)::after {content: \"\\00b7\"; padding: 0 .5ex}\n",
              "</style>\n",
              "<ol class=list-inline><li>'tbl_df'</li><li>'tbl'</li><li>'data.frame'</li></ol>\n"
            ]
          },
          "metadata": {
            "tags": []
          }
        },
        {
          "output_type": "display_data",
          "data": {
            "text/plain": [
              "  abc xyz\n",
              "1 1   a  "
            ],
            "text/latex": "A tibble: 1 × 2\n\\begin{tabular}{ll}\n abc & xyz\\\\\n <dbl> & <fct>\\\\\n\\hline\n\t 1 & a\\\\\n\\end{tabular}\n",
            "text/markdown": "\nA tibble: 1 × 2\n\n| abc &lt;dbl&gt; | xyz &lt;fct&gt; |\n|---|---|\n| 1 | a |\n\n",
            "text/html": [
              "<table>\n",
              "<caption>A tibble: 1 × 2</caption>\n",
              "<thead>\n",
              "\t<tr><th scope=col>abc</th><th scope=col>xyz</th></tr>\n",
              "\t<tr><th scope=col>&lt;dbl&gt;</th><th scope=col>&lt;fct&gt;</th></tr>\n",
              "</thead>\n",
              "<tbody>\n",
              "\t<tr><td>1</td><td>a</td></tr>\n",
              "</tbody>\n",
              "</table>\n"
            ]
          },
          "metadata": {
            "tags": []
          }
        }
      ]
    },
    {
      "cell_type": "code",
      "metadata": {
        "id": "lH5cWN7QEnEW",
        "colab_type": "code",
        "colab": {}
      },
      "source": [
        "annoying <- tibble(\n",
        "  `1` = 1:10,\n",
        "  `2` = `1` * 2 + rnorm(length(`1`))\n",
        ")"
      ],
      "execution_count": 0,
      "outputs": []
    },
    {
      "cell_type": "code",
      "metadata": {
        "id": "0grF58lMEp8P",
        "colab_type": "code",
        "outputId": "03fc4f04-c587-4651-ffb6-a45fe725fec6",
        "colab": {
          "base_uri": "https://localhost:8080/",
          "height": 51
        }
      },
      "source": [
        "#annoying %>% .$1\n",
        "annoying %>% .$`1`\n",
        "annoying[[\"1\"]]\n",
        "annoying[[1]]"
      ],
      "execution_count": 0,
      "outputs": [
        {
          "output_type": "display_data",
          "data": {
            "text/plain": [
              " [1]  1  2  3  4  5  6  7  8  9 10"
            ],
            "text/latex": "\\begin{enumerate*}\n\\item 1\n\\item 2\n\\item 3\n\\item 4\n\\item 5\n\\item 6\n\\item 7\n\\item 8\n\\item 9\n\\item 10\n\\end{enumerate*}\n",
            "text/markdown": "1. 1\n2. 2\n3. 3\n4. 4\n5. 5\n6. 6\n7. 7\n8. 8\n9. 9\n10. 10\n\n\n",
            "text/html": [
              "<style>\n",
              ".list-inline {list-style: none; margin:0; padding: 0}\n",
              ".list-inline>li {display: inline-block}\n",
              ".list-inline>li:not(:last-child)::after {content: \"\\00b7\"; padding: 0 .5ex}\n",
              "</style>\n",
              "<ol class=list-inline><li>1</li><li>2</li><li>3</li><li>4</li><li>5</li><li>6</li><li>7</li><li>8</li><li>9</li><li>10</li></ol>\n"
            ]
          },
          "metadata": {
            "tags": []
          }
        },
        {
          "output_type": "display_data",
          "data": {
            "text/plain": [
              " [1]  1  2  3  4  5  6  7  8  9 10"
            ],
            "text/latex": "\\begin{enumerate*}\n\\item 1\n\\item 2\n\\item 3\n\\item 4\n\\item 5\n\\item 6\n\\item 7\n\\item 8\n\\item 9\n\\item 10\n\\end{enumerate*}\n",
            "text/markdown": "1. 1\n2. 2\n3. 3\n4. 4\n5. 5\n6. 6\n7. 7\n8. 8\n9. 9\n10. 10\n\n\n",
            "text/html": [
              "<style>\n",
              ".list-inline {list-style: none; margin:0; padding: 0}\n",
              ".list-inline>li {display: inline-block}\n",
              ".list-inline>li:not(:last-child)::after {content: \"\\00b7\"; padding: 0 .5ex}\n",
              "</style>\n",
              "<ol class=list-inline><li>1</li><li>2</li><li>3</li><li>4</li><li>5</li><li>6</li><li>7</li><li>8</li><li>9</li><li>10</li></ol>\n"
            ]
          },
          "metadata": {
            "tags": []
          }
        }
      ]
    },
    {
      "cell_type": "code",
      "metadata": {
        "id": "3YusqSleFvVg",
        "colab_type": "code",
        "outputId": "4015cff0-a003-4202-898f-fed7314300e7",
        "colab": {
          "base_uri": "https://localhost:8080/",
          "height": 437
        }
      },
      "source": [
        "annoying %>%\n",
        "ggplot(aes(x = `1`, y = `2`)) +\n",
        "geom_point()"
      ],
      "execution_count": 0,
      "outputs": [
        {
          "output_type": "display_data",
          "data": {
            "image/png": "[encoded data removed]",
            "text/plain": [
              "plot without title"
            ]
          },
          "metadata": {
            "tags": [],
            "image/png": {
              "width": 420,
              "height": 420
            },
            "text/plain": {
              "width": 420,
              "height": 420
            }
          }
        }
      ]
    },
    {
      "cell_type": "code",
      "metadata": {
        "id": "2goREwpVG_Zm",
        "colab_type": "code",
        "outputId": "100ddf69-6411-4cf5-caa3-96b6c88a2a34",
        "colab": {
          "base_uri": "https://localhost:8080/",
          "height": 238
        }
      },
      "source": [
        "annoying <- annoying %>% mutate(`3` = `2` / `1`)\n",
        "print(annoying)"
      ],
      "execution_count": 0,
      "outputs": [
        {
          "output_type": "stream",
          "text": [
            "\u001b[90m# A tibble: 10 x 3\u001b[39m\n",
            "     `1`   `2`   `3`\n",
            "   \u001b[3m\u001b[90m<int>\u001b[39m\u001b[23m \u001b[3m\u001b[90m<dbl>\u001b[39m\u001b[23m \u001b[3m\u001b[90m<dbl>\u001b[39m\u001b[23m\n",
            "\u001b[90m 1\u001b[39m     1  2.25  2.25\n",
            "\u001b[90m 2\u001b[39m     2  4.25  2.13\n",
            "\u001b[90m 3\u001b[39m     3  5.13  1.71\n",
            "\u001b[90m 4\u001b[39m     4  7.69  1.92\n",
            "\u001b[90m 5\u001b[39m     5  9.95  1.99\n",
            "\u001b[90m 6\u001b[39m     6 12.9   2.15\n",
            "\u001b[90m 7\u001b[39m     7 15.0   2.15\n",
            "\u001b[90m 8\u001b[39m     8 16.6   2.08\n",
            "\u001b[90m 9\u001b[39m     9 17.5   1.94\n",
            "\u001b[90m10\u001b[39m    10 20.8   2.08\n"
          ],
          "name": "stdout"
        }
      ]
    },
    {
      "cell_type": "code",
      "metadata": {
        "id": "ZRZu3iGa1NYM",
        "colab_type": "code",
        "colab": {}
      },
      "source": [
        "annoying[[\"3\"]] <- annoying$`2` / annoying$`1`"
      ],
      "execution_count": 0,
      "outputs": []
    },
    {
      "cell_type": "code",
      "metadata": {
        "id": "gMO2a2M0HP2p",
        "colab_type": "code",
        "outputId": "854effe1-0f30-46a5-9eaf-607ccf16f5fa",
        "colab": {
          "base_uri": "https://localhost:8080/",
          "height": 288
        }
      },
      "source": [
        "annoying %>% rename(`one` = `1`, `two` = `2`, `three` = `3`)"
      ],
      "execution_count": 0,
      "outputs": [
        {
          "output_type": "display_data",
          "data": {
            "text/plain": [
              "   one two       three   \n",
              "1   1   2.245041 2.245041\n",
              "2   2   4.251283 2.125642\n",
              "3   3   5.131648 1.710549\n",
              "4   4   7.690854 1.922713\n",
              "5   5   9.948522 1.989704\n",
              "6   6  12.906200 2.151033\n",
              "7   7  15.023234 2.146176\n",
              "8   8  16.625680 2.078210\n",
              "9   9  17.474460 1.941607\n",
              "10 10  20.754111 2.075411"
            ],
            "text/latex": "A tibble: 10 × 3\n\\begin{tabular}{lll}\n one & two & three\\\\\n <int> & <dbl> & <dbl>\\\\\n\\hline\n\t  1 &  2.245041 & 2.245041\\\\\n\t  2 &  4.251283 & 2.125642\\\\\n\t  3 &  5.131648 & 1.710549\\\\\n\t  4 &  7.690854 & 1.922713\\\\\n\t  5 &  9.948522 & 1.989704\\\\\n\t  6 & 12.906200 & 2.151033\\\\\n\t  7 & 15.023234 & 2.146176\\\\\n\t  8 & 16.625680 & 2.078210\\\\\n\t  9 & 17.474460 & 1.941607\\\\\n\t 10 & 20.754111 & 2.075411\\\\\n\\end{tabular}\n",
            "text/markdown": "\nA tibble: 10 × 3\n\n| one &lt;int&gt; | two &lt;dbl&gt; | three &lt;dbl&gt; |\n|---|---|---|\n|  1 |  2.245041 | 2.245041 |\n|  2 |  4.251283 | 2.125642 |\n|  3 |  5.131648 | 1.710549 |\n|  4 |  7.690854 | 1.922713 |\n|  5 |  9.948522 | 1.989704 |\n|  6 | 12.906200 | 2.151033 |\n|  7 | 15.023234 | 2.146176 |\n|  8 | 16.625680 | 2.078210 |\n|  9 | 17.474460 | 1.941607 |\n| 10 | 20.754111 | 2.075411 |\n\n",
            "text/html": [
              "<table>\n",
              "<caption>A tibble: 10 × 3</caption>\n",
              "<thead>\n",
              "\t<tr><th scope=col>one</th><th scope=col>two</th><th scope=col>three</th></tr>\n",
              "\t<tr><th scope=col>&lt;int&gt;</th><th scope=col>&lt;dbl&gt;</th><th scope=col>&lt;dbl&gt;</th></tr>\n",
              "</thead>\n",
              "<tbody>\n",
              "\t<tr><td> 1</td><td> 2.245041</td><td>2.245041</td></tr>\n",
              "\t<tr><td> 2</td><td> 4.251283</td><td>2.125642</td></tr>\n",
              "\t<tr><td> 3</td><td> 5.131648</td><td>1.710549</td></tr>\n",
              "\t<tr><td> 4</td><td> 7.690854</td><td>1.922713</td></tr>\n",
              "\t<tr><td> 5</td><td> 9.948522</td><td>1.989704</td></tr>\n",
              "\t<tr><td> 6</td><td>12.906200</td><td>2.151033</td></tr>\n",
              "\t<tr><td> 7</td><td>15.023234</td><td>2.146176</td></tr>\n",
              "\t<tr><td> 8</td><td>16.625680</td><td>2.078210</td></tr>\n",
              "\t<tr><td> 9</td><td>17.474460</td><td>1.941607</td></tr>\n",
              "\t<tr><td>10</td><td>20.754111</td><td>2.075411</td></tr>\n",
              "</tbody>\n",
              "</table>\n"
            ]
          },
          "metadata": {
            "tags": []
          }
        }
      ]
    },
    {
      "cell_type": "markdown",
      "metadata": {
        "id": "LeenJd-PJpLj",
        "colab_type": "text"
      },
      "source": [
        "`enframe()` converts named atomic vectors or lists to one- or two-column data frames. For a list, the result will be a nested tibble with a column of type list. For unnamed vectors, the natural sequence is used as name column."
      ]
    },
    {
      "cell_type": "code",
      "metadata": {
        "id": "jkiCBkLzJ_Sk",
        "colab_type": "code",
        "outputId": "e2ace071-adf4-4d4d-9257-a55cde185337",
        "colab": {
          "base_uri": "https://localhost:8080/",
          "height": 158
        }
      },
      "source": [
        "enframe(1:3)"
      ],
      "execution_count": 0,
      "outputs": [
        {
          "output_type": "display_data",
          "data": {
            "text/plain": [
              "  name value\n",
              "1 1    1    \n",
              "2 2    2    \n",
              "3 3    3    "
            ],
            "text/latex": "A tibble: 3 × 2\n\\begin{tabular}{ll}\n name & value\\\\\n <int> & <int>\\\\\n\\hline\n\t 1 & 1\\\\\n\t 2 & 2\\\\\n\t 3 & 3\\\\\n\\end{tabular}\n",
            "text/markdown": "\nA tibble: 3 × 2\n\n| name &lt;int&gt; | value &lt;int&gt; |\n|---|---|\n| 1 | 1 |\n| 2 | 2 |\n| 3 | 3 |\n\n",
            "text/html": [
              "<table>\n",
              "<caption>A tibble: 3 × 2</caption>\n",
              "<thead>\n",
              "\t<tr><th scope=col>name</th><th scope=col>value</th></tr>\n",
              "\t<tr><th scope=col>&lt;int&gt;</th><th scope=col>&lt;int&gt;</th></tr>\n",
              "</thead>\n",
              "<tbody>\n",
              "\t<tr><td>1</td><td>1</td></tr>\n",
              "\t<tr><td>2</td><td>2</td></tr>\n",
              "\t<tr><td>3</td><td>3</td></tr>\n",
              "</tbody>\n",
              "</table>\n"
            ]
          },
          "metadata": {
            "tags": []
          }
        }
      ]
    },
    {
      "cell_type": "code",
      "metadata": {
        "id": "E6y-YmX1J_y9",
        "colab_type": "code",
        "outputId": "b353827a-b118-43f1-ef65-9d0129befc1b",
        "colab": {
          "base_uri": "https://localhost:8080/",
          "height": 120
        }
      },
      "source": [
        "enframe(c(a = 5, b = 7))"
      ],
      "execution_count": 0,
      "outputs": [
        {
          "output_type": "display_data",
          "data": {
            "text/plain": [
              "  name value\n",
              "1 a    5    \n",
              "2 b    7    "
            ],
            "text/latex": "A tibble: 2 × 2\n\\begin{tabular}{ll}\n name & value\\\\\n <chr> & <dbl>\\\\\n\\hline\n\t a & 5\\\\\n\t b & 7\\\\\n\\end{tabular}\n",
            "text/markdown": "\nA tibble: 2 × 2\n\n| name &lt;chr&gt; | value &lt;dbl&gt; |\n|---|---|\n| a | 5 |\n| b | 7 |\n\n",
            "text/html": [
              "<table>\n",
              "<caption>A tibble: 2 × 2</caption>\n",
              "<thead>\n",
              "\t<tr><th scope=col>name</th><th scope=col>value</th></tr>\n",
              "\t<tr><th scope=col>&lt;chr&gt;</th><th scope=col>&lt;dbl&gt;</th></tr>\n",
              "</thead>\n",
              "<tbody>\n",
              "\t<tr><td>a</td><td>5</td></tr>\n",
              "\t<tr><td>b</td><td>7</td></tr>\n",
              "</tbody>\n",
              "</table>\n"
            ]
          },
          "metadata": {
            "tags": []
          }
        }
      ]
    },
    {
      "cell_type": "markdown",
      "metadata": {
        "id": "ajI4F2cpCWK5",
        "colab_type": "text"
      },
      "source": [
        "Use the `read_delim()` function with the argument `delim=\"|\"`."
      ]
    },
    {
      "cell_type": "code",
      "metadata": {
        "id": "FBVCVhfqCRtS",
        "colab_type": "code",
        "outputId": "55a210b0-77d5-4b99-df96-55814211159e",
        "colab": {
          "base_uri": "https://localhost:8080/",
          "height": 120
        }
      },
      "source": [
        "read_delim(\"a|b|c\\n1|2|3\\n4|5|6\", delim = \"|\")"
      ],
      "execution_count": 0,
      "outputs": [
        {
          "output_type": "display_data",
          "data": {
            "text/plain": [
              "  a b c\n",
              "1 1 2 3\n",
              "2 4 5 6"
            ],
            "text/latex": "A spec\\_tbl\\_df: 2 × 3\n\\begin{tabular}{lll}\n a & b & c\\\\\n <dbl> & <dbl> & <dbl>\\\\\n\\hline\n\t 1 & 2 & 3\\\\\n\t 4 & 5 & 6\\\\\n\\end{tabular}\n",
            "text/markdown": "\nA spec_tbl_df: 2 × 3\n\n| a &lt;dbl&gt; | b &lt;dbl&gt; | c &lt;dbl&gt; |\n|---|---|---|\n| 1 | 2 | 3 |\n| 4 | 5 | 6 |\n\n",
            "text/html": [
              "<table>\n",
              "<caption>A spec_tbl_df: 2 × 3</caption>\n",
              "<thead>\n",
              "\t<tr><th scope=col>a</th><th scope=col>b</th><th scope=col>c</th></tr>\n",
              "\t<tr><th scope=col>&lt;dbl&gt;</th><th scope=col>&lt;dbl&gt;</th><th scope=col>&lt;dbl&gt;</th></tr>\n",
              "</thead>\n",
              "<tbody>\n",
              "\t<tr><td>1</td><td>2</td><td>3</td></tr>\n",
              "\t<tr><td>4</td><td>5</td><td>6</td></tr>\n",
              "</tbody>\n",
              "</table>\n"
            ]
          },
          "metadata": {
            "tags": []
          }
        }
      ]
    },
    {
      "cell_type": "code",
      "metadata": {
        "id": "mrFJF1mSLu5Z",
        "colab_type": "code",
        "outputId": "68158ef8-5af0-40ef-b07a-a9131e73b9d9",
        "colab": {
          "base_uri": "https://localhost:8080/",
          "height": 34
        }
      },
      "source": [
        "union(names(formals(read_csv)), names(formals(read_tsv)))"
      ],
      "execution_count": 0,
      "outputs": [
        {
          "output_type": "display_data",
          "data": {
            "text/plain": [
              " [1] \"file\"            \"col_names\"       \"col_types\"       \"locale\"         \n",
              " [5] \"na\"              \"quoted_na\"       \"quote\"           \"comment\"        \n",
              " [9] \"trim_ws\"         \"skip\"            \"n_max\"           \"guess_max\"      \n",
              "[13] \"progress\"        \"skip_empty_rows\""
            ],
            "text/latex": "\\begin{enumerate*}\n\\item 'file'\n\\item 'col\\_names'\n\\item 'col\\_types'\n\\item 'locale'\n\\item 'na'\n\\item 'quoted\\_na'\n\\item 'quote'\n\\item 'comment'\n\\item 'trim\\_ws'\n\\item 'skip'\n\\item 'n\\_max'\n\\item 'guess\\_max'\n\\item 'progress'\n\\item 'skip\\_empty\\_rows'\n\\end{enumerate*}\n",
            "text/markdown": "1. 'file'\n2. 'col_names'\n3. 'col_types'\n4. 'locale'\n5. 'na'\n6. 'quoted_na'\n7. 'quote'\n8. 'comment'\n9. 'trim_ws'\n10. 'skip'\n11. 'n_max'\n12. 'guess_max'\n13. 'progress'\n14. 'skip_empty_rows'\n\n\n",
            "text/html": [
              "<style>\n",
              ".list-inline {list-style: none; margin:0; padding: 0}\n",
              ".list-inline>li {display: inline-block}\n",
              ".list-inline>li:not(:last-child)::after {content: \"\\00b7\"; padding: 0 .5ex}\n",
              "</style>\n",
              "<ol class=list-inline><li>'file'</li><li>'col_names'</li><li>'col_types'</li><li>'locale'</li><li>'na'</li><li>'quoted_na'</li><li>'quote'</li><li>'comment'</li><li>'trim_ws'</li><li>'skip'</li><li>'n_max'</li><li>'guess_max'</li><li>'progress'</li><li>'skip_empty_rows'</li></ol>\n"
            ]
          },
          "metadata": {
            "tags": []
          }
        }
      ]
    },
    {
      "cell_type": "markdown",
      "metadata": {
        "id": "_d9iPeXuK1TP",
        "colab_type": "text"
      },
      "source": [
        "The most important argument to `read_fwf()` which reads \"fixed-width formats\", is `col_positions` which tells the function where data columns begin and end.\n"
      ]
    },
    {
      "cell_type": "code",
      "metadata": {
        "id": "c5zGeORvMN50",
        "colab_type": "code",
        "outputId": "7bb8827c-fc42-4c6d-86e8-f1bd985cc35d",
        "colab": {
          "base_uri": "https://localhost:8080/",
          "height": 133
        }
      },
      "source": [
        "x <- \"x,y\\n1,'a,b'\"\n",
        "read_csv(x, quote = \"'\")"
      ],
      "execution_count": 0,
      "outputs": [
        {
          "output_type": "display_data",
          "data": {
            "text/plain": [
              "  x y  \n",
              "1 1 a,b"
            ],
            "text/latex": "A spec\\_tbl\\_df: 1 × 2\n\\begin{tabular}{ll}\n x & y\\\\\n <dbl> & <chr>\\\\\n\\hline\n\t 1 & a,b\\\\\n\\end{tabular}\n",
            "text/markdown": "\nA spec_tbl_df: 1 × 2\n\n| x &lt;dbl&gt; | y &lt;chr&gt; |\n|---|---|\n| 1 | a,b |\n\n",
            "text/html": [
              "<table>\n",
              "<caption>A spec_tbl_df: 1 × 2</caption>\n",
              "<thead>\n",
              "\t<tr><th scope=col>x</th><th scope=col>y</th></tr>\n",
              "\t<tr><th scope=col>&lt;dbl&gt;</th><th scope=col>&lt;chr&gt;</th></tr>\n",
              "</thead>\n",
              "<tbody>\n",
              "\t<tr><td>1</td><td>a,b</td></tr>\n",
              "</tbody>\n",
              "</table>\n"
            ]
          },
          "metadata": {
            "tags": []
          }
        }
      ]
    }
  ]
}