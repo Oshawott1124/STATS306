{
  "nbformat": 4,
  "nbformat_minor": 0,
  "metadata": {
    "colab": {
      "name": "STATS306_lab8_sol.ipynb",
      "provenance": []
    },
    "kernelspec": {
      "name": "ir",
      "display_name": "R"
    }
  },
  "cells": [
    {
      "cell_type": "code",
      "metadata": {
        "id": "MsS9zGvoy0oh",
        "colab_type": "code",
        "outputId": "a4066045-7a9a-4ef7-a52e-70dde6887085",
        "colab": {
          "base_uri": "https://localhost:8080/",
          "height": 204
        }
      },
      "source": [
        "library (tidyverse)"
      ],
      "execution_count": 0,
      "outputs": [
        {
          "output_type": "stream",
          "text": [
            "── \u001b[1mAttaching packages\u001b[22m ─────────────────────────────────────── tidyverse 1.3.0 ──\n",
            "\n",
            "\u001b[32m✔\u001b[39m \u001b[34mggplot2\u001b[39m 3.2.1     \u001b[32m✔\u001b[39m \u001b[34mpurrr  \u001b[39m 0.3.3\n",
            "\u001b[32m✔\u001b[39m \u001b[34mtibble \u001b[39m 2.1.3     \u001b[32m✔\u001b[39m \u001b[34mdplyr  \u001b[39m 0.8.4\n",
            "\u001b[32m✔\u001b[39m \u001b[34mtidyr  \u001b[39m 1.0.2     \u001b[32m✔\u001b[39m \u001b[34mstringr\u001b[39m 1.4.0\n",
            "\u001b[32m✔\u001b[39m \u001b[34mreadr  \u001b[39m 1.3.1     \u001b[32m✔\u001b[39m \u001b[34mforcats\u001b[39m 0.4.0\n",
            "\n",
            "── \u001b[1mConflicts\u001b[22m ────────────────────────────────────────── tidyverse_conflicts() ──\n",
            "\u001b[31m✖\u001b[39m \u001b[34mdplyr\u001b[39m::\u001b[32mfilter()\u001b[39m masks \u001b[34mstats\u001b[39m::filter()\n",
            "\u001b[31m✖\u001b[39m \u001b[34mdplyr\u001b[39m::\u001b[32mlag()\u001b[39m    masks \u001b[34mstats\u001b[39m::lag()\n",
            "\n"
          ],
          "name": "stderr"
        }
      ]
    },
    {
      "cell_type": "code",
      "metadata": {
        "id": "7pWij_gFy3En",
        "colab_type": "code",
        "outputId": "61935813-25f9-415d-b5d8-53796d0dbbf5",
        "colab": {
          "base_uri": "https://localhost:8080/",
          "height": 235
        }
      },
      "source": [
        "df <- data.frame(abc = 1, xyz = \"a\")\n",
        "df$x\n",
        "df[, \"xyz\"]\n",
        "df[, c(\"abc\", \"xyz\")]\n",
        "class(df[, \"xyz\"])\n",
        "class(df[, c(\"abc\", \"xyz\")])"
      ],
      "execution_count": 0,
      "outputs": [
        {
          "output_type": "display_data",
          "data": {
            "text/plain": [
              "[1] a\n",
              "Levels: a"
            ],
            "text/latex": "a\n\\emph{Levels}: 'a'",
            "text/markdown": "a\n**Levels**: 'a'",
            "text/html": [
              "a\n",
              "<details>\n",
              "\t<summary style=display:list-item;cursor:pointer>\n",
              "\t\t<strong>Levels</strong>:\n",
              "\t</summary>\n",
              "\t'a'\n",
              "</details>"
            ]
          },
          "metadata": {
            "tags": []
          }
        },
        {
          "output_type": "display_data",
          "data": {
            "text/plain": [
              "[1] a\n",
              "Levels: a"
            ],
            "text/latex": "a\n\\emph{Levels}: 'a'",
            "text/markdown": "a\n**Levels**: 'a'",
            "text/html": [
              "a\n",
              "<details>\n",
              "\t<summary style=display:list-item;cursor:pointer>\n",
              "\t\t<strong>Levels</strong>:\n",
              "\t</summary>\n",
              "\t'a'\n",
              "</details>"
            ]
          },
          "metadata": {
            "tags": []
          }
        },
        {
          "output_type": "display_data",
          "data": {
            "text/plain": [
              "  abc xyz\n",
              "1 1   a  "
            ],
            "text/latex": "A data.frame: 1 × 2\n\\begin{tabular}{ll}\n abc & xyz\\\\\n <dbl> & <fct>\\\\\n\\hline\n\t 1 & a\\\\\n\\end{tabular}\n",
            "text/markdown": "\nA data.frame: 1 × 2\n\n| abc &lt;dbl&gt; | xyz &lt;fct&gt; |\n|---|---|\n| 1 | a |\n\n",
            "text/html": [
              "<table>\n",
              "<caption>A data.frame: 1 × 2</caption>\n",
              "<thead>\n",
              "\t<tr><th scope=col>abc</th><th scope=col>xyz</th></tr>\n",
              "\t<tr><th scope=col>&lt;dbl&gt;</th><th scope=col>&lt;fct&gt;</th></tr>\n",
              "</thead>\n",
              "<tbody>\n",
              "\t<tr><td>1</td><td>a</td></tr>\n",
              "</tbody>\n",
              "</table>\n"
            ]
          },
          "metadata": {
            "tags": []
          }
        },
        {
          "output_type": "display_data",
          "data": {
            "text/plain": [
              "[1] \"factor\""
            ],
            "text/latex": "'factor'",
            "text/markdown": "'factor'",
            "text/html": [
              "'factor'"
            ]
          },
          "metadata": {
            "tags": []
          }
        },
        {
          "output_type": "display_data",
          "data": {
            "text/plain": [
              "[1] \"data.frame\""
            ],
            "text/latex": "'data.frame'",
            "text/markdown": "'data.frame'",
            "text/html": [
              "'data.frame'"
            ]
          },
          "metadata": {
            "tags": []
          }
        }
      ]
    },
    {
      "cell_type": "code",
      "metadata": {
        "id": "h2CmOk-6y63S",
        "colab_type": "code",
        "outputId": "c8af0061-93af-4d7b-eaa3-ac78696f0ebe",
        "colab": {
          "base_uri": "https://localhost:8080/",
          "height": 184
        }
      },
      "source": [
        "df1 <- as_tibble(df)\n",
        "df1$x\n",
        "class(df1[, \"xyz\"])\n",
        "df1[, c(\"abc\", \"xyz\")]"
      ],
      "execution_count": 0,
      "outputs": [
        {
          "output_type": "stream",
          "text": [
            "Warning message:\n",
            "“Unknown or uninitialised column: 'x'.”\n"
          ],
          "name": "stderr"
        },
        {
          "output_type": "display_data",
          "data": {
            "text/plain": [
              "NULL"
            ]
          },
          "metadata": {
            "tags": []
          }
        },
        {
          "output_type": "display_data",
          "data": {
            "text/plain": [
              "[1] \"tbl_df\"     \"tbl\"        \"data.frame\""
            ],
            "text/latex": "\\begin{enumerate*}\n\\item 'tbl\\_df'\n\\item 'tbl'\n\\item 'data.frame'\n\\end{enumerate*}\n",
            "text/markdown": "1. 'tbl_df'\n2. 'tbl'\n3. 'data.frame'\n\n\n",
            "text/html": [
              "<style>\n",
              ".list-inline {list-style: none; margin:0; padding: 0}\n",
              ".list-inline>li {display: inline-block}\n",
              ".list-inline>li:not(:last-child)::after {content: \"\\00b7\"; padding: 0 .5ex}\n",
              "</style>\n",
              "<ol class=list-inline><li>'tbl_df'</li><li>'tbl'</li><li>'data.frame'</li></ol>\n"
            ]
          },
          "metadata": {
            "tags": []
          }
        },
        {
          "output_type": "display_data",
          "data": {
            "text/plain": [
              "  abc xyz\n",
              "1 1   a  "
            ],
            "text/latex": "A tibble: 1 × 2\n\\begin{tabular}{ll}\n abc & xyz\\\\\n <dbl> & <fct>\\\\\n\\hline\n\t 1 & a\\\\\n\\end{tabular}\n",
            "text/markdown": "\nA tibble: 1 × 2\n\n| abc &lt;dbl&gt; | xyz &lt;fct&gt; |\n|---|---|\n| 1 | a |\n\n",
            "text/html": [
              "<table>\n",
              "<caption>A tibble: 1 × 2</caption>\n",
              "<thead>\n",
              "\t<tr><th scope=col>abc</th><th scope=col>xyz</th></tr>\n",
              "\t<tr><th scope=col>&lt;dbl&gt;</th><th scope=col>&lt;fct&gt;</th></tr>\n",
              "</thead>\n",
              "<tbody>\n",
              "\t<tr><td>1</td><td>a</td></tr>\n",
              "</tbody>\n",
              "</table>\n"
            ]
          },
          "metadata": {
            "tags": []
          }
        }
      ]
    },
    {
      "cell_type": "markdown",
      "metadata": {
        "id": "LeenJd-PJpLj",
        "colab_type": "text"
      },
      "source": [
        "`enframe()` converts named atomic vectors or lists to one- or two-column data frames. For a list, the result will be a nested tibble with a column of type list. For unnamed vectors, the natural sequence is used as name column."
      ]
    },
    {
      "cell_type": "code",
      "metadata": {
        "id": "jkiCBkLzJ_Sk",
        "colab_type": "code",
        "outputId": "e2ace071-adf4-4d4d-9257-a55cde185337",
        "colab": {
          "base_uri": "https://localhost:8080/",
          "height": 158
        }
      },
      "source": [
        "enframe(1:3)"
      ],
      "execution_count": 0,
      "outputs": [
        {
          "output_type": "display_data",
          "data": {
            "text/plain": [
              "  name value\n",
              "1 1    1    \n",
              "2 2    2    \n",
              "3 3    3    "
            ],
            "text/latex": "A tibble: 3 × 2\n\\begin{tabular}{ll}\n name & value\\\\\n <int> & <int>\\\\\n\\hline\n\t 1 & 1\\\\\n\t 2 & 2\\\\\n\t 3 & 3\\\\\n\\end{tabular}\n",
            "text/markdown": "\nA tibble: 3 × 2\n\n| name &lt;int&gt; | value &lt;int&gt; |\n|---|---|\n| 1 | 1 |\n| 2 | 2 |\n| 3 | 3 |\n\n",
            "text/html": [
              "<table>\n",
              "<caption>A tibble: 3 × 2</caption>\n",
              "<thead>\n",
              "\t<tr><th scope=col>name</th><th scope=col>value</th></tr>\n",
              "\t<tr><th scope=col>&lt;int&gt;</th><th scope=col>&lt;int&gt;</th></tr>\n",
              "</thead>\n",
              "<tbody>\n",
              "\t<tr><td>1</td><td>1</td></tr>\n",
              "\t<tr><td>2</td><td>2</td></tr>\n",
              "\t<tr><td>3</td><td>3</td></tr>\n",
              "</tbody>\n",
              "</table>\n"
            ]
          },
          "metadata": {
            "tags": []
          }
        }
      ]
    },
    {
      "cell_type": "code",
      "metadata": {
        "id": "E6y-YmX1J_y9",
        "colab_type": "code",
        "outputId": "b353827a-b118-43f1-ef65-9d0129befc1b",
        "colab": {
          "base_uri": "https://localhost:8080/",
          "height": 120
        }
      },
      "source": [
        "enframe(c(a = 5, b = 7))"
      ],
      "execution_count": 0,
      "outputs": [
        {
          "output_type": "display_data",
          "data": {
            "text/plain": [
              "  name value\n",
              "1 a    5    \n",
              "2 b    7    "
            ],
            "text/latex": "A tibble: 2 × 2\n\\begin{tabular}{ll}\n name & value\\\\\n <chr> & <dbl>\\\\\n\\hline\n\t a & 5\\\\\n\t b & 7\\\\\n\\end{tabular}\n",
            "text/markdown": "\nA tibble: 2 × 2\n\n| name &lt;chr&gt; | value &lt;dbl&gt; |\n|---|---|\n| a | 5 |\n| b | 7 |\n\n",
            "text/html": [
              "<table>\n",
              "<caption>A tibble: 2 × 2</caption>\n",
              "<thead>\n",
              "\t<tr><th scope=col>name</th><th scope=col>value</th></tr>\n",
              "\t<tr><th scope=col>&lt;chr&gt;</th><th scope=col>&lt;dbl&gt;</th></tr>\n",
              "</thead>\n",
              "<tbody>\n",
              "\t<tr><td>a</td><td>5</td></tr>\n",
              "\t<tr><td>b</td><td>7</td></tr>\n",
              "</tbody>\n",
              "</table>\n"
            ]
          },
          "metadata": {
            "tags": []
          }
        }
      ]
    },
    {
      "cell_type": "markdown",
      "metadata": {
        "id": "ajI4F2cpCWK5",
        "colab_type": "text"
      },
      "source": [
        "Use the `read_delim()` function with the argument `delim=\"|\"`."
      ]
    },
    {
      "cell_type": "code",
      "metadata": {
        "id": "FBVCVhfqCRtS",
        "colab_type": "code",
        "outputId": "55a210b0-77d5-4b99-df96-55814211159e",
        "colab": {
          "base_uri": "https://localhost:8080/",
          "height": 120
        }
      },
      "source": [
        "read_delim(\"a|b|c\\n1|2|3\\n4|5|6\", delim = \"|\")"
      ],
      "execution_count": 0,
      "outputs": [
        {
          "output_type": "display_data",
          "data": {
            "text/plain": [
              "  a b c\n",
              "1 1 2 3\n",
              "2 4 5 6"
            ],
            "text/latex": "A spec\\_tbl\\_df: 2 × 3\n\\begin{tabular}{lll}\n a & b & c\\\\\n <dbl> & <dbl> & <dbl>\\\\\n\\hline\n\t 1 & 2 & 3\\\\\n\t 4 & 5 & 6\\\\\n\\end{tabular}\n",
            "text/markdown": "\nA spec_tbl_df: 2 × 3\n\n| a &lt;dbl&gt; | b &lt;dbl&gt; | c &lt;dbl&gt; |\n|---|---|---|\n| 1 | 2 | 3 |\n| 4 | 5 | 6 |\n\n",
            "text/html": [
              "<table>\n",
              "<caption>A spec_tbl_df: 2 × 3</caption>\n",
              "<thead>\n",
              "\t<tr><th scope=col>a</th><th scope=col>b</th><th scope=col>c</th></tr>\n",
              "\t<tr><th scope=col>&lt;dbl&gt;</th><th scope=col>&lt;dbl&gt;</th><th scope=col>&lt;dbl&gt;</th></tr>\n",
              "</thead>\n",
              "<tbody>\n",
              "\t<tr><td>1</td><td>2</td><td>3</td></tr>\n",
              "\t<tr><td>4</td><td>5</td><td>6</td></tr>\n",
              "</tbody>\n",
              "</table>\n"
            ]
          },
          "metadata": {
            "tags": []
          }
        }
      ]
    },
    {
      "cell_type": "code",
      "metadata": {
        "id": "mrFJF1mSLu5Z",
        "colab_type": "code",
        "outputId": "68158ef8-5af0-40ef-b07a-a9131e73b9d9",
        "colab": {
          "base_uri": "https://localhost:8080/",
          "height": 34
        }
      },
      "source": [
        "union(names(formals(read_csv)), names(formals(read_tsv)))"
      ],
      "execution_count": 0,
      "outputs": [
        {
          "output_type": "display_data",
          "data": {
            "text/plain": [
              " [1] \"file\"            \"col_names\"       \"col_types\"       \"locale\"         \n",
              " [5] \"na\"              \"quoted_na\"       \"quote\"           \"comment\"        \n",
              " [9] \"trim_ws\"         \"skip\"            \"n_max\"           \"guess_max\"      \n",
              "[13] \"progress\"        \"skip_empty_rows\""
            ],
            "text/latex": "\\begin{enumerate*}\n\\item 'file'\n\\item 'col\\_names'\n\\item 'col\\_types'\n\\item 'locale'\n\\item 'na'\n\\item 'quoted\\_na'\n\\item 'quote'\n\\item 'comment'\n\\item 'trim\\_ws'\n\\item 'skip'\n\\item 'n\\_max'\n\\item 'guess\\_max'\n\\item 'progress'\n\\item 'skip\\_empty\\_rows'\n\\end{enumerate*}\n",
            "text/markdown": "1. 'file'\n2. 'col_names'\n3. 'col_types'\n4. 'locale'\n5. 'na'\n6. 'quoted_na'\n7. 'quote'\n8. 'comment'\n9. 'trim_ws'\n10. 'skip'\n11. 'n_max'\n12. 'guess_max'\n13. 'progress'\n14. 'skip_empty_rows'\n\n\n",
            "text/html": [
              "<style>\n",
              ".list-inline {list-style: none; margin:0; padding: 0}\n",
              ".list-inline>li {display: inline-block}\n",
              ".list-inline>li:not(:last-child)::after {content: \"\\00b7\"; padding: 0 .5ex}\n",
              "</style>\n",
              "<ol class=list-inline><li>'file'</li><li>'col_names'</li><li>'col_types'</li><li>'locale'</li><li>'na'</li><li>'quoted_na'</li><li>'quote'</li><li>'comment'</li><li>'trim_ws'</li><li>'skip'</li><li>'n_max'</li><li>'guess_max'</li><li>'progress'</li><li>'skip_empty_rows'</li></ol>\n"
            ]
          },
          "metadata": {
            "tags": []
          }
        }
      ]
    },
    {
      "cell_type": "markdown",
      "metadata": {
        "id": "_d9iPeXuK1TP",
        "colab_type": "text"
      },
      "source": [
        "The most important argument to `read_fwf()` which reads \"fixed-width formats\", is `col_positions` which tells the function where data columns begin and end.\n"
      ]
    },
    {
      "cell_type": "code",
      "metadata": {
        "id": "c5zGeORvMN50",
        "colab_type": "code",
        "outputId": "7bb8827c-fc42-4c6d-86e8-f1bd985cc35d",
        "colab": {
          "base_uri": "https://localhost:8080/",
          "height": 133
        }
      },
      "source": [
        "x <- \"x,y\\n1,'a,b'\"\n",
        "read_csv(x, quote = \"'\")"
      ],
      "execution_count": 0,
      "outputs": [
        {
          "output_type": "display_data",
          "data": {
            "text/plain": [
              "  x y  \n",
              "1 1 a,b"
            ],
            "text/latex": "A spec\\_tbl\\_df: 1 × 2\n\\begin{tabular}{ll}\n x & y\\\\\n <dbl> & <chr>\\\\\n\\hline\n\t 1 & a,b\\\\\n\\end{tabular}\n",
            "text/markdown": "\nA spec_tbl_df: 1 × 2\n\n| x &lt;dbl&gt; | y &lt;chr&gt; |\n|---|---|\n| 1 | a,b |\n\n",
            "text/html": [
              "<table>\n",
              "<caption>A spec_tbl_df: 1 × 2</caption>\n",
              "<thead>\n",
              "\t<tr><th scope=col>x</th><th scope=col>y</th></tr>\n",
              "\t<tr><th scope=col>&lt;dbl&gt;</th><th scope=col>&lt;chr&gt;</th></tr>\n",
              "</thead>\n",
              "<tbody>\n",
              "\t<tr><td>1</td><td>a,b</td></tr>\n",
              "</tbody>\n",
              "</table>\n"
            ]
          },
          "metadata": {
            "tags": []
          }
        }
      ]
    }
  ]
}