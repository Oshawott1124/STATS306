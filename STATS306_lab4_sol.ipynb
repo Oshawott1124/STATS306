{
  "nbformat": 4,
  "nbformat_minor": 0,
  "metadata": {
    "colab": {
      "name": "STATS306_lab4_sol.ipynb",
      "provenance": []
    },
    "kernelspec": {
      "name": "ir",
      "display_name": "R"
    }
  },
  "cells": [
    {
      "cell_type": "code",
      "metadata": {
        "id": "g-klJcut0uxK",
        "colab_type": "code",
        "colab": {}
      },
      "source": [
        "library (tidyverse)"
      ],
      "execution_count": 0,
      "outputs": []
    },
    {
      "cell_type": "code",
      "metadata": {
        "id": "GiF7qi8p0z2b",
        "colab_type": "code",
        "colab": {}
      },
      "source": [
        "url <- \"https://raw.githubusercontent.com/Juanets/movie-stats/master/movies.csv\"\n",
        "movies <- read_csv(url)\n",
        "locale <- Sys.setlocale(category = \"LC_ALL\", locale = \"C\")"
      ],
      "execution_count": 0,
      "outputs": []
    },
    {
      "cell_type": "code",
      "metadata": {
        "id": "koL029_P0i0x",
        "colab_type": "code",
        "colab": {}
      },
      "source": [
        "# Exercise 1.1: Write code using filter that will allow you to output movies with country USA or UK and genre Action or Drama.\n",
        "filter(movies, country == \"USA\"| country == \"UK\", genre == \"Action\"| genre == \"Drama\")"
      ],
      "execution_count": 0,
      "outputs": []
    },
    {
      "cell_type": "code",
      "metadata": {
        "id": "zn0D341r1FXp",
        "colab_type": "code",
        "colab": {}
      },
      "source": [
        "# Exercise 1.2: Write code using filter that will allow you to output movies with released later than 2014-12-01.\n",
        "movies$released <- as.Date(movies$released)\n",
        "filter(movies, released > \"2014-12-01\")"
      ],
      "execution_count": 0,
      "outputs": []
    },
    {
      "cell_type": "code",
      "metadata": {
        "id": "y_bgXeNgP9Ps",
        "colab_type": "code",
        "colab": {}
      },
      "source": [
        "# Exercise 2: Write code that will have company as the first column and the columns starting with the letter 'g' as the following columns. Output the first 20 rows of such a dataset.\n",
        "select(movies, company, starts_with(\"g\"))[1:20,]"
      ],
      "execution_count": 0,
      "outputs": []
    },
    {
      "cell_type": "code",
      "metadata": {
        "id": "BEAGcpudu53S",
        "colab_type": "code",
        "colab": {}
      },
      "source": [
        "# Exercise 3: Use arrange to sort the `movies` dataset by ascending order of the product of the budget and score variables. Output the first 20 rows of the new dataset.\n",
        "arrange(movies, budget, score)[1:20,]"
      ],
      "execution_count": 0,
      "outputs": []
    }
  ]
}