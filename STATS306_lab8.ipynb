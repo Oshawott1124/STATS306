{
  "nbformat": 4,
  "nbformat_minor": 0,
  "metadata": {
    "colab": {
      "name": "STATS306_lab8.ipynb",
      "provenance": []
    },
    "kernelspec": {
      "name": "ir",
      "display_name": "R"
    }
  },
  "cells": [
    {
      "cell_type": "markdown",
      "metadata": {
        "id": "BdD8ZtU-_69l",
        "colab_type": "text"
      },
      "source": [
        "# **Lab 8: Tibble, Data import**"
      ]
    },
    {
      "cell_type": "code",
      "metadata": {
        "id": "B3gjnLuCvGq5",
        "colab_type": "code",
        "outputId": "5a86d47f-939c-4e6b-df7c-9dc491fe252e",
        "colab": {
          "base_uri": "https://localhost:8080/",
          "height": 204
        }
      },
      "source": [
        "library(tidyverse)"
      ],
      "execution_count": 2,
      "outputs": [
        {
          "output_type": "stream",
          "text": [
            "── \u001b[1mAttaching packages\u001b[22m ─────────────────────────────────────── tidyverse 1.3.0 ──\n",
            "\n",
            "\u001b[32m✔\u001b[39m \u001b[34mggplot2\u001b[39m 3.2.1     \u001b[32m✔\u001b[39m \u001b[34mpurrr  \u001b[39m 0.3.3\n",
            "\u001b[32m✔\u001b[39m \u001b[34mtibble \u001b[39m 2.1.3     \u001b[32m✔\u001b[39m \u001b[34mdplyr  \u001b[39m 0.8.4\n",
            "\u001b[32m✔\u001b[39m \u001b[34mtidyr  \u001b[39m 1.0.2     \u001b[32m✔\u001b[39m \u001b[34mstringr\u001b[39m 1.4.0\n",
            "\u001b[32m✔\u001b[39m \u001b[34mreadr  \u001b[39m 1.3.1     \u001b[32m✔\u001b[39m \u001b[34mforcats\u001b[39m 0.4.0\n",
            "\n",
            "── \u001b[1mConflicts\u001b[22m ────────────────────────────────────────── tidyverse_conflicts() ──\n",
            "\u001b[31m✖\u001b[39m \u001b[34mdplyr\u001b[39m::\u001b[32mfilter()\u001b[39m masks \u001b[34mstats\u001b[39m::filter()\n",
            "\u001b[31m✖\u001b[39m \u001b[34mdplyr\u001b[39m::\u001b[32mlag()\u001b[39m    masks \u001b[34mstats\u001b[39m::lag()\n",
            "\n"
          ],
          "name": "stderr"
        }
      ]
    },
    {
      "cell_type": "markdown",
      "metadata": {
        "id": "r2DN9K50UFNz",
        "colab_type": "text"
      },
      "source": [
        "## **Creating tibbles**\n",
        "\n",
        "Creating tibbles is similar to data.frames, but no strict rules on column names:"
      ]
    },
    {
      "cell_type": "code",
      "metadata": {
        "id": "f4ZxilhbGTkf",
        "colab_type": "code",
        "colab": {
          "base_uri": "https://localhost:8080/",
          "height": 153
        },
        "outputId": "21d631f3-0737-48b7-9511-70eb4a5e57e4"
      },
      "source": [
        "tb <- tibble(x = 1:5, y = 1,z = x ^ 2 + y, `.2way` = 2)\n",
        "print(tb)"
      ],
      "execution_count": 2,
      "outputs": [
        {
          "output_type": "stream",
          "text": [
            "\u001b[90m# A tibble: 5 x 4\u001b[39m\n",
            "      x     y     z `.2way`\n",
            "  \u001b[3m\u001b[90m<int>\u001b[39m\u001b[23m \u001b[3m\u001b[90m<dbl>\u001b[39m\u001b[23m \u001b[3m\u001b[90m<dbl>\u001b[39m\u001b[23m   \u001b[3m\u001b[90m<dbl>\u001b[39m\u001b[23m\n",
            "\u001b[90m1\u001b[39m     1     1     2       2\n",
            "\u001b[90m2\u001b[39m     2     1     5       2\n",
            "\u001b[90m3\u001b[39m     3     1    10       2\n",
            "\u001b[90m4\u001b[39m     4     1    17       2\n",
            "\u001b[90m5\u001b[39m     5     1    26       2\n"
          ],
          "name": "stdout"
        }
      ]
    },
    {
      "cell_type": "markdown",
      "metadata": {
        "id": "oX2Vs4r85NcI",
        "colab_type": "text"
      },
      "source": [
        "Tibbles are a built on top of dataframes, so they have additional functionality compared to dataframes. But if you want to coerce some classical dataframes into tibbles, use  `as_tibble()` :"
      ]
    },
    {
      "cell_type": "code",
      "metadata": {
        "id": "wCtk1ctR5TS-",
        "colab_type": "code",
        "colab": {
          "base_uri": "https://localhost:8080/",
          "height": 34
        },
        "outputId": "4b5c3ea9-a8b7-4c05-fad5-70b0641facd9"
      },
      "source": [
        "class(iris)"
      ],
      "execution_count": 3,
      "outputs": [
        {
          "output_type": "display_data",
          "data": {
            "text/plain": [
              "[1] \"data.frame\""
            ],
            "text/latex": "'data.frame'",
            "text/markdown": "'data.frame'",
            "text/html": [
              "'data.frame'"
            ]
          },
          "metadata": {
            "tags": []
          }
        }
      ]
    },
    {
      "cell_type": "code",
      "metadata": {
        "id": "PxqrHaM15WTB",
        "colab_type": "code",
        "colab": {
          "base_uri": "https://localhost:8080/",
          "height": 34
        },
        "outputId": "024ba1b5-9fc0-4821-dcf3-1af6589016ef"
      },
      "source": [
        "class(as_tibble(iris))"
      ],
      "execution_count": 4,
      "outputs": [
        {
          "output_type": "display_data",
          "data": {
            "text/plain": [
              "[1] \"tbl_df\"     \"tbl\"        \"data.frame\""
            ],
            "text/latex": "\\begin{enumerate*}\n\\item 'tbl\\_df'\n\\item 'tbl'\n\\item 'data.frame'\n\\end{enumerate*}\n",
            "text/markdown": "1. 'tbl_df'\n2. 'tbl'\n3. 'data.frame'\n\n\n",
            "text/html": [
              "<style>\n",
              ".list-inline {list-style: none; margin:0; padding: 0}\n",
              ".list-inline>li {display: inline-block}\n",
              ".list-inline>li:not(:last-child)::after {content: \"\\00b7\"; padding: 0 .5ex}\n",
              "</style>\n",
              "<ol class=list-inline><li>'tbl_df'</li><li>'tbl'</li><li>'data.frame'</li></ol>\n"
            ]
          },
          "metadata": {
            "tags": []
          }
        }
      ]
    },
    {
      "cell_type": "code",
      "metadata": {
        "id": "5NWNIMvG5ZSI",
        "colab_type": "code",
        "colab": {
          "base_uri": "https://localhost:8080/",
          "height": 255
        },
        "outputId": "0569e1b2-9a7f-4e19-a679-bf6a5768dfb8"
      },
      "source": [
        "iris_tbl = as_tibble(iris)\n",
        "print(iris_tbl)"
      ],
      "execution_count": 5,
      "outputs": [
        {
          "output_type": "stream",
          "text": [
            "\u001b[90m# A tibble: 150 x 5\u001b[39m\n",
            "   Sepal.Length Sepal.Width Petal.Length Petal.Width Species\n",
            "          \u001b[3m\u001b[90m<dbl>\u001b[39m\u001b[23m       \u001b[3m\u001b[90m<dbl>\u001b[39m\u001b[23m        \u001b[3m\u001b[90m<dbl>\u001b[39m\u001b[23m       \u001b[3m\u001b[90m<dbl>\u001b[39m\u001b[23m \u001b[3m\u001b[90m<fct>\u001b[39m\u001b[23m  \n",
            "\u001b[90m 1\u001b[39m          5.1         3.5          1.4         0.2 setosa \n",
            "\u001b[90m 2\u001b[39m          4.9         3            1.4         0.2 setosa \n",
            "\u001b[90m 3\u001b[39m          4.7         3.2          1.3         0.2 setosa \n",
            "\u001b[90m 4\u001b[39m          4.6         3.1          1.5         0.2 setosa \n",
            "\u001b[90m 5\u001b[39m          5           3.6          1.4         0.2 setosa \n",
            "\u001b[90m 6\u001b[39m          5.4         3.9          1.7         0.4 setosa \n",
            "\u001b[90m 7\u001b[39m          4.6         3.4          1.4         0.3 setosa \n",
            "\u001b[90m 8\u001b[39m          5           3.4          1.5         0.2 setosa \n",
            "\u001b[90m 9\u001b[39m          4.4         2.9          1.4         0.2 setosa \n",
            "\u001b[90m10\u001b[39m          4.9         3.1          1.5         0.1 setosa \n",
            "\u001b[90m# … with 140 more rows\u001b[39m\n"
          ],
          "name": "stdout"
        }
      ]
    },
    {
      "cell_type": "markdown",
      "metadata": {
        "id": "ETkWOzga5er-",
        "colab_type": "text"
      },
      "source": [
        "Another way to create a tibble is with `tribble()`, short for transposed tibble. `tribble()` is customised for data entry in code: column headings are defined by formulas (i.e. they start with ~), and entries are separated by commas. This makes it possible to lay out small amounts of data in easy to read form."
      ]
    },
    {
      "cell_type": "code",
      "metadata": {
        "id": "ro8xo8Dv5eE-",
        "colab_type": "code",
        "colab": {
          "base_uri": "https://localhost:8080/",
          "height": 120
        },
        "outputId": "2fbe901d-6266-432e-d458-83e3cfd5786f"
      },
      "source": [
        "tribble(\n",
        "  ~x, ~y, ~z,\n",
        "  \"a\", 2, 3.6,\n",
        "  \"b\", 1, 8.5\n",
        ")"
      ],
      "execution_count": 6,
      "outputs": [
        {
          "output_type": "display_data",
          "data": {
            "text/plain": [
              "  x y z  \n",
              "1 a 2 3.6\n",
              "2 b 1 8.5"
            ],
            "text/latex": "A tibble: 2 × 3\n\\begin{tabular}{lll}\n x & y & z\\\\\n <chr> & <dbl> & <dbl>\\\\\n\\hline\n\t a & 2 & 3.6\\\\\n\t b & 1 & 8.5\\\\\n\\end{tabular}\n",
            "text/markdown": "\nA tibble: 2 × 3\n\n| x &lt;chr&gt; | y &lt;dbl&gt; | z &lt;dbl&gt; |\n|---|---|---|\n| a | 2 | 3.6 |\n| b | 1 | 8.5 |\n\n",
            "text/html": [
              "<table>\n",
              "<caption>A tibble: 2 × 3</caption>\n",
              "<thead>\n",
              "\t<tr><th scope=col>x</th><th scope=col>y</th><th scope=col>z</th></tr>\n",
              "\t<tr><th scope=col>&lt;chr&gt;</th><th scope=col>&lt;dbl&gt;</th><th scope=col>&lt;dbl&gt;</th></tr>\n",
              "</thead>\n",
              "<tbody>\n",
              "\t<tr><td>a</td><td>2</td><td>3.6</td></tr>\n",
              "\t<tr><td>b</td><td>1</td><td>8.5</td></tr>\n",
              "</tbody>\n",
              "</table>\n"
            ]
          },
          "metadata": {
            "tags": []
          }
        }
      ]
    },
    {
      "cell_type": "markdown",
      "metadata": {
        "id": "wpwNGh3W5_gs",
        "colab_type": "text"
      },
      "source": [
        "The benefit of tibble over dataframe is that it allows us to visualize and subset our data more easily."
      ]
    },
    {
      "cell_type": "markdown",
      "metadata": {
        "id": "EUHc_iOy-JlR",
        "colab_type": "text"
      },
      "source": [
        "## **Subsetting**"
      ]
    },
    {
      "cell_type": "markdown",
      "metadata": {
        "id": "-IxLzNtUGufK",
        "colab_type": "text"
      },
      "source": [
        "Subseting tibbles is stricter than subseting data.frames, and **ALWAYS** returns\n",
        "objects with expected class: a single [ returns a tibble, a double[[ returns a vector."
      ]
    },
    {
      "cell_type": "code",
      "metadata": {
        "id": "YTJErV0vG9aH",
        "colab_type": "code",
        "colab": {
          "base_uri": "https://localhost:8080/",
          "height": 34
        },
        "outputId": "112261a6-1320-46bc-b547-04e14fc7c5c3"
      },
      "source": [
        "class(diamonds$carat)"
      ],
      "execution_count": 7,
      "outputs": [
        {
          "output_type": "display_data",
          "data": {
            "text/plain": [
              "[1] \"numeric\""
            ],
            "text/latex": "'numeric'",
            "text/markdown": "'numeric'",
            "text/html": [
              "'numeric'"
            ]
          },
          "metadata": {
            "tags": []
          }
        }
      ]
    },
    {
      "cell_type": "code",
      "metadata": {
        "id": "BcN15jpXHAKt",
        "colab_type": "code",
        "colab": {
          "base_uri": "https://localhost:8080/",
          "height": 34
        },
        "outputId": "1dffc457-2935-421e-c298-e6c92cb96790"
      },
      "source": [
        "class(diamonds[[\"carat\"]])"
      ],
      "execution_count": 8,
      "outputs": [
        {
          "output_type": "display_data",
          "data": {
            "text/plain": [
              "[1] \"numeric\""
            ],
            "text/latex": "'numeric'",
            "text/markdown": "'numeric'",
            "text/html": [
              "'numeric'"
            ]
          },
          "metadata": {
            "tags": []
          }
        }
      ]
    },
    {
      "cell_type": "code",
      "metadata": {
        "colab_type": "code",
        "outputId": "aed1ca47-5151-4fce-9614-c4d683e1b60d",
        "id": "2oSZxhyDI9Tj",
        "colab": {
          "base_uri": "https://localhost:8080/",
          "height": 34
        }
      },
      "source": [
        "class(diamonds[,\"carat\"])"
      ],
      "execution_count": 9,
      "outputs": [
        {
          "output_type": "display_data",
          "data": {
            "text/plain": [
              "[1] \"tbl_df\"     \"tbl\"        \"data.frame\""
            ],
            "text/latex": "\\begin{enumerate*}\n\\item 'tbl\\_df'\n\\item 'tbl'\n\\item 'data.frame'\n\\end{enumerate*}\n",
            "text/markdown": "1. 'tbl_df'\n2. 'tbl'\n3. 'data.frame'\n\n\n",
            "text/html": [
              "<style>\n",
              ".list-inline {list-style: none; margin:0; padding: 0}\n",
              ".list-inline>li {display: inline-block}\n",
              ".list-inline>li:not(:last-child)::after {content: \"\\00b7\"; padding: 0 .5ex}\n",
              "</style>\n",
              "<ol class=list-inline><li>'tbl_df'</li><li>'tbl'</li><li>'data.frame'</li></ol>\n"
            ]
          },
          "metadata": {
            "tags": []
          }
        }
      ]
    },
    {
      "cell_type": "code",
      "metadata": {
        "id": "uLIipK3a-e6f",
        "colab_type": "code",
        "colab": {
          "base_uri": "https://localhost:8080/",
          "height": 147
        },
        "outputId": "5c7eafec-d93a-4cd9-c8ae-7dea5100c369"
      },
      "source": [
        "diamonds[[carat]]"
      ],
      "execution_count": 10,
      "outputs": [
        {
          "output_type": "error",
          "ename": "ERROR",
          "evalue": "ignored",
          "traceback": [
            "Error in `[[.tbl_df`(diamonds, carat): object 'carat' not found\nTraceback:\n",
            "1. diamonds[[carat]]",
            "2. `[[.tbl_df`(diamonds, carat)"
          ]
        }
      ]
    },
    {
      "cell_type": "markdown",
      "metadata": {
        "colab_type": "text",
        "id": "5iJiAYooI_Q4"
      },
      "source": [
        "## **More on tibbles**\n",
        "\n",
        "You can read more about other tibble features by calling on your R console:"
      ]
    },
    {
      "cell_type": "code",
      "metadata": {
        "colab_type": "code",
        "id": "Dk5TKF46I-Ap",
        "colab": {}
      },
      "source": [
        "vignette(\"tibble\")"
      ],
      "execution_count": 0,
      "outputs": []
    },
    {
      "cell_type": "markdown",
      "metadata": {
        "id": "nN2AFkVGAUac",
        "colab_type": "text"
      },
      "source": [
        "## **Exercise**\n",
        "\n",
        "*   Compare and contrast the following operations on a data.frame and equivalent tibble. What is different? Why might the default data frame behaviours cause you frustration?"
      ]
    },
    {
      "cell_type": "code",
      "metadata": {
        "id": "rJbdKGxjBMLZ",
        "colab_type": "code",
        "colab": {}
      },
      "source": [
        "df <- data.frame(abc = 1, xyz = \"a\")\n",
        "df$x\n",
        "df[, \"xyz\"]\n",
        "df[, c(\"abc\", \"xyz\")]"
      ],
      "execution_count": 0,
      "outputs": []
    },
    {
      "cell_type": "markdown",
      "metadata": {
        "id": "C6VEVQy-CyHy",
        "colab_type": "text"
      },
      "source": [
        "*   Practice referring to non-syntactic names in the following data frame by:\n",
        "    *   Extracting the variable called 1.\n",
        "    *   Plotting a scatterplot of 1 vs 2.\n",
        "    *   Creating a new column called 3 which is 2 divided by 1.\n",
        "    *   Renaming the columns to one, two and three.  \n",
        "\n"
      ]
    },
    {
      "cell_type": "code",
      "metadata": {
        "id": "scRT7wS9CwVA",
        "colab_type": "code",
        "colab": {}
      },
      "source": [
        "annoying <- tibble(\n",
        "  `1` = 1:10,\n",
        "  `2` = `1` * 2 + rnorm(length(`1`))\n",
        ")"
      ],
      "execution_count": 0,
      "outputs": []
    },
    {
      "cell_type": "markdown",
      "metadata": {
        "id": "5DQM91HiJVIY",
        "colab_type": "text"
      },
      "source": [
        "What does tibble::enframe() do? When might you use it?"
      ]
    },
    {
      "cell_type": "markdown",
      "metadata": {
        "id": "L-aJ3mboAGEW",
        "colab_type": "text"
      },
      "source": [
        "## **Data import**\n",
        "\n",
        "\n",
        "*   The current working directory (cmd) is the location which R is\n",
        "currently pointing to.\n",
        "*   Whenever you try to read or save a file without specifying the path explicitly, the cmd will be used by default.\n",
        "*   When are executing code from an R markdown/notebook code chunk, the cmd is the location of the document.\n",
        "*   To see the current working directory use getwd():"
      ]
    },
    {
      "cell_type": "code",
      "metadata": {
        "id": "0k9Qp_hXKbgY",
        "colab_type": "code",
        "colab": {}
      },
      "source": [
        "getwd()"
      ],
      "execution_count": 0,
      "outputs": []
    },
    {
      "cell_type": "markdown",
      "metadata": {
        "id": "jLfR6a4sKh7R",
        "colab_type": "text"
      },
      "source": [
        "To change the working directory use setwd(path_name) with a specified\n",
        "path as an argument:"
      ]
    },
    {
      "cell_type": "code",
      "metadata": {
        "id": "jhmZVaugKerB",
        "colab_type": "code",
        "colab": {}
      },
      "source": [
        "setwd(\"path/to/directory\")"
      ],
      "execution_count": 0,
      "outputs": []
    },
    {
      "cell_type": "markdown",
      "metadata": {
        "id": "OZGwuwUcAray",
        "colab_type": "text"
      },
      "source": [
        "## **Importing text data**\n",
        "\n",
        "*   Text Files in a table format can be read and saved to a selected\n",
        "variable using a `read.table()` function. Use `?read.table` to learn\n",
        "more about the function.\n",
        "*   To read these files use the following command:"
      ]
    },
    {
      "cell_type": "code",
      "metadata": {
        "id": "ZRSn9IhkNtt9",
        "colab_type": "code",
        "colab": {}
      },
      "source": [
        "mydata <- read.table(\"path/to/filename.csv\", header=TRUE, sep = \",\")\n",
        "# read.csv() has covenient argument defaults for '.csv' files\n",
        "mydata <- read.csv(\"path/to/filename.csv\")"
      ],
      "execution_count": 0,
      "outputs": []
    },
    {
      "cell_type": "markdown",
      "metadata": {
        "id": "bLeFMx2eta7b",
        "colab_type": "text"
      },
      "source": [
        "## **`read.csv()` vs `read_csv()`**\n",
        "*   `read_csv()` in `readr` package is 2~3 times faster and suitable for large data set.\n",
        "*   They produce tibbles, they don’t convert character vectors to factors, use row names, or munge the column names. These are common sources of frustration with the base R functions.\n",
        "*   They are more reproducible. Base R functions inherit some behaviour from your operating system and environment variables, so import code that works on your computer might not work on someone else’s."
      ]
    },
    {
      "cell_type": "markdown",
      "metadata": {
        "id": "emLlLk7nbnFB",
        "colab_type": "text"
      },
      "source": [
        "## **The `readr` package**\n",
        "\n",
        "*   `read_csv()`: reads comma delimited files,\n",
        "*   `read_tsv()`: tab-separated files\n",
        "*   `read_delim()`: general delimited files\n",
        "*   `read_fwf()`: fixed-width files. You can specify fields either by their widths with  `fwf_widths()`  or their position with  `fwf_positions()` .  \n",
        "*   `read_table()`:  reads a common variation of fixed width files where columns are separated by white space.\n",
        "*   `read_log()`: web log files"
      ]
    },
    {
      "cell_type": "code",
      "metadata": {
        "id": "GC_M_ac-JwWu",
        "colab_type": "code",
        "colab": {}
      },
      "source": [
        "library(MASS)"
      ],
      "execution_count": 0,
      "outputs": []
    },
    {
      "cell_type": "code",
      "metadata": {
        "id": "m8hmG9MRJzc1",
        "colab_type": "code",
        "colab": {}
      },
      "source": [
        "head(Boston)"
      ],
      "execution_count": 0,
      "outputs": []
    },
    {
      "cell_type": "code",
      "metadata": {
        "id": "AvFw7vgxJ3KQ",
        "colab_type": "code",
        "colab": {}
      },
      "source": [
        "write.csv(Boston, file = \"~/Desktop/boston.csv\", row.names = FALSE)"
      ],
      "execution_count": 0,
      "outputs": []
    },
    {
      "cell_type": "code",
      "metadata": {
        "id": "aDLvgDSiJ4NJ",
        "colab_type": "code",
        "colab": {}
      },
      "source": [
        "boston <- read_csv(\"~/Desktop/boston.csv\")"
      ],
      "execution_count": 0,
      "outputs": []
    },
    {
      "cell_type": "markdown",
      "metadata": {
        "id": "4RJnUflkEMpw",
        "colab_type": "text"
      },
      "source": [
        "Notice that readr gets its column names from the first row of the CSV. If the first (or however many) has metadata instead of column names, you can use the following to indicate which line has the actual column names."
      ]
    },
    {
      "cell_type": "code",
      "metadata": {
        "id": "AOL_e-E0Dt-W",
        "colab_type": "code",
        "colab": {
          "base_uri": "https://localhost:8080/",
          "height": 99
        },
        "outputId": "8c46935a-4ed4-413c-9539-20dfecb3326a"
      },
      "source": [
        "read_csv(\"The first line of metadata\n",
        "  The second line of metadata\n",
        "  x,y,z\n",
        "  1,2,3\", skip = 2)"
      ],
      "execution_count": 3,
      "outputs": [
        {
          "output_type": "display_data",
          "data": {
            "text/plain": [
              "  x y z\n",
              "1 1 2 3"
            ],
            "text/latex": "A spec\\_tbl\\_df: 1 × 3\n\\begin{tabular}{lll}\n x & y & z\\\\\n <dbl> & <dbl> & <dbl>\\\\\n\\hline\n\t 1 & 2 & 3\\\\\n\\end{tabular}\n",
            "text/markdown": "\nA spec_tbl_df: 1 × 3\n\n| x &lt;dbl&gt; | y &lt;dbl&gt; | z &lt;dbl&gt; |\n|---|---|---|\n| 1 | 2 | 3 |\n\n",
            "text/html": [
              "<table>\n",
              "<caption>A spec_tbl_df: 1 × 3</caption>\n",
              "<thead>\n",
              "\t<tr><th scope=col>x</th><th scope=col>y</th><th scope=col>z</th></tr>\n",
              "\t<tr><th scope=col>&lt;dbl&gt;</th><th scope=col>&lt;dbl&gt;</th><th scope=col>&lt;dbl&gt;</th></tr>\n",
              "</thead>\n",
              "<tbody>\n",
              "\t<tr><td>1</td><td>2</td><td>3</td></tr>\n",
              "</tbody>\n",
              "</table>\n"
            ]
          },
          "metadata": {
            "tags": []
          }
        }
      ]
    },
    {
      "cell_type": "markdown",
      "metadata": {
        "id": "l406s_80EOSo",
        "colab_type": "text"
      },
      "source": [
        "If your data does not have column name, use `col_name` argument:"
      ]
    },
    {
      "cell_type": "code",
      "metadata": {
        "id": "fnDJpAfZEPvM",
        "colab_type": "code",
        "colab": {
          "base_uri": "https://localhost:8080/",
          "height": 120
        },
        "outputId": "9f2453e0-23f0-42dd-a944-29597e3c0239"
      },
      "source": [
        "read_csv(\n",
        " \"1,2,3\\n 4,5,6\", col_name = F\n",
        ")"
      ],
      "execution_count": 4,
      "outputs": [
        {
          "output_type": "display_data",
          "data": {
            "text/plain": [
              "  X1 X2 X3\n",
              "1 1  2  3 \n",
              "2 4  5  6 "
            ],
            "text/latex": "A spec\\_tbl\\_df: 2 × 3\n\\begin{tabular}{lll}\n X1 & X2 & X3\\\\\n <dbl> & <dbl> & <dbl>\\\\\n\\hline\n\t 1 & 2 & 3\\\\\n\t 4 & 5 & 6\\\\\n\\end{tabular}\n",
            "text/markdown": "\nA spec_tbl_df: 2 × 3\n\n| X1 &lt;dbl&gt; | X2 &lt;dbl&gt; | X3 &lt;dbl&gt; |\n|---|---|---|\n| 1 | 2 | 3 |\n| 4 | 5 | 6 |\n\n",
            "text/html": [
              "<table>\n",
              "<caption>A spec_tbl_df: 2 × 3</caption>\n",
              "<thead>\n",
              "\t<tr><th scope=col>X1</th><th scope=col>X2</th><th scope=col>X3</th></tr>\n",
              "\t<tr><th scope=col>&lt;dbl&gt;</th><th scope=col>&lt;dbl&gt;</th><th scope=col>&lt;dbl&gt;</th></tr>\n",
              "</thead>\n",
              "<tbody>\n",
              "\t<tr><td>1</td><td>2</td><td>3</td></tr>\n",
              "\t<tr><td>4</td><td>5</td><td>6</td></tr>\n",
              "</tbody>\n",
              "</table>\n"
            ]
          },
          "metadata": {
            "tags": []
          }
        }
      ]
    },
    {
      "cell_type": "code",
      "metadata": {
        "id": "Fwkf6-3iKR5F",
        "colab_type": "code",
        "colab": {
          "base_uri": "https://localhost:8080/",
          "height": 99
        },
        "outputId": "f2babe8d-eb87-4b16-efce-b6bdf55a7e98"
      },
      "source": [
        "read_csv(\"# A comment I want to skip\n",
        "  x,y,z\n",
        "  1,2,3\", comment = \"#\")"
      ],
      "execution_count": 5,
      "outputs": [
        {
          "output_type": "display_data",
          "data": {
            "text/plain": [
              "  x y z\n",
              "1 1 2 3"
            ],
            "text/latex": "A spec\\_tbl\\_df: 1 × 3\n\\begin{tabular}{lll}\n x & y & z\\\\\n <dbl> & <dbl> & <dbl>\\\\\n\\hline\n\t 1 & 2 & 3\\\\\n\\end{tabular}\n",
            "text/markdown": "\nA spec_tbl_df: 1 × 3\n\n| x &lt;dbl&gt; | y &lt;dbl&gt; | z &lt;dbl&gt; |\n|---|---|---|\n| 1 | 2 | 3 |\n\n",
            "text/html": [
              "<table>\n",
              "<caption>A spec_tbl_df: 1 × 3</caption>\n",
              "<thead>\n",
              "\t<tr><th scope=col>x</th><th scope=col>y</th><th scope=col>z</th></tr>\n",
              "\t<tr><th scope=col>&lt;dbl&gt;</th><th scope=col>&lt;dbl&gt;</th><th scope=col>&lt;dbl&gt;</th></tr>\n",
              "</thead>\n",
              "<tbody>\n",
              "\t<tr><td>1</td><td>2</td><td>3</td></tr>\n",
              "</tbody>\n",
              "</table>\n"
            ]
          },
          "metadata": {
            "tags": []
          }
        }
      ]
    },
    {
      "cell_type": "markdown",
      "metadata": {
        "id": "mUNBw5MwHZp5",
        "colab_type": "text"
      },
      "source": [
        "Alternatively you can pass col_names, a character vector which will be used as the column names:"
      ]
    },
    {
      "cell_type": "code",
      "metadata": {
        "id": "6QL21IXzHa1E",
        "colab_type": "code",
        "colab": {
          "base_uri": "https://localhost:8080/",
          "height": 120
        },
        "outputId": "849ba11f-8544-4588-d560-ef0adc4a63ed"
      },
      "source": [
        "read_csv(\"1,2,3\\n4,5,6\", col_names = c(\"x\", \"y\", \"z\"))"
      ],
      "execution_count": 6,
      "outputs": [
        {
          "output_type": "display_data",
          "data": {
            "text/plain": [
              "  x y z\n",
              "1 1 2 3\n",
              "2 4 5 6"
            ],
            "text/latex": "A spec\\_tbl\\_df: 2 × 3\n\\begin{tabular}{lll}\n x & y & z\\\\\n <dbl> & <dbl> & <dbl>\\\\\n\\hline\n\t 1 & 2 & 3\\\\\n\t 4 & 5 & 6\\\\\n\\end{tabular}\n",
            "text/markdown": "\nA spec_tbl_df: 2 × 3\n\n| x &lt;dbl&gt; | y &lt;dbl&gt; | z &lt;dbl&gt; |\n|---|---|---|\n| 1 | 2 | 3 |\n| 4 | 5 | 6 |\n\n",
            "text/html": [
              "<table>\n",
              "<caption>A spec_tbl_df: 2 × 3</caption>\n",
              "<thead>\n",
              "\t<tr><th scope=col>x</th><th scope=col>y</th><th scope=col>z</th></tr>\n",
              "\t<tr><th scope=col>&lt;dbl&gt;</th><th scope=col>&lt;dbl&gt;</th><th scope=col>&lt;dbl&gt;</th></tr>\n",
              "</thead>\n",
              "<tbody>\n",
              "\t<tr><td>1</td><td>2</td><td>3</td></tr>\n",
              "\t<tr><td>4</td><td>5</td><td>6</td></tr>\n",
              "</tbody>\n",
              "</table>\n"
            ]
          },
          "metadata": {
            "tags": []
          }
        }
      ]
    },
    {
      "cell_type": "markdown",
      "metadata": {
        "id": "hYg-FNDbKe3r",
        "colab_type": "text"
      },
      "source": [
        "Another option that commonly needs tweaking is na: this specifies the value (or values) that are used to represent missing values in your file:"
      ]
    },
    {
      "cell_type": "code",
      "metadata": {
        "id": "DUbXfAciKgZq",
        "colab_type": "code",
        "colab": {
          "base_uri": "https://localhost:8080/",
          "height": 116
        },
        "outputId": "1cd0bc2c-0309-4f30-eebd-7777687b7f66"
      },
      "source": [
        "read_csv(\"a,b,c\\n1,2,.\", na = \".\")"
      ],
      "execution_count": 7,
      "outputs": [
        {
          "output_type": "display_data",
          "data": {
            "text/plain": [
              "  a b c \n",
              "1 1 2 NA"
            ],
            "text/latex": "A spec\\_tbl\\_df: 1 × 3\n\\begin{tabular}{lll}\n a & b & c\\\\\n <dbl> & <dbl> & <lgl>\\\\\n\\hline\n\t 1 & 2 & NA\\\\\n\\end{tabular}\n",
            "text/markdown": "\nA spec_tbl_df: 1 × 3\n\n| a &lt;dbl&gt; | b &lt;dbl&gt; | c &lt;lgl&gt; |\n|---|---|---|\n| 1 | 2 | NA |\n\n",
            "text/html": [
              "<table>\n",
              "<caption>A spec_tbl_df: 1 × 3</caption>\n",
              "<thead>\n",
              "\t<tr><th scope=col>a</th><th scope=col>b</th><th scope=col>c</th></tr>\n",
              "\t<tr><th scope=col>&lt;dbl&gt;</th><th scope=col>&lt;dbl&gt;</th><th scope=col>&lt;lgl&gt;</th></tr>\n",
              "</thead>\n",
              "<tbody>\n",
              "\t<tr><td>1</td><td>2</td><td>NA</td></tr>\n",
              "</tbody>\n",
              "</table>\n"
            ]
          },
          "metadata": {
            "tags": []
          }
        }
      ]
    },
    {
      "cell_type": "markdown",
      "metadata": {
        "id": "KzYQMJPWFkI_",
        "colab_type": "text"
      },
      "source": [
        "## **Exercise**"
      ]
    },
    {
      "cell_type": "markdown",
      "metadata": {
        "id": "a-pE8EccVwNa",
        "colab_type": "text"
      },
      "source": [
        "*   What function would you use to read a file where fields were separated with “|”? Create such a file and make sure it works."
      ]
    },
    {
      "cell_type": "markdown",
      "metadata": {
        "id": "kmWhvK-gO3_5",
        "colab_type": "text"
      },
      "source": [
        "*   Apart from file, skip, and comment, what other arguments do `read_csv()` and `read_tsv()` have in common?"
      ]
    },
    {
      "cell_type": "markdown",
      "metadata": {
        "id": "sseV-CA3SXe7",
        "colab_type": "text"
      },
      "source": [
        "*   What are the most important arguments to `read_fwf()`?"
      ]
    },
    {
      "cell_type": "markdown",
      "metadata": {
        "id": "pFSWkP0uN3yo",
        "colab_type": "text"
      },
      "source": [
        "*  Sometimes strings in a CSV file contain commas. To prevent them from causing problems they need to be surrounded by a quoting character, like \" or '. By convention, read_csv() assumes that the quoting character will be \". If you want to change it, what arguments do you need to specify to read the following text into a data frame?"
      ]
    },
    {
      "cell_type": "code",
      "metadata": {
        "id": "oWJXaHyGM4Gx",
        "colab_type": "code",
        "colab": {}
      },
      "source": [
        "x <- \"x,y\\n1,'a,b'\""
      ],
      "execution_count": 0,
      "outputs": []
    }
  ]
}