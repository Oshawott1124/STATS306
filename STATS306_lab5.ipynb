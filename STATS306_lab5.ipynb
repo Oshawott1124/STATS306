{
  "nbformat": 4,
  "nbformat_minor": 0,
  "metadata": {
    "colab": {
      "name": "STATS306_lab5.ipynb",
      "provenance": []
    },
    "kernelspec": {
      "name": "ir",
      "display_name": "R"
    }
  },
  "cells": [
    {
      "cell_type": "markdown",
      "metadata": {
        "id": "N_nBS2Sp8DIF",
        "colab_type": "text"
      },
      "source": [
        "# **Lab 5: More on dplyr, chaining operators and EDA**"
      ]
    },
    {
      "cell_type": "code",
      "metadata": {
        "id": "ZrqhDSvJq7Ah",
        "colab_type": "code",
        "colab": {
          "base_uri": "https://localhost:8080/",
          "height": 204
        },
        "outputId": "4fbca381-1b4e-447d-bb9b-373779d2f3f4"
      },
      "source": [
        "library (tidyverse)"
      ],
      "execution_count": 1,
      "outputs": [
        {
          "output_type": "stream",
          "text": [
            "── \u001b[1mAttaching packages\u001b[22m ─────────────────────────────────────── tidyverse 1.3.0 ──\n",
            "\n",
            "\u001b[32m✔\u001b[39m \u001b[34mggplot2\u001b[39m 3.2.1     \u001b[32m✔\u001b[39m \u001b[34mpurrr  \u001b[39m 0.3.3\n",
            "\u001b[32m✔\u001b[39m \u001b[34mtibble \u001b[39m 2.1.3     \u001b[32m✔\u001b[39m \u001b[34mdplyr  \u001b[39m 0.8.4\n",
            "\u001b[32m✔\u001b[39m \u001b[34mtidyr  \u001b[39m 1.0.2     \u001b[32m✔\u001b[39m \u001b[34mstringr\u001b[39m 1.4.0\n",
            "\u001b[32m✔\u001b[39m \u001b[34mreadr  \u001b[39m 1.3.1     \u001b[32m✔\u001b[39m \u001b[34mforcats\u001b[39m 0.4.0\n",
            "\n",
            "── \u001b[1mConflicts\u001b[22m ────────────────────────────────────────── tidyverse_conflicts() ──\n",
            "\u001b[31m✖\u001b[39m \u001b[34mdplyr\u001b[39m::\u001b[32mfilter()\u001b[39m masks \u001b[34mstats\u001b[39m::filter()\n",
            "\u001b[31m✖\u001b[39m \u001b[34mdplyr\u001b[39m::\u001b[32mlag()\u001b[39m    masks \u001b[34mstats\u001b[39m::lag()\n",
            "\n"
          ],
          "name": "stderr"
        }
      ]
    },
    {
      "cell_type": "code",
      "metadata": {
        "id": "XtbivmNpq7_t",
        "colab_type": "code",
        "colab": {
          "base_uri": "https://localhost:8080/",
          "height": 340
        },
        "outputId": "13ea04f6-609e-4b0b-b5b3-d956e87f5256"
      },
      "source": [
        "url <- \"https://raw.githubusercontent.com/Juanets/movie-stats/master/movies.csv\"\n",
        "movies <- read_csv(url)\n",
        "locale <- Sys.setlocale(category = \"LC_ALL\", locale = \"C\")"
      ],
      "execution_count": 2,
      "outputs": [
        {
          "output_type": "stream",
          "text": [
            "Parsed with column specification:\n",
            "cols(\n",
            "  budget = \u001b[32mcol_double()\u001b[39m,\n",
            "  company = \u001b[31mcol_character()\u001b[39m,\n",
            "  country = \u001b[31mcol_character()\u001b[39m,\n",
            "  director = \u001b[31mcol_character()\u001b[39m,\n",
            "  genre = \u001b[31mcol_character()\u001b[39m,\n",
            "  gross = \u001b[32mcol_double()\u001b[39m,\n",
            "  name = \u001b[31mcol_character()\u001b[39m,\n",
            "  rating = \u001b[31mcol_character()\u001b[39m,\n",
            "  released = \u001b[31mcol_character()\u001b[39m,\n",
            "  runtime = \u001b[32mcol_double()\u001b[39m,\n",
            "  score = \u001b[32mcol_double()\u001b[39m,\n",
            "  star = \u001b[31mcol_character()\u001b[39m,\n",
            "  votes = \u001b[32mcol_double()\u001b[39m,\n",
            "  writer = \u001b[31mcol_character()\u001b[39m,\n",
            "  year = \u001b[32mcol_double()\u001b[39m\n",
            ")\n",
            "\n"
          ],
          "name": "stderr"
        }
      ]
    },
    {
      "cell_type": "markdown",
      "metadata": {
        "id": "5EdepGVTqoc7",
        "colab_type": "text"
      },
      "source": [
        "## **summarise(): reduce variables to values**\n",
        "\n",
        "summarize() can be used to aggregate data or to compute a summarizing value of interest.\n",
        "\n"
      ]
    },
    {
      "cell_type": "code",
      "metadata": {
        "id": "82T0O0YPrTUO",
        "colab_type": "code",
        "colab": {
          "base_uri": "https://localhost:8080/",
          "height": 99
        },
        "outputId": "9a90406a-18eb-4f78-d111-73c48d9aa00f"
      },
      "source": [
        "summarise(movies,\n",
        "tot_gross_in_bil = sum(gross)/1e9,\n",
        "mean_gross_in_mil = mean(gross)/1e6,\n",
        ")"
      ],
      "execution_count": 3,
      "outputs": [
        {
          "output_type": "display_data",
          "data": {
            "text/plain": [
              "  tot_gross_in_bil mean_gross_in_mil\n",
              "1 228.4552         33.49783         "
            ],
            "text/latex": "A tibble: 1 × 2\n\\begin{tabular}{ll}\n tot\\_gross\\_in\\_bil & mean\\_gross\\_in\\_mil\\\\\n <dbl> & <dbl>\\\\\n\\hline\n\t 228.4552 & 33.49783\\\\\n\\end{tabular}\n",
            "text/markdown": "\nA tibble: 1 × 2\n\n| tot_gross_in_bil &lt;dbl&gt; | mean_gross_in_mil &lt;dbl&gt; |\n|---|---|\n| 228.4552 | 33.49783 |\n\n",
            "text/html": [
              "<table>\n",
              "<caption>A tibble: 1 × 2</caption>\n",
              "<thead>\n",
              "\t<tr><th scope=col>tot_gross_in_bil</th><th scope=col>mean_gross_in_mil</th></tr>\n",
              "\t<tr><th scope=col>&lt;dbl&gt;</th><th scope=col>&lt;dbl&gt;</th></tr>\n",
              "</thead>\n",
              "<tbody>\n",
              "\t<tr><td>228.4552</td><td>33.49783</td></tr>\n",
              "</tbody>\n",
              "</table>\n"
            ]
          },
          "metadata": {
            "tags": []
          }
        }
      ]
    },
    {
      "cell_type": "markdown",
      "metadata": {
        "id": "7tNbF6_9rYtx",
        "colab_type": "text"
      },
      "source": [
        "summarize() is more useful on data previously grouped by one or\n",
        "more variables using group_by().\n",
        "\n",
        "Grouping allows you to compute summaries for each categories separately:"
      ]
    },
    {
      "cell_type": "code",
      "metadata": {
        "id": "77eFNZkU-HML",
        "colab_type": "code",
        "colab": {
          "base_uri": "https://localhost:8080/",
          "height": 435
        },
        "outputId": "746111f4-89e5-41b6-cf17-e5f2864bda43"
      },
      "source": [
        "by_genre <- group_by(movies, genre)\n",
        "summarize(by_genre, tot_gross_in_bil = sum(gross)/1e9,\n",
        "mean_gross_in_mil = mean(gross)/1e6)"
      ],
      "execution_count": 4,
      "outputs": [
        {
          "output_type": "display_data",
          "data": {
            "text/plain": [
              "   genre     tot_gross_in_bil mean_gross_in_mil\n",
              "1  Action    74.792634664     56.1928134       \n",
              "2  Adventure 20.895092830     53.3038082       \n",
              "3  Animation 25.342203262     91.4880984       \n",
              "4  Biography  8.617526666     24.0042526       \n",
              "5  Comedy    53.543423603     25.7420306       \n",
              "6  Crime     10.217836159     19.5743988       \n",
              "7  Drama     25.204622256     17.4547246       \n",
              "8  Family     0.118110208      8.4364434       \n",
              "9  Fantasy    0.644653115     20.1454098       \n",
              "10 Horror     7.117846856     25.6961980       \n",
              "11 Musical    0.008094993      2.0237483       \n",
              "12 Mystery    1.379951556     36.3145146       \n",
              "13 Romance    0.145764206      9.7176137       \n",
              "14 Sci-Fi     0.307801697     23.6770536       \n",
              "15 Thriller   0.099600218      5.5333454       \n",
              "16 War        0.001509775      0.7548875       \n",
              "17 Western    0.018519094      9.2595470       "
            ],
            "text/latex": "A tibble: 17 × 3\n\\begin{tabular}{lll}\n genre & tot\\_gross\\_in\\_bil & mean\\_gross\\_in\\_mil\\\\\n <chr> & <dbl> & <dbl>\\\\\n\\hline\n\t Action    & 74.792634664 & 56.1928134\\\\\n\t Adventure & 20.895092830 & 53.3038082\\\\\n\t Animation & 25.342203262 & 91.4880984\\\\\n\t Biography &  8.617526666 & 24.0042526\\\\\n\t Comedy    & 53.543423603 & 25.7420306\\\\\n\t Crime     & 10.217836159 & 19.5743988\\\\\n\t Drama     & 25.204622256 & 17.4547246\\\\\n\t Family    &  0.118110208 &  8.4364434\\\\\n\t Fantasy   &  0.644653115 & 20.1454098\\\\\n\t Horror    &  7.117846856 & 25.6961980\\\\\n\t Musical   &  0.008094993 &  2.0237483\\\\\n\t Mystery   &  1.379951556 & 36.3145146\\\\\n\t Romance   &  0.145764206 &  9.7176137\\\\\n\t Sci-Fi    &  0.307801697 & 23.6770536\\\\\n\t Thriller  &  0.099600218 &  5.5333454\\\\\n\t War       &  0.001509775 &  0.7548875\\\\\n\t Western   &  0.018519094 &  9.2595470\\\\\n\\end{tabular}\n",
            "text/markdown": "\nA tibble: 17 × 3\n\n| genre &lt;chr&gt; | tot_gross_in_bil &lt;dbl&gt; | mean_gross_in_mil &lt;dbl&gt; |\n|---|---|---|\n| Action    | 74.792634664 | 56.1928134 |\n| Adventure | 20.895092830 | 53.3038082 |\n| Animation | 25.342203262 | 91.4880984 |\n| Biography |  8.617526666 | 24.0042526 |\n| Comedy    | 53.543423603 | 25.7420306 |\n| Crime     | 10.217836159 | 19.5743988 |\n| Drama     | 25.204622256 | 17.4547246 |\n| Family    |  0.118110208 |  8.4364434 |\n| Fantasy   |  0.644653115 | 20.1454098 |\n| Horror    |  7.117846856 | 25.6961980 |\n| Musical   |  0.008094993 |  2.0237483 |\n| Mystery   |  1.379951556 | 36.3145146 |\n| Romance   |  0.145764206 |  9.7176137 |\n| Sci-Fi    |  0.307801697 | 23.6770536 |\n| Thriller  |  0.099600218 |  5.5333454 |\n| War       |  0.001509775 |  0.7548875 |\n| Western   |  0.018519094 |  9.2595470 |\n\n",
            "text/html": [
              "<table>\n",
              "<caption>A tibble: 17 × 3</caption>\n",
              "<thead>\n",
              "\t<tr><th scope=col>genre</th><th scope=col>tot_gross_in_bil</th><th scope=col>mean_gross_in_mil</th></tr>\n",
              "\t<tr><th scope=col>&lt;chr&gt;</th><th scope=col>&lt;dbl&gt;</th><th scope=col>&lt;dbl&gt;</th></tr>\n",
              "</thead>\n",
              "<tbody>\n",
              "\t<tr><td>Action   </td><td>74.792634664</td><td>56.1928134</td></tr>\n",
              "\t<tr><td>Adventure</td><td>20.895092830</td><td>53.3038082</td></tr>\n",
              "\t<tr><td>Animation</td><td>25.342203262</td><td>91.4880984</td></tr>\n",
              "\t<tr><td>Biography</td><td> 8.617526666</td><td>24.0042526</td></tr>\n",
              "\t<tr><td>Comedy   </td><td>53.543423603</td><td>25.7420306</td></tr>\n",
              "\t<tr><td>Crime    </td><td>10.217836159</td><td>19.5743988</td></tr>\n",
              "\t<tr><td>Drama    </td><td>25.204622256</td><td>17.4547246</td></tr>\n",
              "\t<tr><td>Family   </td><td> 0.118110208</td><td> 8.4364434</td></tr>\n",
              "\t<tr><td>Fantasy  </td><td> 0.644653115</td><td>20.1454098</td></tr>\n",
              "\t<tr><td>Horror   </td><td> 7.117846856</td><td>25.6961980</td></tr>\n",
              "\t<tr><td>Musical  </td><td> 0.008094993</td><td> 2.0237483</td></tr>\n",
              "\t<tr><td>Mystery  </td><td> 1.379951556</td><td>36.3145146</td></tr>\n",
              "\t<tr><td>Romance  </td><td> 0.145764206</td><td> 9.7176137</td></tr>\n",
              "\t<tr><td>Sci-Fi   </td><td> 0.307801697</td><td>23.6770536</td></tr>\n",
              "\t<tr><td>Thriller </td><td> 0.099600218</td><td> 5.5333454</td></tr>\n",
              "\t<tr><td>War      </td><td> 0.001509775</td><td> 0.7548875</td></tr>\n",
              "\t<tr><td>Western  </td><td> 0.018519094</td><td> 9.2595470</td></tr>\n",
              "</tbody>\n",
              "</table>\n"
            ]
          },
          "metadata": {
            "tags": []
          }
        }
      ]
    },
    {
      "cell_type": "markdown",
      "metadata": {
        "id": "xLmOetDB-JAe",
        "colab_type": "text"
      },
      "source": [
        "## **Elementary but useful summary functions**\n",
        "\n",
        "\n",
        "*   min(x), median(x), max(x), quantile(x, p)\n",
        "*   n(), n_distinct(), sum(x), mean(x)\n",
        "*   sum(x > 10), mean(x > 0)\n",
        "*   sd(x), var(x)\n",
        "\n"
      ]
    },
    {
      "cell_type": "markdown",
      "metadata": {
        "id": "LVID1j8y-oN7",
        "colab_type": "text"
      },
      "source": [
        "## **Counting observations**\n",
        "\n",
        "tally() function can be used to generate a group frequency table, (number of\n",
        "observations in each category)"
      ]
    },
    {
      "cell_type": "code",
      "metadata": {
        "id": "MDzenX1A-u_p",
        "colab_type": "code",
        "colab": {
          "base_uri": "https://localhost:8080/",
          "height": 435
        },
        "outputId": "f0b2131d-3794-4def-b31f-9f2167e4829d"
      },
      "source": [
        "tally(group_by(movies, genre))"
      ],
      "execution_count": 5,
      "outputs": [
        {
          "output_type": "display_data",
          "data": {
            "text/plain": [
              "   genre     n   \n",
              "1  Action    1331\n",
              "2  Adventure  392\n",
              "3  Animation  277\n",
              "4  Biography  359\n",
              "5  Comedy    2080\n",
              "6  Crime      522\n",
              "7  Drama     1444\n",
              "8  Family      14\n",
              "9  Fantasy     32\n",
              "10 Horror     277\n",
              "11 Musical      4\n",
              "12 Mystery     38\n",
              "13 Romance     15\n",
              "14 Sci-Fi      13\n",
              "15 Thriller    18\n",
              "16 War          2\n",
              "17 Western      2"
            ],
            "text/latex": "A tibble: 17 × 2\n\\begin{tabular}{ll}\n genre & n\\\\\n <chr> & <int>\\\\\n\\hline\n\t Action    & 1331\\\\\n\t Adventure &  392\\\\\n\t Animation &  277\\\\\n\t Biography &  359\\\\\n\t Comedy    & 2080\\\\\n\t Crime     &  522\\\\\n\t Drama     & 1444\\\\\n\t Family    &   14\\\\\n\t Fantasy   &   32\\\\\n\t Horror    &  277\\\\\n\t Musical   &    4\\\\\n\t Mystery   &   38\\\\\n\t Romance   &   15\\\\\n\t Sci-Fi    &   13\\\\\n\t Thriller  &   18\\\\\n\t War       &    2\\\\\n\t Western   &    2\\\\\n\\end{tabular}\n",
            "text/markdown": "\nA tibble: 17 × 2\n\n| genre &lt;chr&gt; | n &lt;int&gt; |\n|---|---|\n| Action    | 1331 |\n| Adventure |  392 |\n| Animation |  277 |\n| Biography |  359 |\n| Comedy    | 2080 |\n| Crime     |  522 |\n| Drama     | 1444 |\n| Family    |   14 |\n| Fantasy   |   32 |\n| Horror    |  277 |\n| Musical   |    4 |\n| Mystery   |   38 |\n| Romance   |   15 |\n| Sci-Fi    |   13 |\n| Thriller  |   18 |\n| War       |    2 |\n| Western   |    2 |\n\n",
            "text/html": [
              "<table>\n",
              "<caption>A tibble: 17 × 2</caption>\n",
              "<thead>\n",
              "\t<tr><th scope=col>genre</th><th scope=col>n</th></tr>\n",
              "\t<tr><th scope=col>&lt;chr&gt;</th><th scope=col>&lt;int&gt;</th></tr>\n",
              "</thead>\n",
              "<tbody>\n",
              "\t<tr><td>Action   </td><td>1331</td></tr>\n",
              "\t<tr><td>Adventure</td><td> 392</td></tr>\n",
              "\t<tr><td>Animation</td><td> 277</td></tr>\n",
              "\t<tr><td>Biography</td><td> 359</td></tr>\n",
              "\t<tr><td>Comedy   </td><td>2080</td></tr>\n",
              "\t<tr><td>Crime    </td><td> 522</td></tr>\n",
              "\t<tr><td>Drama    </td><td>1444</td></tr>\n",
              "\t<tr><td>Family   </td><td>  14</td></tr>\n",
              "\t<tr><td>Fantasy  </td><td>  32</td></tr>\n",
              "\t<tr><td>Horror   </td><td> 277</td></tr>\n",
              "\t<tr><td>Musical  </td><td>   4</td></tr>\n",
              "\t<tr><td>Mystery  </td><td>  38</td></tr>\n",
              "\t<tr><td>Romance  </td><td>  15</td></tr>\n",
              "\t<tr><td>Sci-Fi   </td><td>  13</td></tr>\n",
              "\t<tr><td>Thriller </td><td>  18</td></tr>\n",
              "\t<tr><td>War      </td><td>   2</td></tr>\n",
              "\t<tr><td>Western  </td><td>   2</td></tr>\n",
              "</tbody>\n",
              "</table>\n"
            ]
          },
          "metadata": {
            "tags": []
          }
        }
      ]
    },
    {
      "cell_type": "code",
      "metadata": {
        "id": "RxsZ1tjf-xTo",
        "colab_type": "code",
        "colab": {
          "base_uri": "https://localhost:8080/",
          "height": 1000
        },
        "outputId": "3d934e29-3c1d-4819-fe2a-085de26a2c72"
      },
      "source": [
        "tally(group_by(movies, genre, country))"
      ],
      "execution_count": 6,
      "outputs": [
        {
          "output_type": "display_data",
          "data": {
            "text/plain": [
              "       genre    country        n     \n",
              "1      Action   Aruba           1    \n",
              "2      Action   Australia      12    \n",
              "3      Action   Austria         1    \n",
              "4      Action   Belgium         1    \n",
              "5      Action   Brazil          2    \n",
              "6      Action   Canada         26    \n",
              "7      Action   China          13    \n",
              "8      Action   Czech Republic  1    \n",
              "9      Action   Denmark         2    \n",
              "10     Action   France         41    \n",
              "11     Action   Germany        32    \n",
              "12     Action   Hong Kong      20    \n",
              "13     Action   India           9    \n",
              "14     Action   Indonesia       2    \n",
              "15     Action   Ireland         2    \n",
              "16     Action   Japan          13    \n",
              "17     Action   Malta           1    \n",
              "18     Action   Mexico          2    \n",
              "19     Action   New Zealand     2    \n",
              "20     Action   Norway          2    \n",
              "21     Action   Panama          1    \n",
              "22     Action   Peru            2    \n",
              "23     Action   Romania         1    \n",
              "24     Action   Russia          4    \n",
              "25     Action   South Africa    3    \n",
              "26     Action   South Korea    10    \n",
              "27     Action   Spain           2    \n",
              "28     Action   Sweden          1    \n",
              "29     Action   Taiwan          2    \n",
              "30     Action   Thailand        2    \n",
              "<U+22EE> <U+22EE> <U+22EE>       <U+22EE>\n",
              "209    Horror   Mexico           1   \n",
              "210    Horror   Netherlands      1   \n",
              "211    Horror   Russia           1   \n",
              "212    Horror   South Africa     1   \n",
              "213    Horror   Spain            6   \n",
              "214    Horror   UK              20   \n",
              "215    Horror   USA            213   \n",
              "216    Musical  India            2   \n",
              "217    Musical  USA              2   \n",
              "218    Mystery  Australia        1   \n",
              "219    Mystery  Belgium          1   \n",
              "220    Mystery  Canada           1   \n",
              "221    Mystery  France           2   \n",
              "222    Mystery  Germany          3   \n",
              "223    Mystery  Spain            1   \n",
              "224    Mystery  UK               2   \n",
              "225    Mystery  USA             27   \n",
              "226    Romance  Canada           1   \n",
              "227    Romance  France           2   \n",
              "228    Romance  UK               5   \n",
              "229    Romance  USA              7   \n",
              "230    Sci-Fi   Canada           2   \n",
              "231    Sci-Fi   South Africa     1   \n",
              "232    Sci-Fi   UK               1   \n",
              "233    Sci-Fi   USA              9   \n",
              "234    Thriller Australia        1   \n",
              "235    Thriller UK               4   \n",
              "236    Thriller USA             13   \n",
              "237    War      USA              2   \n",
              "238    Western  UK               2   "
            ],
            "text/latex": "A grouped\\_df: 238 × 3\n\\begin{tabular}{lll}\n genre & country & n\\\\\n <chr> & <chr> & <int>\\\\\n\\hline\n\t Action & Aruba          &  1\\\\\n\t Action & Australia      & 12\\\\\n\t Action & Austria        &  1\\\\\n\t Action & Belgium        &  1\\\\\n\t Action & Brazil         &  2\\\\\n\t Action & Canada         & 26\\\\\n\t Action & China          & 13\\\\\n\t Action & Czech Republic &  1\\\\\n\t Action & Denmark        &  2\\\\\n\t Action & France         & 41\\\\\n\t Action & Germany        & 32\\\\\n\t Action & Hong Kong      & 20\\\\\n\t Action & India          &  9\\\\\n\t Action & Indonesia      &  2\\\\\n\t Action & Ireland        &  2\\\\\n\t Action & Japan          & 13\\\\\n\t Action & Malta          &  1\\\\\n\t Action & Mexico         &  2\\\\\n\t Action & New Zealand    &  2\\\\\n\t Action & Norway         &  2\\\\\n\t Action & Panama         &  1\\\\\n\t Action & Peru           &  2\\\\\n\t Action & Romania        &  1\\\\\n\t Action & Russia         &  4\\\\\n\t Action & South Africa   &  3\\\\\n\t Action & South Korea    & 10\\\\\n\t Action & Spain          &  2\\\\\n\t Action & Sweden         &  1\\\\\n\t Action & Taiwan         &  2\\\\\n\t Action & Thailand       &  2\\\\\n\t ⋮ & ⋮ & ⋮\\\\\n\t Horror   & Mexico       &   1\\\\\n\t Horror   & Netherlands  &   1\\\\\n\t Horror   & Russia       &   1\\\\\n\t Horror   & South Africa &   1\\\\\n\t Horror   & Spain        &   6\\\\\n\t Horror   & UK           &  20\\\\\n\t Horror   & USA          & 213\\\\\n\t Musical  & India        &   2\\\\\n\t Musical  & USA          &   2\\\\\n\t Mystery  & Australia    &   1\\\\\n\t Mystery  & Belgium      &   1\\\\\n\t Mystery  & Canada       &   1\\\\\n\t Mystery  & France       &   2\\\\\n\t Mystery  & Germany      &   3\\\\\n\t Mystery  & Spain        &   1\\\\\n\t Mystery  & UK           &   2\\\\\n\t Mystery  & USA          &  27\\\\\n\t Romance  & Canada       &   1\\\\\n\t Romance  & France       &   2\\\\\n\t Romance  & UK           &   5\\\\\n\t Romance  & USA          &   7\\\\\n\t Sci-Fi   & Canada       &   2\\\\\n\t Sci-Fi   & South Africa &   1\\\\\n\t Sci-Fi   & UK           &   1\\\\\n\t Sci-Fi   & USA          &   9\\\\\n\t Thriller & Australia    &   1\\\\\n\t Thriller & UK           &   4\\\\\n\t Thriller & USA          &  13\\\\\n\t War      & USA          &   2\\\\\n\t Western  & UK           &   2\\\\\n\\end{tabular}\n",
            "text/markdown": "\nA grouped_df: 238 × 3\n\n| genre &lt;chr&gt; | country &lt;chr&gt; | n &lt;int&gt; |\n|---|---|---|\n| Action | Aruba          |  1 |\n| Action | Australia      | 12 |\n| Action | Austria        |  1 |\n| Action | Belgium        |  1 |\n| Action | Brazil         |  2 |\n| Action | Canada         | 26 |\n| Action | China          | 13 |\n| Action | Czech Republic |  1 |\n| Action | Denmark        |  2 |\n| Action | France         | 41 |\n| Action | Germany        | 32 |\n| Action | Hong Kong      | 20 |\n| Action | India          |  9 |\n| Action | Indonesia      |  2 |\n| Action | Ireland        |  2 |\n| Action | Japan          | 13 |\n| Action | Malta          |  1 |\n| Action | Mexico         |  2 |\n| Action | New Zealand    |  2 |\n| Action | Norway         |  2 |\n| Action | Panama         |  1 |\n| Action | Peru           |  2 |\n| Action | Romania        |  1 |\n| Action | Russia         |  4 |\n| Action | South Africa   |  3 |\n| Action | South Korea    | 10 |\n| Action | Spain          |  2 |\n| Action | Sweden         |  1 |\n| Action | Taiwan         |  2 |\n| Action | Thailand       |  2 |\n| ⋮ | ⋮ | ⋮ |\n| Horror   | Mexico       |   1 |\n| Horror   | Netherlands  |   1 |\n| Horror   | Russia       |   1 |\n| Horror   | South Africa |   1 |\n| Horror   | Spain        |   6 |\n| Horror   | UK           |  20 |\n| Horror   | USA          | 213 |\n| Musical  | India        |   2 |\n| Musical  | USA          |   2 |\n| Mystery  | Australia    |   1 |\n| Mystery  | Belgium      |   1 |\n| Mystery  | Canada       |   1 |\n| Mystery  | France       |   2 |\n| Mystery  | Germany      |   3 |\n| Mystery  | Spain        |   1 |\n| Mystery  | UK           |   2 |\n| Mystery  | USA          |  27 |\n| Romance  | Canada       |   1 |\n| Romance  | France       |   2 |\n| Romance  | UK           |   5 |\n| Romance  | USA          |   7 |\n| Sci-Fi   | Canada       |   2 |\n| Sci-Fi   | South Africa |   1 |\n| Sci-Fi   | UK           |   1 |\n| Sci-Fi   | USA          |   9 |\n| Thriller | Australia    |   1 |\n| Thriller | UK           |   4 |\n| Thriller | USA          |  13 |\n| War      | USA          |   2 |\n| Western  | UK           |   2 |\n\n",
            "text/html": [
              "<table>\n",
              "<caption>A grouped_df: 238 × 3</caption>\n",
              "<thead>\n",
              "\t<tr><th scope=col>genre</th><th scope=col>country</th><th scope=col>n</th></tr>\n",
              "\t<tr><th scope=col>&lt;chr&gt;</th><th scope=col>&lt;chr&gt;</th><th scope=col>&lt;int&gt;</th></tr>\n",
              "</thead>\n",
              "<tbody>\n",
              "\t<tr><td>Action</td><td>Aruba         </td><td> 1</td></tr>\n",
              "\t<tr><td>Action</td><td>Australia     </td><td>12</td></tr>\n",
              "\t<tr><td>Action</td><td>Austria       </td><td> 1</td></tr>\n",
              "\t<tr><td>Action</td><td>Belgium       </td><td> 1</td></tr>\n",
              "\t<tr><td>Action</td><td>Brazil        </td><td> 2</td></tr>\n",
              "\t<tr><td>Action</td><td>Canada        </td><td>26</td></tr>\n",
              "\t<tr><td>Action</td><td>China         </td><td>13</td></tr>\n",
              "\t<tr><td>Action</td><td>Czech Republic</td><td> 1</td></tr>\n",
              "\t<tr><td>Action</td><td>Denmark       </td><td> 2</td></tr>\n",
              "\t<tr><td>Action</td><td>France        </td><td>41</td></tr>\n",
              "\t<tr><td>Action</td><td>Germany       </td><td>32</td></tr>\n",
              "\t<tr><td>Action</td><td>Hong Kong     </td><td>20</td></tr>\n",
              "\t<tr><td>Action</td><td>India         </td><td> 9</td></tr>\n",
              "\t<tr><td>Action</td><td>Indonesia     </td><td> 2</td></tr>\n",
              "\t<tr><td>Action</td><td>Ireland       </td><td> 2</td></tr>\n",
              "\t<tr><td>Action</td><td>Japan         </td><td>13</td></tr>\n",
              "\t<tr><td>Action</td><td>Malta         </td><td> 1</td></tr>\n",
              "\t<tr><td>Action</td><td>Mexico        </td><td> 2</td></tr>\n",
              "\t<tr><td>Action</td><td>New Zealand   </td><td> 2</td></tr>\n",
              "\t<tr><td>Action</td><td>Norway        </td><td> 2</td></tr>\n",
              "\t<tr><td>Action</td><td>Panama        </td><td> 1</td></tr>\n",
              "\t<tr><td>Action</td><td>Peru          </td><td> 2</td></tr>\n",
              "\t<tr><td>Action</td><td>Romania       </td><td> 1</td></tr>\n",
              "\t<tr><td>Action</td><td>Russia        </td><td> 4</td></tr>\n",
              "\t<tr><td>Action</td><td>South Africa  </td><td> 3</td></tr>\n",
              "\t<tr><td>Action</td><td>South Korea   </td><td>10</td></tr>\n",
              "\t<tr><td>Action</td><td>Spain         </td><td> 2</td></tr>\n",
              "\t<tr><td>Action</td><td>Sweden        </td><td> 1</td></tr>\n",
              "\t<tr><td>Action</td><td>Taiwan        </td><td> 2</td></tr>\n",
              "\t<tr><td>Action</td><td>Thailand      </td><td> 2</td></tr>\n",
              "\t<tr><td>⋮</td><td>⋮</td><td>⋮</td></tr>\n",
              "\t<tr><td>Horror  </td><td>Mexico      </td><td>  1</td></tr>\n",
              "\t<tr><td>Horror  </td><td>Netherlands </td><td>  1</td></tr>\n",
              "\t<tr><td>Horror  </td><td>Russia      </td><td>  1</td></tr>\n",
              "\t<tr><td>Horror  </td><td>South Africa</td><td>  1</td></tr>\n",
              "\t<tr><td>Horror  </td><td>Spain       </td><td>  6</td></tr>\n",
              "\t<tr><td>Horror  </td><td>UK          </td><td> 20</td></tr>\n",
              "\t<tr><td>Horror  </td><td>USA         </td><td>213</td></tr>\n",
              "\t<tr><td>Musical </td><td>India       </td><td>  2</td></tr>\n",
              "\t<tr><td>Musical </td><td>USA         </td><td>  2</td></tr>\n",
              "\t<tr><td>Mystery </td><td>Australia   </td><td>  1</td></tr>\n",
              "\t<tr><td>Mystery </td><td>Belgium     </td><td>  1</td></tr>\n",
              "\t<tr><td>Mystery </td><td>Canada      </td><td>  1</td></tr>\n",
              "\t<tr><td>Mystery </td><td>France      </td><td>  2</td></tr>\n",
              "\t<tr><td>Mystery </td><td>Germany     </td><td>  3</td></tr>\n",
              "\t<tr><td>Mystery </td><td>Spain       </td><td>  1</td></tr>\n",
              "\t<tr><td>Mystery </td><td>UK          </td><td>  2</td></tr>\n",
              "\t<tr><td>Mystery </td><td>USA         </td><td> 27</td></tr>\n",
              "\t<tr><td>Romance </td><td>Canada      </td><td>  1</td></tr>\n",
              "\t<tr><td>Romance </td><td>France      </td><td>  2</td></tr>\n",
              "\t<tr><td>Romance </td><td>UK          </td><td>  5</td></tr>\n",
              "\t<tr><td>Romance </td><td>USA         </td><td>  7</td></tr>\n",
              "\t<tr><td>Sci-Fi  </td><td>Canada      </td><td>  2</td></tr>\n",
              "\t<tr><td>Sci-Fi  </td><td>South Africa</td><td>  1</td></tr>\n",
              "\t<tr><td>Sci-Fi  </td><td>UK          </td><td>  1</td></tr>\n",
              "\t<tr><td>Sci-Fi  </td><td>USA         </td><td>  9</td></tr>\n",
              "\t<tr><td>Thriller</td><td>Australia   </td><td>  1</td></tr>\n",
              "\t<tr><td>Thriller</td><td>UK          </td><td>  4</td></tr>\n",
              "\t<tr><td>Thriller</td><td>USA         </td><td> 13</td></tr>\n",
              "\t<tr><td>War     </td><td>USA         </td><td>  2</td></tr>\n",
              "\t<tr><td>Western </td><td>UK          </td><td>  2</td></tr>\n",
              "</tbody>\n",
              "</table>\n"
            ]
          },
          "metadata": {
            "tags": []
          }
        }
      ]
    },
    {
      "cell_type": "markdown",
      "metadata": {
        "id": "-VfTYQgg-1DP",
        "colab_type": "text"
      },
      "source": [
        "## **Window functions**\n",
        "\n",
        "\n",
        "*   Aggregation functions such as mean(), n() return 1 value per group.\n",
        "*   Window functions return multiple values per group, e.g.\n",
        "top_n(), lead and lag or cummean:\n"
      ]
    },
    {
      "cell_type": "code",
      "metadata": {
        "id": "Jjzx_rWY-9bm",
        "colab_type": "code",
        "colab": {
          "base_uri": "https://localhost:8080/",
          "height": 881
        },
        "outputId": "86d101f9-7f48-4365-cf66-c8af6a434482"
      },
      "source": [
        "# rewrite more simply with the `top_n` function\n",
        "movies2 <- select(movies, name, genre, country, year, budget, gross, rating, score)\n",
        "top2 <- top_n(group_by(movies2, genre), n = 2, wt = score)\n",
        "arrange(top2, genre, year, score)"
      ],
      "execution_count": 7,
      "outputs": [
        {
          "output_type": "display_data",
          "data": {
            "text/plain": [
              "   name                                              genre     country     \n",
              "1  The Dark Knight                                   Action    USA         \n",
              "2  Inception                                         Action    USA         \n",
              "3  The Lord of the Rings: The Fellowship of the Ring Adventure New Zealand \n",
              "4  The Lord of the Rings: The Return of the King     Adventure USA         \n",
              "5  The Lion King                                     Animation USA         \n",
              "6  Spirited Away                                     Animation Japan       \n",
              "7  Your name                                         Animation Japan       \n",
              "8  Schindler's List                                  Biography USA         \n",
              "9  The Intouchables                                  Biography France      \n",
              "10 Forrest Gump                                      Comedy    USA         \n",
              "11 Life Is Beautiful                                 Comedy    Italy       \n",
              "12 Pulp Fiction                                      Crime     USA         \n",
              "13 The Shawshank Redemption                          Crime     USA         \n",
              "14 Saving Private Ryan                               Drama     USA         \n",
              "15 Fight Club                                        Drama     USA         \n",
              "16 Nutcracker                                        Family    USA         \n",
              "17 Little Nemo: Adventures in Slumberland            Family    Japan       \n",
              "18 The City of Lost Children                         Fantasy   France      \n",
              "19 Sleepy Hollow                                     Fantasy   USA         \n",
              "20 Los otros                                         Horror    Spain       \n",
              "21 Saw                                               Horror    USA         \n",
              "22 True Stories                                      Musical   USA         \n",
              "23 Devdas                                            Musical   India       \n",
              "24 Memento                                           Mystery   USA         \n",
              "25 Shutter Island                                    Mystery   USA         \n",
              "26 Firelight                                         Romance   UK          \n",
              "27 He Loves Me... He Loves Me Not                    Romance   France      \n",
              "28 The Butterfly Effect                              Sci-Fi    USA         \n",
              "29 Sector 9                                          Sci-Fi    South Africa\n",
              "30 Defense of the Realm                              Thriller  UK          \n",
              "31 The Hitcher                                       Thriller  USA         \n",
              "32 Platoon Leader                                    War       USA         \n",
              "33 The Beast of War                                  War       USA         \n",
              "34 Posse                                             Western   UK          \n",
              "35 Slow West                                         Western   UK          \n",
              "   year budget   gross     rating        score\n",
              "1  2008 1.85e+08 534858444 PG-13         9.0  \n",
              "2  2010 1.60e+08 292576195 PG-13         8.8  \n",
              "3  2001 9.30e+07 315544750 PG-13         8.8  \n",
              "4  2003 9.40e+07 377845905 PG-13         8.9  \n",
              "5  1994 4.50e+07 312900000 G             8.5  \n",
              "6  2001 1.90e+07  10055859 PG            8.6  \n",
              "7  2016 0.00e+00   5017246 PG            8.5  \n",
              "8  1993 2.20e+07  96067179 R             8.9  \n",
              "9  2011 0.00e+00  13182281 R             8.6  \n",
              "10 1994 5.50e+07 330252182 PG-13         8.8  \n",
              "11 1997 2.00e+07  57598247 PG-13         8.6  \n",
              "12 1994 8.00e+06 107928762 R             8.9  \n",
              "13 1994 2.50e+07  28341469 R             9.3  \n",
              "14 1998 7.00e+07 216540909 R             8.6  \n",
              "15 1999 6.30e+07  37030102 R             8.8  \n",
              "16 1986 0.00e+00    781727 G             7.2  \n",
              "17 1989 3.50e+07   1368210 G             7.2  \n",
              "18 1995 1.80e+07   1513028 R             7.7  \n",
              "19 1999 1.00e+08 101071502 R             7.4  \n",
              "20 2001 1.70e+07  96522687 PG-13         7.6  \n",
              "21 2004 1.20e+06  56000369 R             7.7  \n",
              "22 1986 0.00e+00   2545142 PG            7.0  \n",
              "23 2002 0.00e+00   3500000 Not specified 7.6  \n",
              "24 2000 9.00e+06  25544867 R             8.5  \n",
              "25 2010 8.00e+07 128012934 R             8.1  \n",
              "26 1997 0.00e+00    784419 R             7.3  \n",
              "27 2002 0.00e+00   1009827 PG-13         7.2  \n",
              "28 2004 1.30e+07  57938693 R             7.7  \n",
              "29 2009 3.00e+07 115646235 R             8.0  \n",
              "30 1986 0.00e+00    750000 PG            6.6  \n",
              "31 1986 6.00e+06   5844868 R             7.3  \n",
              "32 1988 0.00e+00   1348771 R             5.4  \n",
              "33 1988 0.00e+00    161004 R             7.4  \n",
              "34 1993 1.00e+07  18290000 R             5.5  \n",
              "35 2015 2.00e+06    229094 R             6.9  "
            ],
            "text/latex": "A grouped\\_df: 35 × 8\n\\begin{tabular}{llllllll}\n name & genre & country & year & budget & gross & rating & score\\\\\n <chr> & <chr> & <chr> & <dbl> & <dbl> & <dbl> & <chr> & <dbl>\\\\\n\\hline\n\t The Dark Knight                                   & Action    & USA          & 2008 & 1.85e+08 & 534858444 & PG-13         & 9.0\\\\\n\t Inception                                         & Action    & USA          & 2010 & 1.60e+08 & 292576195 & PG-13         & 8.8\\\\\n\t The Lord of the Rings: The Fellowship of the Ring & Adventure & New Zealand  & 2001 & 9.30e+07 & 315544750 & PG-13         & 8.8\\\\\n\t The Lord of the Rings: The Return of the King     & Adventure & USA          & 2003 & 9.40e+07 & 377845905 & PG-13         & 8.9\\\\\n\t The Lion King                                     & Animation & USA          & 1994 & 4.50e+07 & 312900000 & G             & 8.5\\\\\n\t Spirited Away                                     & Animation & Japan        & 2001 & 1.90e+07 &  10055859 & PG            & 8.6\\\\\n\t Your name                                         & Animation & Japan        & 2016 & 0.00e+00 &   5017246 & PG            & 8.5\\\\\n\t Schindler's List                                  & Biography & USA          & 1993 & 2.20e+07 &  96067179 & R             & 8.9\\\\\n\t The Intouchables                                  & Biography & France       & 2011 & 0.00e+00 &  13182281 & R             & 8.6\\\\\n\t Forrest Gump                                      & Comedy    & USA          & 1994 & 5.50e+07 & 330252182 & PG-13         & 8.8\\\\\n\t Life Is Beautiful                                 & Comedy    & Italy        & 1997 & 2.00e+07 &  57598247 & PG-13         & 8.6\\\\\n\t Pulp Fiction                                      & Crime     & USA          & 1994 & 8.00e+06 & 107928762 & R             & 8.9\\\\\n\t The Shawshank Redemption                          & Crime     & USA          & 1994 & 2.50e+07 &  28341469 & R             & 9.3\\\\\n\t Saving Private Ryan                               & Drama     & USA          & 1998 & 7.00e+07 & 216540909 & R             & 8.6\\\\\n\t Fight Club                                        & Drama     & USA          & 1999 & 6.30e+07 &  37030102 & R             & 8.8\\\\\n\t Nutcracker                                        & Family    & USA          & 1986 & 0.00e+00 &    781727 & G             & 7.2\\\\\n\t Little Nemo: Adventures in Slumberland            & Family    & Japan        & 1989 & 3.50e+07 &   1368210 & G             & 7.2\\\\\n\t The City of Lost Children                         & Fantasy   & France       & 1995 & 1.80e+07 &   1513028 & R             & 7.7\\\\\n\t Sleepy Hollow                                     & Fantasy   & USA          & 1999 & 1.00e+08 & 101071502 & R             & 7.4\\\\\n\t Los otros                                         & Horror    & Spain        & 2001 & 1.70e+07 &  96522687 & PG-13         & 7.6\\\\\n\t Saw                                               & Horror    & USA          & 2004 & 1.20e+06 &  56000369 & R             & 7.7\\\\\n\t True Stories                                      & Musical   & USA          & 1986 & 0.00e+00 &   2545142 & PG            & 7.0\\\\\n\t Devdas                                            & Musical   & India        & 2002 & 0.00e+00 &   3500000 & Not specified & 7.6\\\\\n\t Memento                                           & Mystery   & USA          & 2000 & 9.00e+06 &  25544867 & R             & 8.5\\\\\n\t Shutter Island                                    & Mystery   & USA          & 2010 & 8.00e+07 & 128012934 & R             & 8.1\\\\\n\t Firelight                                         & Romance   & UK           & 1997 & 0.00e+00 &    784419 & R             & 7.3\\\\\n\t He Loves Me... He Loves Me Not                    & Romance   & France       & 2002 & 0.00e+00 &   1009827 & PG-13         & 7.2\\\\\n\t The Butterfly Effect                              & Sci-Fi    & USA          & 2004 & 1.30e+07 &  57938693 & R             & 7.7\\\\\n\t Sector 9                                          & Sci-Fi    & South Africa & 2009 & 3.00e+07 & 115646235 & R             & 8.0\\\\\n\t Defense of the Realm                              & Thriller  & UK           & 1986 & 0.00e+00 &    750000 & PG            & 6.6\\\\\n\t The Hitcher                                       & Thriller  & USA          & 1986 & 6.00e+06 &   5844868 & R             & 7.3\\\\\n\t Platoon Leader                                    & War       & USA          & 1988 & 0.00e+00 &   1348771 & R             & 5.4\\\\\n\t The Beast of War                                  & War       & USA          & 1988 & 0.00e+00 &    161004 & R             & 7.4\\\\\n\t Posse                                             & Western   & UK           & 1993 & 1.00e+07 &  18290000 & R             & 5.5\\\\\n\t Slow West                                         & Western   & UK           & 2015 & 2.00e+06 &    229094 & R             & 6.9\\\\\n\\end{tabular}\n",
            "text/markdown": "\nA grouped_df: 35 × 8\n\n| name &lt;chr&gt; | genre &lt;chr&gt; | country &lt;chr&gt; | year &lt;dbl&gt; | budget &lt;dbl&gt; | gross &lt;dbl&gt; | rating &lt;chr&gt; | score &lt;dbl&gt; |\n|---|---|---|---|---|---|---|---|\n| The Dark Knight                                   | Action    | USA          | 2008 | 1.85e+08 | 534858444 | PG-13         | 9.0 |\n| Inception                                         | Action    | USA          | 2010 | 1.60e+08 | 292576195 | PG-13         | 8.8 |\n| The Lord of the Rings: The Fellowship of the Ring | Adventure | New Zealand  | 2001 | 9.30e+07 | 315544750 | PG-13         | 8.8 |\n| The Lord of the Rings: The Return of the King     | Adventure | USA          | 2003 | 9.40e+07 | 377845905 | PG-13         | 8.9 |\n| The Lion King                                     | Animation | USA          | 1994 | 4.50e+07 | 312900000 | G             | 8.5 |\n| Spirited Away                                     | Animation | Japan        | 2001 | 1.90e+07 |  10055859 | PG            | 8.6 |\n| Your name                                         | Animation | Japan        | 2016 | 0.00e+00 |   5017246 | PG            | 8.5 |\n| Schindler's List                                  | Biography | USA          | 1993 | 2.20e+07 |  96067179 | R             | 8.9 |\n| The Intouchables                                  | Biography | France       | 2011 | 0.00e+00 |  13182281 | R             | 8.6 |\n| Forrest Gump                                      | Comedy    | USA          | 1994 | 5.50e+07 | 330252182 | PG-13         | 8.8 |\n| Life Is Beautiful                                 | Comedy    | Italy        | 1997 | 2.00e+07 |  57598247 | PG-13         | 8.6 |\n| Pulp Fiction                                      | Crime     | USA          | 1994 | 8.00e+06 | 107928762 | R             | 8.9 |\n| The Shawshank Redemption                          | Crime     | USA          | 1994 | 2.50e+07 |  28341469 | R             | 9.3 |\n| Saving Private Ryan                               | Drama     | USA          | 1998 | 7.00e+07 | 216540909 | R             | 8.6 |\n| Fight Club                                        | Drama     | USA          | 1999 | 6.30e+07 |  37030102 | R             | 8.8 |\n| Nutcracker                                        | Family    | USA          | 1986 | 0.00e+00 |    781727 | G             | 7.2 |\n| Little Nemo: Adventures in Slumberland            | Family    | Japan        | 1989 | 3.50e+07 |   1368210 | G             | 7.2 |\n| The City of Lost Children                         | Fantasy   | France       | 1995 | 1.80e+07 |   1513028 | R             | 7.7 |\n| Sleepy Hollow                                     | Fantasy   | USA          | 1999 | 1.00e+08 | 101071502 | R             | 7.4 |\n| Los otros                                         | Horror    | Spain        | 2001 | 1.70e+07 |  96522687 | PG-13         | 7.6 |\n| Saw                                               | Horror    | USA          | 2004 | 1.20e+06 |  56000369 | R             | 7.7 |\n| True Stories                                      | Musical   | USA          | 1986 | 0.00e+00 |   2545142 | PG            | 7.0 |\n| Devdas                                            | Musical   | India        | 2002 | 0.00e+00 |   3500000 | Not specified | 7.6 |\n| Memento                                           | Mystery   | USA          | 2000 | 9.00e+06 |  25544867 | R             | 8.5 |\n| Shutter Island                                    | Mystery   | USA          | 2010 | 8.00e+07 | 128012934 | R             | 8.1 |\n| Firelight                                         | Romance   | UK           | 1997 | 0.00e+00 |    784419 | R             | 7.3 |\n| He Loves Me... He Loves Me Not                    | Romance   | France       | 2002 | 0.00e+00 |   1009827 | PG-13         | 7.2 |\n| The Butterfly Effect                              | Sci-Fi    | USA          | 2004 | 1.30e+07 |  57938693 | R             | 7.7 |\n| Sector 9                                          | Sci-Fi    | South Africa | 2009 | 3.00e+07 | 115646235 | R             | 8.0 |\n| Defense of the Realm                              | Thriller  | UK           | 1986 | 0.00e+00 |    750000 | PG            | 6.6 |\n| The Hitcher                                       | Thriller  | USA          | 1986 | 6.00e+06 |   5844868 | R             | 7.3 |\n| Platoon Leader                                    | War       | USA          | 1988 | 0.00e+00 |   1348771 | R             | 5.4 |\n| The Beast of War                                  | War       | USA          | 1988 | 0.00e+00 |    161004 | R             | 7.4 |\n| Posse                                             | Western   | UK           | 1993 | 1.00e+07 |  18290000 | R             | 5.5 |\n| Slow West                                         | Western   | UK           | 2015 | 2.00e+06 |    229094 | R             | 6.9 |\n\n",
            "text/html": [
              "<table>\n",
              "<caption>A grouped_df: 35 × 8</caption>\n",
              "<thead>\n",
              "\t<tr><th scope=col>name</th><th scope=col>genre</th><th scope=col>country</th><th scope=col>year</th><th scope=col>budget</th><th scope=col>gross</th><th scope=col>rating</th><th scope=col>score</th></tr>\n",
              "\t<tr><th scope=col>&lt;chr&gt;</th><th scope=col>&lt;chr&gt;</th><th scope=col>&lt;chr&gt;</th><th scope=col>&lt;dbl&gt;</th><th scope=col>&lt;dbl&gt;</th><th scope=col>&lt;dbl&gt;</th><th scope=col>&lt;chr&gt;</th><th scope=col>&lt;dbl&gt;</th></tr>\n",
              "</thead>\n",
              "<tbody>\n",
              "\t<tr><td>The Dark Knight                                  </td><td>Action   </td><td>USA         </td><td>2008</td><td>1.85e+08</td><td>534858444</td><td>PG-13        </td><td>9.0</td></tr>\n",
              "\t<tr><td>Inception                                        </td><td>Action   </td><td>USA         </td><td>2010</td><td>1.60e+08</td><td>292576195</td><td>PG-13        </td><td>8.8</td></tr>\n",
              "\t<tr><td>The Lord of the Rings: The Fellowship of the Ring</td><td>Adventure</td><td>New Zealand </td><td>2001</td><td>9.30e+07</td><td>315544750</td><td>PG-13        </td><td>8.8</td></tr>\n",
              "\t<tr><td>The Lord of the Rings: The Return of the King    </td><td>Adventure</td><td>USA         </td><td>2003</td><td>9.40e+07</td><td>377845905</td><td>PG-13        </td><td>8.9</td></tr>\n",
              "\t<tr><td>The Lion King                                    </td><td>Animation</td><td>USA         </td><td>1994</td><td>4.50e+07</td><td>312900000</td><td>G            </td><td>8.5</td></tr>\n",
              "\t<tr><td>Spirited Away                                    </td><td>Animation</td><td>Japan       </td><td>2001</td><td>1.90e+07</td><td> 10055859</td><td>PG           </td><td>8.6</td></tr>\n",
              "\t<tr><td>Your name                                        </td><td>Animation</td><td>Japan       </td><td>2016</td><td>0.00e+00</td><td>  5017246</td><td>PG           </td><td>8.5</td></tr>\n",
              "\t<tr><td>Schindler's List                                 </td><td>Biography</td><td>USA         </td><td>1993</td><td>2.20e+07</td><td> 96067179</td><td>R            </td><td>8.9</td></tr>\n",
              "\t<tr><td>The Intouchables                                 </td><td>Biography</td><td>France      </td><td>2011</td><td>0.00e+00</td><td> 13182281</td><td>R            </td><td>8.6</td></tr>\n",
              "\t<tr><td>Forrest Gump                                     </td><td>Comedy   </td><td>USA         </td><td>1994</td><td>5.50e+07</td><td>330252182</td><td>PG-13        </td><td>8.8</td></tr>\n",
              "\t<tr><td>Life Is Beautiful                                </td><td>Comedy   </td><td>Italy       </td><td>1997</td><td>2.00e+07</td><td> 57598247</td><td>PG-13        </td><td>8.6</td></tr>\n",
              "\t<tr><td>Pulp Fiction                                     </td><td>Crime    </td><td>USA         </td><td>1994</td><td>8.00e+06</td><td>107928762</td><td>R            </td><td>8.9</td></tr>\n",
              "\t<tr><td>The Shawshank Redemption                         </td><td>Crime    </td><td>USA         </td><td>1994</td><td>2.50e+07</td><td> 28341469</td><td>R            </td><td>9.3</td></tr>\n",
              "\t<tr><td>Saving Private Ryan                              </td><td>Drama    </td><td>USA         </td><td>1998</td><td>7.00e+07</td><td>216540909</td><td>R            </td><td>8.6</td></tr>\n",
              "\t<tr><td>Fight Club                                       </td><td>Drama    </td><td>USA         </td><td>1999</td><td>6.30e+07</td><td> 37030102</td><td>R            </td><td>8.8</td></tr>\n",
              "\t<tr><td>Nutcracker                                       </td><td>Family   </td><td>USA         </td><td>1986</td><td>0.00e+00</td><td>   781727</td><td>G            </td><td>7.2</td></tr>\n",
              "\t<tr><td>Little Nemo: Adventures in Slumberland           </td><td>Family   </td><td>Japan       </td><td>1989</td><td>3.50e+07</td><td>  1368210</td><td>G            </td><td>7.2</td></tr>\n",
              "\t<tr><td>The City of Lost Children                        </td><td>Fantasy  </td><td>France      </td><td>1995</td><td>1.80e+07</td><td>  1513028</td><td>R            </td><td>7.7</td></tr>\n",
              "\t<tr><td>Sleepy Hollow                                    </td><td>Fantasy  </td><td>USA         </td><td>1999</td><td>1.00e+08</td><td>101071502</td><td>R            </td><td>7.4</td></tr>\n",
              "\t<tr><td>Los otros                                        </td><td>Horror   </td><td>Spain       </td><td>2001</td><td>1.70e+07</td><td> 96522687</td><td>PG-13        </td><td>7.6</td></tr>\n",
              "\t<tr><td>Saw                                              </td><td>Horror   </td><td>USA         </td><td>2004</td><td>1.20e+06</td><td> 56000369</td><td>R            </td><td>7.7</td></tr>\n",
              "\t<tr><td>True Stories                                     </td><td>Musical  </td><td>USA         </td><td>1986</td><td>0.00e+00</td><td>  2545142</td><td>PG           </td><td>7.0</td></tr>\n",
              "\t<tr><td>Devdas                                           </td><td>Musical  </td><td>India       </td><td>2002</td><td>0.00e+00</td><td>  3500000</td><td>Not specified</td><td>7.6</td></tr>\n",
              "\t<tr><td>Memento                                          </td><td>Mystery  </td><td>USA         </td><td>2000</td><td>9.00e+06</td><td> 25544867</td><td>R            </td><td>8.5</td></tr>\n",
              "\t<tr><td>Shutter Island                                   </td><td>Mystery  </td><td>USA         </td><td>2010</td><td>8.00e+07</td><td>128012934</td><td>R            </td><td>8.1</td></tr>\n",
              "\t<tr><td>Firelight                                        </td><td>Romance  </td><td>UK          </td><td>1997</td><td>0.00e+00</td><td>   784419</td><td>R            </td><td>7.3</td></tr>\n",
              "\t<tr><td>He Loves Me... He Loves Me Not                   </td><td>Romance  </td><td>France      </td><td>2002</td><td>0.00e+00</td><td>  1009827</td><td>PG-13        </td><td>7.2</td></tr>\n",
              "\t<tr><td>The Butterfly Effect                             </td><td>Sci-Fi   </td><td>USA         </td><td>2004</td><td>1.30e+07</td><td> 57938693</td><td>R            </td><td>7.7</td></tr>\n",
              "\t<tr><td>Sector 9                                         </td><td>Sci-Fi   </td><td>South Africa</td><td>2009</td><td>3.00e+07</td><td>115646235</td><td>R            </td><td>8.0</td></tr>\n",
              "\t<tr><td>Defense of the Realm                             </td><td>Thriller </td><td>UK          </td><td>1986</td><td>0.00e+00</td><td>   750000</td><td>PG           </td><td>6.6</td></tr>\n",
              "\t<tr><td>The Hitcher                                      </td><td>Thriller </td><td>USA         </td><td>1986</td><td>6.00e+06</td><td>  5844868</td><td>R            </td><td>7.3</td></tr>\n",
              "\t<tr><td>Platoon Leader                                   </td><td>War      </td><td>USA         </td><td>1988</td><td>0.00e+00</td><td>  1348771</td><td>R            </td><td>5.4</td></tr>\n",
              "\t<tr><td>The Beast of War                                 </td><td>War      </td><td>USA         </td><td>1988</td><td>0.00e+00</td><td>   161004</td><td>R            </td><td>7.4</td></tr>\n",
              "\t<tr><td>Posse                                            </td><td>Western  </td><td>UK          </td><td>1993</td><td>1.00e+07</td><td> 18290000</td><td>R            </td><td>5.5</td></tr>\n",
              "\t<tr><td>Slow West                                        </td><td>Western  </td><td>UK          </td><td>2015</td><td>2.00e+06</td><td>   229094</td><td>R            </td><td>6.9</td></tr>\n",
              "</tbody>\n",
              "</table>\n"
            ]
          },
          "metadata": {
            "tags": []
          }
        }
      ]
    },
    {
      "cell_type": "markdown",
      "metadata": {
        "id": "LDn2Usd0_BxM",
        "colab_type": "text"
      },
      "source": [
        "## **Other useful functions in dplyr**"
      ]
    },
    {
      "cell_type": "code",
      "metadata": {
        "id": "GxvNdNIh_Efh",
        "colab_type": "code",
        "colab": {
          "base_uri": "https://localhost:8080/",
          "height": 170
        },
        "outputId": "b097643b-c5b4-4ed3-87bd-b116d09e85ad"
      },
      "source": [
        "# Renaming variables\n",
        "print(rename(movies2, gross_revenue = gross), n = 5)"
      ],
      "execution_count": 8,
      "outputs": [
        {
          "output_type": "stream",
          "text": [
            "\u001b[90m# A tibble: 6,820 x 8\u001b[39m\n",
            "  name                 genre    country  year  budget gross_revenue rating score\n",
            "  \u001b[3m\u001b[90m<chr>\u001b[39m\u001b[23m                \u001b[3m\u001b[90m<chr>\u001b[39m\u001b[23m    \u001b[3m\u001b[90m<chr>\u001b[39m\u001b[23m   \u001b[3m\u001b[90m<dbl>\u001b[39m\u001b[23m   \u001b[3m\u001b[90m<dbl>\u001b[39m\u001b[23m         \u001b[3m\u001b[90m<dbl>\u001b[39m\u001b[23m \u001b[3m\u001b[90m<chr>\u001b[39m\u001b[23m  \u001b[3m\u001b[90m<dbl>\u001b[39m\u001b[23m\n",
            "\u001b[90m1\u001b[39m Stand by Me          Adventu~ USA      \u001b[4m1\u001b[24m986  8.00\u001b[90me\u001b[39m6      52\u001b[4m2\u001b[24m\u001b[4m8\u001b[24m\u001b[4m7\u001b[24m414 R        8.1\n",
            "\u001b[90m2\u001b[39m Ferris Bueller's Da~ Comedy   USA      \u001b[4m1\u001b[24m986  6.00\u001b[90me\u001b[39m6      70\u001b[4m1\u001b[24m\u001b[4m3\u001b[24m\u001b[4m6\u001b[24m369 PG-13    7.8\n",
            "\u001b[90m3\u001b[39m Top Gun              Action   USA      \u001b[4m1\u001b[24m986  1.50\u001b[90me\u001b[39m7     179\u001b[4m8\u001b[24m\u001b[4m0\u001b[24m\u001b[4m0\u001b[24m601 PG       6.9\n",
            "\u001b[90m4\u001b[39m Aliens               Action   USA      \u001b[4m1\u001b[24m986  1.85\u001b[90me\u001b[39m7      85\u001b[4m1\u001b[24m\u001b[4m6\u001b[24m\u001b[4m0\u001b[24m248 R        8.4\n",
            "\u001b[90m5\u001b[39m Flight of the Navig~ Adventu~ USA      \u001b[4m1\u001b[24m986  9.00\u001b[90me\u001b[39m6      18\u001b[4m5\u001b[24m\u001b[4m6\u001b[24m\u001b[4m4\u001b[24m613 PG       6.9\n",
            "\u001b[90m# ... with 6,815 more rows\u001b[39m\n"
          ],
          "name": "stdout"
        }
      ]
    },
    {
      "cell_type": "code",
      "metadata": {
        "id": "B-eKowo-_H_n",
        "colab_type": "code",
        "colab": {
          "base_uri": "https://localhost:8080/",
          "height": 385
        },
        "outputId": "be4479fa-866b-4291-979f-5436d7264a0b"
      },
      "source": [
        "# Unique values\n",
        "distinct(movies2, rating)"
      ],
      "execution_count": 9,
      "outputs": [
        {
          "output_type": "display_data",
          "data": {
            "text/plain": [
              "   rating       \n",
              "1  R            \n",
              "2  PG-13        \n",
              "3  PG           \n",
              "4  UNRATED      \n",
              "5  Not specified\n",
              "6  G            \n",
              "7  NC-17        \n",
              "8  NOT RATED    \n",
              "9  TV-PG        \n",
              "10 TV-MA        \n",
              "11 B            \n",
              "12 B15          \n",
              "13 TV-14        "
            ],
            "text/latex": "A spec\\_tbl\\_df: 13 × 1\n\\begin{tabular}{l}\n rating\\\\\n <chr>\\\\\n\\hline\n\t R            \\\\\n\t PG-13        \\\\\n\t PG           \\\\\n\t UNRATED      \\\\\n\t Not specified\\\\\n\t G            \\\\\n\t NC-17        \\\\\n\t NOT RATED    \\\\\n\t TV-PG        \\\\\n\t TV-MA        \\\\\n\t B            \\\\\n\t B15          \\\\\n\t TV-14        \\\\\n\\end{tabular}\n",
            "text/markdown": "\nA spec_tbl_df: 13 × 1\n\n| rating &lt;chr&gt; |\n|---|\n| R             |\n| PG-13         |\n| PG            |\n| UNRATED       |\n| Not specified |\n| G             |\n| NC-17         |\n| NOT RATED     |\n| TV-PG         |\n| TV-MA         |\n| B             |\n| B15           |\n| TV-14         |\n\n",
            "text/html": [
              "<table>\n",
              "<caption>A spec_tbl_df: 13 × 1</caption>\n",
              "<thead>\n",
              "\t<tr><th scope=col>rating</th></tr>\n",
              "\t<tr><th scope=col>&lt;chr&gt;</th></tr>\n",
              "</thead>\n",
              "<tbody>\n",
              "\t<tr><td>R            </td></tr>\n",
              "\t<tr><td>PG-13        </td></tr>\n",
              "\t<tr><td>PG           </td></tr>\n",
              "\t<tr><td>UNRATED      </td></tr>\n",
              "\t<tr><td>Not specified</td></tr>\n",
              "\t<tr><td>G            </td></tr>\n",
              "\t<tr><td>NC-17        </td></tr>\n",
              "\t<tr><td>NOT RATED    </td></tr>\n",
              "\t<tr><td>TV-PG        </td></tr>\n",
              "\t<tr><td>TV-MA        </td></tr>\n",
              "\t<tr><td>B            </td></tr>\n",
              "\t<tr><td>B15          </td></tr>\n",
              "\t<tr><td>TV-14        </td></tr>\n",
              "</tbody>\n",
              "</table>\n"
            ]
          },
          "metadata": {
            "tags": []
          }
        }
      ]
    },
    {
      "cell_type": "code",
      "metadata": {
        "id": "EZ5gqKdH_P2f",
        "colab_type": "code",
        "colab": {
          "base_uri": "https://localhost:8080/",
          "height": 1000
        },
        "outputId": "38817e72-d606-419b-8917-3b84674cc20d"
      },
      "source": [
        "# Using multiple variables, returns distinct var\n",
        "distinct(movies2, rating, genre)"
      ],
      "execution_count": 10,
      "outputs": [
        {
          "output_type": "display_data",
          "data": {
            "text/plain": [
              "       rating        genre    \n",
              "1      R             Adventure\n",
              "2      PG-13         Comedy   \n",
              "3      PG            Action   \n",
              "4      R             Action   \n",
              "5      PG            Adventure\n",
              "6      R             Drama    \n",
              "7      PG-13         Adventure\n",
              "8      PG-13         Action   \n",
              "9      R             Crime    \n",
              "10     UNRATED       Comedy   \n",
              "11     PG            Comedy   \n",
              "12     Not specified Drama    \n",
              "13     PG            Drama    \n",
              "14     R             Thriller \n",
              "15     R             Horror   \n",
              "16     G             Animation\n",
              "17     R             Biography\n",
              "18     PG-13         Horror   \n",
              "19     R             Comedy   \n",
              "20     UNRATED       Biography\n",
              "21     PG            Animation\n",
              "22     PG            Horror   \n",
              "23     G             Adventure\n",
              "24     PG-13         Sci-Fi   \n",
              "25     Not specified Animation\n",
              "26     NC-17         Drama    \n",
              "27     PG-13         Biography\n",
              "28     PG            Crime    \n",
              "29     Not specified Biography\n",
              "30     UNRATED       Crime    \n",
              "<U+22EE> <U+22EE>      <U+22EE> \n",
              "54     PG            Romance  \n",
              "55     NC-17         Crime    \n",
              "56     NC-17         Comedy   \n",
              "57     NOT RATED     Action   \n",
              "58     NC-17         Biography\n",
              "59     NOT RATED     Biography\n",
              "60     PG            Family   \n",
              "61     PG-13         Thriller \n",
              "62     TV-PG         Drama    \n",
              "63     PG-13         Romance  \n",
              "64     PG-13         Animation\n",
              "65     R             Romance  \n",
              "66     PG-13         Mystery  \n",
              "67     Not specified Action   \n",
              "68     R             Western  \n",
              "69     NOT RATED     Animation\n",
              "70     UNRATED       Horror   \n",
              "71     TV-MA         Drama    \n",
              "72     G             Action   \n",
              "73     G             Biography\n",
              "74     Not specified Adventure\n",
              "75     Not specified Musical  \n",
              "76     B             Action   \n",
              "77     NOT RATED     Horror   \n",
              "78     B15           Drama    \n",
              "79     NOT RATED     Fantasy  \n",
              "80     NOT RATED     Adventure\n",
              "81     UNRATED       Action   \n",
              "82     NOT RATED     Mystery  \n",
              "83     TV-14         Comedy   "
            ],
            "text/latex": "A spec\\_tbl\\_df: 83 × 2\n\\begin{tabular}{ll}\n rating & genre\\\\\n <chr> & <chr>\\\\\n\\hline\n\t R             & Adventure\\\\\n\t PG-13         & Comedy   \\\\\n\t PG            & Action   \\\\\n\t R             & Action   \\\\\n\t PG            & Adventure\\\\\n\t R             & Drama    \\\\\n\t PG-13         & Adventure\\\\\n\t PG-13         & Action   \\\\\n\t R             & Crime    \\\\\n\t UNRATED       & Comedy   \\\\\n\t PG            & Comedy   \\\\\n\t Not specified & Drama    \\\\\n\t PG            & Drama    \\\\\n\t R             & Thriller \\\\\n\t R             & Horror   \\\\\n\t G             & Animation\\\\\n\t R             & Biography\\\\\n\t PG-13         & Horror   \\\\\n\t R             & Comedy   \\\\\n\t UNRATED       & Biography\\\\\n\t PG            & Animation\\\\\n\t PG            & Horror   \\\\\n\t G             & Adventure\\\\\n\t PG-13         & Sci-Fi   \\\\\n\t Not specified & Animation\\\\\n\t NC-17         & Drama    \\\\\n\t PG-13         & Biography\\\\\n\t PG            & Crime    \\\\\n\t Not specified & Biography\\\\\n\t UNRATED       & Crime    \\\\\n\t ⋮ & ⋮\\\\\n\t PG            & Romance  \\\\\n\t NC-17         & Crime    \\\\\n\t NC-17         & Comedy   \\\\\n\t NOT RATED     & Action   \\\\\n\t NC-17         & Biography\\\\\n\t NOT RATED     & Biography\\\\\n\t PG            & Family   \\\\\n\t PG-13         & Thriller \\\\\n\t TV-PG         & Drama    \\\\\n\t PG-13         & Romance  \\\\\n\t PG-13         & Animation\\\\\n\t R             & Romance  \\\\\n\t PG-13         & Mystery  \\\\\n\t Not specified & Action   \\\\\n\t R             & Western  \\\\\n\t NOT RATED     & Animation\\\\\n\t UNRATED       & Horror   \\\\\n\t TV-MA         & Drama    \\\\\n\t G             & Action   \\\\\n\t G             & Biography\\\\\n\t Not specified & Adventure\\\\\n\t Not specified & Musical  \\\\\n\t B             & Action   \\\\\n\t NOT RATED     & Horror   \\\\\n\t B15           & Drama    \\\\\n\t NOT RATED     & Fantasy  \\\\\n\t NOT RATED     & Adventure\\\\\n\t UNRATED       & Action   \\\\\n\t NOT RATED     & Mystery  \\\\\n\t TV-14         & Comedy   \\\\\n\\end{tabular}\n",
            "text/markdown": "\nA spec_tbl_df: 83 × 2\n\n| rating &lt;chr&gt; | genre &lt;chr&gt; |\n|---|---|\n| R             | Adventure |\n| PG-13         | Comedy    |\n| PG            | Action    |\n| R             | Action    |\n| PG            | Adventure |\n| R             | Drama     |\n| PG-13         | Adventure |\n| PG-13         | Action    |\n| R             | Crime     |\n| UNRATED       | Comedy    |\n| PG            | Comedy    |\n| Not specified | Drama     |\n| PG            | Drama     |\n| R             | Thriller  |\n| R             | Horror    |\n| G             | Animation |\n| R             | Biography |\n| PG-13         | Horror    |\n| R             | Comedy    |\n| UNRATED       | Biography |\n| PG            | Animation |\n| PG            | Horror    |\n| G             | Adventure |\n| PG-13         | Sci-Fi    |\n| Not specified | Animation |\n| NC-17         | Drama     |\n| PG-13         | Biography |\n| PG            | Crime     |\n| Not specified | Biography |\n| UNRATED       | Crime     |\n| ⋮ | ⋮ |\n| PG            | Romance   |\n| NC-17         | Crime     |\n| NC-17         | Comedy    |\n| NOT RATED     | Action    |\n| NC-17         | Biography |\n| NOT RATED     | Biography |\n| PG            | Family    |\n| PG-13         | Thriller  |\n| TV-PG         | Drama     |\n| PG-13         | Romance   |\n| PG-13         | Animation |\n| R             | Romance   |\n| PG-13         | Mystery   |\n| Not specified | Action    |\n| R             | Western   |\n| NOT RATED     | Animation |\n| UNRATED       | Horror    |\n| TV-MA         | Drama     |\n| G             | Action    |\n| G             | Biography |\n| Not specified | Adventure |\n| Not specified | Musical   |\n| B             | Action    |\n| NOT RATED     | Horror    |\n| B15           | Drama     |\n| NOT RATED     | Fantasy   |\n| NOT RATED     | Adventure |\n| UNRATED       | Action    |\n| NOT RATED     | Mystery   |\n| TV-14         | Comedy    |\n\n",
            "text/html": [
              "<table>\n",
              "<caption>A spec_tbl_df: 83 × 2</caption>\n",
              "<thead>\n",
              "\t<tr><th scope=col>rating</th><th scope=col>genre</th></tr>\n",
              "\t<tr><th scope=col>&lt;chr&gt;</th><th scope=col>&lt;chr&gt;</th></tr>\n",
              "</thead>\n",
              "<tbody>\n",
              "\t<tr><td>R            </td><td>Adventure</td></tr>\n",
              "\t<tr><td>PG-13        </td><td>Comedy   </td></tr>\n",
              "\t<tr><td>PG           </td><td>Action   </td></tr>\n",
              "\t<tr><td>R            </td><td>Action   </td></tr>\n",
              "\t<tr><td>PG           </td><td>Adventure</td></tr>\n",
              "\t<tr><td>R            </td><td>Drama    </td></tr>\n",
              "\t<tr><td>PG-13        </td><td>Adventure</td></tr>\n",
              "\t<tr><td>PG-13        </td><td>Action   </td></tr>\n",
              "\t<tr><td>R            </td><td>Crime    </td></tr>\n",
              "\t<tr><td>UNRATED      </td><td>Comedy   </td></tr>\n",
              "\t<tr><td>PG           </td><td>Comedy   </td></tr>\n",
              "\t<tr><td>Not specified</td><td>Drama    </td></tr>\n",
              "\t<tr><td>PG           </td><td>Drama    </td></tr>\n",
              "\t<tr><td>R            </td><td>Thriller </td></tr>\n",
              "\t<tr><td>R            </td><td>Horror   </td></tr>\n",
              "\t<tr><td>G            </td><td>Animation</td></tr>\n",
              "\t<tr><td>R            </td><td>Biography</td></tr>\n",
              "\t<tr><td>PG-13        </td><td>Horror   </td></tr>\n",
              "\t<tr><td>R            </td><td>Comedy   </td></tr>\n",
              "\t<tr><td>UNRATED      </td><td>Biography</td></tr>\n",
              "\t<tr><td>PG           </td><td>Animation</td></tr>\n",
              "\t<tr><td>PG           </td><td>Horror   </td></tr>\n",
              "\t<tr><td>G            </td><td>Adventure</td></tr>\n",
              "\t<tr><td>PG-13        </td><td>Sci-Fi   </td></tr>\n",
              "\t<tr><td>Not specified</td><td>Animation</td></tr>\n",
              "\t<tr><td>NC-17        </td><td>Drama    </td></tr>\n",
              "\t<tr><td>PG-13        </td><td>Biography</td></tr>\n",
              "\t<tr><td>PG           </td><td>Crime    </td></tr>\n",
              "\t<tr><td>Not specified</td><td>Biography</td></tr>\n",
              "\t<tr><td>UNRATED      </td><td>Crime    </td></tr>\n",
              "\t<tr><td>⋮</td><td>⋮</td></tr>\n",
              "\t<tr><td>PG           </td><td>Romance  </td></tr>\n",
              "\t<tr><td>NC-17        </td><td>Crime    </td></tr>\n",
              "\t<tr><td>NC-17        </td><td>Comedy   </td></tr>\n",
              "\t<tr><td>NOT RATED    </td><td>Action   </td></tr>\n",
              "\t<tr><td>NC-17        </td><td>Biography</td></tr>\n",
              "\t<tr><td>NOT RATED    </td><td>Biography</td></tr>\n",
              "\t<tr><td>PG           </td><td>Family   </td></tr>\n",
              "\t<tr><td>PG-13        </td><td>Thriller </td></tr>\n",
              "\t<tr><td>TV-PG        </td><td>Drama    </td></tr>\n",
              "\t<tr><td>PG-13        </td><td>Romance  </td></tr>\n",
              "\t<tr><td>PG-13        </td><td>Animation</td></tr>\n",
              "\t<tr><td>R            </td><td>Romance  </td></tr>\n",
              "\t<tr><td>PG-13        </td><td>Mystery  </td></tr>\n",
              "\t<tr><td>Not specified</td><td>Action   </td></tr>\n",
              "\t<tr><td>R            </td><td>Western  </td></tr>\n",
              "\t<tr><td>NOT RATED    </td><td>Animation</td></tr>\n",
              "\t<tr><td>UNRATED      </td><td>Horror   </td></tr>\n",
              "\t<tr><td>TV-MA        </td><td>Drama    </td></tr>\n",
              "\t<tr><td>G            </td><td>Action   </td></tr>\n",
              "\t<tr><td>G            </td><td>Biography</td></tr>\n",
              "\t<tr><td>Not specified</td><td>Adventure</td></tr>\n",
              "\t<tr><td>Not specified</td><td>Musical  </td></tr>\n",
              "\t<tr><td>B            </td><td>Action   </td></tr>\n",
              "\t<tr><td>NOT RATED    </td><td>Horror   </td></tr>\n",
              "\t<tr><td>B15          </td><td>Drama    </td></tr>\n",
              "\t<tr><td>NOT RATED    </td><td>Fantasy  </td></tr>\n",
              "\t<tr><td>NOT RATED    </td><td>Adventure</td></tr>\n",
              "\t<tr><td>UNRATED      </td><td>Action   </td></tr>\n",
              "\t<tr><td>NOT RATED    </td><td>Mystery  </td></tr>\n",
              "\t<tr><td>TV-14        </td><td>Comedy   </td></tr>\n",
              "</tbody>\n",
              "</table>\n"
            ]
          },
          "metadata": {
            "tags": []
          }
        }
      ]
    },
    {
      "cell_type": "markdown",
      "metadata": {
        "id": "-ofLCA9H_Tnq",
        "colab_type": "text"
      },
      "source": [
        "## **Sampling observations**"
      ]
    },
    {
      "cell_type": "code",
      "metadata": {
        "id": "lDDW1Nwq_V_j",
        "colab_type": "code",
        "colab": {
          "base_uri": "https://localhost:8080/",
          "height": 305
        },
        "outputId": "6a7c7faa-d789-4aa9-a0ba-92af16294fe9"
      },
      "source": [
        "sample_n(movies, 5)"
      ],
      "execution_count": 11,
      "outputs": [
        {
          "output_type": "display_data",
          "data": {
            "text/plain": [
              "  budget  company                       country director         genre \n",
              "1 0.0e+00 Beofilm                       Sweden  Ruben <d6>stlund Comedy\n",
              "2 6.5e+06 Columbia Pictures Corporation USA     John Singleton   Crime \n",
              "3 3.0e+07 Miramax                       USA     Bruno Barreto    Comedy\n",
              "4 0.0e+00 Cinehaus                      USA     Robert M. Young  Drama \n",
              "5 3.0e+06 Eden Rock Media               USA     Rob McKittrick   Comedy\n",
              "  gross    name              rating released   runtime score star              \n",
              "1  1358561 Fuerza mayor      R      2014-12-30 120     7.3   Johannes Kuhnke   \n",
              "2 57504069 Boyz n the Hood   R      1991-07-12 112     7.8   Cuba Gooding Jr.  \n",
              "3 15589458 View from the Top PG-13  2003-03-21  87     5.2   Gwyneth Paltrow   \n",
              "4   315752 Caught            R      1996-01-24 110     6.8   Edward James Olmos\n",
              "5 16124543 Waiting...        R      2005-10-07  94     6.8   Ryan Reynolds     \n",
              "  votes  writer           year\n",
              "1  34232 Ruben <d6>stlund 2014\n",
              "2 102317 John Singleton   1991\n",
              "3  22332 Eric Wald        2003\n",
              "4   1003 Edward Pomerantz 1996\n",
              "5  79505 Rob McKittrick   2005"
            ],
            "text/latex": "A spec\\_tbl\\_df: 5 × 15\n\\begin{tabular}{lllllllllllllll}\n budget & company & country & director & genre & gross & name & rating & released & runtime & score & star & votes & writer & year\\\\\n <dbl> & <chr> & <chr> & <chr> & <chr> & <dbl> & <chr> & <chr> & <chr> & <dbl> & <dbl> & <chr> & <dbl> & <chr> & <dbl>\\\\\n\\hline\n\t 0.0e+00 & Beofilm                       & Sweden & Ruben <d6>stlund & Comedy &  1358561 & Fuerza mayor      & R     & 2014-12-30 & 120 & 7.3 & Johannes Kuhnke    &  34232 & Ruben <d6>stlund & 2014\\\\\n\t 6.5e+06 & Columbia Pictures Corporation & USA    & John Singleton   & Crime  & 57504069 & Boyz n the Hood   & R     & 1991-07-12 & 112 & 7.8 & Cuba Gooding Jr.   & 102317 & John Singleton   & 1991\\\\\n\t 3.0e+07 & Miramax                       & USA    & Bruno Barreto    & Comedy & 15589458 & View from the Top & PG-13 & 2003-03-21 &  87 & 5.2 & Gwyneth Paltrow    &  22332 & Eric Wald        & 2003\\\\\n\t 0.0e+00 & Cinehaus                      & USA    & Robert M. Young  & Drama  &   315752 & Caught            & R     & 1996-01-24 & 110 & 6.8 & Edward James Olmos &   1003 & Edward Pomerantz & 1996\\\\\n\t 3.0e+06 & Eden Rock Media               & USA    & Rob McKittrick   & Comedy & 16124543 & Waiting...        & R     & 2005-10-07 &  94 & 6.8 & Ryan Reynolds      &  79505 & Rob McKittrick   & 2005\\\\\n\\end{tabular}\n",
            "text/markdown": "\nA spec_tbl_df: 5 × 15\n\n| budget &lt;dbl&gt; | company &lt;chr&gt; | country &lt;chr&gt; | director &lt;chr&gt; | genre &lt;chr&gt; | gross &lt;dbl&gt; | name &lt;chr&gt; | rating &lt;chr&gt; | released &lt;chr&gt; | runtime &lt;dbl&gt; | score &lt;dbl&gt; | star &lt;chr&gt; | votes &lt;dbl&gt; | writer &lt;chr&gt; | year &lt;dbl&gt; |\n|---|---|---|---|---|---|---|---|---|---|---|---|---|---|---|\n| 0.0e+00 | Beofilm                       | Sweden | Ruben &lt;d6&gt;stlund | Comedy |  1358561 | Fuerza mayor      | R     | 2014-12-30 | 120 | 7.3 | Johannes Kuhnke    |  34232 | Ruben &lt;d6&gt;stlund | 2014 |\n| 6.5e+06 | Columbia Pictures Corporation | USA    | John Singleton   | Crime  | 57504069 | Boyz n the Hood   | R     | 1991-07-12 | 112 | 7.8 | Cuba Gooding Jr.   | 102317 | John Singleton   | 1991 |\n| 3.0e+07 | Miramax                       | USA    | Bruno Barreto    | Comedy | 15589458 | View from the Top | PG-13 | 2003-03-21 |  87 | 5.2 | Gwyneth Paltrow    |  22332 | Eric Wald        | 2003 |\n| 0.0e+00 | Cinehaus                      | USA    | Robert M. Young  | Drama  |   315752 | Caught            | R     | 1996-01-24 | 110 | 6.8 | Edward James Olmos |   1003 | Edward Pomerantz | 1996 |\n| 3.0e+06 | Eden Rock Media               | USA    | Rob McKittrick   | Comedy | 16124543 | Waiting...        | R     | 2005-10-07 |  94 | 6.8 | Ryan Reynolds      |  79505 | Rob McKittrick   | 2005 |\n\n",
            "text/html": [
              "<table>\n",
              "<caption>A spec_tbl_df: 5 × 15</caption>\n",
              "<thead>\n",
              "\t<tr><th scope=col>budget</th><th scope=col>company</th><th scope=col>country</th><th scope=col>director</th><th scope=col>genre</th><th scope=col>gross</th><th scope=col>name</th><th scope=col>rating</th><th scope=col>released</th><th scope=col>runtime</th><th scope=col>score</th><th scope=col>star</th><th scope=col>votes</th><th scope=col>writer</th><th scope=col>year</th></tr>\n",
              "\t<tr><th scope=col>&lt;dbl&gt;</th><th scope=col>&lt;chr&gt;</th><th scope=col>&lt;chr&gt;</th><th scope=col>&lt;chr&gt;</th><th scope=col>&lt;chr&gt;</th><th scope=col>&lt;dbl&gt;</th><th scope=col>&lt;chr&gt;</th><th scope=col>&lt;chr&gt;</th><th scope=col>&lt;chr&gt;</th><th scope=col>&lt;dbl&gt;</th><th scope=col>&lt;dbl&gt;</th><th scope=col>&lt;chr&gt;</th><th scope=col>&lt;dbl&gt;</th><th scope=col>&lt;chr&gt;</th><th scope=col>&lt;dbl&gt;</th></tr>\n",
              "</thead>\n",
              "<tbody>\n",
              "\t<tr><td>0.0e+00</td><td><span style=white-space:pre-wrap>Beofilm                      </span></td><td>Sweden</td><td>Ruben &lt;d6&gt;stlund</td><td>Comedy</td><td> 1358561</td><td><span style=white-space:pre-wrap>Fuerza mayor     </span></td><td><span style=white-space:pre-wrap>R    </span></td><td>2014-12-30</td><td>120</td><td>7.3</td><td><span style=white-space:pre-wrap>Johannes Kuhnke   </span></td><td> 34232</td><td>Ruben &lt;d6&gt;stlund</td><td>2014</td></tr>\n",
              "\t<tr><td>6.5e+06</td><td>Columbia Pictures Corporation</td><td>USA   </td><td>John Singleton  </td><td>Crime </td><td>57504069</td><td>Boyz n the Hood  </td><td>R    </td><td>1991-07-12</td><td>112</td><td>7.8</td><td>Cuba Gooding Jr.  </td><td>102317</td><td>John Singleton  </td><td>1991</td></tr>\n",
              "\t<tr><td>3.0e+07</td><td>Miramax                      </td><td>USA   </td><td>Bruno Barreto   </td><td>Comedy</td><td>15589458</td><td>View from the Top</td><td>PG-13</td><td>2003-03-21</td><td> 87</td><td>5.2</td><td>Gwyneth Paltrow   </td><td> 22332</td><td>Eric Wald       </td><td>2003</td></tr>\n",
              "\t<tr><td>0.0e+00</td><td>Cinehaus                     </td><td>USA   </td><td>Robert M. Young </td><td>Drama </td><td>  315752</td><td>Caught           </td><td>R    </td><td>1996-01-24</td><td>110</td><td>6.8</td><td>Edward James Olmos</td><td>  1003</td><td>Edward Pomerantz</td><td>1996</td></tr>\n",
              "\t<tr><td>3.0e+06</td><td>Eden Rock Media              </td><td>USA   </td><td>Rob McKittrick  </td><td>Comedy</td><td>16124543</td><td>Waiting...       </td><td>R    </td><td>2005-10-07</td><td> 94</td><td>6.8</td><td>Ryan Reynolds     </td><td> 79505</td><td>Rob McKittrick  </td><td>2005</td></tr>\n",
              "</tbody>\n",
              "</table>\n"
            ]
          },
          "metadata": {
            "tags": []
          }
        }
      ]
    },
    {
      "cell_type": "code",
      "metadata": {
        "id": "IWOyZP3c_Xvc",
        "colab_type": "code",
        "colab": {
          "base_uri": "https://localhost:8080/",
          "height": 1000
        },
        "outputId": "407dd3ed-0e26-42ee-e9d7-6187e303ed7f"
      },
      "source": [
        "sample_frac(movies, 0.005, replace=TRUE) # fraction of rows, with replacement"
      ],
      "execution_count": 12,
      "outputs": [
        {
          "output_type": "display_data",
          "data": {
            "text/plain": [
              "   budget   company                      country director             genre    \n",
              "1  0.00e+00 Svenska Filminstitutet (SFI) Sweden  Andrei Tarkovsky     Drama    \n",
              "2  2.00e+06 CNCAIMC                      Mexico  Guillermo del Toro   Horror   \n",
              "3  6.00e+07 Warner Bros.                 USA     Jeremiah S. Chechik  Action   \n",
              "4  1.00e+06 Cinema Group                 USA     Rowdy Herrington     Crime    \n",
              "5  1.80e+08 Warner Bros. Pictures        UK      David Yates          Action   \n",
              "6  1.00e+06 Artisan Entertainment        USA     Henry Bromell        Comedy   \n",
              "7  1.50e+06 Bridgit Folman Film Gang     Israel  Ari Folman           Animation\n",
              "8  0.00e+00 Black River Productions      UK      Mira Nair            Drama    \n",
              "9  0.00e+00 Alliance Entertainment       Canada  Atom Egoyan          Drama    \n",
              "10 1.90e+07 Universal Pictures           USA     Harold Becker        Crime    \n",
              "11 0.00e+00 Senator Film Produktion      Germany Max F<e4>rberb<f6>ck Biography\n",
              "12 4.80e+06 Hostel LLC                   USA     Eli Roth             Horror   \n",
              "13 2.50e+07 Paramount Pictures           USA     Leonard Nimoy        Adventure\n",
              "14 6.00e+06 Raffaella Productions        USA     Avi Nesher           Action   \n",
              "15 3.80e+07 New Line Cinema              USA     Christian Ditter     Comedy   \n",
              "16 3.50e+07 Miramax                      USA     Lasse Hallstr<f6>m   Drama    \n",
              "17 1.00e+06 Ang Lee Productions          Taiwan  Ang Lee              Comedy   \n",
              "18 0.00e+00 Triumph Films                Canada  Lance Young          Drama    \n",
              "19 1.60e+07 Castle Rock Entertainment    USA     Rob Reiner           Comedy   \n",
              "20 2.50e+06 Dog Run Pictures             USA     Jake Schreier        Comedy   \n",
              "21 4.00e+07 New Line Cinema              USA     Mark A.Z. Dipp<e9>   Action   \n",
              "22 4.80e+07 Metro-Goldwyn-Mayer (MGM)    USA     Jon Avnet            Crime    \n",
              "23 7.00e+07 DreamWorks                   France  Steven Spielberg     Crime    \n",
              "24 3.42e+07 Jack Giarraputo Productions  USA     Dennis Dugan         Comedy   \n",
              "25 2.00e+08 Paramount Pictures           USA     Jon Favreau          Action   \n",
              "26 1.20e+07 Dharma Productions           India   Karan Johar          Adventure\n",
              "27 3.00e+06 Gary Sanchez Productions     USA     Leslye Headland      Comedy   \n",
              "28 2.00e+06 American Playhouse           USA     Jerrold Freedman     Drama    \n",
              "29 1.90e+07 Annapurna Pictures           USA     Greg Tiernan         Animation\n",
              "30 2.00e+07 Gary Sanchez Productions     USA     Ben Falcone          Comedy   \n",
              "31 3.00e+07 Universal Pictures           USA     Barry Sonnenfeld     Comedy   \n",
              "32 1.30e+07 Orion Pictures               USA     Paul Verhoeven       Action   \n",
              "33 0.00e+00 Concorde Pictures            Canada  Jon Hess             Action   \n",
              "34 0.00e+00 Quat'sous Films              France  Abdellatif Kechiche  Drama    \n",
              "   gross     name                          rating    released   runtime score\n",
              "1     300653 Sacrifice                     PG        1986-11    149     8.1  \n",
              "2     621392 Cronos                        R         1994-05     94     6.7  \n",
              "3   23322832 The Avengers                  PG-13     1998-08-14  89     3.7  \n",
              "4     492519 Jack's Back                   R         1988-05-06  97     6.0  \n",
              "5  126643061 The Legend of Tarzan          PG-13     2016-07-01 110     6.3  \n",
              "6     779137 Panic                         R         2001-10-19  88     6.8  \n",
              "7    2283276 Waltz with Bashir             R         2009-07-15  90     8.0  \n",
              "8    7310000 Mississippi Masala            R         1992-02-05 118     6.6  \n",
              "9    4183379 Ex<f3>tica                    R         1995-03-24 103     7.2  \n",
              "10  58571513 Sea of Love                   R         1989-09-15 113     6.8  \n",
              "11    927107 Aimee & Jaguar                NOT RATED 1999-02-11 125     7.3  \n",
              "12  47326473 Hostel                        R         2006-01-06  94     5.9  \n",
              "13 109713132 Star Trek IV: The Voyage Home PG        1986-11-26 119     7.3  \n",
              "14     64562 Timebomb                      R         1991-05-25  96     5.5  \n",
              "15  46813366 How to Be Single              R         2016-02-12 110     6.1  \n",
              "16  11434216 The Shipping News             R         2002-01-18 111     6.8  \n",
              "17   6933459 The Wedding Banquet           R         1993-08-04 106     7.7  \n",
              "18    207751 Bliss                         R         1997-04-14 103     6.1  \n",
              "19  92823600 When Harry Met Sally...       R         1989-07-21  96     7.6  \n",
              "20   3325638 Robot & Frank                 PG-13     2012-09-19  89     7.1  \n",
              "21  54967359 Spawn                         R         1997-08-01  96     5.2  \n",
              "22  22415440 Red Corner                    R         1997-10-31 122     6.3  \n",
              "23  47403685 Munich                        R         2006-01-06 164     7.6  \n",
              "24 163479795 Big Daddy                     PG-13     1999-06-25  93     6.4  \n",
              "25 312433331 Iron Man 2                    PG-13     2010-05-07 124     7.0  \n",
              "26   4018695 My Name Is Khan               PG-13     2010-02-12 165     8.0  \n",
              "27    447954 Bachelorette                  R         2013-07-12  87     5.3  \n",
              "28   1301121 Native Son                    PG        1986-12-12 111     5.9  \n",
              "29  97661826 Sausage Party                 R         2016-08-12  89     6.2  \n",
              "30  84525432 Tammy                         R         2014-07-02  97     4.9  \n",
              "31  10997166 For Love or Money             PG        1993-10-01  96     6.1  \n",
              "32  53424681 RoboCop                       R         1987-07-17 102     7.5  \n",
              "33    940173 Al borde del terror           R         1988-12-02  91     5.3  \n",
              "34   2199675 Blue Is the Warmest Color     NC-17     2014-02-14 180     7.8  \n",
              "   star                   votes  writer               year\n",
              "1  Erland Josephson        16571 Andrei Tarkovsky     1986\n",
              "2  Federico Luppi          21699 Guillermo del Toro   1993\n",
              "3  Ralph Fiennes           36811 Sydney Newman        1998\n",
              "4  James Spader             1968 Rowdy Herrington     1988\n",
              "5  Alexander Skarsg<e5>rd 128712 Adam Cozad           2016\n",
              "6  William H. Macy          7413 Henry Bromell        2000\n",
              "7  Ari Folman              48937 Ari Folman           2008\n",
              "8  Denzel Washington        4116 Sooni Taraporevala   1991\n",
              "9  Bruce Greenwood         15366 Atom Egoyan          1994\n",
              "10 Al Pacino               32138 Richard Price        1989\n",
              "11 Maria Schrader           5439 Max F<e4>rberb<f6>ck 1999\n",
              "12 Jay Hernandez          147832 Eli Roth             2005\n",
              "13 William Shatner         66366 Gene Roddenberry     1986\n",
              "14 Michael Biehn            1236 Avi Nesher           1991\n",
              "15 Dakota Johnson          63520 Abby Kohn            2016\n",
              "16 Kevin Spacey            29749 Annie Proulx         2001\n",
              "17 Winston Chao            11573 Ang Lee              1993\n",
              "18 Craig Sheffer            1775 Lance Young          1997\n",
              "19 Billy Crystal          161347 Nora Ephron          1989\n",
              "20 Peter Sarsgaard         55671 Christopher Ford     2012\n",
              "21 John Leguizamo          56225 Todd McFarlane       1997\n",
              "22 Richard Gere            13892 Robert King          1997\n",
              "23 Eric Bana              186355 Tony Kushner         2005\n",
              "24 Adam Sandler           171997 Steve Franks         1999\n",
              "25 Robert Downey Jr.      571416 Justin Theroux       2010\n",
              "26 Shah Rukh Khan          81130 Shibani Bathija      2010\n",
              "27 Kirsten Dunst           39857 Leslye Headland      2012\n",
              "28 Victor Love               448 Richard Wesley       1986\n",
              "29 Seth Rogen             133200 Kyle Hunter          2016\n",
              "30 Melissa McCarthy        40108 Melissa McCarthy     2014\n",
              "31 Michael J. Fox          10037 Mark Rosenthal       1993\n",
              "32 Peter Weller           196245 Edward Neumeier      1987\n",
              "33 Corey Haim               3376 Dean R. Koontz       1988\n",
              "34 L<e9>a Seydoux         107119 Abdellatif Kechiche  2013"
            ],
            "text/latex": "A spec\\_tbl\\_df: 34 × 15\n\\begin{tabular}{lllllllllllllll}\n budget & company & country & director & genre & gross & name & rating & released & runtime & score & star & votes & writer & year\\\\\n <dbl> & <chr> & <chr> & <chr> & <chr> & <dbl> & <chr> & <chr> & <chr> & <dbl> & <dbl> & <chr> & <dbl> & <chr> & <dbl>\\\\\n\\hline\n\t 0.00e+00 & Svenska Filminstitutet (SFI) & Sweden  & Andrei Tarkovsky     & Drama     &    300653 & Sacrifice                     & PG        & 1986-11    & 149 & 8.1 & Erland Josephson       &  16571 & Andrei Tarkovsky     & 1986\\\\\n\t 2.00e+06 & CNCAIMC                      & Mexico  & Guillermo del Toro   & Horror    &    621392 & Cronos                        & R         & 1994-05    &  94 & 6.7 & Federico Luppi         &  21699 & Guillermo del Toro   & 1993\\\\\n\t 6.00e+07 & Warner Bros.                 & USA     & Jeremiah S. Chechik  & Action    &  23322832 & The Avengers                  & PG-13     & 1998-08-14 &  89 & 3.7 & Ralph Fiennes          &  36811 & Sydney Newman        & 1998\\\\\n\t 1.00e+06 & Cinema Group                 & USA     & Rowdy Herrington     & Crime     &    492519 & Jack's Back                   & R         & 1988-05-06 &  97 & 6.0 & James Spader           &   1968 & Rowdy Herrington     & 1988\\\\\n\t 1.80e+08 & Warner Bros. Pictures        & UK      & David Yates          & Action    & 126643061 & The Legend of Tarzan          & PG-13     & 2016-07-01 & 110 & 6.3 & Alexander Skarsg<e5>rd & 128712 & Adam Cozad           & 2016\\\\\n\t 1.00e+06 & Artisan Entertainment        & USA     & Henry Bromell        & Comedy    &    779137 & Panic                         & R         & 2001-10-19 &  88 & 6.8 & William H. Macy        &   7413 & Henry Bromell        & 2000\\\\\n\t 1.50e+06 & Bridgit Folman Film Gang     & Israel  & Ari Folman           & Animation &   2283276 & Waltz with Bashir             & R         & 2009-07-15 &  90 & 8.0 & Ari Folman             &  48937 & Ari Folman           & 2008\\\\\n\t 0.00e+00 & Black River Productions      & UK      & Mira Nair            & Drama     &   7310000 & Mississippi Masala            & R         & 1992-02-05 & 118 & 6.6 & Denzel Washington      &   4116 & Sooni Taraporevala   & 1991\\\\\n\t 0.00e+00 & Alliance Entertainment       & Canada  & Atom Egoyan          & Drama     &   4183379 & Ex<f3>tica                    & R         & 1995-03-24 & 103 & 7.2 & Bruce Greenwood        &  15366 & Atom Egoyan          & 1994\\\\\n\t 1.90e+07 & Universal Pictures           & USA     & Harold Becker        & Crime     &  58571513 & Sea of Love                   & R         & 1989-09-15 & 113 & 6.8 & Al Pacino              &  32138 & Richard Price        & 1989\\\\\n\t 0.00e+00 & Senator Film Produktion      & Germany & Max F<e4>rberb<f6>ck & Biography &    927107 & Aimee \\& Jaguar                & NOT RATED & 1999-02-11 & 125 & 7.3 & Maria Schrader         &   5439 & Max F<e4>rberb<f6>ck & 1999\\\\\n\t 4.80e+06 & Hostel LLC                   & USA     & Eli Roth             & Horror    &  47326473 & Hostel                        & R         & 2006-01-06 &  94 & 5.9 & Jay Hernandez          & 147832 & Eli Roth             & 2005\\\\\n\t 2.50e+07 & Paramount Pictures           & USA     & Leonard Nimoy        & Adventure & 109713132 & Star Trek IV: The Voyage Home & PG        & 1986-11-26 & 119 & 7.3 & William Shatner        &  66366 & Gene Roddenberry     & 1986\\\\\n\t 6.00e+06 & Raffaella Productions        & USA     & Avi Nesher           & Action    &     64562 & Timebomb                      & R         & 1991-05-25 &  96 & 5.5 & Michael Biehn          &   1236 & Avi Nesher           & 1991\\\\\n\t 3.80e+07 & New Line Cinema              & USA     & Christian Ditter     & Comedy    &  46813366 & How to Be Single              & R         & 2016-02-12 & 110 & 6.1 & Dakota Johnson         &  63520 & Abby Kohn            & 2016\\\\\n\t 3.50e+07 & Miramax                      & USA     & Lasse Hallstr<f6>m   & Drama     &  11434216 & The Shipping News             & R         & 2002-01-18 & 111 & 6.8 & Kevin Spacey           &  29749 & Annie Proulx         & 2001\\\\\n\t 1.00e+06 & Ang Lee Productions          & Taiwan  & Ang Lee              & Comedy    &   6933459 & The Wedding Banquet           & R         & 1993-08-04 & 106 & 7.7 & Winston Chao           &  11573 & Ang Lee              & 1993\\\\\n\t 0.00e+00 & Triumph Films                & Canada  & Lance Young          & Drama     &    207751 & Bliss                         & R         & 1997-04-14 & 103 & 6.1 & Craig Sheffer          &   1775 & Lance Young          & 1997\\\\\n\t 1.60e+07 & Castle Rock Entertainment    & USA     & Rob Reiner           & Comedy    &  92823600 & When Harry Met Sally...       & R         & 1989-07-21 &  96 & 7.6 & Billy Crystal          & 161347 & Nora Ephron          & 1989\\\\\n\t 2.50e+06 & Dog Run Pictures             & USA     & Jake Schreier        & Comedy    &   3325638 & Robot \\& Frank                 & PG-13     & 2012-09-19 &  89 & 7.1 & Peter Sarsgaard        &  55671 & Christopher Ford     & 2012\\\\\n\t 4.00e+07 & New Line Cinema              & USA     & Mark A.Z. Dipp<e9>   & Action    &  54967359 & Spawn                         & R         & 1997-08-01 &  96 & 5.2 & John Leguizamo         &  56225 & Todd McFarlane       & 1997\\\\\n\t 4.80e+07 & Metro-Goldwyn-Mayer (MGM)    & USA     & Jon Avnet            & Crime     &  22415440 & Red Corner                    & R         & 1997-10-31 & 122 & 6.3 & Richard Gere           &  13892 & Robert King          & 1997\\\\\n\t 7.00e+07 & DreamWorks                   & France  & Steven Spielberg     & Crime     &  47403685 & Munich                        & R         & 2006-01-06 & 164 & 7.6 & Eric Bana              & 186355 & Tony Kushner         & 2005\\\\\n\t 3.42e+07 & Jack Giarraputo Productions  & USA     & Dennis Dugan         & Comedy    & 163479795 & Big Daddy                     & PG-13     & 1999-06-25 &  93 & 6.4 & Adam Sandler           & 171997 & Steve Franks         & 1999\\\\\n\t 2.00e+08 & Paramount Pictures           & USA     & Jon Favreau          & Action    & 312433331 & Iron Man 2                    & PG-13     & 2010-05-07 & 124 & 7.0 & Robert Downey Jr.      & 571416 & Justin Theroux       & 2010\\\\\n\t 1.20e+07 & Dharma Productions           & India   & Karan Johar          & Adventure &   4018695 & My Name Is Khan               & PG-13     & 2010-02-12 & 165 & 8.0 & Shah Rukh Khan         &  81130 & Shibani Bathija      & 2010\\\\\n\t 3.00e+06 & Gary Sanchez Productions     & USA     & Leslye Headland      & Comedy    &    447954 & Bachelorette                  & R         & 2013-07-12 &  87 & 5.3 & Kirsten Dunst          &  39857 & Leslye Headland      & 2012\\\\\n\t 2.00e+06 & American Playhouse           & USA     & Jerrold Freedman     & Drama     &   1301121 & Native Son                    & PG        & 1986-12-12 & 111 & 5.9 & Victor Love            &    448 & Richard Wesley       & 1986\\\\\n\t 1.90e+07 & Annapurna Pictures           & USA     & Greg Tiernan         & Animation &  97661826 & Sausage Party                 & R         & 2016-08-12 &  89 & 6.2 & Seth Rogen             & 133200 & Kyle Hunter          & 2016\\\\\n\t 2.00e+07 & Gary Sanchez Productions     & USA     & Ben Falcone          & Comedy    &  84525432 & Tammy                         & R         & 2014-07-02 &  97 & 4.9 & Melissa McCarthy       &  40108 & Melissa McCarthy     & 2014\\\\\n\t 3.00e+07 & Universal Pictures           & USA     & Barry Sonnenfeld     & Comedy    &  10997166 & For Love or Money             & PG        & 1993-10-01 &  96 & 6.1 & Michael J. Fox         &  10037 & Mark Rosenthal       & 1993\\\\\n\t 1.30e+07 & Orion Pictures               & USA     & Paul Verhoeven       & Action    &  53424681 & RoboCop                       & R         & 1987-07-17 & 102 & 7.5 & Peter Weller           & 196245 & Edward Neumeier      & 1987\\\\\n\t 0.00e+00 & Concorde Pictures            & Canada  & Jon Hess             & Action    &    940173 & Al borde del terror           & R         & 1988-12-02 &  91 & 5.3 & Corey Haim             &   3376 & Dean R. Koontz       & 1988\\\\\n\t 0.00e+00 & Quat'sous Films              & France  & Abdellatif Kechiche  & Drama     &   2199675 & Blue Is the Warmest Color     & NC-17     & 2014-02-14 & 180 & 7.8 & L<e9>a Seydoux         & 107119 & Abdellatif Kechiche  & 2013\\\\\n\\end{tabular}\n",
            "text/markdown": "\nA spec_tbl_df: 34 × 15\n\n| budget &lt;dbl&gt; | company &lt;chr&gt; | country &lt;chr&gt; | director &lt;chr&gt; | genre &lt;chr&gt; | gross &lt;dbl&gt; | name &lt;chr&gt; | rating &lt;chr&gt; | released &lt;chr&gt; | runtime &lt;dbl&gt; | score &lt;dbl&gt; | star &lt;chr&gt; | votes &lt;dbl&gt; | writer &lt;chr&gt; | year &lt;dbl&gt; |\n|---|---|---|---|---|---|---|---|---|---|---|---|---|---|---|\n| 0.00e+00 | Svenska Filminstitutet (SFI) | Sweden  | Andrei Tarkovsky     | Drama     |    300653 | Sacrifice                     | PG        | 1986-11    | 149 | 8.1 | Erland Josephson       |  16571 | Andrei Tarkovsky     | 1986 |\n| 2.00e+06 | CNCAIMC                      | Mexico  | Guillermo del Toro   | Horror    |    621392 | Cronos                        | R         | 1994-05    |  94 | 6.7 | Federico Luppi         |  21699 | Guillermo del Toro   | 1993 |\n| 6.00e+07 | Warner Bros.                 | USA     | Jeremiah S. Chechik  | Action    |  23322832 | The Avengers                  | PG-13     | 1998-08-14 |  89 | 3.7 | Ralph Fiennes          |  36811 | Sydney Newman        | 1998 |\n| 1.00e+06 | Cinema Group                 | USA     | Rowdy Herrington     | Crime     |    492519 | Jack's Back                   | R         | 1988-05-06 |  97 | 6.0 | James Spader           |   1968 | Rowdy Herrington     | 1988 |\n| 1.80e+08 | Warner Bros. Pictures        | UK      | David Yates          | Action    | 126643061 | The Legend of Tarzan          | PG-13     | 2016-07-01 | 110 | 6.3 | Alexander Skarsg&lt;e5&gt;rd | 128712 | Adam Cozad           | 2016 |\n| 1.00e+06 | Artisan Entertainment        | USA     | Henry Bromell        | Comedy    |    779137 | Panic                         | R         | 2001-10-19 |  88 | 6.8 | William H. Macy        |   7413 | Henry Bromell        | 2000 |\n| 1.50e+06 | Bridgit Folman Film Gang     | Israel  | Ari Folman           | Animation |   2283276 | Waltz with Bashir             | R         | 2009-07-15 |  90 | 8.0 | Ari Folman             |  48937 | Ari Folman           | 2008 |\n| 0.00e+00 | Black River Productions      | UK      | Mira Nair            | Drama     |   7310000 | Mississippi Masala            | R         | 1992-02-05 | 118 | 6.6 | Denzel Washington      |   4116 | Sooni Taraporevala   | 1991 |\n| 0.00e+00 | Alliance Entertainment       | Canada  | Atom Egoyan          | Drama     |   4183379 | Ex&lt;f3&gt;tica                    | R         | 1995-03-24 | 103 | 7.2 | Bruce Greenwood        |  15366 | Atom Egoyan          | 1994 |\n| 1.90e+07 | Universal Pictures           | USA     | Harold Becker        | Crime     |  58571513 | Sea of Love                   | R         | 1989-09-15 | 113 | 6.8 | Al Pacino              |  32138 | Richard Price        | 1989 |\n| 0.00e+00 | Senator Film Produktion      | Germany | Max F&lt;e4&gt;rberb&lt;f6&gt;ck | Biography |    927107 | Aimee &amp; Jaguar                | NOT RATED | 1999-02-11 | 125 | 7.3 | Maria Schrader         |   5439 | Max F&lt;e4&gt;rberb&lt;f6&gt;ck | 1999 |\n| 4.80e+06 | Hostel LLC                   | USA     | Eli Roth             | Horror    |  47326473 | Hostel                        | R         | 2006-01-06 |  94 | 5.9 | Jay Hernandez          | 147832 | Eli Roth             | 2005 |\n| 2.50e+07 | Paramount Pictures           | USA     | Leonard Nimoy        | Adventure | 109713132 | Star Trek IV: The Voyage Home | PG        | 1986-11-26 | 119 | 7.3 | William Shatner        |  66366 | Gene Roddenberry     | 1986 |\n| 6.00e+06 | Raffaella Productions        | USA     | Avi Nesher           | Action    |     64562 | Timebomb                      | R         | 1991-05-25 |  96 | 5.5 | Michael Biehn          |   1236 | Avi Nesher           | 1991 |\n| 3.80e+07 | New Line Cinema              | USA     | Christian Ditter     | Comedy    |  46813366 | How to Be Single              | R         | 2016-02-12 | 110 | 6.1 | Dakota Johnson         |  63520 | Abby Kohn            | 2016 |\n| 3.50e+07 | Miramax                      | USA     | Lasse Hallstr&lt;f6&gt;m   | Drama     |  11434216 | The Shipping News             | R         | 2002-01-18 | 111 | 6.8 | Kevin Spacey           |  29749 | Annie Proulx         | 2001 |\n| 1.00e+06 | Ang Lee Productions          | Taiwan  | Ang Lee              | Comedy    |   6933459 | The Wedding Banquet           | R         | 1993-08-04 | 106 | 7.7 | Winston Chao           |  11573 | Ang Lee              | 1993 |\n| 0.00e+00 | Triumph Films                | Canada  | Lance Young          | Drama     |    207751 | Bliss                         | R         | 1997-04-14 | 103 | 6.1 | Craig Sheffer          |   1775 | Lance Young          | 1997 |\n| 1.60e+07 | Castle Rock Entertainment    | USA     | Rob Reiner           | Comedy    |  92823600 | When Harry Met Sally...       | R         | 1989-07-21 |  96 | 7.6 | Billy Crystal          | 161347 | Nora Ephron          | 1989 |\n| 2.50e+06 | Dog Run Pictures             | USA     | Jake Schreier        | Comedy    |   3325638 | Robot &amp; Frank                 | PG-13     | 2012-09-19 |  89 | 7.1 | Peter Sarsgaard        |  55671 | Christopher Ford     | 2012 |\n| 4.00e+07 | New Line Cinema              | USA     | Mark A.Z. Dipp&lt;e9&gt;   | Action    |  54967359 | Spawn                         | R         | 1997-08-01 |  96 | 5.2 | John Leguizamo         |  56225 | Todd McFarlane       | 1997 |\n| 4.80e+07 | Metro-Goldwyn-Mayer (MGM)    | USA     | Jon Avnet            | Crime     |  22415440 | Red Corner                    | R         | 1997-10-31 | 122 | 6.3 | Richard Gere           |  13892 | Robert King          | 1997 |\n| 7.00e+07 | DreamWorks                   | France  | Steven Spielberg     | Crime     |  47403685 | Munich                        | R         | 2006-01-06 | 164 | 7.6 | Eric Bana              | 186355 | Tony Kushner         | 2005 |\n| 3.42e+07 | Jack Giarraputo Productions  | USA     | Dennis Dugan         | Comedy    | 163479795 | Big Daddy                     | PG-13     | 1999-06-25 |  93 | 6.4 | Adam Sandler           | 171997 | Steve Franks         | 1999 |\n| 2.00e+08 | Paramount Pictures           | USA     | Jon Favreau          | Action    | 312433331 | Iron Man 2                    | PG-13     | 2010-05-07 | 124 | 7.0 | Robert Downey Jr.      | 571416 | Justin Theroux       | 2010 |\n| 1.20e+07 | Dharma Productions           | India   | Karan Johar          | Adventure |   4018695 | My Name Is Khan               | PG-13     | 2010-02-12 | 165 | 8.0 | Shah Rukh Khan         |  81130 | Shibani Bathija      | 2010 |\n| 3.00e+06 | Gary Sanchez Productions     | USA     | Leslye Headland      | Comedy    |    447954 | Bachelorette                  | R         | 2013-07-12 |  87 | 5.3 | Kirsten Dunst          |  39857 | Leslye Headland      | 2012 |\n| 2.00e+06 | American Playhouse           | USA     | Jerrold Freedman     | Drama     |   1301121 | Native Son                    | PG        | 1986-12-12 | 111 | 5.9 | Victor Love            |    448 | Richard Wesley       | 1986 |\n| 1.90e+07 | Annapurna Pictures           | USA     | Greg Tiernan         | Animation |  97661826 | Sausage Party                 | R         | 2016-08-12 |  89 | 6.2 | Seth Rogen             | 133200 | Kyle Hunter          | 2016 |\n| 2.00e+07 | Gary Sanchez Productions     | USA     | Ben Falcone          | Comedy    |  84525432 | Tammy                         | R         | 2014-07-02 |  97 | 4.9 | Melissa McCarthy       |  40108 | Melissa McCarthy     | 2014 |\n| 3.00e+07 | Universal Pictures           | USA     | Barry Sonnenfeld     | Comedy    |  10997166 | For Love or Money             | PG        | 1993-10-01 |  96 | 6.1 | Michael J. Fox         |  10037 | Mark Rosenthal       | 1993 |\n| 1.30e+07 | Orion Pictures               | USA     | Paul Verhoeven       | Action    |  53424681 | RoboCop                       | R         | 1987-07-17 | 102 | 7.5 | Peter Weller           | 196245 | Edward Neumeier      | 1987 |\n| 0.00e+00 | Concorde Pictures            | Canada  | Jon Hess             | Action    |    940173 | Al borde del terror           | R         | 1988-12-02 |  91 | 5.3 | Corey Haim             |   3376 | Dean R. Koontz       | 1988 |\n| 0.00e+00 | Quat'sous Films              | France  | Abdellatif Kechiche  | Drama     |   2199675 | Blue Is the Warmest Color     | NC-17     | 2014-02-14 | 180 | 7.8 | L&lt;e9&gt;a Seydoux         | 107119 | Abdellatif Kechiche  | 2013 |\n\n",
            "text/html": [
              "<table>\n",
              "<caption>A spec_tbl_df: 34 × 15</caption>\n",
              "<thead>\n",
              "\t<tr><th scope=col>budget</th><th scope=col>company</th><th scope=col>country</th><th scope=col>director</th><th scope=col>genre</th><th scope=col>gross</th><th scope=col>name</th><th scope=col>rating</th><th scope=col>released</th><th scope=col>runtime</th><th scope=col>score</th><th scope=col>star</th><th scope=col>votes</th><th scope=col>writer</th><th scope=col>year</th></tr>\n",
              "\t<tr><th scope=col>&lt;dbl&gt;</th><th scope=col>&lt;chr&gt;</th><th scope=col>&lt;chr&gt;</th><th scope=col>&lt;chr&gt;</th><th scope=col>&lt;chr&gt;</th><th scope=col>&lt;dbl&gt;</th><th scope=col>&lt;chr&gt;</th><th scope=col>&lt;chr&gt;</th><th scope=col>&lt;chr&gt;</th><th scope=col>&lt;dbl&gt;</th><th scope=col>&lt;dbl&gt;</th><th scope=col>&lt;chr&gt;</th><th scope=col>&lt;dbl&gt;</th><th scope=col>&lt;chr&gt;</th><th scope=col>&lt;dbl&gt;</th></tr>\n",
              "</thead>\n",
              "<tbody>\n",
              "\t<tr><td>0.00e+00</td><td>Svenska Filminstitutet (SFI)</td><td>Sweden </td><td>Andrei Tarkovsky    </td><td>Drama    </td><td>   300653</td><td>Sacrifice                    </td><td>PG       </td><td>1986-11   </td><td>149</td><td>8.1</td><td>Erland Josephson      </td><td> 16571</td><td>Andrei Tarkovsky    </td><td>1986</td></tr>\n",
              "\t<tr><td>2.00e+06</td><td>CNCAIMC                     </td><td>Mexico </td><td>Guillermo del Toro  </td><td>Horror   </td><td>   621392</td><td>Cronos                       </td><td>R        </td><td>1994-05   </td><td> 94</td><td>6.7</td><td>Federico Luppi        </td><td> 21699</td><td>Guillermo del Toro  </td><td>1993</td></tr>\n",
              "\t<tr><td>6.00e+07</td><td>Warner Bros.                </td><td>USA    </td><td>Jeremiah S. Chechik </td><td>Action   </td><td> 23322832</td><td>The Avengers                 </td><td>PG-13    </td><td>1998-08-14</td><td> 89</td><td>3.7</td><td>Ralph Fiennes         </td><td> 36811</td><td>Sydney Newman       </td><td>1998</td></tr>\n",
              "\t<tr><td>1.00e+06</td><td>Cinema Group                </td><td>USA    </td><td>Rowdy Herrington    </td><td>Crime    </td><td>   492519</td><td>Jack's Back                  </td><td>R        </td><td>1988-05-06</td><td> 97</td><td>6.0</td><td>James Spader          </td><td>  1968</td><td>Rowdy Herrington    </td><td>1988</td></tr>\n",
              "\t<tr><td>1.80e+08</td><td><span style=white-space:pre-wrap>Warner Bros. Pictures       </span></td><td><span style=white-space:pre-wrap>UK     </span></td><td><span style=white-space:pre-wrap>David Yates         </span></td><td><span style=white-space:pre-wrap>Action   </span></td><td>126643061</td><td><span style=white-space:pre-wrap>The Legend of Tarzan         </span></td><td><span style=white-space:pre-wrap>PG-13    </span></td><td>2016-07-01</td><td>110</td><td>6.3</td><td>Alexander Skarsg&lt;e5&gt;rd</td><td>128712</td><td><span style=white-space:pre-wrap>Adam Cozad          </span></td><td>2016</td></tr>\n",
              "\t<tr><td>1.00e+06</td><td>Artisan Entertainment       </td><td>USA    </td><td>Henry Bromell       </td><td>Comedy   </td><td>   779137</td><td>Panic                        </td><td>R        </td><td>2001-10-19</td><td> 88</td><td>6.8</td><td>William H. Macy       </td><td>  7413</td><td>Henry Bromell       </td><td>2000</td></tr>\n",
              "\t<tr><td>1.50e+06</td><td>Bridgit Folman Film Gang    </td><td>Israel </td><td>Ari Folman          </td><td>Animation</td><td>  2283276</td><td>Waltz with Bashir            </td><td>R        </td><td>2009-07-15</td><td> 90</td><td>8.0</td><td>Ari Folman            </td><td> 48937</td><td>Ari Folman          </td><td>2008</td></tr>\n",
              "\t<tr><td>0.00e+00</td><td>Black River Productions     </td><td>UK     </td><td>Mira Nair           </td><td>Drama    </td><td>  7310000</td><td>Mississippi Masala           </td><td>R        </td><td>1992-02-05</td><td>118</td><td>6.6</td><td>Denzel Washington     </td><td>  4116</td><td>Sooni Taraporevala  </td><td>1991</td></tr>\n",
              "\t<tr><td>0.00e+00</td><td><span style=white-space:pre-wrap>Alliance Entertainment      </span></td><td>Canada </td><td><span style=white-space:pre-wrap>Atom Egoyan         </span></td><td><span style=white-space:pre-wrap>Drama    </span></td><td><span style=white-space:pre-wrap>  4183379</span></td><td><span style=white-space:pre-wrap>Ex&lt;f3&gt;tica                   </span></td><td><span style=white-space:pre-wrap>R        </span></td><td>1995-03-24</td><td>103</td><td>7.2</td><td><span style=white-space:pre-wrap>Bruce Greenwood       </span></td><td> 15366</td><td><span style=white-space:pre-wrap>Atom Egoyan         </span></td><td>1994</td></tr>\n",
              "\t<tr><td>1.90e+07</td><td>Universal Pictures          </td><td>USA    </td><td>Harold Becker       </td><td>Crime    </td><td> 58571513</td><td>Sea of Love                  </td><td>R        </td><td>1989-09-15</td><td>113</td><td>6.8</td><td>Al Pacino             </td><td> 32138</td><td>Richard Price       </td><td>1989</td></tr>\n",
              "\t<tr><td>0.00e+00</td><td><span style=white-space:pre-wrap>Senator Film Produktion     </span></td><td>Germany</td><td>Max F&lt;e4&gt;rberb&lt;f6&gt;ck</td><td>Biography</td><td><span style=white-space:pre-wrap>   927107</span></td><td><span style=white-space:pre-wrap>Aimee &amp; Jaguar               </span></td><td>NOT RATED</td><td>1999-02-11</td><td>125</td><td>7.3</td><td><span style=white-space:pre-wrap>Maria Schrader        </span></td><td><span style=white-space:pre-wrap>  5439</span></td><td>Max F&lt;e4&gt;rberb&lt;f6&gt;ck</td><td>1999</td></tr>\n",
              "\t<tr><td>4.80e+06</td><td>Hostel LLC                  </td><td>USA    </td><td>Eli Roth            </td><td>Horror   </td><td> 47326473</td><td>Hostel                       </td><td>R        </td><td>2006-01-06</td><td> 94</td><td>5.9</td><td>Jay Hernandez         </td><td>147832</td><td>Eli Roth            </td><td>2005</td></tr>\n",
              "\t<tr><td>2.50e+07</td><td>Paramount Pictures          </td><td>USA    </td><td>Leonard Nimoy       </td><td>Adventure</td><td>109713132</td><td>Star Trek IV: The Voyage Home</td><td>PG       </td><td>1986-11-26</td><td>119</td><td>7.3</td><td>William Shatner       </td><td> 66366</td><td>Gene Roddenberry    </td><td>1986</td></tr>\n",
              "\t<tr><td>6.00e+06</td><td>Raffaella Productions       </td><td>USA    </td><td>Avi Nesher          </td><td>Action   </td><td>    64562</td><td>Timebomb                     </td><td>R        </td><td>1991-05-25</td><td> 96</td><td>5.5</td><td>Michael Biehn         </td><td>  1236</td><td>Avi Nesher          </td><td>1991</td></tr>\n",
              "\t<tr><td>3.80e+07</td><td>New Line Cinema             </td><td>USA    </td><td>Christian Ditter    </td><td>Comedy   </td><td> 46813366</td><td>How to Be Single             </td><td>R        </td><td>2016-02-12</td><td>110</td><td>6.1</td><td>Dakota Johnson        </td><td> 63520</td><td>Abby Kohn           </td><td>2016</td></tr>\n",
              "\t<tr><td>3.50e+07</td><td><span style=white-space:pre-wrap>Miramax                     </span></td><td><span style=white-space:pre-wrap>USA    </span></td><td><span style=white-space:pre-wrap>Lasse Hallstr&lt;f6&gt;m  </span></td><td><span style=white-space:pre-wrap>Drama    </span></td><td> 11434216</td><td><span style=white-space:pre-wrap>The Shipping News            </span></td><td><span style=white-space:pre-wrap>R        </span></td><td>2002-01-18</td><td>111</td><td>6.8</td><td><span style=white-space:pre-wrap>Kevin Spacey          </span></td><td> 29749</td><td><span style=white-space:pre-wrap>Annie Proulx        </span></td><td>2001</td></tr>\n",
              "\t<tr><td>1.00e+06</td><td>Ang Lee Productions         </td><td>Taiwan </td><td>Ang Lee             </td><td>Comedy   </td><td>  6933459</td><td>The Wedding Banquet          </td><td>R        </td><td>1993-08-04</td><td>106</td><td>7.7</td><td>Winston Chao          </td><td> 11573</td><td>Ang Lee             </td><td>1993</td></tr>\n",
              "\t<tr><td>0.00e+00</td><td>Triumph Films               </td><td>Canada </td><td>Lance Young         </td><td>Drama    </td><td>   207751</td><td>Bliss                        </td><td>R        </td><td>1997-04-14</td><td>103</td><td>6.1</td><td>Craig Sheffer         </td><td>  1775</td><td>Lance Young         </td><td>1997</td></tr>\n",
              "\t<tr><td>1.60e+07</td><td>Castle Rock Entertainment   </td><td>USA    </td><td>Rob Reiner          </td><td>Comedy   </td><td> 92823600</td><td>When Harry Met Sally...      </td><td>R        </td><td>1989-07-21</td><td> 96</td><td>7.6</td><td>Billy Crystal         </td><td>161347</td><td>Nora Ephron         </td><td>1989</td></tr>\n",
              "\t<tr><td>2.50e+06</td><td><span style=white-space:pre-wrap>Dog Run Pictures            </span></td><td><span style=white-space:pre-wrap>USA    </span></td><td><span style=white-space:pre-wrap>Jake Schreier       </span></td><td><span style=white-space:pre-wrap>Comedy   </span></td><td><span style=white-space:pre-wrap>  3325638</span></td><td><span style=white-space:pre-wrap>Robot &amp; Frank                </span></td><td><span style=white-space:pre-wrap>PG-13    </span></td><td>2012-09-19</td><td> 89</td><td>7.1</td><td><span style=white-space:pre-wrap>Peter Sarsgaard       </span></td><td> 55671</td><td><span style=white-space:pre-wrap>Christopher Ford    </span></td><td>2012</td></tr>\n",
              "\t<tr><td>4.00e+07</td><td><span style=white-space:pre-wrap>New Line Cinema             </span></td><td><span style=white-space:pre-wrap>USA    </span></td><td><span style=white-space:pre-wrap>Mark A.Z. Dipp&lt;e9&gt;  </span></td><td><span style=white-space:pre-wrap>Action   </span></td><td> 54967359</td><td><span style=white-space:pre-wrap>Spawn                        </span></td><td><span style=white-space:pre-wrap>R        </span></td><td>1997-08-01</td><td> 96</td><td>5.2</td><td><span style=white-space:pre-wrap>John Leguizamo        </span></td><td> 56225</td><td><span style=white-space:pre-wrap>Todd McFarlane      </span></td><td>1997</td></tr>\n",
              "\t<tr><td>4.80e+07</td><td>Metro-Goldwyn-Mayer (MGM)   </td><td>USA    </td><td>Jon Avnet           </td><td>Crime    </td><td> 22415440</td><td>Red Corner                   </td><td>R        </td><td>1997-10-31</td><td>122</td><td>6.3</td><td>Richard Gere          </td><td> 13892</td><td>Robert King         </td><td>1997</td></tr>\n",
              "\t<tr><td>7.00e+07</td><td>DreamWorks                  </td><td>France </td><td>Steven Spielberg    </td><td>Crime    </td><td> 47403685</td><td>Munich                       </td><td>R        </td><td>2006-01-06</td><td>164</td><td>7.6</td><td>Eric Bana             </td><td>186355</td><td>Tony Kushner        </td><td>2005</td></tr>\n",
              "\t<tr><td>3.42e+07</td><td>Jack Giarraputo Productions </td><td>USA    </td><td>Dennis Dugan        </td><td>Comedy   </td><td>163479795</td><td>Big Daddy                    </td><td>PG-13    </td><td>1999-06-25</td><td> 93</td><td>6.4</td><td>Adam Sandler          </td><td>171997</td><td>Steve Franks        </td><td>1999</td></tr>\n",
              "\t<tr><td>2.00e+08</td><td>Paramount Pictures          </td><td>USA    </td><td>Jon Favreau         </td><td>Action   </td><td>312433331</td><td>Iron Man 2                   </td><td>PG-13    </td><td>2010-05-07</td><td>124</td><td>7.0</td><td>Robert Downey Jr.     </td><td>571416</td><td>Justin Theroux      </td><td>2010</td></tr>\n",
              "\t<tr><td>1.20e+07</td><td>Dharma Productions          </td><td>India  </td><td>Karan Johar         </td><td>Adventure</td><td>  4018695</td><td>My Name Is Khan              </td><td>PG-13    </td><td>2010-02-12</td><td>165</td><td>8.0</td><td>Shah Rukh Khan        </td><td> 81130</td><td>Shibani Bathija     </td><td>2010</td></tr>\n",
              "\t<tr><td>3.00e+06</td><td>Gary Sanchez Productions    </td><td>USA    </td><td>Leslye Headland     </td><td>Comedy   </td><td>   447954</td><td>Bachelorette                 </td><td>R        </td><td>2013-07-12</td><td> 87</td><td>5.3</td><td>Kirsten Dunst         </td><td> 39857</td><td>Leslye Headland     </td><td>2012</td></tr>\n",
              "\t<tr><td>2.00e+06</td><td>American Playhouse          </td><td>USA    </td><td>Jerrold Freedman    </td><td>Drama    </td><td>  1301121</td><td>Native Son                   </td><td>PG       </td><td>1986-12-12</td><td>111</td><td>5.9</td><td>Victor Love           </td><td>   448</td><td>Richard Wesley      </td><td>1986</td></tr>\n",
              "\t<tr><td>1.90e+07</td><td>Annapurna Pictures          </td><td>USA    </td><td>Greg Tiernan        </td><td>Animation</td><td> 97661826</td><td>Sausage Party                </td><td>R        </td><td>2016-08-12</td><td> 89</td><td>6.2</td><td>Seth Rogen            </td><td>133200</td><td>Kyle Hunter         </td><td>2016</td></tr>\n",
              "\t<tr><td>2.00e+07</td><td>Gary Sanchez Productions    </td><td>USA    </td><td>Ben Falcone         </td><td>Comedy   </td><td> 84525432</td><td>Tammy                        </td><td>R        </td><td>2014-07-02</td><td> 97</td><td>4.9</td><td>Melissa McCarthy      </td><td> 40108</td><td>Melissa McCarthy    </td><td>2014</td></tr>\n",
              "\t<tr><td>3.00e+07</td><td>Universal Pictures          </td><td>USA    </td><td>Barry Sonnenfeld    </td><td>Comedy   </td><td> 10997166</td><td>For Love or Money            </td><td>PG       </td><td>1993-10-01</td><td> 96</td><td>6.1</td><td>Michael J. Fox        </td><td> 10037</td><td>Mark Rosenthal      </td><td>1993</td></tr>\n",
              "\t<tr><td>1.30e+07</td><td>Orion Pictures              </td><td>USA    </td><td>Paul Verhoeven      </td><td>Action   </td><td> 53424681</td><td>RoboCop                      </td><td>R        </td><td>1987-07-17</td><td>102</td><td>7.5</td><td>Peter Weller          </td><td>196245</td><td>Edward Neumeier     </td><td>1987</td></tr>\n",
              "\t<tr><td>0.00e+00</td><td>Concorde Pictures           </td><td>Canada </td><td>Jon Hess            </td><td>Action   </td><td>   940173</td><td>Al borde del terror          </td><td>R        </td><td>1988-12-02</td><td> 91</td><td>5.3</td><td>Corey Haim            </td><td>  3376</td><td>Dean R. Koontz      </td><td>1988</td></tr>\n",
              "\t<tr><td>0.00e+00</td><td><span style=white-space:pre-wrap>Quat'sous Films             </span></td><td>France </td><td>Abdellatif Kechiche </td><td><span style=white-space:pre-wrap>Drama    </span></td><td><span style=white-space:pre-wrap>  2199675</span></td><td><span style=white-space:pre-wrap>Blue Is the Warmest Color    </span></td><td><span style=white-space:pre-wrap>NC-17    </span></td><td>2014-02-14</td><td>180</td><td>7.8</td><td><span style=white-space:pre-wrap>L&lt;e9&gt;a Seydoux        </span></td><td>107119</td><td>Abdellatif Kechiche </td><td>2013</td></tr>\n",
              "</tbody>\n",
              "</table>\n"
            ]
          },
          "metadata": {
            "tags": []
          }
        }
      ]
    },
    {
      "cell_type": "markdown",
      "metadata": {
        "id": "p5Xwpso5_iaN",
        "colab_type": "text"
      },
      "source": [
        "## **Chaining operations**\n",
        "\n",
        "The `magrittr` package provides a “pipe”-like operator, %>%:\n",
        "\n",
        "*   The %>% is used pipe values forward into\n",
        "an expression or function call.\n",
        "*   In the pipe notation, you use x %>% f(y),\n",
        "rather than f(x, y).\n",
        "\n"
      ]
    },
    {
      "cell_type": "markdown",
      "metadata": {
        "id": "9EfFn_uMryQ-",
        "colab_type": "text"
      },
      "source": [
        " Find movies from USA produced after 2010. Group by genre and compute the group mean gross revenue in million dollars. Then print the genre mean ‘gross’ revenue arranged in a ascending order:"
      ]
    },
    {
      "cell_type": "code",
      "metadata": {
        "id": "kqrSCvb6r3wf",
        "colab_type": "code",
        "colab": {
          "base_uri": "https://localhost:8080/",
          "height": 351
        },
        "outputId": "b30346db-46cd-4022-eb42-fff967ee5b79"
      },
      "source": [
        "# nesting\n",
        "arrange(\n",
        "summarise(\n",
        "group_by(\n",
        "filter(movies,\n",
        "year > 2010, country == \"USA\"\n",
        "),\n",
        "genre\n",
        "),\n",
        "mean_gross = mean(gross)/10^6\n",
        "),\n",
        "mean_gross\n",
        ")"
      ],
      "execution_count": 13,
      "outputs": [
        {
          "output_type": "display_data",
          "data": {
            "text/plain": [
              "   genre     mean_gross\n",
              "1  Thriller    0.016458\n",
              "2  Drama      23.252067\n",
              "3  Horror     27.714873\n",
              "4  Sci-Fi     29.169033\n",
              "5  Fantasy    30.657051\n",
              "6  Crime      32.128370\n",
              "7  Comedy     35.152773\n",
              "8  Biography  40.552788\n",
              "9  Mystery    49.457150\n",
              "10 Romance    62.495645\n",
              "11 Adventure  81.227901\n",
              "12 Action     97.285930\n",
              "13 Animation 151.960486"
            ],
            "text/latex": "A tibble: 13 × 2\n\\begin{tabular}{ll}\n genre & mean\\_gross\\\\\n <chr> & <dbl>\\\\\n\\hline\n\t Thriller  &   0.016458\\\\\n\t Drama     &  23.252067\\\\\n\t Horror    &  27.714873\\\\\n\t Sci-Fi    &  29.169033\\\\\n\t Fantasy   &  30.657051\\\\\n\t Crime     &  32.128370\\\\\n\t Comedy    &  35.152773\\\\\n\t Biography &  40.552788\\\\\n\t Mystery   &  49.457150\\\\\n\t Romance   &  62.495645\\\\\n\t Adventure &  81.227901\\\\\n\t Action    &  97.285930\\\\\n\t Animation & 151.960486\\\\\n\\end{tabular}\n",
            "text/markdown": "\nA tibble: 13 × 2\n\n| genre &lt;chr&gt; | mean_gross &lt;dbl&gt; |\n|---|---|\n| Thriller  |   0.016458 |\n| Drama     |  23.252067 |\n| Horror    |  27.714873 |\n| Sci-Fi    |  29.169033 |\n| Fantasy   |  30.657051 |\n| Crime     |  32.128370 |\n| Comedy    |  35.152773 |\n| Biography |  40.552788 |\n| Mystery   |  49.457150 |\n| Romance   |  62.495645 |\n| Adventure |  81.227901 |\n| Action    |  97.285930 |\n| Animation | 151.960486 |\n\n",
            "text/html": [
              "<table>\n",
              "<caption>A tibble: 13 × 2</caption>\n",
              "<thead>\n",
              "\t<tr><th scope=col>genre</th><th scope=col>mean_gross</th></tr>\n",
              "\t<tr><th scope=col>&lt;chr&gt;</th><th scope=col>&lt;dbl&gt;</th></tr>\n",
              "</thead>\n",
              "<tbody>\n",
              "\t<tr><td>Thriller </td><td>  0.016458</td></tr>\n",
              "\t<tr><td>Drama    </td><td> 23.252067</td></tr>\n",
              "\t<tr><td>Horror   </td><td> 27.714873</td></tr>\n",
              "\t<tr><td>Sci-Fi   </td><td> 29.169033</td></tr>\n",
              "\t<tr><td>Fantasy  </td><td> 30.657051</td></tr>\n",
              "\t<tr><td>Crime    </td><td> 32.128370</td></tr>\n",
              "\t<tr><td>Comedy   </td><td> 35.152773</td></tr>\n",
              "\t<tr><td>Biography</td><td> 40.552788</td></tr>\n",
              "\t<tr><td>Mystery  </td><td> 49.457150</td></tr>\n",
              "\t<tr><td>Romance  </td><td> 62.495645</td></tr>\n",
              "\t<tr><td>Adventure</td><td> 81.227901</td></tr>\n",
              "\t<tr><td>Action   </td><td> 97.285930</td></tr>\n",
              "\t<tr><td>Animation</td><td>151.960486</td></tr>\n",
              "</tbody>\n",
              "</table>\n"
            ]
          },
          "metadata": {
            "tags": []
          }
        }
      ]
    },
    {
      "cell_type": "code",
      "metadata": {
        "id": "Azxt2u3TsATm",
        "colab_type": "code",
        "colab": {
          "base_uri": "https://localhost:8080/",
          "height": 351
        },
        "outputId": "6ccd1a35-5fc3-46a6-c48a-d9a5fa35e50a"
      },
      "source": [
        "# chaining\n",
        "movies %>%\n",
        "filter(year > 2010, country == \"USA\") %>%\n",
        "group_by(genre) %>%\n",
        "summarise(mean_gross = mean(gross)/10^6) %>%\n",
        "arrange(mean_gross)"
      ],
      "execution_count": 14,
      "outputs": [
        {
          "output_type": "display_data",
          "data": {
            "text/plain": [
              "   genre     mean_gross\n",
              "1  Thriller    0.016458\n",
              "2  Drama      23.252067\n",
              "3  Horror     27.714873\n",
              "4  Sci-Fi     29.169033\n",
              "5  Fantasy    30.657051\n",
              "6  Crime      32.128370\n",
              "7  Comedy     35.152773\n",
              "8  Biography  40.552788\n",
              "9  Mystery    49.457150\n",
              "10 Romance    62.495645\n",
              "11 Adventure  81.227901\n",
              "12 Action     97.285930\n",
              "13 Animation 151.960486"
            ],
            "text/latex": "A tibble: 13 × 2\n\\begin{tabular}{ll}\n genre & mean\\_gross\\\\\n <chr> & <dbl>\\\\\n\\hline\n\t Thriller  &   0.016458\\\\\n\t Drama     &  23.252067\\\\\n\t Horror    &  27.714873\\\\\n\t Sci-Fi    &  29.169033\\\\\n\t Fantasy   &  30.657051\\\\\n\t Crime     &  32.128370\\\\\n\t Comedy    &  35.152773\\\\\n\t Biography &  40.552788\\\\\n\t Mystery   &  49.457150\\\\\n\t Romance   &  62.495645\\\\\n\t Adventure &  81.227901\\\\\n\t Action    &  97.285930\\\\\n\t Animation & 151.960486\\\\\n\\end{tabular}\n",
            "text/markdown": "\nA tibble: 13 × 2\n\n| genre &lt;chr&gt; | mean_gross &lt;dbl&gt; |\n|---|---|\n| Thriller  |   0.016458 |\n| Drama     |  23.252067 |\n| Horror    |  27.714873 |\n| Sci-Fi    |  29.169033 |\n| Fantasy   |  30.657051 |\n| Crime     |  32.128370 |\n| Comedy    |  35.152773 |\n| Biography |  40.552788 |\n| Mystery   |  49.457150 |\n| Romance   |  62.495645 |\n| Adventure |  81.227901 |\n| Action    |  97.285930 |\n| Animation | 151.960486 |\n\n",
            "text/html": [
              "<table>\n",
              "<caption>A tibble: 13 × 2</caption>\n",
              "<thead>\n",
              "\t<tr><th scope=col>genre</th><th scope=col>mean_gross</th></tr>\n",
              "\t<tr><th scope=col>&lt;chr&gt;</th><th scope=col>&lt;dbl&gt;</th></tr>\n",
              "</thead>\n",
              "<tbody>\n",
              "\t<tr><td>Thriller </td><td>  0.016458</td></tr>\n",
              "\t<tr><td>Drama    </td><td> 23.252067</td></tr>\n",
              "\t<tr><td>Horror   </td><td> 27.714873</td></tr>\n",
              "\t<tr><td>Sci-Fi   </td><td> 29.169033</td></tr>\n",
              "\t<tr><td>Fantasy  </td><td> 30.657051</td></tr>\n",
              "\t<tr><td>Crime    </td><td> 32.128370</td></tr>\n",
              "\t<tr><td>Comedy   </td><td> 35.152773</td></tr>\n",
              "\t<tr><td>Biography</td><td> 40.552788</td></tr>\n",
              "\t<tr><td>Mystery  </td><td> 49.457150</td></tr>\n",
              "\t<tr><td>Romance  </td><td> 62.495645</td></tr>\n",
              "\t<tr><td>Adventure</td><td> 81.227901</td></tr>\n",
              "\t<tr><td>Action   </td><td> 97.285930</td></tr>\n",
              "\t<tr><td>Animation</td><td>151.960486</td></tr>\n",
              "</tbody>\n",
              "</table>\n"
            ]
          },
          "metadata": {
            "tags": []
          }
        }
      ]
    },
    {
      "cell_type": "markdown",
      "metadata": {
        "id": "l29z8V3Lg9cE",
        "colab_type": "text"
      },
      "source": [
        "## **Exercise**:\n",
        "\n",
        "*   Load the `nycflights` library to get the dataset\n",
        "*   Perform the following using pipes: 1) Group flights by destination, 2) Report counts of flights, mean of distance and mean of arrival delay 3) Filter the result to exclude airports with fewer than 20 flights and the Albequerque airport\n",
        "*   How might you get rid of the NA values in the arrival delay column?"
      ]
    },
    {
      "cell_type": "markdown",
      "metadata": {
        "id": "DHqVjhoUx_Fm",
        "colab_type": "text"
      },
      "source": [
        "## **Handling missing values**\n",
        "\n",
        "Two types of missingness"
      ]
    },
    {
      "cell_type": "code",
      "metadata": {
        "id": "UWfQJnvPhBiH",
        "colab_type": "code",
        "colab": {}
      },
      "source": [
        "stocks <- tibble(\n",
        "year = c(2015, 2015, 2015, 2015, 2016, 2016, 2016),\n",
        "qtr = c( 1, 2, 3, 4, 2, 3, 4),\n",
        "return = c(1.88, 0.59, 0.35, NA, 0.92, 0.17, 2.66)\n",
        ")"
      ],
      "execution_count": 0,
      "outputs": []
    },
    {
      "cell_type": "markdown",
      "metadata": {
        "id": "xPEBCgWmyVOp",
        "colab_type": "text"
      },
      "source": [
        "The return for the fourth quarter of 2015 is **explicitly missing**.\n",
        "\n",
        "The return for the first quarter of 2016 is **implicitly missing**.\n",
        "\n",
        "The way that a dataset is represented can make implicit values explicit."
      ]
    },
    {
      "cell_type": "code",
      "metadata": {
        "id": "qdVHoOP1yfw_",
        "colab_type": "code",
        "colab": {
          "base_uri": "https://localhost:8080/",
          "height": 162
        },
        "outputId": "1c948aa5-6a83-4ab3-a82a-36764184af53"
      },
      "source": [
        "stocks %>% spread(year, return)"
      ],
      "execution_count": 16,
      "outputs": [
        {
          "output_type": "display_data",
          "data": {
            "text/plain": [
              "  qtr 2015 2016\n",
              "1 1   1.88   NA\n",
              "2 2   0.59 0.92\n",
              "3 3   0.35 0.17\n",
              "4 4     NA 2.66"
            ],
            "text/latex": "A tibble: 4 × 3\n\\begin{tabular}{lll}\n qtr & 2015 & 2016\\\\\n <dbl> & <dbl> & <dbl>\\\\\n\\hline\n\t 1 & 1.88 &   NA\\\\\n\t 2 & 0.59 & 0.92\\\\\n\t 3 & 0.35 & 0.17\\\\\n\t 4 &   NA & 2.66\\\\\n\\end{tabular}\n",
            "text/markdown": "\nA tibble: 4 × 3\n\n| qtr &lt;dbl&gt; | 2015 &lt;dbl&gt; | 2016 &lt;dbl&gt; |\n|---|---|---|\n| 1 | 1.88 |   NA |\n| 2 | 0.59 | 0.92 |\n| 3 | 0.35 | 0.17 |\n| 4 |   NA | 2.66 |\n\n",
            "text/html": [
              "<table>\n",
              "<caption>A tibble: 4 × 3</caption>\n",
              "<thead>\n",
              "\t<tr><th scope=col>qtr</th><th scope=col>2015</th><th scope=col>2016</th></tr>\n",
              "\t<tr><th scope=col>&lt;dbl&gt;</th><th scope=col>&lt;dbl&gt;</th><th scope=col>&lt;dbl&gt;</th></tr>\n",
              "</thead>\n",
              "<tbody>\n",
              "\t<tr><td>1</td><td>1.88</td><td>  NA</td></tr>\n",
              "\t<tr><td>2</td><td>0.59</td><td>0.92</td></tr>\n",
              "\t<tr><td>3</td><td>0.35</td><td>0.17</td></tr>\n",
              "\t<tr><td>4</td><td>  NA</td><td>2.66</td></tr>\n",
              "</tbody>\n",
              "</table>\n"
            ]
          },
          "metadata": {
            "tags": []
          }
        }
      ]
    },
    {
      "cell_type": "markdown",
      "metadata": {
        "id": "uEv9KVxHyiMB",
        "colab_type": "text"
      },
      "source": [
        "## **Gathering missing data**\n",
        "\n",
        "You can used spread() and gather() to retain only non-missing recored, i.e. to\n",
        "turn all explicit missing values into implicit ones."
      ]
    },
    {
      "cell_type": "code",
      "metadata": {
        "id": "B0Zm2kMQzCtT",
        "colab_type": "code",
        "colab": {
          "base_uri": "https://localhost:8080/",
          "height": 204
        },
        "outputId": "1bd9241a-5e89-432a-ad28-eeaaa7fac42e"
      },
      "source": [
        "stocks %>% spread(year, return) %>%\n",
        "gather(year, return, `2015`:`2016`, na.rm = TRUE)"
      ],
      "execution_count": 17,
      "outputs": [
        {
          "output_type": "display_data",
          "data": {
            "text/plain": [
              "  qtr year return\n",
              "1 1   2015 1.88  \n",
              "2 2   2015 0.59  \n",
              "3 3   2015 0.35  \n",
              "4 2   2016 0.92  \n",
              "5 3   2016 0.17  \n",
              "6 4   2016 2.66  "
            ],
            "text/latex": "A tibble: 6 × 3\n\\begin{tabular}{lll}\n qtr & year & return\\\\\n <dbl> & <chr> & <dbl>\\\\\n\\hline\n\t 1 & 2015 & 1.88\\\\\n\t 2 & 2015 & 0.59\\\\\n\t 3 & 2015 & 0.35\\\\\n\t 2 & 2016 & 0.92\\\\\n\t 3 & 2016 & 0.17\\\\\n\t 4 & 2016 & 2.66\\\\\n\\end{tabular}\n",
            "text/markdown": "\nA tibble: 6 × 3\n\n| qtr &lt;dbl&gt; | year &lt;chr&gt; | return &lt;dbl&gt; |\n|---|---|---|\n| 1 | 2015 | 1.88 |\n| 2 | 2015 | 0.59 |\n| 3 | 2015 | 0.35 |\n| 2 | 2016 | 0.92 |\n| 3 | 2016 | 0.17 |\n| 4 | 2016 | 2.66 |\n\n",
            "text/html": [
              "<table>\n",
              "<caption>A tibble: 6 × 3</caption>\n",
              "<thead>\n",
              "\t<tr><th scope=col>qtr</th><th scope=col>year</th><th scope=col>return</th></tr>\n",
              "\t<tr><th scope=col>&lt;dbl&gt;</th><th scope=col>&lt;chr&gt;</th><th scope=col>&lt;dbl&gt;</th></tr>\n",
              "</thead>\n",
              "<tbody>\n",
              "\t<tr><td>1</td><td>2015</td><td>1.88</td></tr>\n",
              "\t<tr><td>2</td><td>2015</td><td>0.59</td></tr>\n",
              "\t<tr><td>3</td><td>2015</td><td>0.35</td></tr>\n",
              "\t<tr><td>2</td><td>2016</td><td>0.92</td></tr>\n",
              "\t<tr><td>3</td><td>2016</td><td>0.17</td></tr>\n",
              "\t<tr><td>4</td><td>2016</td><td>2.66</td></tr>\n",
              "</tbody>\n",
              "</table>\n"
            ]
          },
          "metadata": {
            "tags": []
          }
        }
      ]
    },
    {
      "cell_type": "markdown",
      "metadata": {
        "id": "K7qd4FWzzFtV",
        "colab_type": "text"
      },
      "source": [
        "## **Populate missing data with complete()**\n",
        "\n",
        "complete() takes a set of columns, and finds all unique combinations. It then ensures the original dataset contains all those values, **filling in explicit NAs** where necessary"
      ]
    },
    {
      "cell_type": "code",
      "metadata": {
        "id": "6whqu8Ws0WFq",
        "colab_type": "code",
        "colab": {
          "base_uri": "https://localhost:8080/",
          "height": 246
        },
        "outputId": "8047a3bb-fd2e-46be-c8bd-c443a65b5731"
      },
      "source": [
        "# complete() rows for all the combination of year and qtr column values\n",
        "stocks %>% complete(year, qtr)"
      ],
      "execution_count": 18,
      "outputs": [
        {
          "output_type": "display_data",
          "data": {
            "text/plain": [
              "  year qtr return\n",
              "1 2015 1   1.88  \n",
              "2 2015 2   0.59  \n",
              "3 2015 3   0.35  \n",
              "4 2015 4     NA  \n",
              "5 2016 1     NA  \n",
              "6 2016 2   0.92  \n",
              "7 2016 3   0.17  \n",
              "8 2016 4   2.66  "
            ],
            "text/latex": "A tibble: 8 × 3\n\\begin{tabular}{lll}\n year & qtr & return\\\\\n <dbl> & <dbl> & <dbl>\\\\\n\\hline\n\t 2015 & 1 & 1.88\\\\\n\t 2015 & 2 & 0.59\\\\\n\t 2015 & 3 & 0.35\\\\\n\t 2015 & 4 &   NA\\\\\n\t 2016 & 1 &   NA\\\\\n\t 2016 & 2 & 0.92\\\\\n\t 2016 & 3 & 0.17\\\\\n\t 2016 & 4 & 2.66\\\\\n\\end{tabular}\n",
            "text/markdown": "\nA tibble: 8 × 3\n\n| year &lt;dbl&gt; | qtr &lt;dbl&gt; | return &lt;dbl&gt; |\n|---|---|---|\n| 2015 | 1 | 1.88 |\n| 2015 | 2 | 0.59 |\n| 2015 | 3 | 0.35 |\n| 2015 | 4 |   NA |\n| 2016 | 1 |   NA |\n| 2016 | 2 | 0.92 |\n| 2016 | 3 | 0.17 |\n| 2016 | 4 | 2.66 |\n\n",
            "text/html": [
              "<table>\n",
              "<caption>A tibble: 8 × 3</caption>\n",
              "<thead>\n",
              "\t<tr><th scope=col>year</th><th scope=col>qtr</th><th scope=col>return</th></tr>\n",
              "\t<tr><th scope=col>&lt;dbl&gt;</th><th scope=col>&lt;dbl&gt;</th><th scope=col>&lt;dbl&gt;</th></tr>\n",
              "</thead>\n",
              "<tbody>\n",
              "\t<tr><td>2015</td><td>1</td><td>1.88</td></tr>\n",
              "\t<tr><td>2015</td><td>2</td><td>0.59</td></tr>\n",
              "\t<tr><td>2015</td><td>3</td><td>0.35</td></tr>\n",
              "\t<tr><td>2015</td><td>4</td><td>  NA</td></tr>\n",
              "\t<tr><td>2016</td><td>1</td><td>  NA</td></tr>\n",
              "\t<tr><td>2016</td><td>2</td><td>0.92</td></tr>\n",
              "\t<tr><td>2016</td><td>3</td><td>0.17</td></tr>\n",
              "\t<tr><td>2016</td><td>4</td><td>2.66</td></tr>\n",
              "</tbody>\n",
              "</table>\n"
            ]
          },
          "metadata": {
            "tags": []
          }
        }
      ]
    },
    {
      "cell_type": "markdown",
      "metadata": {
        "id": "S15iH8_Y0znu",
        "colab_type": "text"
      },
      "source": [
        "## **Fill missing values with fill()**\n",
        "\n",
        "Somemes when a data source has primarily been used for data entry, missing values\n",
        "indicate that the previous value should be carried forward:"
      ]
    },
    {
      "cell_type": "code",
      "metadata": {
        "id": "OHu-1IDr1IcN",
        "colab_type": "code",
        "colab": {}
      },
      "source": [
        "treatment <- tribble(\n",
        "~ person, ~ treatment, ~response,\n",
        "\"Derrick Whitmore\"\n",
        ", 1, 7,\n",
        "NA, 2, 10,\n",
        "NA, 3, 9,\n",
        "\"Katherine Burke\"\n",
        ", 1, 4\n",
        ")"
      ],
      "execution_count": 0,
      "outputs": []
    },
    {
      "cell_type": "markdown",
      "metadata": {
        "id": "_qDT1Zl_1TDQ",
        "colab_type": "text"
      },
      "source": [
        "You can fill in these missing values with fill()."
      ]
    },
    {
      "cell_type": "code",
      "metadata": {
        "id": "o0eeE2ek1UII",
        "colab_type": "code",
        "colab": {
          "base_uri": "https://localhost:8080/",
          "height": 162
        },
        "outputId": "e3e0aa5e-102b-4dee-fcd2-40f29144600f"
      },
      "source": [
        "treatment %>% fill(person)"
      ],
      "execution_count": 20,
      "outputs": [
        {
          "output_type": "display_data",
          "data": {
            "text/plain": [
              "  person           treatment response\n",
              "1 Derrick Whitmore 1          7      \n",
              "2 Derrick Whitmore 2         10      \n",
              "3 Derrick Whitmore 3          9      \n",
              "4 Katherine Burke  1          4      "
            ],
            "text/latex": "A tibble: 4 × 3\n\\begin{tabular}{lll}\n person & treatment & response\\\\\n <chr> & <dbl> & <dbl>\\\\\n\\hline\n\t Derrick Whitmore & 1 &  7\\\\\n\t Derrick Whitmore & 2 & 10\\\\\n\t Derrick Whitmore & 3 &  9\\\\\n\t Katherine Burke  & 1 &  4\\\\\n\\end{tabular}\n",
            "text/markdown": "\nA tibble: 4 × 3\n\n| person &lt;chr&gt; | treatment &lt;dbl&gt; | response &lt;dbl&gt; |\n|---|---|---|\n| Derrick Whitmore | 1 |  7 |\n| Derrick Whitmore | 2 | 10 |\n| Derrick Whitmore | 3 |  9 |\n| Katherine Burke  | 1 |  4 |\n\n",
            "text/html": [
              "<table>\n",
              "<caption>A tibble: 4 × 3</caption>\n",
              "<thead>\n",
              "\t<tr><th scope=col>person</th><th scope=col>treatment</th><th scope=col>response</th></tr>\n",
              "\t<tr><th scope=col>&lt;chr&gt;</th><th scope=col>&lt;dbl&gt;</th><th scope=col>&lt;dbl&gt;</th></tr>\n",
              "</thead>\n",
              "<tbody>\n",
              "\t<tr><td>Derrick Whitmore</td><td>1</td><td> 7</td></tr>\n",
              "\t<tr><td>Derrick Whitmore</td><td>2</td><td>10</td></tr>\n",
              "\t<tr><td>Derrick Whitmore</td><td>3</td><td> 9</td></tr>\n",
              "\t<tr><td>Katherine Burke </td><td>1</td><td> 4</td></tr>\n",
              "</tbody>\n",
              "</table>\n"
            ]
          },
          "metadata": {
            "tags": []
          }
        }
      ]
    },
    {
      "cell_type": "markdown",
      "metadata": {
        "id": "8qSAST_iJdxl",
        "colab_type": "text"
      },
      "source": [
        "## **Exploratory data  analysis**\n",
        "\n",
        "EDA is an iterave process:\n",
        "*   Generate questions about your data\n",
        "*   Search for answers by visualising, transforming, and modelling data\n",
        "\n",
        "\n",
        "Two types of questions will always be useful for making discoveries within your data:\n",
        "1.   What type of variaon occurs within my variables?\n",
        "2.   What type of covariation occurs between my variables?\n",
        "\n",
        "Some comments about EDA:\n",
        "*   It is not a formal process with a strict set of rules.\n",
        "*   Explore many ideas: some will pan out, others will be dead ends.\n",
        "*   Even if questions are predefined, quality of data still needs to be assessed"
      ]
    },
    {
      "cell_type": "markdown",
      "metadata": {
        "id": "wGnnhLebL1r7",
        "colab_type": "text"
      },
      "source": [
        "## **Variation**\n",
        "\n",
        "Variation is the tendency of the values of a variable to change from measurement to\n",
        "measurement. Every variable has its own pattern of variaon, which can reveal\n",
        "interesting information"
      ]
    },
    {
      "cell_type": "markdown",
      "metadata": {
        "id": "uYzEA3NCMVAh",
        "colab_type": "text"
      },
      "source": [
        "### **Exercise**\n",
        "\n",
        "*   How can we plot the frequency of each level of the cut variable?\n",
        "*   How can we plot the frequency of each level of the carat variable?\n",
        "\n"
      ]
    },
    {
      "cell_type": "markdown",
      "metadata": {
        "id": "pD3zDso-MpPC",
        "colab_type": "text"
      },
      "source": [
        "If we instead want a tabular format"
      ]
    },
    {
      "cell_type": "code",
      "metadata": {
        "id": "X0A1Ik11Lsx2",
        "colab_type": "code",
        "colab": {
          "base_uri": "https://localhost:8080/",
          "height": 183
        },
        "outputId": "f10eb568-5abe-40fc-9bc3-7cba915bccd1"
      },
      "source": [
        "diamonds %>% count(cut)"
      ],
      "execution_count": 21,
      "outputs": [
        {
          "output_type": "display_data",
          "data": {
            "text/plain": [
              "  cut       n    \n",
              "1 Fair       1610\n",
              "2 Good       4906\n",
              "3 Very Good 12082\n",
              "4 Premium   13791\n",
              "5 Ideal     21551"
            ],
            "text/latex": "A tibble: 5 × 2\n\\begin{tabular}{ll}\n cut & n\\\\\n <ord> & <int>\\\\\n\\hline\n\t Fair      &  1610\\\\\n\t Good      &  4906\\\\\n\t Very Good & 12082\\\\\n\t Premium   & 13791\\\\\n\t Ideal     & 21551\\\\\n\\end{tabular}\n",
            "text/markdown": "\nA tibble: 5 × 2\n\n| cut &lt;ord&gt; | n &lt;int&gt; |\n|---|---|\n| Fair      |  1610 |\n| Good      |  4906 |\n| Very Good | 12082 |\n| Premium   | 13791 |\n| Ideal     | 21551 |\n\n",
            "text/html": [
              "<table>\n",
              "<caption>A tibble: 5 × 2</caption>\n",
              "<thead>\n",
              "\t<tr><th scope=col>cut</th><th scope=col>n</th></tr>\n",
              "\t<tr><th scope=col>&lt;ord&gt;</th><th scope=col>&lt;int&gt;</th></tr>\n",
              "</thead>\n",
              "<tbody>\n",
              "\t<tr><td>Fair     </td><td> 1610</td></tr>\n",
              "\t<tr><td>Good     </td><td> 4906</td></tr>\n",
              "\t<tr><td>Very Good</td><td>12082</td></tr>\n",
              "\t<tr><td>Premium  </td><td>13791</td></tr>\n",
              "\t<tr><td>Ideal    </td><td>21551</td></tr>\n",
              "</tbody>\n",
              "</table>\n"
            ]
          },
          "metadata": {
            "tags": []
          }
        }
      ]
    },
    {
      "cell_type": "markdown",
      "metadata": {
        "id": "9HLGn6dK_5Cr",
        "colab_type": "text"
      },
      "source": [
        "You can compute `carat` histogram by hand by combining dplyr::count() and ggplot2::cut_width():"
      ]
    },
    {
      "cell_type": "code",
      "metadata": {
        "id": "75EemE4lAChs",
        "colab_type": "code",
        "colab": {
          "base_uri": "https://localhost:8080/",
          "height": 309
        },
        "outputId": "2897d15a-3afd-43ab-f7d3-d36470720bb0"
      },
      "source": [
        "diamonds %>% \n",
        "  count(cut_width(carat, 0.5))"
      ],
      "execution_count": 22,
      "outputs": [
        {
          "output_type": "display_data",
          "data": {
            "text/plain": [
              "   cut_width(carat, 0.5) n    \n",
              "1  [-0.25,0.25]            785\n",
              "2  (0.25,0.75]           29498\n",
              "3  (0.75,1.25]           15977\n",
              "4  (1.25,1.75]            5313\n",
              "5  (1.75,2.25]            2002\n",
              "6  (2.25,2.75]             322\n",
              "7  (2.75,3.25]              32\n",
              "8  (3.25,3.75]               5\n",
              "9  (3.75,4.25]               4\n",
              "10 (4.25,4.75]               1\n",
              "11 (4.75,5.25]               1"
            ],
            "text/latex": "A tibble: 11 × 2\n\\begin{tabular}{ll}\n cut\\_width(carat, 0.5) & n\\\\\n <fct> & <int>\\\\\n\\hline\n\t {[}-0.25,0.25{]} &   785\\\\\n\t (0.25,0.75{]}  & 29498\\\\\n\t (0.75,1.25{]}  & 15977\\\\\n\t (1.25,1.75{]}  &  5313\\\\\n\t (1.75,2.25{]}  &  2002\\\\\n\t (2.25,2.75{]}  &   322\\\\\n\t (2.75,3.25{]}  &    32\\\\\n\t (3.25,3.75{]}  &     5\\\\\n\t (3.75,4.25{]}  &     4\\\\\n\t (4.25,4.75{]}  &     1\\\\\n\t (4.75,5.25{]}  &     1\\\\\n\\end{tabular}\n",
            "text/markdown": "\nA tibble: 11 × 2\n\n| cut_width(carat, 0.5) &lt;fct&gt; | n &lt;int&gt; |\n|---|---|\n| [-0.25,0.25] |   785 |\n| (0.25,0.75]  | 29498 |\n| (0.75,1.25]  | 15977 |\n| (1.25,1.75]  |  5313 |\n| (1.75,2.25]  |  2002 |\n| (2.25,2.75]  |   322 |\n| (2.75,3.25]  |    32 |\n| (3.25,3.75]  |     5 |\n| (3.75,4.25]  |     4 |\n| (4.25,4.75]  |     1 |\n| (4.75,5.25]  |     1 |\n\n",
            "text/html": [
              "<table>\n",
              "<caption>A tibble: 11 × 2</caption>\n",
              "<thead>\n",
              "\t<tr><th scope=col>cut_width(carat, 0.5)</th><th scope=col>n</th></tr>\n",
              "\t<tr><th scope=col>&lt;fct&gt;</th><th scope=col>&lt;int&gt;</th></tr>\n",
              "</thead>\n",
              "<tbody>\n",
              "\t<tr><td>[-0.25,0.25]</td><td>  785</td></tr>\n",
              "\t<tr><td>(0.25,0.75] </td><td>29498</td></tr>\n",
              "\t<tr><td>(0.75,1.25] </td><td>15977</td></tr>\n",
              "\t<tr><td>(1.25,1.75] </td><td> 5313</td></tr>\n",
              "\t<tr><td>(1.75,2.25] </td><td> 2002</td></tr>\n",
              "\t<tr><td>(2.25,2.75] </td><td>  322</td></tr>\n",
              "\t<tr><td>(2.75,3.25] </td><td>   32</td></tr>\n",
              "\t<tr><td>(3.25,3.75] </td><td>    5</td></tr>\n",
              "\t<tr><td>(3.75,4.25] </td><td>    4</td></tr>\n",
              "\t<tr><td>(4.25,4.75] </td><td>    1</td></tr>\n",
              "\t<tr><td>(4.75,5.25] </td><td>    1</td></tr>\n",
              "</tbody>\n",
              "</table>\n"
            ]
          },
          "metadata": {
            "tags": []
          }
        }
      ]
    },
    {
      "cell_type": "markdown",
      "metadata": {
        "id": "797w0JXhMuCb",
        "colab_type": "text"
      },
      "source": [
        "## **Idenfying typical values**\n",
        "*   Which values are the most common? Why?\n",
        "*   Which values are rare? Why? Does that match your expectations?\n",
        "*   Can you see any unusual patterns? What might explain them?"
      ]
    },
    {
      "cell_type": "code",
      "metadata": {
        "id": "q5kTTWsdNdHy",
        "colab_type": "code",
        "colab": {
          "base_uri": "https://localhost:8080/",
          "height": 437
        },
        "outputId": "f73de5f6-ac99-4a0a-eef2-782e42e9a244"
      },
      "source": [
        "diamonds %>% filter(carat < 3) %>%\n",
        "  ggplot(aes(x = carat)) + geom_histogram(binwidth = 0.01)"
      ],
      "execution_count": 23,
      "outputs": [
        {
          "output_type": "display_data",
          "data": {
            "image/png": "[encoded data removed]",
            "text/plain": [
              "plot without title"
            ]
          },
          "metadata": {
            "tags": [],
            "image/png": {
              "width": 420,
              "height": 420
            },
            "text/plain": {
              "width": 420,
              "height": 420
            }
          }
        }
      ]
    },
    {
      "cell_type": "markdown",
      "metadata": {
        "id": "PG-BWpCi8oji",
        "colab_type": "text"
      },
      "source": [
        "## **Identify outliers**\n",
        "\n",
        "Outliers are observations that are unusual – data points that don’t seem to fit the general pattern.\n",
        "\n"
      ]
    },
    {
      "cell_type": "code",
      "metadata": {
        "id": "484ABkgs9DZa",
        "colab_type": "code",
        "colab": {
          "base_uri": "https://localhost:8080/",
          "height": 437
        },
        "outputId": "094af3d9-789e-4b69-8d62-490b5322f25f"
      },
      "source": [
        "ggplot(diamonds) + \n",
        "  geom_histogram(mapping = aes(x = y), binwidth = 0.5)"
      ],
      "execution_count": 24,
      "outputs": [
        {
          "output_type": "display_data",
          "data": {
            "image/png": "[encoded data removed]",
            "text/plain": [
              "plot without title"
            ]
          },
          "metadata": {
            "tags": [],
            "image/png": {
              "width": 420,
              "height": 420
            },
            "text/plain": {
              "width": 420,
              "height": 420
            }
          }
        }
      ]
    },
    {
      "cell_type": "code",
      "metadata": {
        "id": "99hmhhqM9HWB",
        "colab_type": "code",
        "colab": {
          "base_uri": "https://localhost:8080/",
          "height": 437
        },
        "outputId": "dccaac87-18bc-4870-bc3a-9a4bee13f802"
      },
      "source": [
        "ggplot(diamonds) + \n",
        "  geom_histogram(mapping = aes(x = y), binwidth = 0.5) +\n",
        "  coord_cartesian(ylim = c(0, 50))"
      ],
      "execution_count": 25,
      "outputs": [
        {
          "output_type": "display_data",
          "data": {
            "image/png": "[encoded data removed]",
            "text/plain": [
              "plot without title"
            ]
          },
          "metadata": {
            "tags": [],
            "image/png": {
              "width": 420,
              "height": 420
            },
            "text/plain": {
              "width": 420,
              "height": 420
            }
          }
        }
      ]
    },
    {
      "cell_type": "markdown",
      "metadata": {
        "id": "aKf_wfWo9l0T",
        "colab_type": "text"
      },
      "source": [
        "The y variable measures the length (in mm) of one of the three dimensions of a diamond."
      ]
    },
    {
      "cell_type": "code",
      "metadata": {
        "id": "W3GXjqEt9srG",
        "colab_type": "code",
        "colab": {
          "base_uri": "https://localhost:8080/",
          "height": 267
        },
        "outputId": "c89ab1a2-898f-4e80-c515-fcc238180ab5"
      },
      "source": [
        "diamonds %>% filter(y < 3 | y > 20) %>% \n",
        "  select(price, carat, x, y, z) %>% arrange(y)"
      ],
      "execution_count": 26,
      "outputs": [
        {
          "output_type": "display_data",
          "data": {
            "text/plain": [
              "  price carat x    y    z   \n",
              "1  5139 1.00  0.00  0.0 0.00\n",
              "2  6381 1.14  0.00  0.0 0.00\n",
              "3 12800 1.56  0.00  0.0 0.00\n",
              "4 15686 1.20  0.00  0.0 0.00\n",
              "5 18034 2.25  0.00  0.0 0.00\n",
              "6  2130 0.71  0.00  0.0 0.00\n",
              "7  2130 0.71  0.00  0.0 0.00\n",
              "8  2075 0.51  5.15 31.8 5.12\n",
              "9 12210 2.00  8.09 58.9 8.06"
            ],
            "text/latex": "A tibble: 9 × 5\n\\begin{tabular}{lllll}\n price & carat & x & y & z\\\\\n <int> & <dbl> & <dbl> & <dbl> & <dbl>\\\\\n\\hline\n\t  5139 & 1.00 & 0.00 &  0.0 & 0.00\\\\\n\t  6381 & 1.14 & 0.00 &  0.0 & 0.00\\\\\n\t 12800 & 1.56 & 0.00 &  0.0 & 0.00\\\\\n\t 15686 & 1.20 & 0.00 &  0.0 & 0.00\\\\\n\t 18034 & 2.25 & 0.00 &  0.0 & 0.00\\\\\n\t  2130 & 0.71 & 0.00 &  0.0 & 0.00\\\\\n\t  2130 & 0.71 & 0.00 &  0.0 & 0.00\\\\\n\t  2075 & 0.51 & 5.15 & 31.8 & 5.12\\\\\n\t 12210 & 2.00 & 8.09 & 58.9 & 8.06\\\\\n\\end{tabular}\n",
            "text/markdown": "\nA tibble: 9 × 5\n\n| price &lt;int&gt; | carat &lt;dbl&gt; | x &lt;dbl&gt; | y &lt;dbl&gt; | z &lt;dbl&gt; |\n|---|---|---|---|---|\n|  5139 | 1.00 | 0.00 |  0.0 | 0.00 |\n|  6381 | 1.14 | 0.00 |  0.0 | 0.00 |\n| 12800 | 1.56 | 0.00 |  0.0 | 0.00 |\n| 15686 | 1.20 | 0.00 |  0.0 | 0.00 |\n| 18034 | 2.25 | 0.00 |  0.0 | 0.00 |\n|  2130 | 0.71 | 0.00 |  0.0 | 0.00 |\n|  2130 | 0.71 | 0.00 |  0.0 | 0.00 |\n|  2075 | 0.51 | 5.15 | 31.8 | 5.12 |\n| 12210 | 2.00 | 8.09 | 58.9 | 8.06 |\n\n",
            "text/html": [
              "<table>\n",
              "<caption>A tibble: 9 × 5</caption>\n",
              "<thead>\n",
              "\t<tr><th scope=col>price</th><th scope=col>carat</th><th scope=col>x</th><th scope=col>y</th><th scope=col>z</th></tr>\n",
              "\t<tr><th scope=col>&lt;int&gt;</th><th scope=col>&lt;dbl&gt;</th><th scope=col>&lt;dbl&gt;</th><th scope=col>&lt;dbl&gt;</th><th scope=col>&lt;dbl&gt;</th></tr>\n",
              "</thead>\n",
              "<tbody>\n",
              "\t<tr><td> 5139</td><td>1.00</td><td>0.00</td><td> 0.0</td><td>0.00</td></tr>\n",
              "\t<tr><td> 6381</td><td>1.14</td><td>0.00</td><td> 0.0</td><td>0.00</td></tr>\n",
              "\t<tr><td>12800</td><td>1.56</td><td>0.00</td><td> 0.0</td><td>0.00</td></tr>\n",
              "\t<tr><td>15686</td><td>1.20</td><td>0.00</td><td> 0.0</td><td>0.00</td></tr>\n",
              "\t<tr><td>18034</td><td>2.25</td><td>0.00</td><td> 0.0</td><td>0.00</td></tr>\n",
              "\t<tr><td> 2130</td><td>0.71</td><td>0.00</td><td> 0.0</td><td>0.00</td></tr>\n",
              "\t<tr><td> 2130</td><td>0.71</td><td>0.00</td><td> 0.0</td><td>0.00</td></tr>\n",
              "\t<tr><td> 2075</td><td>0.51</td><td>5.15</td><td>31.8</td><td>5.12</td></tr>\n",
              "\t<tr><td>12210</td><td>2.00</td><td>8.09</td><td>58.9</td><td>8.06</td></tr>\n",
              "</tbody>\n",
              "</table>\n"
            ]
          },
          "metadata": {
            "tags": []
          }
        }
      ]
    },
    {
      "cell_type": "markdown",
      "metadata": {
        "id": "UWnXYG6c9yFj",
        "colab_type": "text"
      },
      "source": [
        "Therefore, these must be entry errors! Why?"
      ]
    },
    {
      "cell_type": "markdown",
      "metadata": {
        "id": "DfiTiCEeBI4X",
        "colab_type": "text"
      },
      "source": [
        "## **Exercises**\n",
        "*   Explore the distribution of each of the x, y, and z variables in diamonds. What do you learn? Think about a diamond and how you might decide which dimension is the length, width, and depth.\n",
        "\n",
        "*   Explore the distribution of price. Do you discover anything unusual or surprising? (Hint: Carefully think about the binwidth and make sure you try a wide range of values.)"
      ]
    }
  ]
}
