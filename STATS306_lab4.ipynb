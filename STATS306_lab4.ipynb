{
  "nbformat": 4,
  "nbformat_minor": 0,
  "metadata": {
    "colab": {
      "name": "STATS306_lab4.ipynb",
      "provenance": []
    },
    "kernelspec": {
      "name": "ir",
      "display_name": "R"
    }
  },
  "cells": [
    {
      "cell_type": "markdown",
      "metadata": {
        "id": "YM5i5-9b-vKt",
        "colab_type": "text"
      },
      "source": [
        "# **Lab 4: Transforming data: Into to dplyr**"
      ]
    },
    {
      "cell_type": "markdown",
      "metadata": {
        "id": "W_rDGiSSPwJw",
        "colab_type": "text"
      },
      "source": [
        "## **dplyr verbs(functions)**\n",
        "dplyr utilities handle the vast majority of your data manipulation needs:\n",
        "\n",
        "*   filter() - for picking observations by their values,\n",
        "*   select() - for picking variables by their names,\n",
        "*   arrange() - for reorder the rows,\n",
        "*   mutate() - for creating new variables with functions on existing variables,\n",
        "*   summarise() - for collapse many values down to a single summary.\n",
        "\n",
        "\n"
      ]
    },
    {
      "cell_type": "markdown",
      "metadata": {
        "id": "CsJozkzds4j9",
        "colab_type": "text"
      },
      "source": [
        "## **The structure of dplyr functions**\n",
        "\n",
        "All verbs work similarly:\n",
        "\n",
        "\n",
        "*   The first argument is a tibble (or data frame)\n",
        "*   The subsequent ones describe what to do, using the variable names\n",
        "*   The result is a new tibble\n",
        "\n"
      ]
    },
    {
      "cell_type": "markdown",
      "metadata": {
        "id": "1Q6dYtEAtdVF",
        "colab_type": "text"
      },
      "source": [
        "## **The movie industry dataset**\n",
        "\n",
        "`movies.csv` contains information on last three decades of movies.\n",
        "The data has been scraped from the IMDb website and can be accessed from a [github repo](https://raw.githubusercontent.com/Juanets/movie-stats/master/movies.csv)."
      ]
    },
    {
      "cell_type": "code",
      "metadata": {
        "id": "d4p6kCtb-nP_",
        "colab_type": "code",
        "colab": {
          "base_uri": "https://localhost:8080/",
          "height": 204
        },
        "outputId": "7d75e418-20d8-4e4e-ab74-2d49e6fc4bbc"
      },
      "source": [
        "library (tidyverse)"
      ],
      "execution_count": 1,
      "outputs": [
        {
          "output_type": "stream",
          "text": [
            "── \u001b[1mAttaching packages\u001b[22m ─────────────────────────────────────── tidyverse 1.3.0 ──\n",
            "\n",
            "\u001b[32m✔\u001b[39m \u001b[34mggplot2\u001b[39m 3.2.1     \u001b[32m✔\u001b[39m \u001b[34mpurrr  \u001b[39m 0.3.3\n",
            "\u001b[32m✔\u001b[39m \u001b[34mtibble \u001b[39m 2.1.3     \u001b[32m✔\u001b[39m \u001b[34mdplyr  \u001b[39m 0.8.3\n",
            "\u001b[32m✔\u001b[39m \u001b[34mtidyr  \u001b[39m 1.0.2     \u001b[32m✔\u001b[39m \u001b[34mstringr\u001b[39m 1.4.0\n",
            "\u001b[32m✔\u001b[39m \u001b[34mreadr  \u001b[39m 1.3.1     \u001b[32m✔\u001b[39m \u001b[34mforcats\u001b[39m 0.4.0\n",
            "\n",
            "── \u001b[1mConflicts\u001b[22m ────────────────────────────────────────── tidyverse_conflicts() ──\n",
            "\u001b[31m✖\u001b[39m \u001b[34mdplyr\u001b[39m::\u001b[32mfilter()\u001b[39m masks \u001b[34mstats\u001b[39m::filter()\n",
            "\u001b[31m✖\u001b[39m \u001b[34mdplyr\u001b[39m::\u001b[32mlag()\u001b[39m    masks \u001b[34mstats\u001b[39m::lag()\n",
            "\n"
          ],
          "name": "stderr"
        }
      ]
    },
    {
      "cell_type": "code",
      "metadata": {
        "id": "xeL4GMbf-uHb",
        "colab_type": "code",
        "colab": {
          "base_uri": "https://localhost:8080/",
          "height": 629
        },
        "outputId": "ebb9ab96-8e42-4a0a-db99-d98a59f27254"
      },
      "source": [
        "url <- \"https://raw.githubusercontent.com/Juanets/movie-stats/master/movies.csv\"\n",
        "movies <- read_csv(url)\n",
        "locale <- Sys.setlocale(category = \"LC_ALL\", locale = \"C\")\n",
        "head(movies)"
      ],
      "execution_count": 2,
      "outputs": [
        {
          "output_type": "stream",
          "text": [
            "Parsed with column specification:\n",
            "cols(\n",
            "  budget = \u001b[32mcol_double()\u001b[39m,\n",
            "  company = \u001b[31mcol_character()\u001b[39m,\n",
            "  country = \u001b[31mcol_character()\u001b[39m,\n",
            "  director = \u001b[31mcol_character()\u001b[39m,\n",
            "  genre = \u001b[31mcol_character()\u001b[39m,\n",
            "  gross = \u001b[32mcol_double()\u001b[39m,\n",
            "  name = \u001b[31mcol_character()\u001b[39m,\n",
            "  rating = \u001b[31mcol_character()\u001b[39m,\n",
            "  released = \u001b[31mcol_character()\u001b[39m,\n",
            "  runtime = \u001b[32mcol_double()\u001b[39m,\n",
            "  score = \u001b[32mcol_double()\u001b[39m,\n",
            "  star = \u001b[31mcol_character()\u001b[39m,\n",
            "  votes = \u001b[32mcol_double()\u001b[39m,\n",
            "  writer = \u001b[31mcol_character()\u001b[39m,\n",
            "  year = \u001b[32mcol_double()\u001b[39m\n",
            ")\n",
            "\n"
          ],
          "name": "stderr"
        },
        {
          "output_type": "display_data",
          "data": {
            "text/plain": [
              "  budget   company                                country director      \n",
              "1  8000000 Columbia Pictures Corporation          USA     Rob Reiner    \n",
              "2  6000000 Paramount Pictures                     USA     John Hughes   \n",
              "3 15000000 Paramount Pictures                     USA     Tony Scott    \n",
              "4 18500000 Twentieth Century Fox Film Corporation USA     James Cameron \n",
              "5  9000000 Walt Disney Pictures                   USA     Randal Kleiser\n",
              "6  6000000 Hemdale                                UK      Oliver Stone  \n",
              "  genre     gross     name                     rating released   runtime score\n",
              "1 Adventure  52287414 Stand by Me              R      1986-08-22  89     8.1  \n",
              "2 Comedy     70136369 Ferris Bueller's Day Off PG-13  1986-06-11 103     7.8  \n",
              "3 Action    179800601 Top Gun                  PG     1986-05-16 110     6.9  \n",
              "4 Action     85160248 Aliens                   R      1986-07-18 137     8.4  \n",
              "5 Adventure  18564613 Flight of the Navigator  PG     1986-08-01  90     6.9  \n",
              "6 Drama     138530565 Platoon                  R      1987-02-06 120     8.1  \n",
              "  star              votes  writer        year\n",
              "1 Wil Wheaton       299174 Stephen King  1986\n",
              "2 Matthew Broderick 264740 John Hughes   1986\n",
              "3 Tom Cruise        236909 Jim Cash      1986\n",
              "4 Sigourney Weaver  540152 James Cameron 1986\n",
              "5 Joey Cramer        36636 Mark H. Baker 1986\n",
              "6 Charlie Sheen     317585 Oliver Stone  1986"
            ],
            "text/latex": "A tibble: 6 × 15\n\\begin{tabular}{lllllllllllllll}\n budget & company & country & director & genre & gross & name & rating & released & runtime & score & star & votes & writer & year\\\\\n <dbl> & <chr> & <chr> & <chr> & <chr> & <dbl> & <chr> & <chr> & <chr> & <dbl> & <dbl> & <chr> & <dbl> & <chr> & <dbl>\\\\\n\\hline\n\t  8000000 & Columbia Pictures Corporation          & USA & Rob Reiner     & Adventure &  52287414 & Stand by Me              & R     & 1986-08-22 &  89 & 8.1 & Wil Wheaton       & 299174 & Stephen King  & 1986\\\\\n\t  6000000 & Paramount Pictures                     & USA & John Hughes    & Comedy    &  70136369 & Ferris Bueller's Day Off & PG-13 & 1986-06-11 & 103 & 7.8 & Matthew Broderick & 264740 & John Hughes   & 1986\\\\\n\t 15000000 & Paramount Pictures                     & USA & Tony Scott     & Action    & 179800601 & Top Gun                  & PG    & 1986-05-16 & 110 & 6.9 & Tom Cruise        & 236909 & Jim Cash      & 1986\\\\\n\t 18500000 & Twentieth Century Fox Film Corporation & USA & James Cameron  & Action    &  85160248 & Aliens                   & R     & 1986-07-18 & 137 & 8.4 & Sigourney Weaver  & 540152 & James Cameron & 1986\\\\\n\t  9000000 & Walt Disney Pictures                   & USA & Randal Kleiser & Adventure &  18564613 & Flight of the Navigator  & PG    & 1986-08-01 &  90 & 6.9 & Joey Cramer       &  36636 & Mark H. Baker & 1986\\\\\n\t  6000000 & Hemdale                                & UK  & Oliver Stone   & Drama     & 138530565 & Platoon                  & R     & 1987-02-06 & 120 & 8.1 & Charlie Sheen     & 317585 & Oliver Stone  & 1986\\\\\n\\end{tabular}\n",
            "text/markdown": "\nA tibble: 6 × 15\n\n| budget &lt;dbl&gt; | company &lt;chr&gt; | country &lt;chr&gt; | director &lt;chr&gt; | genre &lt;chr&gt; | gross &lt;dbl&gt; | name &lt;chr&gt; | rating &lt;chr&gt; | released &lt;chr&gt; | runtime &lt;dbl&gt; | score &lt;dbl&gt; | star &lt;chr&gt; | votes &lt;dbl&gt; | writer &lt;chr&gt; | year &lt;dbl&gt; |\n|---|---|---|---|---|---|---|---|---|---|---|---|---|---|---|\n|  8000000 | Columbia Pictures Corporation          | USA | Rob Reiner     | Adventure |  52287414 | Stand by Me              | R     | 1986-08-22 |  89 | 8.1 | Wil Wheaton       | 299174 | Stephen King  | 1986 |\n|  6000000 | Paramount Pictures                     | USA | John Hughes    | Comedy    |  70136369 | Ferris Bueller's Day Off | PG-13 | 1986-06-11 | 103 | 7.8 | Matthew Broderick | 264740 | John Hughes   | 1986 |\n| 15000000 | Paramount Pictures                     | USA | Tony Scott     | Action    | 179800601 | Top Gun                  | PG    | 1986-05-16 | 110 | 6.9 | Tom Cruise        | 236909 | Jim Cash      | 1986 |\n| 18500000 | Twentieth Century Fox Film Corporation | USA | James Cameron  | Action    |  85160248 | Aliens                   | R     | 1986-07-18 | 137 | 8.4 | Sigourney Weaver  | 540152 | James Cameron | 1986 |\n|  9000000 | Walt Disney Pictures                   | USA | Randal Kleiser | Adventure |  18564613 | Flight of the Navigator  | PG    | 1986-08-01 |  90 | 6.9 | Joey Cramer       |  36636 | Mark H. Baker | 1986 |\n|  6000000 | Hemdale                                | UK  | Oliver Stone   | Drama     | 138530565 | Platoon                  | R     | 1987-02-06 | 120 | 8.1 | Charlie Sheen     | 317585 | Oliver Stone  | 1986 |\n\n",
            "text/html": [
              "<table>\n",
              "<caption>A tibble: 6 × 15</caption>\n",
              "<thead>\n",
              "\t<tr><th scope=col>budget</th><th scope=col>company</th><th scope=col>country</th><th scope=col>director</th><th scope=col>genre</th><th scope=col>gross</th><th scope=col>name</th><th scope=col>rating</th><th scope=col>released</th><th scope=col>runtime</th><th scope=col>score</th><th scope=col>star</th><th scope=col>votes</th><th scope=col>writer</th><th scope=col>year</th></tr>\n",
              "\t<tr><th scope=col>&lt;dbl&gt;</th><th scope=col>&lt;chr&gt;</th><th scope=col>&lt;chr&gt;</th><th scope=col>&lt;chr&gt;</th><th scope=col>&lt;chr&gt;</th><th scope=col>&lt;dbl&gt;</th><th scope=col>&lt;chr&gt;</th><th scope=col>&lt;chr&gt;</th><th scope=col>&lt;chr&gt;</th><th scope=col>&lt;dbl&gt;</th><th scope=col>&lt;dbl&gt;</th><th scope=col>&lt;chr&gt;</th><th scope=col>&lt;dbl&gt;</th><th scope=col>&lt;chr&gt;</th><th scope=col>&lt;dbl&gt;</th></tr>\n",
              "</thead>\n",
              "<tbody>\n",
              "\t<tr><td> 8000000</td><td>Columbia Pictures Corporation         </td><td>USA</td><td>Rob Reiner    </td><td>Adventure</td><td> 52287414</td><td>Stand by Me             </td><td>R    </td><td>1986-08-22</td><td> 89</td><td>8.1</td><td>Wil Wheaton      </td><td>299174</td><td>Stephen King </td><td>1986</td></tr>\n",
              "\t<tr><td> 6000000</td><td>Paramount Pictures                    </td><td>USA</td><td>John Hughes   </td><td>Comedy   </td><td> 70136369</td><td>Ferris Bueller's Day Off</td><td>PG-13</td><td>1986-06-11</td><td>103</td><td>7.8</td><td>Matthew Broderick</td><td>264740</td><td>John Hughes  </td><td>1986</td></tr>\n",
              "\t<tr><td>15000000</td><td>Paramount Pictures                    </td><td>USA</td><td>Tony Scott    </td><td>Action   </td><td>179800601</td><td>Top Gun                 </td><td>PG   </td><td>1986-05-16</td><td>110</td><td>6.9</td><td>Tom Cruise       </td><td>236909</td><td>Jim Cash     </td><td>1986</td></tr>\n",
              "\t<tr><td>18500000</td><td>Twentieth Century Fox Film Corporation</td><td>USA</td><td>James Cameron </td><td>Action   </td><td> 85160248</td><td>Aliens                  </td><td>R    </td><td>1986-07-18</td><td>137</td><td>8.4</td><td>Sigourney Weaver </td><td>540152</td><td>James Cameron</td><td>1986</td></tr>\n",
              "\t<tr><td> 9000000</td><td>Walt Disney Pictures                  </td><td>USA</td><td>Randal Kleiser</td><td>Adventure</td><td> 18564613</td><td>Flight of the Navigator </td><td>PG   </td><td>1986-08-01</td><td> 90</td><td>6.9</td><td>Joey Cramer      </td><td> 36636</td><td>Mark H. Baker</td><td>1986</td></tr>\n",
              "\t<tr><td> 6000000</td><td>Hemdale                               </td><td>UK </td><td>Oliver Stone  </td><td>Drama    </td><td>138530565</td><td>Platoon                 </td><td>R    </td><td>1987-02-06</td><td>120</td><td>8.1</td><td>Charlie Sheen    </td><td>317585</td><td>Oliver Stone </td><td>1986</td></tr>\n",
              "</tbody>\n",
              "</table>\n"
            ]
          },
          "metadata": {
            "tags": []
          }
        }
      ]
    },
    {
      "cell_type": "markdown",
      "metadata": {
        "id": "WnQYFmTQ3Ky8",
        "colab_type": "text"
      },
      "source": [
        "## **filter(): retain rows matching a criteria**\n",
        "\n",
        "filter() allows you to subset observations based on their values."
      ]
    },
    {
      "cell_type": "code",
      "metadata": {
        "id": "brHF0RmB3Iv7",
        "colab_type": "code",
        "colab": {
          "base_uri": "https://localhost:8080/",
          "height": 458
        },
        "outputId": "3c12335e-d202-4c5a-ed89-f786824cd217"
      },
      "source": [
        "# note: both comma and \"&\" represent AND condition\n",
        "filter(movies, genre == \"Comedy\", director == \"Woody Allen\")[1:10,]"
      ],
      "execution_count": 3,
      "outputs": [
        {
          "output_type": "display_data",
          "data": {
            "text/plain": [
              "   budget   company                                     country director   \n",
              "1   6400000 Orion Pictures                              USA     Woody Allen\n",
              "2  16000000 Orion Pictures                              USA     Woody Allen\n",
              "3  19000000 Jack Rollins & Charles H. Joffe Productions USA     Woody Allen\n",
              "4  15000000 Touchstone Pictures                         USA     Woody Allen\n",
              "5  12000000 Orion Pictures                              USA     Woody Allen\n",
              "6  14000000 Orion Pictures                              USA     Woody Allen\n",
              "7  20000000 TriStar Pictures                            USA     Woody Allen\n",
              "8  13500000 TriStar Pictures                            USA     Woody Allen\n",
              "9  20000000 Miramax                                     USA     Woody Allen\n",
              "10 15000000 Sweetland Films                             USA     Woody Allen\n",
              "   genre  gross    name                     rating released   runtime score\n",
              "1  Comedy 40084041 Hannah and Her Sisters   PG-13  1986-03-14 107     8.0  \n",
              "2  Comedy 14792779 Radio Days               PG     1987-01-30  88     7.6  \n",
              "3  Comedy 18254702 Crimes and Misdemeanors  PG-13  1989-11-03 104     8.0  \n",
              "4  Comedy 10763469 New York Stories         PG     1989-03-10 124     6.4  \n",
              "5  Comedy  7331647 Alice                    PG-13  1991-01-10 106     6.6  \n",
              "6  Comedy  2735731 Shadows and Fog          PG-13  1992-03-20  85     6.8  \n",
              "7  Comedy 10555619 Husbands and Wives       R      1992-09-18 103     7.6  \n",
              "8  Comedy 11285588 Manhattan Murder Mystery PG     1993-08-18 104     7.4  \n",
              "9  Comedy 13383737 Bullets Over Broadway    R      1995-02-24  98     7.5  \n",
              "10 Comedy  6700000 Mighty Aphrodite         R      1995-11-10  95     7.1  \n",
              "   star          votes writer        year\n",
              "1  Mia Farrow    56988 Woody Allen   1986\n",
              "2  Mia Farrow    26467 Woody Allen   1987\n",
              "3  Martin Landau 46269 Woody Allen   1989\n",
              "4  Woody Allen   14652 Richard Price 1989\n",
              "5  Mia Farrow    11331 Woody Allen   1990\n",
              "6  Woody Allen   14024 Woody Allen   1991\n",
              "7  Woody Allen   23108 Woody Allen   1992\n",
              "8  Woody Allen   30925 Woody Allen   1993\n",
              "9  John Cusack   31237 Woody Allen   1994\n",
              "10 Woody Allen   33697 Woody Allen   1995"
            ],
            "text/latex": "A tibble: 10 × 15\n\\begin{tabular}{lllllllllllllll}\n budget & company & country & director & genre & gross & name & rating & released & runtime & score & star & votes & writer & year\\\\\n <dbl> & <chr> & <chr> & <chr> & <chr> & <dbl> & <chr> & <chr> & <chr> & <dbl> & <dbl> & <chr> & <dbl> & <chr> & <dbl>\\\\\n\\hline\n\t  6400000 & Orion Pictures                              & USA & Woody Allen & Comedy & 40084041 & Hannah and Her Sisters   & PG-13 & 1986-03-14 & 107 & 8.0 & Mia Farrow    & 56988 & Woody Allen   & 1986\\\\\n\t 16000000 & Orion Pictures                              & USA & Woody Allen & Comedy & 14792779 & Radio Days               & PG    & 1987-01-30 &  88 & 7.6 & Mia Farrow    & 26467 & Woody Allen   & 1987\\\\\n\t 19000000 & Jack Rollins \\& Charles H. Joffe Productions & USA & Woody Allen & Comedy & 18254702 & Crimes and Misdemeanors  & PG-13 & 1989-11-03 & 104 & 8.0 & Martin Landau & 46269 & Woody Allen   & 1989\\\\\n\t 15000000 & Touchstone Pictures                         & USA & Woody Allen & Comedy & 10763469 & New York Stories         & PG    & 1989-03-10 & 124 & 6.4 & Woody Allen   & 14652 & Richard Price & 1989\\\\\n\t 12000000 & Orion Pictures                              & USA & Woody Allen & Comedy &  7331647 & Alice                    & PG-13 & 1991-01-10 & 106 & 6.6 & Mia Farrow    & 11331 & Woody Allen   & 1990\\\\\n\t 14000000 & Orion Pictures                              & USA & Woody Allen & Comedy &  2735731 & Shadows and Fog          & PG-13 & 1992-03-20 &  85 & 6.8 & Woody Allen   & 14024 & Woody Allen   & 1991\\\\\n\t 20000000 & TriStar Pictures                            & USA & Woody Allen & Comedy & 10555619 & Husbands and Wives       & R     & 1992-09-18 & 103 & 7.6 & Woody Allen   & 23108 & Woody Allen   & 1992\\\\\n\t 13500000 & TriStar Pictures                            & USA & Woody Allen & Comedy & 11285588 & Manhattan Murder Mystery & PG    & 1993-08-18 & 104 & 7.4 & Woody Allen   & 30925 & Woody Allen   & 1993\\\\\n\t 20000000 & Miramax                                     & USA & Woody Allen & Comedy & 13383737 & Bullets Over Broadway    & R     & 1995-02-24 &  98 & 7.5 & John Cusack   & 31237 & Woody Allen   & 1994\\\\\n\t 15000000 & Sweetland Films                             & USA & Woody Allen & Comedy &  6700000 & Mighty Aphrodite         & R     & 1995-11-10 &  95 & 7.1 & Woody Allen   & 33697 & Woody Allen   & 1995\\\\\n\\end{tabular}\n",
            "text/markdown": "\nA tibble: 10 × 15\n\n| budget &lt;dbl&gt; | company &lt;chr&gt; | country &lt;chr&gt; | director &lt;chr&gt; | genre &lt;chr&gt; | gross &lt;dbl&gt; | name &lt;chr&gt; | rating &lt;chr&gt; | released &lt;chr&gt; | runtime &lt;dbl&gt; | score &lt;dbl&gt; | star &lt;chr&gt; | votes &lt;dbl&gt; | writer &lt;chr&gt; | year &lt;dbl&gt; |\n|---|---|---|---|---|---|---|---|---|---|---|---|---|---|---|\n|  6400000 | Orion Pictures                              | USA | Woody Allen | Comedy | 40084041 | Hannah and Her Sisters   | PG-13 | 1986-03-14 | 107 | 8.0 | Mia Farrow    | 56988 | Woody Allen   | 1986 |\n| 16000000 | Orion Pictures                              | USA | Woody Allen | Comedy | 14792779 | Radio Days               | PG    | 1987-01-30 |  88 | 7.6 | Mia Farrow    | 26467 | Woody Allen   | 1987 |\n| 19000000 | Jack Rollins &amp; Charles H. Joffe Productions | USA | Woody Allen | Comedy | 18254702 | Crimes and Misdemeanors  | PG-13 | 1989-11-03 | 104 | 8.0 | Martin Landau | 46269 | Woody Allen   | 1989 |\n| 15000000 | Touchstone Pictures                         | USA | Woody Allen | Comedy | 10763469 | New York Stories         | PG    | 1989-03-10 | 124 | 6.4 | Woody Allen   | 14652 | Richard Price | 1989 |\n| 12000000 | Orion Pictures                              | USA | Woody Allen | Comedy |  7331647 | Alice                    | PG-13 | 1991-01-10 | 106 | 6.6 | Mia Farrow    | 11331 | Woody Allen   | 1990 |\n| 14000000 | Orion Pictures                              | USA | Woody Allen | Comedy |  2735731 | Shadows and Fog          | PG-13 | 1992-03-20 |  85 | 6.8 | Woody Allen   | 14024 | Woody Allen   | 1991 |\n| 20000000 | TriStar Pictures                            | USA | Woody Allen | Comedy | 10555619 | Husbands and Wives       | R     | 1992-09-18 | 103 | 7.6 | Woody Allen   | 23108 | Woody Allen   | 1992 |\n| 13500000 | TriStar Pictures                            | USA | Woody Allen | Comedy | 11285588 | Manhattan Murder Mystery | PG    | 1993-08-18 | 104 | 7.4 | Woody Allen   | 30925 | Woody Allen   | 1993 |\n| 20000000 | Miramax                                     | USA | Woody Allen | Comedy | 13383737 | Bullets Over Broadway    | R     | 1995-02-24 |  98 | 7.5 | John Cusack   | 31237 | Woody Allen   | 1994 |\n| 15000000 | Sweetland Films                             | USA | Woody Allen | Comedy |  6700000 | Mighty Aphrodite         | R     | 1995-11-10 |  95 | 7.1 | Woody Allen   | 33697 | Woody Allen   | 1995 |\n\n",
            "text/html": [
              "<table>\n",
              "<caption>A tibble: 10 × 15</caption>\n",
              "<thead>\n",
              "\t<tr><th scope=col>budget</th><th scope=col>company</th><th scope=col>country</th><th scope=col>director</th><th scope=col>genre</th><th scope=col>gross</th><th scope=col>name</th><th scope=col>rating</th><th scope=col>released</th><th scope=col>runtime</th><th scope=col>score</th><th scope=col>star</th><th scope=col>votes</th><th scope=col>writer</th><th scope=col>year</th></tr>\n",
              "\t<tr><th scope=col>&lt;dbl&gt;</th><th scope=col>&lt;chr&gt;</th><th scope=col>&lt;chr&gt;</th><th scope=col>&lt;chr&gt;</th><th scope=col>&lt;chr&gt;</th><th scope=col>&lt;dbl&gt;</th><th scope=col>&lt;chr&gt;</th><th scope=col>&lt;chr&gt;</th><th scope=col>&lt;chr&gt;</th><th scope=col>&lt;dbl&gt;</th><th scope=col>&lt;dbl&gt;</th><th scope=col>&lt;chr&gt;</th><th scope=col>&lt;dbl&gt;</th><th scope=col>&lt;chr&gt;</th><th scope=col>&lt;dbl&gt;</th></tr>\n",
              "</thead>\n",
              "<tbody>\n",
              "\t<tr><td> 6400000</td><td>Orion Pictures                             </td><td>USA</td><td>Woody Allen</td><td>Comedy</td><td>40084041</td><td>Hannah and Her Sisters  </td><td>PG-13</td><td>1986-03-14</td><td>107</td><td>8.0</td><td>Mia Farrow   </td><td>56988</td><td>Woody Allen  </td><td>1986</td></tr>\n",
              "\t<tr><td>16000000</td><td>Orion Pictures                             </td><td>USA</td><td>Woody Allen</td><td>Comedy</td><td>14792779</td><td>Radio Days              </td><td>PG   </td><td>1987-01-30</td><td> 88</td><td>7.6</td><td>Mia Farrow   </td><td>26467</td><td>Woody Allen  </td><td>1987</td></tr>\n",
              "\t<tr><td>19000000</td><td>Jack Rollins &amp; Charles H. Joffe Productions</td><td>USA</td><td>Woody Allen</td><td>Comedy</td><td>18254702</td><td>Crimes and Misdemeanors </td><td>PG-13</td><td>1989-11-03</td><td>104</td><td>8.0</td><td>Martin Landau</td><td>46269</td><td><span style=white-space:pre-wrap>Woody Allen  </span></td><td>1989</td></tr>\n",
              "\t<tr><td>15000000</td><td>Touchstone Pictures                        </td><td>USA</td><td>Woody Allen</td><td>Comedy</td><td>10763469</td><td>New York Stories        </td><td>PG   </td><td>1989-03-10</td><td>124</td><td>6.4</td><td>Woody Allen  </td><td>14652</td><td>Richard Price</td><td>1989</td></tr>\n",
              "\t<tr><td>12000000</td><td>Orion Pictures                             </td><td>USA</td><td>Woody Allen</td><td>Comedy</td><td> 7331647</td><td>Alice                   </td><td>PG-13</td><td>1991-01-10</td><td>106</td><td>6.6</td><td>Mia Farrow   </td><td>11331</td><td>Woody Allen  </td><td>1990</td></tr>\n",
              "\t<tr><td>14000000</td><td>Orion Pictures                             </td><td>USA</td><td>Woody Allen</td><td>Comedy</td><td> 2735731</td><td>Shadows and Fog         </td><td>PG-13</td><td>1992-03-20</td><td> 85</td><td>6.8</td><td>Woody Allen  </td><td>14024</td><td>Woody Allen  </td><td>1991</td></tr>\n",
              "\t<tr><td>20000000</td><td>TriStar Pictures                           </td><td>USA</td><td>Woody Allen</td><td>Comedy</td><td>10555619</td><td>Husbands and Wives      </td><td>R    </td><td>1992-09-18</td><td>103</td><td>7.6</td><td>Woody Allen  </td><td>23108</td><td>Woody Allen  </td><td>1992</td></tr>\n",
              "\t<tr><td>13500000</td><td>TriStar Pictures                           </td><td>USA</td><td>Woody Allen</td><td>Comedy</td><td>11285588</td><td>Manhattan Murder Mystery</td><td>PG   </td><td>1993-08-18</td><td>104</td><td>7.4</td><td>Woody Allen  </td><td>30925</td><td>Woody Allen  </td><td>1993</td></tr>\n",
              "\t<tr><td>20000000</td><td>Miramax                                    </td><td>USA</td><td>Woody Allen</td><td>Comedy</td><td>13383737</td><td>Bullets Over Broadway   </td><td>R    </td><td>1995-02-24</td><td> 98</td><td>7.5</td><td>John Cusack  </td><td>31237</td><td>Woody Allen  </td><td>1994</td></tr>\n",
              "\t<tr><td>15000000</td><td>Sweetland Films                            </td><td>USA</td><td>Woody Allen</td><td>Comedy</td><td> 6700000</td><td>Mighty Aphrodite        </td><td>R    </td><td>1995-11-10</td><td> 95</td><td>7.1</td><td>Woody Allen  </td><td>33697</td><td>Woody Allen  </td><td>1995</td></tr>\n",
              "</tbody>\n",
              "</table>\n"
            ]
          },
          "metadata": {
            "tags": []
          }
        }
      ]
    },
    {
      "cell_type": "markdown",
      "metadata": {
        "id": "6XCy8W-rsjtf",
        "colab_type": "text"
      },
      "source": [
        "Package dplyr executes the filtering and returns a new data frame. It never modifies the original one."
      ]
    },
    {
      "cell_type": "markdown",
      "metadata": {
        "id": "8UrlUhwUtH3f",
        "colab_type": "text"
      },
      "source": [
        "## **Logical operators**"
      ]
    },
    {
      "cell_type": "code",
      "metadata": {
        "id": "hd1wjzSitOx4",
        "colab_type": "code",
        "colab": {
          "base_uri": "https://localhost:8080/",
          "height": 192
        },
        "outputId": "67de34a5-2525-407a-9b55-114ddd0f7d0f"
      },
      "source": [
        "# Using AND operator\n",
        "filter(movies, country == \"USA\", budget > 2.5e8)\n",
        "# same as filter(movies, country == \"USA\" & budget > 2.5e8)"
      ],
      "execution_count": 4,
      "outputs": [
        {
          "output_type": "display_data",
          "data": {
            "text/plain": [
              "  budget   company                       country director       genre    \n",
              "1 3.00e+08 Walt Disney Pictures          USA     Gore Verbinski Action   \n",
              "2 2.58e+08 Columbia Pictures             USA     Sam Raimi      Action   \n",
              "3 2.60e+08 Walt Disney Animation Studios USA     Nathan Greno   Animation\n",
              "  gross     name                                     rating released   runtime\n",
              "1 309420425 Pirates of the Caribbean: At World's End PG-13  2007-05-25 169    \n",
              "2 336530303 Spider-Man 3                             PG-13  2007-05-04 139    \n",
              "3 200821936 Tangled                                  PG     2010-11-24 100    \n",
              "  score star          votes  writer       year\n",
              "1 7.1   Johnny Depp   514191 Ted Elliott  2007\n",
              "2 6.2   Tobey Maguire 416842 Sam Raimi    2007\n",
              "3 7.8   Mandy Moore   325621 Dan Fogelman 2010"
            ],
            "text/latex": "A spec\\_tbl\\_df: 3 × 15\n\\begin{tabular}{lllllllllllllll}\n budget & company & country & director & genre & gross & name & rating & released & runtime & score & star & votes & writer & year\\\\\n <dbl> & <chr> & <chr> & <chr> & <chr> & <dbl> & <chr> & <chr> & <chr> & <dbl> & <dbl> & <chr> & <dbl> & <chr> & <dbl>\\\\\n\\hline\n\t 3.00e+08 & Walt Disney Pictures          & USA & Gore Verbinski & Action    & 309420425 & Pirates of the Caribbean: At World's End & PG-13 & 2007-05-25 & 169 & 7.1 & Johnny Depp   & 514191 & Ted Elliott  & 2007\\\\\n\t 2.58e+08 & Columbia Pictures             & USA & Sam Raimi      & Action    & 336530303 & Spider-Man 3                             & PG-13 & 2007-05-04 & 139 & 6.2 & Tobey Maguire & 416842 & Sam Raimi    & 2007\\\\\n\t 2.60e+08 & Walt Disney Animation Studios & USA & Nathan Greno   & Animation & 200821936 & Tangled                                  & PG    & 2010-11-24 & 100 & 7.8 & Mandy Moore   & 325621 & Dan Fogelman & 2010\\\\\n\\end{tabular}\n",
            "text/markdown": "\nA spec_tbl_df: 3 × 15\n\n| budget &lt;dbl&gt; | company &lt;chr&gt; | country &lt;chr&gt; | director &lt;chr&gt; | genre &lt;chr&gt; | gross &lt;dbl&gt; | name &lt;chr&gt; | rating &lt;chr&gt; | released &lt;chr&gt; | runtime &lt;dbl&gt; | score &lt;dbl&gt; | star &lt;chr&gt; | votes &lt;dbl&gt; | writer &lt;chr&gt; | year &lt;dbl&gt; |\n|---|---|---|---|---|---|---|---|---|---|---|---|---|---|---|\n| 3.00e+08 | Walt Disney Pictures          | USA | Gore Verbinski | Action    | 309420425 | Pirates of the Caribbean: At World's End | PG-13 | 2007-05-25 | 169 | 7.1 | Johnny Depp   | 514191 | Ted Elliott  | 2007 |\n| 2.58e+08 | Columbia Pictures             | USA | Sam Raimi      | Action    | 336530303 | Spider-Man 3                             | PG-13 | 2007-05-04 | 139 | 6.2 | Tobey Maguire | 416842 | Sam Raimi    | 2007 |\n| 2.60e+08 | Walt Disney Animation Studios | USA | Nathan Greno   | Animation | 200821936 | Tangled                                  | PG    | 2010-11-24 | 100 | 7.8 | Mandy Moore   | 325621 | Dan Fogelman | 2010 |\n\n",
            "text/html": [
              "<table>\n",
              "<caption>A spec_tbl_df: 3 × 15</caption>\n",
              "<thead>\n",
              "\t<tr><th scope=col>budget</th><th scope=col>company</th><th scope=col>country</th><th scope=col>director</th><th scope=col>genre</th><th scope=col>gross</th><th scope=col>name</th><th scope=col>rating</th><th scope=col>released</th><th scope=col>runtime</th><th scope=col>score</th><th scope=col>star</th><th scope=col>votes</th><th scope=col>writer</th><th scope=col>year</th></tr>\n",
              "\t<tr><th scope=col>&lt;dbl&gt;</th><th scope=col>&lt;chr&gt;</th><th scope=col>&lt;chr&gt;</th><th scope=col>&lt;chr&gt;</th><th scope=col>&lt;chr&gt;</th><th scope=col>&lt;dbl&gt;</th><th scope=col>&lt;chr&gt;</th><th scope=col>&lt;chr&gt;</th><th scope=col>&lt;chr&gt;</th><th scope=col>&lt;dbl&gt;</th><th scope=col>&lt;dbl&gt;</th><th scope=col>&lt;chr&gt;</th><th scope=col>&lt;dbl&gt;</th><th scope=col>&lt;chr&gt;</th><th scope=col>&lt;dbl&gt;</th></tr>\n",
              "</thead>\n",
              "<tbody>\n",
              "\t<tr><td>3.00e+08</td><td>Walt Disney Pictures         </td><td>USA</td><td>Gore Verbinski</td><td>Action   </td><td>309420425</td><td>Pirates of the Caribbean: At World's End</td><td>PG-13</td><td>2007-05-25</td><td>169</td><td>7.1</td><td>Johnny Depp  </td><td>514191</td><td>Ted Elliott </td><td>2007</td></tr>\n",
              "\t<tr><td>2.58e+08</td><td>Columbia Pictures            </td><td>USA</td><td>Sam Raimi     </td><td>Action   </td><td>336530303</td><td>Spider-Man 3                            </td><td>PG-13</td><td>2007-05-04</td><td>139</td><td>6.2</td><td>Tobey Maguire</td><td>416842</td><td>Sam Raimi   </td><td>2007</td></tr>\n",
              "\t<tr><td>2.60e+08</td><td>Walt Disney Animation Studios</td><td>USA</td><td>Nathan Greno  </td><td>Animation</td><td>200821936</td><td>Tangled                                 </td><td>PG   </td><td>2010-11-24</td><td>100</td><td>7.8</td><td>Mandy Moore  </td><td>325621</td><td>Dan Fogelman</td><td>2010</td></tr>\n",
              "</tbody>\n",
              "</table>\n"
            ]
          },
          "metadata": {
            "tags": []
          }
        }
      ]
    },
    {
      "cell_type": "code",
      "metadata": {
        "id": "9bkdtOAVtPdX",
        "colab_type": "code",
        "colab": {
          "base_uri": "https://localhost:8080/",
          "height": 458
        },
        "outputId": "37b519a2-2bec-4a6f-f1e0-0ddbcf75d878"
      },
      "source": [
        "# Using OR operator\n",
        "filter(movies, country == \"USA\" | budget > 2.5e8)[1:10,]"
      ],
      "execution_count": 5,
      "outputs": [
        {
          "output_type": "display_data",
          "data": {
            "text/plain": [
              "   budget   company                                 country director        \n",
              "1   8000000 Columbia Pictures Corporation           USA     Rob Reiner      \n",
              "2   6000000 Paramount Pictures                      USA     John Hughes     \n",
              "3  15000000 Paramount Pictures                      USA     Tony Scott      \n",
              "4  18500000 Twentieth Century Fox Film Corporation  USA     James Cameron   \n",
              "5   9000000 Walt Disney Pictures                    USA     Randal Kleiser  \n",
              "6   6000000 De Laurentiis Entertainment Group (DEG) USA     David Lynch     \n",
              "7   9000000 Paramount Pictures                      USA     Howard Deutch   \n",
              "8  15000000 SLM Production Group                    USA     David Cronenberg\n",
              "9   6000000 Twentieth Century Fox Film Corporation  USA     David Seltzer   \n",
              "10 25000000 Twentieth Century Fox Film Corporation  USA     John Carpenter  \n",
              "   genre     gross     name                        rating released   runtime\n",
              "1  Adventure  52287414 Stand by Me                 R      1986-08-22  89    \n",
              "2  Comedy     70136369 Ferris Bueller's Day Off    PG-13  1986-06-11 103    \n",
              "3  Action    179800601 Top Gun                     PG     1986-05-16 110    \n",
              "4  Action     85160248 Aliens                      R      1986-07-18 137    \n",
              "5  Adventure  18564613 Flight of the Navigator     PG     1986-08-01  90    \n",
              "6  Drama       8551228 Blue Velvet                 R      1986-10-23 120    \n",
              "7  Comedy     40471663 Pretty in Pink              PG-13  1986-02-28  96    \n",
              "8  Drama      40456565 The Fly                     R      1986-08-15  96    \n",
              "9  Comedy      8200000 Lucas                       PG-13  1986-03-28 100    \n",
              "10 Action     11100000 Big Trouble in Little China PG-13  1986-07-02  99    \n",
              "   score star                votes  writer           year\n",
              "1  8.1   Wil Wheaton         299174 Stephen King     1986\n",
              "2  7.8   Matthew Broderick   264740 John Hughes      1986\n",
              "3  6.9   Tom Cruise          236909 Jim Cash         1986\n",
              "4  8.4   Sigourney Weaver    540152 James Cameron    1986\n",
              "5  6.9   Joey Cramer          36636 Mark H. Baker    1986\n",
              "6  7.8   Isabella Rossellini 146768 David Lynch      1986\n",
              "7  6.8   Molly Ringwald       60565 John Hughes      1986\n",
              "8  7.5   Jeff Goldblum       129698 George Langelaan 1986\n",
              "9  6.8   Corey Haim           12228 David Seltzer    1986\n",
              "10 7.3   Kurt Russell        101678 Gary Goldman     1986"
            ],
            "text/latex": "A tibble: 10 × 15\n\\begin{tabular}{lllllllllllllll}\n budget & company & country & director & genre & gross & name & rating & released & runtime & score & star & votes & writer & year\\\\\n <dbl> & <chr> & <chr> & <chr> & <chr> & <dbl> & <chr> & <chr> & <chr> & <dbl> & <dbl> & <chr> & <dbl> & <chr> & <dbl>\\\\\n\\hline\n\t  8000000 & Columbia Pictures Corporation           & USA & Rob Reiner       & Adventure &  52287414 & Stand by Me                 & R     & 1986-08-22 &  89 & 8.1 & Wil Wheaton         & 299174 & Stephen King     & 1986\\\\\n\t  6000000 & Paramount Pictures                      & USA & John Hughes      & Comedy    &  70136369 & Ferris Bueller's Day Off    & PG-13 & 1986-06-11 & 103 & 7.8 & Matthew Broderick   & 264740 & John Hughes      & 1986\\\\\n\t 15000000 & Paramount Pictures                      & USA & Tony Scott       & Action    & 179800601 & Top Gun                     & PG    & 1986-05-16 & 110 & 6.9 & Tom Cruise          & 236909 & Jim Cash         & 1986\\\\\n\t 18500000 & Twentieth Century Fox Film Corporation  & USA & James Cameron    & Action    &  85160248 & Aliens                      & R     & 1986-07-18 & 137 & 8.4 & Sigourney Weaver    & 540152 & James Cameron    & 1986\\\\\n\t  9000000 & Walt Disney Pictures                    & USA & Randal Kleiser   & Adventure &  18564613 & Flight of the Navigator     & PG    & 1986-08-01 &  90 & 6.9 & Joey Cramer         &  36636 & Mark H. Baker    & 1986\\\\\n\t  6000000 & De Laurentiis Entertainment Group (DEG) & USA & David Lynch      & Drama     &   8551228 & Blue Velvet                 & R     & 1986-10-23 & 120 & 7.8 & Isabella Rossellini & 146768 & David Lynch      & 1986\\\\\n\t  9000000 & Paramount Pictures                      & USA & Howard Deutch    & Comedy    &  40471663 & Pretty in Pink              & PG-13 & 1986-02-28 &  96 & 6.8 & Molly Ringwald      &  60565 & John Hughes      & 1986\\\\\n\t 15000000 & SLM Production Group                    & USA & David Cronenberg & Drama     &  40456565 & The Fly                     & R     & 1986-08-15 &  96 & 7.5 & Jeff Goldblum       & 129698 & George Langelaan & 1986\\\\\n\t  6000000 & Twentieth Century Fox Film Corporation  & USA & David Seltzer    & Comedy    &   8200000 & Lucas                       & PG-13 & 1986-03-28 & 100 & 6.8 & Corey Haim          &  12228 & David Seltzer    & 1986\\\\\n\t 25000000 & Twentieth Century Fox Film Corporation  & USA & John Carpenter   & Action    &  11100000 & Big Trouble in Little China & PG-13 & 1986-07-02 &  99 & 7.3 & Kurt Russell        & 101678 & Gary Goldman     & 1986\\\\\n\\end{tabular}\n",
            "text/markdown": "\nA tibble: 10 × 15\n\n| budget &lt;dbl&gt; | company &lt;chr&gt; | country &lt;chr&gt; | director &lt;chr&gt; | genre &lt;chr&gt; | gross &lt;dbl&gt; | name &lt;chr&gt; | rating &lt;chr&gt; | released &lt;chr&gt; | runtime &lt;dbl&gt; | score &lt;dbl&gt; | star &lt;chr&gt; | votes &lt;dbl&gt; | writer &lt;chr&gt; | year &lt;dbl&gt; |\n|---|---|---|---|---|---|---|---|---|---|---|---|---|---|---|\n|  8000000 | Columbia Pictures Corporation           | USA | Rob Reiner       | Adventure |  52287414 | Stand by Me                 | R     | 1986-08-22 |  89 | 8.1 | Wil Wheaton         | 299174 | Stephen King     | 1986 |\n|  6000000 | Paramount Pictures                      | USA | John Hughes      | Comedy    |  70136369 | Ferris Bueller's Day Off    | PG-13 | 1986-06-11 | 103 | 7.8 | Matthew Broderick   | 264740 | John Hughes      | 1986 |\n| 15000000 | Paramount Pictures                      | USA | Tony Scott       | Action    | 179800601 | Top Gun                     | PG    | 1986-05-16 | 110 | 6.9 | Tom Cruise          | 236909 | Jim Cash         | 1986 |\n| 18500000 | Twentieth Century Fox Film Corporation  | USA | James Cameron    | Action    |  85160248 | Aliens                      | R     | 1986-07-18 | 137 | 8.4 | Sigourney Weaver    | 540152 | James Cameron    | 1986 |\n|  9000000 | Walt Disney Pictures                    | USA | Randal Kleiser   | Adventure |  18564613 | Flight of the Navigator     | PG    | 1986-08-01 |  90 | 6.9 | Joey Cramer         |  36636 | Mark H. Baker    | 1986 |\n|  6000000 | De Laurentiis Entertainment Group (DEG) | USA | David Lynch      | Drama     |   8551228 | Blue Velvet                 | R     | 1986-10-23 | 120 | 7.8 | Isabella Rossellini | 146768 | David Lynch      | 1986 |\n|  9000000 | Paramount Pictures                      | USA | Howard Deutch    | Comedy    |  40471663 | Pretty in Pink              | PG-13 | 1986-02-28 |  96 | 6.8 | Molly Ringwald      |  60565 | John Hughes      | 1986 |\n| 15000000 | SLM Production Group                    | USA | David Cronenberg | Drama     |  40456565 | The Fly                     | R     | 1986-08-15 |  96 | 7.5 | Jeff Goldblum       | 129698 | George Langelaan | 1986 |\n|  6000000 | Twentieth Century Fox Film Corporation  | USA | David Seltzer    | Comedy    |   8200000 | Lucas                       | PG-13 | 1986-03-28 | 100 | 6.8 | Corey Haim          |  12228 | David Seltzer    | 1986 |\n| 25000000 | Twentieth Century Fox Film Corporation  | USA | John Carpenter   | Action    |  11100000 | Big Trouble in Little China | PG-13 | 1986-07-02 |  99 | 7.3 | Kurt Russell        | 101678 | Gary Goldman     | 1986 |\n\n",
            "text/html": [
              "<table>\n",
              "<caption>A tibble: 10 × 15</caption>\n",
              "<thead>\n",
              "\t<tr><th scope=col>budget</th><th scope=col>company</th><th scope=col>country</th><th scope=col>director</th><th scope=col>genre</th><th scope=col>gross</th><th scope=col>name</th><th scope=col>rating</th><th scope=col>released</th><th scope=col>runtime</th><th scope=col>score</th><th scope=col>star</th><th scope=col>votes</th><th scope=col>writer</th><th scope=col>year</th></tr>\n",
              "\t<tr><th scope=col>&lt;dbl&gt;</th><th scope=col>&lt;chr&gt;</th><th scope=col>&lt;chr&gt;</th><th scope=col>&lt;chr&gt;</th><th scope=col>&lt;chr&gt;</th><th scope=col>&lt;dbl&gt;</th><th scope=col>&lt;chr&gt;</th><th scope=col>&lt;chr&gt;</th><th scope=col>&lt;chr&gt;</th><th scope=col>&lt;dbl&gt;</th><th scope=col>&lt;dbl&gt;</th><th scope=col>&lt;chr&gt;</th><th scope=col>&lt;dbl&gt;</th><th scope=col>&lt;chr&gt;</th><th scope=col>&lt;dbl&gt;</th></tr>\n",
              "</thead>\n",
              "<tbody>\n",
              "\t<tr><td> 8000000</td><td>Columbia Pictures Corporation          </td><td>USA</td><td>Rob Reiner      </td><td>Adventure</td><td> 52287414</td><td>Stand by Me                </td><td>R    </td><td>1986-08-22</td><td> 89</td><td>8.1</td><td>Wil Wheaton        </td><td>299174</td><td>Stephen King    </td><td>1986</td></tr>\n",
              "\t<tr><td> 6000000</td><td>Paramount Pictures                     </td><td>USA</td><td>John Hughes     </td><td>Comedy   </td><td> 70136369</td><td>Ferris Bueller's Day Off   </td><td>PG-13</td><td>1986-06-11</td><td>103</td><td>7.8</td><td>Matthew Broderick  </td><td>264740</td><td>John Hughes     </td><td>1986</td></tr>\n",
              "\t<tr><td>15000000</td><td>Paramount Pictures                     </td><td>USA</td><td>Tony Scott      </td><td>Action   </td><td>179800601</td><td>Top Gun                    </td><td>PG   </td><td>1986-05-16</td><td>110</td><td>6.9</td><td>Tom Cruise         </td><td>236909</td><td>Jim Cash        </td><td>1986</td></tr>\n",
              "\t<tr><td>18500000</td><td>Twentieth Century Fox Film Corporation </td><td>USA</td><td>James Cameron   </td><td>Action   </td><td> 85160248</td><td>Aliens                     </td><td>R    </td><td>1986-07-18</td><td>137</td><td>8.4</td><td>Sigourney Weaver   </td><td>540152</td><td>James Cameron   </td><td>1986</td></tr>\n",
              "\t<tr><td> 9000000</td><td>Walt Disney Pictures                   </td><td>USA</td><td>Randal Kleiser  </td><td>Adventure</td><td> 18564613</td><td>Flight of the Navigator    </td><td>PG   </td><td>1986-08-01</td><td> 90</td><td>6.9</td><td>Joey Cramer        </td><td> 36636</td><td>Mark H. Baker   </td><td>1986</td></tr>\n",
              "\t<tr><td> 6000000</td><td>De Laurentiis Entertainment Group (DEG)</td><td>USA</td><td>David Lynch     </td><td>Drama    </td><td>  8551228</td><td>Blue Velvet                </td><td>R    </td><td>1986-10-23</td><td>120</td><td>7.8</td><td>Isabella Rossellini</td><td>146768</td><td>David Lynch     </td><td>1986</td></tr>\n",
              "\t<tr><td> 9000000</td><td>Paramount Pictures                     </td><td>USA</td><td>Howard Deutch   </td><td>Comedy   </td><td> 40471663</td><td>Pretty in Pink             </td><td>PG-13</td><td>1986-02-28</td><td> 96</td><td>6.8</td><td>Molly Ringwald     </td><td> 60565</td><td>John Hughes     </td><td>1986</td></tr>\n",
              "\t<tr><td>15000000</td><td>SLM Production Group                   </td><td>USA</td><td>David Cronenberg</td><td>Drama    </td><td> 40456565</td><td>The Fly                    </td><td>R    </td><td>1986-08-15</td><td> 96</td><td>7.5</td><td>Jeff Goldblum      </td><td>129698</td><td>George Langelaan</td><td>1986</td></tr>\n",
              "\t<tr><td> 6000000</td><td>Twentieth Century Fox Film Corporation </td><td>USA</td><td>David Seltzer   </td><td>Comedy   </td><td>  8200000</td><td>Lucas                      </td><td>PG-13</td><td>1986-03-28</td><td>100</td><td>6.8</td><td>Corey Haim         </td><td> 12228</td><td>David Seltzer   </td><td>1986</td></tr>\n",
              "\t<tr><td>25000000</td><td>Twentieth Century Fox Film Corporation </td><td>USA</td><td>John Carpenter  </td><td>Action   </td><td> 11100000</td><td>Big Trouble in Little China</td><td>PG-13</td><td>1986-07-02</td><td> 99</td><td>7.3</td><td>Kurt Russell       </td><td>101678</td><td>Gary Goldman    </td><td>1986</td></tr>\n",
              "</tbody>\n",
              "</table>\n"
            ]
          },
          "metadata": {
            "tags": []
          }
        }
      ]
    },
    {
      "cell_type": "code",
      "metadata": {
        "id": "_pmY32GWtSuP",
        "colab_type": "code",
        "colab": {
          "base_uri": "https://localhost:8080/",
          "height": 230
        },
        "outputId": "d8789c3d-bd74-4513-938e-5f7fb3898a0e"
      },
      "source": [
        "#Using xor(), xor indicates elementwise exclusive OR.\n",
        "filter(movies, xor(score > 9, budget > 2.5e8))"
      ],
      "execution_count": 6,
      "outputs": [
        {
          "output_type": "display_data",
          "data": {
            "text/plain": [
              "  budget   company                       country director       genre    \n",
              "1 2.50e+07 Castle Rock Entertainment     USA     Frank Darabont Crime    \n",
              "2 3.00e+08 Walt Disney Pictures          USA     Gore Verbinski Action   \n",
              "3 2.58e+08 Columbia Pictures             USA     Sam Raimi      Action   \n",
              "4 2.60e+08 Walt Disney Animation Studios USA     Nathan Greno   Animation\n",
              "  gross     name                                     rating released   runtime\n",
              "1  28341469 The Shawshank Redemption                 R      1994-10-14 142    \n",
              "2 309420425 Pirates of the Caribbean: At World's End PG-13  2007-05-25 169    \n",
              "3 336530303 Spider-Man 3                             PG-13  2007-05-04 139    \n",
              "4 200821936 Tangled                                  PG     2010-11-24 100    \n",
              "  score star          votes   writer       year\n",
              "1 9.3   Tim Robbins   1861666 Stephen King 1994\n",
              "2 7.1   Johnny Depp    514191 Ted Elliott  2007\n",
              "3 6.2   Tobey Maguire  416842 Sam Raimi    2007\n",
              "4 7.8   Mandy Moore    325621 Dan Fogelman 2010"
            ],
            "text/latex": "A spec\\_tbl\\_df: 4 × 15\n\\begin{tabular}{lllllllllllllll}\n budget & company & country & director & genre & gross & name & rating & released & runtime & score & star & votes & writer & year\\\\\n <dbl> & <chr> & <chr> & <chr> & <chr> & <dbl> & <chr> & <chr> & <chr> & <dbl> & <dbl> & <chr> & <dbl> & <chr> & <dbl>\\\\\n\\hline\n\t 2.50e+07 & Castle Rock Entertainment     & USA & Frank Darabont & Crime     &  28341469 & The Shawshank Redemption                 & R     & 1994-10-14 & 142 & 9.3 & Tim Robbins   & 1861666 & Stephen King & 1994\\\\\n\t 3.00e+08 & Walt Disney Pictures          & USA & Gore Verbinski & Action    & 309420425 & Pirates of the Caribbean: At World's End & PG-13 & 2007-05-25 & 169 & 7.1 & Johnny Depp   &  514191 & Ted Elliott  & 2007\\\\\n\t 2.58e+08 & Columbia Pictures             & USA & Sam Raimi      & Action    & 336530303 & Spider-Man 3                             & PG-13 & 2007-05-04 & 139 & 6.2 & Tobey Maguire &  416842 & Sam Raimi    & 2007\\\\\n\t 2.60e+08 & Walt Disney Animation Studios & USA & Nathan Greno   & Animation & 200821936 & Tangled                                  & PG    & 2010-11-24 & 100 & 7.8 & Mandy Moore   &  325621 & Dan Fogelman & 2010\\\\\n\\end{tabular}\n",
            "text/markdown": "\nA spec_tbl_df: 4 × 15\n\n| budget &lt;dbl&gt; | company &lt;chr&gt; | country &lt;chr&gt; | director &lt;chr&gt; | genre &lt;chr&gt; | gross &lt;dbl&gt; | name &lt;chr&gt; | rating &lt;chr&gt; | released &lt;chr&gt; | runtime &lt;dbl&gt; | score &lt;dbl&gt; | star &lt;chr&gt; | votes &lt;dbl&gt; | writer &lt;chr&gt; | year &lt;dbl&gt; |\n|---|---|---|---|---|---|---|---|---|---|---|---|---|---|---|\n| 2.50e+07 | Castle Rock Entertainment     | USA | Frank Darabont | Crime     |  28341469 | The Shawshank Redemption                 | R     | 1994-10-14 | 142 | 9.3 | Tim Robbins   | 1861666 | Stephen King | 1994 |\n| 3.00e+08 | Walt Disney Pictures          | USA | Gore Verbinski | Action    | 309420425 | Pirates of the Caribbean: At World's End | PG-13 | 2007-05-25 | 169 | 7.1 | Johnny Depp   |  514191 | Ted Elliott  | 2007 |\n| 2.58e+08 | Columbia Pictures             | USA | Sam Raimi      | Action    | 336530303 | Spider-Man 3                             | PG-13 | 2007-05-04 | 139 | 6.2 | Tobey Maguire |  416842 | Sam Raimi    | 2007 |\n| 2.60e+08 | Walt Disney Animation Studios | USA | Nathan Greno   | Animation | 200821936 | Tangled                                  | PG    | 2010-11-24 | 100 | 7.8 | Mandy Moore   |  325621 | Dan Fogelman | 2010 |\n\n",
            "text/html": [
              "<table>\n",
              "<caption>A spec_tbl_df: 4 × 15</caption>\n",
              "<thead>\n",
              "\t<tr><th scope=col>budget</th><th scope=col>company</th><th scope=col>country</th><th scope=col>director</th><th scope=col>genre</th><th scope=col>gross</th><th scope=col>name</th><th scope=col>rating</th><th scope=col>released</th><th scope=col>runtime</th><th scope=col>score</th><th scope=col>star</th><th scope=col>votes</th><th scope=col>writer</th><th scope=col>year</th></tr>\n",
              "\t<tr><th scope=col>&lt;dbl&gt;</th><th scope=col>&lt;chr&gt;</th><th scope=col>&lt;chr&gt;</th><th scope=col>&lt;chr&gt;</th><th scope=col>&lt;chr&gt;</th><th scope=col>&lt;dbl&gt;</th><th scope=col>&lt;chr&gt;</th><th scope=col>&lt;chr&gt;</th><th scope=col>&lt;chr&gt;</th><th scope=col>&lt;dbl&gt;</th><th scope=col>&lt;dbl&gt;</th><th scope=col>&lt;chr&gt;</th><th scope=col>&lt;dbl&gt;</th><th scope=col>&lt;chr&gt;</th><th scope=col>&lt;dbl&gt;</th></tr>\n",
              "</thead>\n",
              "<tbody>\n",
              "\t<tr><td>2.50e+07</td><td>Castle Rock Entertainment    </td><td>USA</td><td>Frank Darabont</td><td>Crime    </td><td> 28341469</td><td>The Shawshank Redemption                </td><td>R    </td><td>1994-10-14</td><td>142</td><td>9.3</td><td>Tim Robbins  </td><td>1861666</td><td>Stephen King</td><td>1994</td></tr>\n",
              "\t<tr><td>3.00e+08</td><td>Walt Disney Pictures         </td><td>USA</td><td>Gore Verbinski</td><td>Action   </td><td>309420425</td><td>Pirates of the Caribbean: At World's End</td><td>PG-13</td><td>2007-05-25</td><td>169</td><td>7.1</td><td>Johnny Depp  </td><td> 514191</td><td>Ted Elliott </td><td>2007</td></tr>\n",
              "\t<tr><td>2.58e+08</td><td>Columbia Pictures            </td><td>USA</td><td>Sam Raimi     </td><td>Action   </td><td>336530303</td><td>Spider-Man 3                            </td><td>PG-13</td><td>2007-05-04</td><td>139</td><td>6.2</td><td>Tobey Maguire</td><td> 416842</td><td>Sam Raimi   </td><td>2007</td></tr>\n",
              "\t<tr><td>2.60e+08</td><td>Walt Disney Animation Studios</td><td>USA</td><td>Nathan Greno  </td><td>Animation</td><td>200821936</td><td>Tangled                                 </td><td>PG   </td><td>2010-11-24</td><td>100</td><td>7.8</td><td>Mandy Moore  </td><td> 325621</td><td>Dan Fogelman</td><td>2010</td></tr>\n",
              "</tbody>\n",
              "</table>\n"
            ]
          },
          "metadata": {
            "tags": []
          }
        }
      ]
    },
    {
      "cell_type": "code",
      "metadata": {
        "id": "xeIYc7bntXLE",
        "colab_type": "code",
        "colab": {
          "base_uri": "https://localhost:8080/",
          "height": 433
        },
        "outputId": "dbba393d-c76b-409b-971a-075b3242a0df"
      },
      "source": [
        "# you can also use %in% operator\n",
        "filter(movies, country %in% c(\"Peru\", \"Colombia\", \"Chile\"))"
      ],
      "execution_count": 7,
      "outputs": [
        {
          "output_type": "display_data",
          "data": {
            "text/plain": [
              "  budget  company                  country  director                   \n",
              "1 0.0e+00 Concorde-New Horizons    Peru     Augusto Tamayo San Rom<e1>n\n",
              "2 4.5e+07 Warner Bros.             Peru     Luis Llosa                 \n",
              "3 3.0e+06 HBO Films                Colombia Joshua Marston             \n",
              "4 0.0e+00 Participant Media        Chile    Pablo Larra<ed>n           \n",
              "5 2.6e+07 Alcon Entertainment      Chile    Patricia Riggen            \n",
              "6 1.4e+06 Buffalo Films            Colombia Ciro Guerra                \n",
              "7 9.0e+06 Fox Searchlight Pictures Chile    Pablo Larra<ed>n           \n",
              "8 0.0e+00 AZ Films                 Chile    Pablo Larra<ed>n           \n",
              "  genre     gross    name                   rating    released   runtime score\n",
              "1 Action      410880 Ultra Warrior          R         1990-03-16 100     1.6  \n",
              "2 Action    57362581 The Specialist         R         1994-10-07 110     5.5  \n",
              "3 Crime      6517198 Maria Full of Grace    R         2004-08-06 101     7.5  \n",
              "4 Drama      2343664 No                     R         2012-11-09 118     7.4  \n",
              "5 Biography 12188642 Los 33                 PG-13     2015-11-13 127     6.9  \n",
              "6 Adventure  1329249 Embrace of the Serpent NOT RATED 2015-05-25 125     7.9  \n",
              "7 Biography 13958679 Jackie                 R         2016-12-02 100     6.8  \n",
              "8 Biography   938875 Neruda                 R         2017-03-10 107     7.0  \n",
              "  star                    votes writer                year\n",
              "1 Dack Rambo                661 Len Jenkin            1990\n",
              "2 Sylvester Stallone      53868 John Shirley          1994\n",
              "3 Catalina Sandino Moreno 31546 Joshua Marston        2004\n",
              "4 Gael Garc<ed>a Bernal   19935 Pedro Peirano         2012\n",
              "5 Antonio Banderas        27925 Mikko Alanne          2015\n",
              "6 Nilbio Torres           13698 Ciro Guerra           2015\n",
              "7 Natalie Portman         50652 Noah Oppenheim        2016\n",
              "8 Gael Garc<ed>a Bernal    5680 Guillermo Calder<f3>n 2016"
            ],
            "text/latex": "A spec\\_tbl\\_df: 8 × 15\n\\begin{tabular}{lllllllllllllll}\n budget & company & country & director & genre & gross & name & rating & released & runtime & score & star & votes & writer & year\\\\\n <dbl> & <chr> & <chr> & <chr> & <chr> & <dbl> & <chr> & <chr> & <chr> & <dbl> & <dbl> & <chr> & <dbl> & <chr> & <dbl>\\\\\n\\hline\n\t 0.0e+00 & Concorde-New Horizons    & Peru     & Augusto Tamayo San Rom<e1>n & Action    &   410880 & Ultra Warrior          & R         & 1990-03-16 & 100 & 1.6 & Dack Rambo              &   661 & Len Jenkin            & 1990\\\\\n\t 4.5e+07 & Warner Bros.             & Peru     & Luis Llosa                  & Action    & 57362581 & The Specialist         & R         & 1994-10-07 & 110 & 5.5 & Sylvester Stallone      & 53868 & John Shirley          & 1994\\\\\n\t 3.0e+06 & HBO Films                & Colombia & Joshua Marston              & Crime     &  6517198 & Maria Full of Grace    & R         & 2004-08-06 & 101 & 7.5 & Catalina Sandino Moreno & 31546 & Joshua Marston        & 2004\\\\\n\t 0.0e+00 & Participant Media        & Chile    & Pablo Larra<ed>n            & Drama     &  2343664 & No                     & R         & 2012-11-09 & 118 & 7.4 & Gael Garc<ed>a Bernal   & 19935 & Pedro Peirano         & 2012\\\\\n\t 2.6e+07 & Alcon Entertainment      & Chile    & Patricia Riggen             & Biography & 12188642 & Los 33                 & PG-13     & 2015-11-13 & 127 & 6.9 & Antonio Banderas        & 27925 & Mikko Alanne          & 2015\\\\\n\t 1.4e+06 & Buffalo Films            & Colombia & Ciro Guerra                 & Adventure &  1329249 & Embrace of the Serpent & NOT RATED & 2015-05-25 & 125 & 7.9 & Nilbio Torres           & 13698 & Ciro Guerra           & 2015\\\\\n\t 9.0e+06 & Fox Searchlight Pictures & Chile    & Pablo Larra<ed>n            & Biography & 13958679 & Jackie                 & R         & 2016-12-02 & 100 & 6.8 & Natalie Portman         & 50652 & Noah Oppenheim        & 2016\\\\\n\t 0.0e+00 & AZ Films                 & Chile    & Pablo Larra<ed>n            & Biography &   938875 & Neruda                 & R         & 2017-03-10 & 107 & 7.0 & Gael Garc<ed>a Bernal   &  5680 & Guillermo Calder<f3>n & 2016\\\\\n\\end{tabular}\n",
            "text/markdown": "\nA spec_tbl_df: 8 × 15\n\n| budget &lt;dbl&gt; | company &lt;chr&gt; | country &lt;chr&gt; | director &lt;chr&gt; | genre &lt;chr&gt; | gross &lt;dbl&gt; | name &lt;chr&gt; | rating &lt;chr&gt; | released &lt;chr&gt; | runtime &lt;dbl&gt; | score &lt;dbl&gt; | star &lt;chr&gt; | votes &lt;dbl&gt; | writer &lt;chr&gt; | year &lt;dbl&gt; |\n|---|---|---|---|---|---|---|---|---|---|---|---|---|---|---|\n| 0.0e+00 | Concorde-New Horizons    | Peru     | Augusto Tamayo San Rom&lt;e1&gt;n | Action    |   410880 | Ultra Warrior          | R         | 1990-03-16 | 100 | 1.6 | Dack Rambo              |   661 | Len Jenkin            | 1990 |\n| 4.5e+07 | Warner Bros.             | Peru     | Luis Llosa                  | Action    | 57362581 | The Specialist         | R         | 1994-10-07 | 110 | 5.5 | Sylvester Stallone      | 53868 | John Shirley          | 1994 |\n| 3.0e+06 | HBO Films                | Colombia | Joshua Marston              | Crime     |  6517198 | Maria Full of Grace    | R         | 2004-08-06 | 101 | 7.5 | Catalina Sandino Moreno | 31546 | Joshua Marston        | 2004 |\n| 0.0e+00 | Participant Media        | Chile    | Pablo Larra&lt;ed&gt;n            | Drama     |  2343664 | No                     | R         | 2012-11-09 | 118 | 7.4 | Gael Garc&lt;ed&gt;a Bernal   | 19935 | Pedro Peirano         | 2012 |\n| 2.6e+07 | Alcon Entertainment      | Chile    | Patricia Riggen             | Biography | 12188642 | Los 33                 | PG-13     | 2015-11-13 | 127 | 6.9 | Antonio Banderas        | 27925 | Mikko Alanne          | 2015 |\n| 1.4e+06 | Buffalo Films            | Colombia | Ciro Guerra                 | Adventure |  1329249 | Embrace of the Serpent | NOT RATED | 2015-05-25 | 125 | 7.9 | Nilbio Torres           | 13698 | Ciro Guerra           | 2015 |\n| 9.0e+06 | Fox Searchlight Pictures | Chile    | Pablo Larra&lt;ed&gt;n            | Biography | 13958679 | Jackie                 | R         | 2016-12-02 | 100 | 6.8 | Natalie Portman         | 50652 | Noah Oppenheim        | 2016 |\n| 0.0e+00 | AZ Films                 | Chile    | Pablo Larra&lt;ed&gt;n            | Biography |   938875 | Neruda                 | R         | 2017-03-10 | 107 | 7.0 | Gael Garc&lt;ed&gt;a Bernal   |  5680 | Guillermo Calder&lt;f3&gt;n | 2016 |\n\n",
            "text/html": [
              "<table>\n",
              "<caption>A spec_tbl_df: 8 × 15</caption>\n",
              "<thead>\n",
              "\t<tr><th scope=col>budget</th><th scope=col>company</th><th scope=col>country</th><th scope=col>director</th><th scope=col>genre</th><th scope=col>gross</th><th scope=col>name</th><th scope=col>rating</th><th scope=col>released</th><th scope=col>runtime</th><th scope=col>score</th><th scope=col>star</th><th scope=col>votes</th><th scope=col>writer</th><th scope=col>year</th></tr>\n",
              "\t<tr><th scope=col>&lt;dbl&gt;</th><th scope=col>&lt;chr&gt;</th><th scope=col>&lt;chr&gt;</th><th scope=col>&lt;chr&gt;</th><th scope=col>&lt;chr&gt;</th><th scope=col>&lt;dbl&gt;</th><th scope=col>&lt;chr&gt;</th><th scope=col>&lt;chr&gt;</th><th scope=col>&lt;chr&gt;</th><th scope=col>&lt;dbl&gt;</th><th scope=col>&lt;dbl&gt;</th><th scope=col>&lt;chr&gt;</th><th scope=col>&lt;dbl&gt;</th><th scope=col>&lt;chr&gt;</th><th scope=col>&lt;dbl&gt;</th></tr>\n",
              "</thead>\n",
              "<tbody>\n",
              "\t<tr><td>0.0e+00</td><td><span style=white-space:pre-wrap>Concorde-New Horizons   </span></td><td><span style=white-space:pre-wrap>Peru    </span></td><td>Augusto Tamayo San Rom&lt;e1&gt;n</td><td><span style=white-space:pre-wrap>Action   </span></td><td><span style=white-space:pre-wrap>  410880</span></td><td><span style=white-space:pre-wrap>Ultra Warrior         </span></td><td><span style=white-space:pre-wrap>R        </span></td><td>1990-03-16</td><td>100</td><td>1.6</td><td><span style=white-space:pre-wrap>Dack Rambo             </span></td><td><span style=white-space:pre-wrap>  661</span></td><td><span style=white-space:pre-wrap>Len Jenkin           </span></td><td>1990</td></tr>\n",
              "\t<tr><td>4.5e+07</td><td>Warner Bros.            </td><td>Peru    </td><td>Luis Llosa                 </td><td>Action   </td><td>57362581</td><td>The Specialist        </td><td>R        </td><td>1994-10-07</td><td>110</td><td>5.5</td><td>Sylvester Stallone     </td><td>53868</td><td>John Shirley         </td><td>1994</td></tr>\n",
              "\t<tr><td>3.0e+06</td><td>HBO Films               </td><td>Colombia</td><td>Joshua Marston             </td><td>Crime    </td><td> 6517198</td><td>Maria Full of Grace   </td><td>R        </td><td>2004-08-06</td><td>101</td><td>7.5</td><td>Catalina Sandino Moreno</td><td>31546</td><td>Joshua Marston       </td><td>2004</td></tr>\n",
              "\t<tr><td>0.0e+00</td><td><span style=white-space:pre-wrap>Participant Media       </span></td><td><span style=white-space:pre-wrap>Chile   </span></td><td><span style=white-space:pre-wrap>Pablo Larra&lt;ed&gt;n           </span></td><td><span style=white-space:pre-wrap>Drama    </span></td><td> 2343664</td><td><span style=white-space:pre-wrap>No                    </span></td><td><span style=white-space:pre-wrap>R        </span></td><td>2012-11-09</td><td>118</td><td>7.4</td><td><span style=white-space:pre-wrap>Gael Garc&lt;ed&gt;a Bernal  </span></td><td>19935</td><td><span style=white-space:pre-wrap>Pedro Peirano        </span></td><td>2012</td></tr>\n",
              "\t<tr><td>2.6e+07</td><td>Alcon Entertainment     </td><td>Chile   </td><td>Patricia Riggen            </td><td>Biography</td><td>12188642</td><td>Los 33                </td><td>PG-13    </td><td>2015-11-13</td><td>127</td><td>6.9</td><td>Antonio Banderas       </td><td>27925</td><td>Mikko Alanne         </td><td>2015</td></tr>\n",
              "\t<tr><td>1.4e+06</td><td>Buffalo Films           </td><td>Colombia</td><td>Ciro Guerra                </td><td>Adventure</td><td> 1329249</td><td>Embrace of the Serpent</td><td>NOT RATED</td><td>2015-05-25</td><td>125</td><td>7.9</td><td>Nilbio Torres          </td><td>13698</td><td>Ciro Guerra          </td><td>2015</td></tr>\n",
              "\t<tr><td>9.0e+06</td><td>Fox Searchlight Pictures</td><td><span style=white-space:pre-wrap>Chile   </span></td><td><span style=white-space:pre-wrap>Pablo Larra&lt;ed&gt;n           </span></td><td>Biography</td><td>13958679</td><td><span style=white-space:pre-wrap>Jackie                </span></td><td><span style=white-space:pre-wrap>R        </span></td><td>2016-12-02</td><td>100</td><td>6.8</td><td><span style=white-space:pre-wrap>Natalie Portman        </span></td><td>50652</td><td><span style=white-space:pre-wrap>Noah Oppenheim       </span></td><td>2016</td></tr>\n",
              "\t<tr><td>0.0e+00</td><td><span style=white-space:pre-wrap>AZ Films                </span></td><td><span style=white-space:pre-wrap>Chile   </span></td><td><span style=white-space:pre-wrap>Pablo Larra&lt;ed&gt;n           </span></td><td>Biography</td><td><span style=white-space:pre-wrap>  938875</span></td><td><span style=white-space:pre-wrap>Neruda                </span></td><td><span style=white-space:pre-wrap>R        </span></td><td>2017-03-10</td><td>107</td><td>7.0</td><td><span style=white-space:pre-wrap>Gael Garc&lt;ed&gt;a Bernal  </span></td><td> 5680</td><td>Guillermo Calder&lt;f3&gt;n</td><td>2016</td></tr>\n",
              "</tbody>\n",
              "</table>\n"
            ]
          },
          "metadata": {
            "tags": []
          }
        }
      ]
    },
    {
      "cell_type": "markdown",
      "metadata": {
        "id": "mkiwqFNJvFJq",
        "colab_type": "text"
      },
      "source": [
        "In R, if you want to find if a variable's value is missing, use the is.na() function. In particular, do not check for equality with NA:"
      ]
    },
    {
      "cell_type": "code",
      "metadata": {
        "id": "mWHwzPWgvRS-",
        "colab_type": "code",
        "colab": {}
      },
      "source": [
        "x <- 1"
      ],
      "execution_count": 0,
      "outputs": []
    },
    {
      "cell_type": "code",
      "metadata": {
        "id": "MFkHeXPuvTAs",
        "colab_type": "code",
        "colab": {
          "base_uri": "https://localhost:8080/",
          "height": 34
        },
        "outputId": "e6362fa6-5a59-44c9-948c-fc320fc1af53"
      },
      "source": [
        "x == NA"
      ],
      "execution_count": 9,
      "outputs": [
        {
          "output_type": "display_data",
          "data": {
            "text/plain": [
              "[1] NA"
            ],
            "text/latex": "<NA>",
            "text/markdown": "&lt;NA&gt;",
            "text/html": [
              "&lt;NA&gt;"
            ]
          },
          "metadata": {
            "tags": []
          }
        }
      ]
    },
    {
      "cell_type": "code",
      "metadata": {
        "id": "owi8KdOwvY8b",
        "colab_type": "code",
        "colab": {
          "base_uri": "https://localhost:8080/",
          "height": 34
        },
        "outputId": "3b262f31-9fce-4a97-a5da-fdeda50e5b8f"
      },
      "source": [
        "is.na(x)"
      ],
      "execution_count": 10,
      "outputs": [
        {
          "output_type": "display_data",
          "data": {
            "text/plain": [
              "[1] FALSE"
            ],
            "text/latex": "FALSE",
            "text/markdown": "FALSE",
            "text/html": [
              "FALSE"
            ]
          },
          "metadata": {
            "tags": []
          }
        }
      ]
    },
    {
      "cell_type": "markdown",
      "metadata": {
        "id": "oa3vcN0yviNa",
        "colab_type": "text"
      },
      "source": [
        "Similarly, never put an equality condition with NA in your dplyr filter() statements."
      ]
    },
    {
      "cell_type": "code",
      "metadata": {
        "id": "8W1Z60LGvkhj",
        "colab_type": "code",
        "colab": {
          "base_uri": "https://localhost:8080/",
          "height": 119
        },
        "outputId": "22bc157e-64d1-424b-f0f5-3c2bcf7e19b2"
      },
      "source": [
        "# create a dataframe\n",
        "df <- tibble(x = c(1, NA, 3))\n",
        "print(df)"
      ],
      "execution_count": 11,
      "outputs": [
        {
          "output_type": "stream",
          "text": [
            "\u001b[90m# A tibble: 3 x 1\u001b[39m\n",
            "      x\n",
            "  \u001b[3m\u001b[90m<dbl>\u001b[39m\u001b[23m\n",
            "\u001b[90m1\u001b[39m     1\n",
            "\u001b[90m2\u001b[39m    \u001b[31mNA\u001b[39m\n",
            "\u001b[90m3\u001b[39m     3\n"
          ],
          "name": "stdout"
        }
      ]
    },
    {
      "cell_type": "code",
      "metadata": {
        "id": "3I2WGBeuvoix",
        "colab_type": "code",
        "colab": {
          "base_uri": "https://localhost:8080/",
          "height": 133
        },
        "outputId": "6a5df088-5761-4be9-d7c9-45f17faa61be"
      },
      "source": [
        "filter(df, x > 1)"
      ],
      "execution_count": 12,
      "outputs": [
        {
          "output_type": "display_data",
          "data": {
            "text/plain": [
              "  x\n",
              "1 3"
            ],
            "text/latex": "A tibble: 1 × 1\n\\begin{tabular}{l}\n x\\\\\n <dbl>\\\\\n\\hline\n\t 3\\\\\n\\end{tabular}\n",
            "text/markdown": "\nA tibble: 1 × 1\n\n| x &lt;dbl&gt; |\n|---|\n| 3 |\n\n",
            "text/html": [
              "<table>\n",
              "<caption>A tibble: 1 × 1</caption>\n",
              "<thead>\n",
              "\t<tr><th scope=col>x</th></tr>\n",
              "\t<tr><th scope=col>&lt;dbl&gt;</th></tr>\n",
              "</thead>\n",
              "<tbody>\n",
              "\t<tr><td>3</td></tr>\n",
              "</tbody>\n",
              "</table>\n"
            ]
          },
          "metadata": {
            "tags": []
          }
        }
      ]
    },
    {
      "cell_type": "code",
      "metadata": {
        "id": "UmzdlDdxvwHX",
        "colab_type": "code",
        "colab": {
          "base_uri": "https://localhost:8080/",
          "height": 154
        },
        "outputId": "e0b067f4-5edd-4cce-9c0f-89172ccad0ac"
      },
      "source": [
        "filter(df, is.na(x) | x > 1) # Note the special case of NA"
      ],
      "execution_count": 13,
      "outputs": [
        {
          "output_type": "display_data",
          "data": {
            "text/plain": [
              "  x \n",
              "1 NA\n",
              "2  3"
            ],
            "text/latex": "A tibble: 2 × 1\n\\begin{tabular}{l}\n x\\\\\n <dbl>\\\\\n\\hline\n\t NA\\\\\n\t  3\\\\\n\\end{tabular}\n",
            "text/markdown": "\nA tibble: 2 × 1\n\n| x &lt;dbl&gt; |\n|---|\n| NA |\n|  3 |\n\n",
            "text/html": [
              "<table>\n",
              "<caption>A tibble: 2 × 1</caption>\n",
              "<thead>\n",
              "\t<tr><th scope=col>x</th></tr>\n",
              "\t<tr><th scope=col>&lt;dbl&gt;</th></tr>\n",
              "</thead>\n",
              "<tbody>\n",
              "\t<tr><td>NA</td></tr>\n",
              "\t<tr><td> 3</td></tr>\n",
              "</tbody>\n",
              "</table>\n"
            ]
          },
          "metadata": {
            "tags": []
          }
        }
      ]
    },
    {
      "cell_type": "markdown",
      "metadata": {
        "id": "Zgy_SAFIv0LO",
        "colab_type": "text"
      },
      "source": [
        "## **Exercise 1:**\n",
        "\n",
        "\n",
        "1.   Write code using filter that will allow you to output movies with `country` USA or UK and `genre` Action or Drama.\n",
        "2.   Write code using filter that will allow you to output movies with `released` later than 2014-12-01. (hint: `movies$released <- as.Date(movies$released)`)\n"
      ]
    },
    {
      "cell_type": "markdown",
      "metadata": {
        "id": "ZRPPC7oWzMro",
        "colab_type": "text"
      },
      "source": [
        "## **select(): pick columns by name**\n",
        "\n",
        "select() let’s you choose a subset variables, specified by name.\n",
        "Note, there is no need for quotation marks in dplyr:"
      ]
    },
    {
      "cell_type": "code",
      "metadata": {
        "id": "cnetgzyczWZ7",
        "colab_type": "code",
        "colab": {
          "base_uri": "https://localhost:8080/",
          "height": 498
        },
        "outputId": "7483333b-3806-4472-efde-b2bf1aae8e17"
      },
      "source": [
        "#select 5 columns\n",
        "select(movies, name, country, year, genre)[1:20,]"
      ],
      "execution_count": 14,
      "outputs": [
        {
          "output_type": "display_data",
          "data": {
            "text/plain": [
              "   name                        country   year genre    \n",
              "1  Stand by Me                 USA       1986 Adventure\n",
              "2  Ferris Bueller's Day Off    USA       1986 Comedy   \n",
              "3  Top Gun                     USA       1986 Action   \n",
              "4  Aliens                      USA       1986 Action   \n",
              "5  Flight of the Navigator     USA       1986 Adventure\n",
              "6  Platoon                     UK        1986 Drama    \n",
              "7  Labyrinth                   UK        1986 Adventure\n",
              "8  Blue Velvet                 USA       1986 Drama    \n",
              "9  Pretty in Pink              USA       1986 Comedy   \n",
              "10 The Fly                     USA       1986 Drama    \n",
              "11 Crocodile Dundee            Australia 1986 Adventure\n",
              "12 Highlander                  UK        1986 Action   \n",
              "13 Lucas                       USA       1986 Comedy   \n",
              "14 Big Trouble in Little China USA       1986 Action   \n",
              "15 Manhunter                   USA       1986 Crime    \n",
              "16 9<U+00BD> Weeks             USA       1986 Drama    \n",
              "17 Maximum Overdrive           USA       1986 Action   \n",
              "18 Little Shop of Horrors      USA       1986 Comedy   \n",
              "19 The Wraith                  USA       1986 Action   \n",
              "20 Howard the Duck             USA       1986 Action   "
            ],
            "text/latex": "A tibble: 20 × 4\n\\begin{tabular}{llll}\n name & country & year & genre\\\\\n <chr> & <chr> & <dbl> & <chr>\\\\\n\\hline\n\t Stand by Me                 & USA       & 1986 & Adventure\\\\\n\t Ferris Bueller's Day Off    & USA       & 1986 & Comedy   \\\\\n\t Top Gun                     & USA       & 1986 & Action   \\\\\n\t Aliens                      & USA       & 1986 & Action   \\\\\n\t Flight of the Navigator     & USA       & 1986 & Adventure\\\\\n\t Platoon                     & UK        & 1986 & Drama    \\\\\n\t Labyrinth                   & UK        & 1986 & Adventure\\\\\n\t Blue Velvet                 & USA       & 1986 & Drama    \\\\\n\t Pretty in Pink              & USA       & 1986 & Comedy   \\\\\n\t The Fly                     & USA       & 1986 & Drama    \\\\\n\t Crocodile Dundee            & Australia & 1986 & Adventure\\\\\n\t Highlander                  & UK        & 1986 & Action   \\\\\n\t Lucas                       & USA       & 1986 & Comedy   \\\\\n\t Big Trouble in Little China & USA       & 1986 & Action   \\\\\n\t Manhunter                   & USA       & 1986 & Crime    \\\\\n\t 9<U+00BD> Weeks             & USA       & 1986 & Drama    \\\\\n\t Maximum Overdrive           & USA       & 1986 & Action   \\\\\n\t Little Shop of Horrors      & USA       & 1986 & Comedy   \\\\\n\t The Wraith                  & USA       & 1986 & Action   \\\\\n\t Howard the Duck             & USA       & 1986 & Action   \\\\\n\\end{tabular}\n",
            "text/markdown": "\nA tibble: 20 × 4\n\n| name &lt;chr&gt; | country &lt;chr&gt; | year &lt;dbl&gt; | genre &lt;chr&gt; |\n|---|---|---|---|\n| Stand by Me                 | USA       | 1986 | Adventure |\n| Ferris Bueller's Day Off    | USA       | 1986 | Comedy    |\n| Top Gun                     | USA       | 1986 | Action    |\n| Aliens                      | USA       | 1986 | Action    |\n| Flight of the Navigator     | USA       | 1986 | Adventure |\n| Platoon                     | UK        | 1986 | Drama     |\n| Labyrinth                   | UK        | 1986 | Adventure |\n| Blue Velvet                 | USA       | 1986 | Drama     |\n| Pretty in Pink              | USA       | 1986 | Comedy    |\n| The Fly                     | USA       | 1986 | Drama     |\n| Crocodile Dundee            | Australia | 1986 | Adventure |\n| Highlander                  | UK        | 1986 | Action    |\n| Lucas                       | USA       | 1986 | Comedy    |\n| Big Trouble in Little China | USA       | 1986 | Action    |\n| Manhunter                   | USA       | 1986 | Crime     |\n| 9&lt;U+00BD&gt; Weeks             | USA       | 1986 | Drama     |\n| Maximum Overdrive           | USA       | 1986 | Action    |\n| Little Shop of Horrors      | USA       | 1986 | Comedy    |\n| The Wraith                  | USA       | 1986 | Action    |\n| Howard the Duck             | USA       | 1986 | Action    |\n\n",
            "text/html": [
              "<table>\n",
              "<caption>A tibble: 20 × 4</caption>\n",
              "<thead>\n",
              "\t<tr><th scope=col>name</th><th scope=col>country</th><th scope=col>year</th><th scope=col>genre</th></tr>\n",
              "\t<tr><th scope=col>&lt;chr&gt;</th><th scope=col>&lt;chr&gt;</th><th scope=col>&lt;dbl&gt;</th><th scope=col>&lt;chr&gt;</th></tr>\n",
              "</thead>\n",
              "<tbody>\n",
              "\t<tr><td>Stand by Me                </td><td>USA      </td><td>1986</td><td>Adventure</td></tr>\n",
              "\t<tr><td>Ferris Bueller's Day Off   </td><td>USA      </td><td>1986</td><td>Comedy   </td></tr>\n",
              "\t<tr><td>Top Gun                    </td><td>USA      </td><td>1986</td><td>Action   </td></tr>\n",
              "\t<tr><td>Aliens                     </td><td>USA      </td><td>1986</td><td>Action   </td></tr>\n",
              "\t<tr><td>Flight of the Navigator    </td><td>USA      </td><td>1986</td><td>Adventure</td></tr>\n",
              "\t<tr><td>Platoon                    </td><td>UK       </td><td>1986</td><td>Drama    </td></tr>\n",
              "\t<tr><td>Labyrinth                  </td><td>UK       </td><td>1986</td><td>Adventure</td></tr>\n",
              "\t<tr><td>Blue Velvet                </td><td>USA      </td><td>1986</td><td>Drama    </td></tr>\n",
              "\t<tr><td>Pretty in Pink             </td><td>USA      </td><td>1986</td><td>Comedy   </td></tr>\n",
              "\t<tr><td>The Fly                    </td><td>USA      </td><td>1986</td><td>Drama    </td></tr>\n",
              "\t<tr><td>Crocodile Dundee           </td><td>Australia</td><td>1986</td><td>Adventure</td></tr>\n",
              "\t<tr><td>Highlander                 </td><td>UK       </td><td>1986</td><td>Action   </td></tr>\n",
              "\t<tr><td>Lucas                      </td><td>USA      </td><td>1986</td><td>Comedy   </td></tr>\n",
              "\t<tr><td>Big Trouble in Little China</td><td>USA      </td><td>1986</td><td>Action   </td></tr>\n",
              "\t<tr><td>Manhunter                  </td><td>USA      </td><td>1986</td><td>Crime    </td></tr>\n",
              "\t<tr><td><span style=white-space:pre-wrap>9&lt;U+00BD&gt; Weeks            </span></td><td><span style=white-space:pre-wrap>USA      </span></td><td>1986</td><td><span style=white-space:pre-wrap>Drama    </span></td></tr>\n",
              "\t<tr><td>Maximum Overdrive          </td><td>USA      </td><td>1986</td><td>Action   </td></tr>\n",
              "\t<tr><td>Little Shop of Horrors     </td><td>USA      </td><td>1986</td><td>Comedy   </td></tr>\n",
              "\t<tr><td>The Wraith                 </td><td>USA      </td><td>1986</td><td>Action   </td></tr>\n",
              "\t<tr><td>Howard the Duck            </td><td>USA      </td><td>1986</td><td>Action   </td></tr>\n",
              "</tbody>\n",
              "</table>\n"
            ]
          },
          "metadata": {
            "tags": []
          }
        }
      ]
    },
    {
      "cell_type": "code",
      "metadata": {
        "id": "lnKvPietzupN",
        "colab_type": "code",
        "colab": {
          "base_uri": "https://localhost:8080/",
          "height": 498
        },
        "outputId": "da62cadf-7255-4dc7-aeaa-c371c57b83e5"
      },
      "source": [
        "select(movies, name, genre:score)[1:20,] # use colon to select contiguous columns,"
      ],
      "execution_count": 15,
      "outputs": [
        {
          "output_type": "display_data",
          "data": {
            "text/plain": [
              "   name                        genre     gross     rating released   runtime\n",
              "1  Stand by Me                 Adventure  52287414 R      1986-08-22  89    \n",
              "2  Ferris Bueller's Day Off    Comedy     70136369 PG-13  1986-06-11 103    \n",
              "3  Top Gun                     Action    179800601 PG     1986-05-16 110    \n",
              "4  Aliens                      Action     85160248 R      1986-07-18 137    \n",
              "5  Flight of the Navigator     Adventure  18564613 PG     1986-08-01  90    \n",
              "6  Platoon                     Drama     138530565 R      1987-02-06 120    \n",
              "7  Labyrinth                   Adventure  12729917 PG     1986-06-27 101    \n",
              "8  Blue Velvet                 Drama       8551228 R      1986-10-23 120    \n",
              "9  Pretty in Pink              Comedy     40471663 PG-13  1986-02-28  96    \n",
              "10 The Fly                     Drama      40456565 R      1986-08-15  96    \n",
              "11 Crocodile Dundee            Adventure 174635000 PG-13  1986-09-26  97    \n",
              "12 Highlander                  Action      5900000 R      1986-03-07 116    \n",
              "13 Lucas                       Comedy      8200000 PG-13  1986-03-28 100    \n",
              "14 Big Trouble in Little China Action     11100000 PG-13  1986-07-02  99    \n",
              "15 Manhunter                   Crime       8620929 R      1986-08-15 120    \n",
              "16 9<U+00BD> Weeks             Drama       6734844 R      1986-02-21 117    \n",
              "17 Maximum Overdrive           Action      7433663 R      1986-07-25  98    \n",
              "18 Little Shop of Horrors      Comedy     38747385 PG-13  1986-12-19  94    \n",
              "19 The Wraith                  Action      3500000 PG-13  1986-11-21  93    \n",
              "20 Howard the Duck             Action     16295774 PG     1986-08-01 110    \n",
              "   score\n",
              "1  8.1  \n",
              "2  7.8  \n",
              "3  6.9  \n",
              "4  8.4  \n",
              "5  6.9  \n",
              "6  8.1  \n",
              "7  7.4  \n",
              "8  7.8  \n",
              "9  6.8  \n",
              "10 7.5  \n",
              "11 6.5  \n",
              "12 7.2  \n",
              "13 6.8  \n",
              "14 7.3  \n",
              "15 7.2  \n",
              "16 5.9  \n",
              "17 5.4  \n",
              "18 6.9  \n",
              "19 5.9  \n",
              "20 4.6  "
            ],
            "text/latex": "A tibble: 20 × 7\n\\begin{tabular}{lllllll}\n name & genre & gross & rating & released & runtime & score\\\\\n <chr> & <chr> & <dbl> & <chr> & <chr> & <dbl> & <dbl>\\\\\n\\hline\n\t Stand by Me                 & Adventure &  52287414 & R     & 1986-08-22 &  89 & 8.1\\\\\n\t Ferris Bueller's Day Off    & Comedy    &  70136369 & PG-13 & 1986-06-11 & 103 & 7.8\\\\\n\t Top Gun                     & Action    & 179800601 & PG    & 1986-05-16 & 110 & 6.9\\\\\n\t Aliens                      & Action    &  85160248 & R     & 1986-07-18 & 137 & 8.4\\\\\n\t Flight of the Navigator     & Adventure &  18564613 & PG    & 1986-08-01 &  90 & 6.9\\\\\n\t Platoon                     & Drama     & 138530565 & R     & 1987-02-06 & 120 & 8.1\\\\\n\t Labyrinth                   & Adventure &  12729917 & PG    & 1986-06-27 & 101 & 7.4\\\\\n\t Blue Velvet                 & Drama     &   8551228 & R     & 1986-10-23 & 120 & 7.8\\\\\n\t Pretty in Pink              & Comedy    &  40471663 & PG-13 & 1986-02-28 &  96 & 6.8\\\\\n\t The Fly                     & Drama     &  40456565 & R     & 1986-08-15 &  96 & 7.5\\\\\n\t Crocodile Dundee            & Adventure & 174635000 & PG-13 & 1986-09-26 &  97 & 6.5\\\\\n\t Highlander                  & Action    &   5900000 & R     & 1986-03-07 & 116 & 7.2\\\\\n\t Lucas                       & Comedy    &   8200000 & PG-13 & 1986-03-28 & 100 & 6.8\\\\\n\t Big Trouble in Little China & Action    &  11100000 & PG-13 & 1986-07-02 &  99 & 7.3\\\\\n\t Manhunter                   & Crime     &   8620929 & R     & 1986-08-15 & 120 & 7.2\\\\\n\t 9<U+00BD> Weeks             & Drama     &   6734844 & R     & 1986-02-21 & 117 & 5.9\\\\\n\t Maximum Overdrive           & Action    &   7433663 & R     & 1986-07-25 &  98 & 5.4\\\\\n\t Little Shop of Horrors      & Comedy    &  38747385 & PG-13 & 1986-12-19 &  94 & 6.9\\\\\n\t The Wraith                  & Action    &   3500000 & PG-13 & 1986-11-21 &  93 & 5.9\\\\\n\t Howard the Duck             & Action    &  16295774 & PG    & 1986-08-01 & 110 & 4.6\\\\\n\\end{tabular}\n",
            "text/markdown": "\nA tibble: 20 × 7\n\n| name &lt;chr&gt; | genre &lt;chr&gt; | gross &lt;dbl&gt; | rating &lt;chr&gt; | released &lt;chr&gt; | runtime &lt;dbl&gt; | score &lt;dbl&gt; |\n|---|---|---|---|---|---|---|\n| Stand by Me                 | Adventure |  52287414 | R     | 1986-08-22 |  89 | 8.1 |\n| Ferris Bueller's Day Off    | Comedy    |  70136369 | PG-13 | 1986-06-11 | 103 | 7.8 |\n| Top Gun                     | Action    | 179800601 | PG    | 1986-05-16 | 110 | 6.9 |\n| Aliens                      | Action    |  85160248 | R     | 1986-07-18 | 137 | 8.4 |\n| Flight of the Navigator     | Adventure |  18564613 | PG    | 1986-08-01 |  90 | 6.9 |\n| Platoon                     | Drama     | 138530565 | R     | 1987-02-06 | 120 | 8.1 |\n| Labyrinth                   | Adventure |  12729917 | PG    | 1986-06-27 | 101 | 7.4 |\n| Blue Velvet                 | Drama     |   8551228 | R     | 1986-10-23 | 120 | 7.8 |\n| Pretty in Pink              | Comedy    |  40471663 | PG-13 | 1986-02-28 |  96 | 6.8 |\n| The Fly                     | Drama     |  40456565 | R     | 1986-08-15 |  96 | 7.5 |\n| Crocodile Dundee            | Adventure | 174635000 | PG-13 | 1986-09-26 |  97 | 6.5 |\n| Highlander                  | Action    |   5900000 | R     | 1986-03-07 | 116 | 7.2 |\n| Lucas                       | Comedy    |   8200000 | PG-13 | 1986-03-28 | 100 | 6.8 |\n| Big Trouble in Little China | Action    |  11100000 | PG-13 | 1986-07-02 |  99 | 7.3 |\n| Manhunter                   | Crime     |   8620929 | R     | 1986-08-15 | 120 | 7.2 |\n| 9&lt;U+00BD&gt; Weeks             | Drama     |   6734844 | R     | 1986-02-21 | 117 | 5.9 |\n| Maximum Overdrive           | Action    |   7433663 | R     | 1986-07-25 |  98 | 5.4 |\n| Little Shop of Horrors      | Comedy    |  38747385 | PG-13 | 1986-12-19 |  94 | 6.9 |\n| The Wraith                  | Action    |   3500000 | PG-13 | 1986-11-21 |  93 | 5.9 |\n| Howard the Duck             | Action    |  16295774 | PG    | 1986-08-01 | 110 | 4.6 |\n\n",
            "text/html": [
              "<table>\n",
              "<caption>A tibble: 20 × 7</caption>\n",
              "<thead>\n",
              "\t<tr><th scope=col>name</th><th scope=col>genre</th><th scope=col>gross</th><th scope=col>rating</th><th scope=col>released</th><th scope=col>runtime</th><th scope=col>score</th></tr>\n",
              "\t<tr><th scope=col>&lt;chr&gt;</th><th scope=col>&lt;chr&gt;</th><th scope=col>&lt;dbl&gt;</th><th scope=col>&lt;chr&gt;</th><th scope=col>&lt;chr&gt;</th><th scope=col>&lt;dbl&gt;</th><th scope=col>&lt;dbl&gt;</th></tr>\n",
              "</thead>\n",
              "<tbody>\n",
              "\t<tr><td>Stand by Me                </td><td>Adventure</td><td> 52287414</td><td>R    </td><td>1986-08-22</td><td> 89</td><td>8.1</td></tr>\n",
              "\t<tr><td>Ferris Bueller's Day Off   </td><td>Comedy   </td><td> 70136369</td><td>PG-13</td><td>1986-06-11</td><td>103</td><td>7.8</td></tr>\n",
              "\t<tr><td>Top Gun                    </td><td>Action   </td><td>179800601</td><td>PG   </td><td>1986-05-16</td><td>110</td><td>6.9</td></tr>\n",
              "\t<tr><td>Aliens                     </td><td>Action   </td><td> 85160248</td><td>R    </td><td>1986-07-18</td><td>137</td><td>8.4</td></tr>\n",
              "\t<tr><td>Flight of the Navigator    </td><td>Adventure</td><td> 18564613</td><td>PG   </td><td>1986-08-01</td><td> 90</td><td>6.9</td></tr>\n",
              "\t<tr><td>Platoon                    </td><td>Drama    </td><td>138530565</td><td>R    </td><td>1987-02-06</td><td>120</td><td>8.1</td></tr>\n",
              "\t<tr><td>Labyrinth                  </td><td>Adventure</td><td> 12729917</td><td>PG   </td><td>1986-06-27</td><td>101</td><td>7.4</td></tr>\n",
              "\t<tr><td>Blue Velvet                </td><td>Drama    </td><td>  8551228</td><td>R    </td><td>1986-10-23</td><td>120</td><td>7.8</td></tr>\n",
              "\t<tr><td>Pretty in Pink             </td><td>Comedy   </td><td> 40471663</td><td>PG-13</td><td>1986-02-28</td><td> 96</td><td>6.8</td></tr>\n",
              "\t<tr><td>The Fly                    </td><td>Drama    </td><td> 40456565</td><td>R    </td><td>1986-08-15</td><td> 96</td><td>7.5</td></tr>\n",
              "\t<tr><td>Crocodile Dundee           </td><td>Adventure</td><td>174635000</td><td>PG-13</td><td>1986-09-26</td><td> 97</td><td>6.5</td></tr>\n",
              "\t<tr><td>Highlander                 </td><td>Action   </td><td>  5900000</td><td>R    </td><td>1986-03-07</td><td>116</td><td>7.2</td></tr>\n",
              "\t<tr><td>Lucas                      </td><td>Comedy   </td><td>  8200000</td><td>PG-13</td><td>1986-03-28</td><td>100</td><td>6.8</td></tr>\n",
              "\t<tr><td>Big Trouble in Little China</td><td>Action   </td><td> 11100000</td><td>PG-13</td><td>1986-07-02</td><td> 99</td><td>7.3</td></tr>\n",
              "\t<tr><td>Manhunter                  </td><td>Crime    </td><td>  8620929</td><td>R    </td><td>1986-08-15</td><td>120</td><td>7.2</td></tr>\n",
              "\t<tr><td><span style=white-space:pre-wrap>9&lt;U+00BD&gt; Weeks            </span></td><td><span style=white-space:pre-wrap>Drama    </span></td><td><span style=white-space:pre-wrap>  6734844</span></td><td><span style=white-space:pre-wrap>R    </span></td><td>1986-02-21</td><td>117</td><td>5.9</td></tr>\n",
              "\t<tr><td>Maximum Overdrive          </td><td>Action   </td><td>  7433663</td><td>R    </td><td>1986-07-25</td><td> 98</td><td>5.4</td></tr>\n",
              "\t<tr><td>Little Shop of Horrors     </td><td>Comedy   </td><td> 38747385</td><td>PG-13</td><td>1986-12-19</td><td> 94</td><td>6.9</td></tr>\n",
              "\t<tr><td>The Wraith                 </td><td>Action   </td><td>  3500000</td><td>PG-13</td><td>1986-11-21</td><td> 93</td><td>5.9</td></tr>\n",
              "\t<tr><td>Howard the Duck            </td><td>Action   </td><td> 16295774</td><td>PG   </td><td>1986-08-01</td><td>110</td><td>4.6</td></tr>\n",
              "</tbody>\n",
              "</table>\n"
            ]
          },
          "metadata": {
            "tags": []
          }
        }
      ]
    },
    {
      "cell_type": "code",
      "metadata": {
        "id": "K-JJHgF_zvkx",
        "colab_type": "code",
        "colab": {
          "base_uri": "https://localhost:8080/",
          "height": 498
        },
        "outputId": "c9b1bf03-2d8c-41be-bd64-f290cc76790f"
      },
      "source": [
        "select(movies, -(star:writer))[1:20,] # To drop columns use a minus, \"-\""
      ],
      "execution_count": 16,
      "outputs": [
        {
          "output_type": "display_data",
          "data": {
            "text/plain": [
              "   budget   company                                 country   director        \n",
              "1   8000000 Columbia Pictures Corporation           USA       Rob Reiner      \n",
              "2   6000000 Paramount Pictures                      USA       John Hughes     \n",
              "3  15000000 Paramount Pictures                      USA       Tony Scott      \n",
              "4  18500000 Twentieth Century Fox Film Corporation  USA       James Cameron   \n",
              "5   9000000 Walt Disney Pictures                    USA       Randal Kleiser  \n",
              "6   6000000 Hemdale                                 UK        Oliver Stone    \n",
              "7  25000000 Henson Associates (HA)                  UK        Jim Henson      \n",
              "8   6000000 De Laurentiis Entertainment Group (DEG) USA       David Lynch     \n",
              "9   9000000 Paramount Pictures                      USA       Howard Deutch   \n",
              "10 15000000 SLM Production Group                    USA       David Cronenberg\n",
              "11  8800000 Rimfire Films                           Australia Peter Faiman    \n",
              "12 16000000 Thorn EMI Screen Entertainment          UK        Russell Mulcahy \n",
              "13  6000000 Twentieth Century Fox Film Corporation  USA       David Seltzer   \n",
              "14 25000000 Twentieth Century Fox Film Corporation  USA       John Carpenter  \n",
              "15 15000000 De Laurentiis Entertainment Group (DEG) USA       Michael Mann    \n",
              "16 17000000 Producers Sales Organization (PSO)      USA       Adrian Lyne     \n",
              "17 10000000 De Laurentiis Entertainment Group (DEG) USA       Stephen King    \n",
              "18 25000000 Geffen Company, The                     USA       Frank Oz        \n",
              "19  2700000 New Century Entertainment Corporation   USA       Mike Marvin     \n",
              "20 35000000 Universal Pictures                      USA       Willard Huyck   \n",
              "   genre     gross     name                        rating released   runtime\n",
              "1  Adventure  52287414 Stand by Me                 R      1986-08-22  89    \n",
              "2  Comedy     70136369 Ferris Bueller's Day Off    PG-13  1986-06-11 103    \n",
              "3  Action    179800601 Top Gun                     PG     1986-05-16 110    \n",
              "4  Action     85160248 Aliens                      R      1986-07-18 137    \n",
              "5  Adventure  18564613 Flight of the Navigator     PG     1986-08-01  90    \n",
              "6  Drama     138530565 Platoon                     R      1987-02-06 120    \n",
              "7  Adventure  12729917 Labyrinth                   PG     1986-06-27 101    \n",
              "8  Drama       8551228 Blue Velvet                 R      1986-10-23 120    \n",
              "9  Comedy     40471663 Pretty in Pink              PG-13  1986-02-28  96    \n",
              "10 Drama      40456565 The Fly                     R      1986-08-15  96    \n",
              "11 Adventure 174635000 Crocodile Dundee            PG-13  1986-09-26  97    \n",
              "12 Action      5900000 Highlander                  R      1986-03-07 116    \n",
              "13 Comedy      8200000 Lucas                       PG-13  1986-03-28 100    \n",
              "14 Action     11100000 Big Trouble in Little China PG-13  1986-07-02  99    \n",
              "15 Crime       8620929 Manhunter                   R      1986-08-15 120    \n",
              "16 Drama       6734844 9<U+00BD> Weeks             R      1986-02-21 117    \n",
              "17 Action      7433663 Maximum Overdrive           R      1986-07-25  98    \n",
              "18 Comedy     38747385 Little Shop of Horrors      PG-13  1986-12-19  94    \n",
              "19 Action      3500000 The Wraith                  PG-13  1986-11-21  93    \n",
              "20 Action     16295774 Howard the Duck             PG     1986-08-01 110    \n",
              "   score year\n",
              "1  8.1   1986\n",
              "2  7.8   1986\n",
              "3  6.9   1986\n",
              "4  8.4   1986\n",
              "5  6.9   1986\n",
              "6  8.1   1986\n",
              "7  7.4   1986\n",
              "8  7.8   1986\n",
              "9  6.8   1986\n",
              "10 7.5   1986\n",
              "11 6.5   1986\n",
              "12 7.2   1986\n",
              "13 6.8   1986\n",
              "14 7.3   1986\n",
              "15 7.2   1986\n",
              "16 5.9   1986\n",
              "17 5.4   1986\n",
              "18 6.9   1986\n",
              "19 5.9   1986\n",
              "20 4.6   1986"
            ],
            "text/latex": "A tibble: 20 × 12\n\\begin{tabular}{llllllllllll}\n budget & company & country & director & genre & gross & name & rating & released & runtime & score & year\\\\\n <dbl> & <chr> & <chr> & <chr> & <chr> & <dbl> & <chr> & <chr> & <chr> & <dbl> & <dbl> & <dbl>\\\\\n\\hline\n\t  8000000 & Columbia Pictures Corporation           & USA       & Rob Reiner       & Adventure &  52287414 & Stand by Me                 & R     & 1986-08-22 &  89 & 8.1 & 1986\\\\\n\t  6000000 & Paramount Pictures                      & USA       & John Hughes      & Comedy    &  70136369 & Ferris Bueller's Day Off    & PG-13 & 1986-06-11 & 103 & 7.8 & 1986\\\\\n\t 15000000 & Paramount Pictures                      & USA       & Tony Scott       & Action    & 179800601 & Top Gun                     & PG    & 1986-05-16 & 110 & 6.9 & 1986\\\\\n\t 18500000 & Twentieth Century Fox Film Corporation  & USA       & James Cameron    & Action    &  85160248 & Aliens                      & R     & 1986-07-18 & 137 & 8.4 & 1986\\\\\n\t  9000000 & Walt Disney Pictures                    & USA       & Randal Kleiser   & Adventure &  18564613 & Flight of the Navigator     & PG    & 1986-08-01 &  90 & 6.9 & 1986\\\\\n\t  6000000 & Hemdale                                 & UK        & Oliver Stone     & Drama     & 138530565 & Platoon                     & R     & 1987-02-06 & 120 & 8.1 & 1986\\\\\n\t 25000000 & Henson Associates (HA)                  & UK        & Jim Henson       & Adventure &  12729917 & Labyrinth                   & PG    & 1986-06-27 & 101 & 7.4 & 1986\\\\\n\t  6000000 & De Laurentiis Entertainment Group (DEG) & USA       & David Lynch      & Drama     &   8551228 & Blue Velvet                 & R     & 1986-10-23 & 120 & 7.8 & 1986\\\\\n\t  9000000 & Paramount Pictures                      & USA       & Howard Deutch    & Comedy    &  40471663 & Pretty in Pink              & PG-13 & 1986-02-28 &  96 & 6.8 & 1986\\\\\n\t 15000000 & SLM Production Group                    & USA       & David Cronenberg & Drama     &  40456565 & The Fly                     & R     & 1986-08-15 &  96 & 7.5 & 1986\\\\\n\t  8800000 & Rimfire Films                           & Australia & Peter Faiman     & Adventure & 174635000 & Crocodile Dundee            & PG-13 & 1986-09-26 &  97 & 6.5 & 1986\\\\\n\t 16000000 & Thorn EMI Screen Entertainment          & UK        & Russell Mulcahy  & Action    &   5900000 & Highlander                  & R     & 1986-03-07 & 116 & 7.2 & 1986\\\\\n\t  6000000 & Twentieth Century Fox Film Corporation  & USA       & David Seltzer    & Comedy    &   8200000 & Lucas                       & PG-13 & 1986-03-28 & 100 & 6.8 & 1986\\\\\n\t 25000000 & Twentieth Century Fox Film Corporation  & USA       & John Carpenter   & Action    &  11100000 & Big Trouble in Little China & PG-13 & 1986-07-02 &  99 & 7.3 & 1986\\\\\n\t 15000000 & De Laurentiis Entertainment Group (DEG) & USA       & Michael Mann     & Crime     &   8620929 & Manhunter                   & R     & 1986-08-15 & 120 & 7.2 & 1986\\\\\n\t 17000000 & Producers Sales Organization (PSO)      & USA       & Adrian Lyne      & Drama     &   6734844 & 9<U+00BD> Weeks             & R     & 1986-02-21 & 117 & 5.9 & 1986\\\\\n\t 10000000 & De Laurentiis Entertainment Group (DEG) & USA       & Stephen King     & Action    &   7433663 & Maximum Overdrive           & R     & 1986-07-25 &  98 & 5.4 & 1986\\\\\n\t 25000000 & Geffen Company, The                     & USA       & Frank Oz         & Comedy    &  38747385 & Little Shop of Horrors      & PG-13 & 1986-12-19 &  94 & 6.9 & 1986\\\\\n\t  2700000 & New Century Entertainment Corporation   & USA       & Mike Marvin      & Action    &   3500000 & The Wraith                  & PG-13 & 1986-11-21 &  93 & 5.9 & 1986\\\\\n\t 35000000 & Universal Pictures                      & USA       & Willard Huyck    & Action    &  16295774 & Howard the Duck             & PG    & 1986-08-01 & 110 & 4.6 & 1986\\\\\n\\end{tabular}\n",
            "text/markdown": "\nA tibble: 20 × 12\n\n| budget &lt;dbl&gt; | company &lt;chr&gt; | country &lt;chr&gt; | director &lt;chr&gt; | genre &lt;chr&gt; | gross &lt;dbl&gt; | name &lt;chr&gt; | rating &lt;chr&gt; | released &lt;chr&gt; | runtime &lt;dbl&gt; | score &lt;dbl&gt; | year &lt;dbl&gt; |\n|---|---|---|---|---|---|---|---|---|---|---|---|\n|  8000000 | Columbia Pictures Corporation           | USA       | Rob Reiner       | Adventure |  52287414 | Stand by Me                 | R     | 1986-08-22 |  89 | 8.1 | 1986 |\n|  6000000 | Paramount Pictures                      | USA       | John Hughes      | Comedy    |  70136369 | Ferris Bueller's Day Off    | PG-13 | 1986-06-11 | 103 | 7.8 | 1986 |\n| 15000000 | Paramount Pictures                      | USA       | Tony Scott       | Action    | 179800601 | Top Gun                     | PG    | 1986-05-16 | 110 | 6.9 | 1986 |\n| 18500000 | Twentieth Century Fox Film Corporation  | USA       | James Cameron    | Action    |  85160248 | Aliens                      | R     | 1986-07-18 | 137 | 8.4 | 1986 |\n|  9000000 | Walt Disney Pictures                    | USA       | Randal Kleiser   | Adventure |  18564613 | Flight of the Navigator     | PG    | 1986-08-01 |  90 | 6.9 | 1986 |\n|  6000000 | Hemdale                                 | UK        | Oliver Stone     | Drama     | 138530565 | Platoon                     | R     | 1987-02-06 | 120 | 8.1 | 1986 |\n| 25000000 | Henson Associates (HA)                  | UK        | Jim Henson       | Adventure |  12729917 | Labyrinth                   | PG    | 1986-06-27 | 101 | 7.4 | 1986 |\n|  6000000 | De Laurentiis Entertainment Group (DEG) | USA       | David Lynch      | Drama     |   8551228 | Blue Velvet                 | R     | 1986-10-23 | 120 | 7.8 | 1986 |\n|  9000000 | Paramount Pictures                      | USA       | Howard Deutch    | Comedy    |  40471663 | Pretty in Pink              | PG-13 | 1986-02-28 |  96 | 6.8 | 1986 |\n| 15000000 | SLM Production Group                    | USA       | David Cronenberg | Drama     |  40456565 | The Fly                     | R     | 1986-08-15 |  96 | 7.5 | 1986 |\n|  8800000 | Rimfire Films                           | Australia | Peter Faiman     | Adventure | 174635000 | Crocodile Dundee            | PG-13 | 1986-09-26 |  97 | 6.5 | 1986 |\n| 16000000 | Thorn EMI Screen Entertainment          | UK        | Russell Mulcahy  | Action    |   5900000 | Highlander                  | R     | 1986-03-07 | 116 | 7.2 | 1986 |\n|  6000000 | Twentieth Century Fox Film Corporation  | USA       | David Seltzer    | Comedy    |   8200000 | Lucas                       | PG-13 | 1986-03-28 | 100 | 6.8 | 1986 |\n| 25000000 | Twentieth Century Fox Film Corporation  | USA       | John Carpenter   | Action    |  11100000 | Big Trouble in Little China | PG-13 | 1986-07-02 |  99 | 7.3 | 1986 |\n| 15000000 | De Laurentiis Entertainment Group (DEG) | USA       | Michael Mann     | Crime     |   8620929 | Manhunter                   | R     | 1986-08-15 | 120 | 7.2 | 1986 |\n| 17000000 | Producers Sales Organization (PSO)      | USA       | Adrian Lyne      | Drama     |   6734844 | 9&lt;U+00BD&gt; Weeks             | R     | 1986-02-21 | 117 | 5.9 | 1986 |\n| 10000000 | De Laurentiis Entertainment Group (DEG) | USA       | Stephen King     | Action    |   7433663 | Maximum Overdrive           | R     | 1986-07-25 |  98 | 5.4 | 1986 |\n| 25000000 | Geffen Company, The                     | USA       | Frank Oz         | Comedy    |  38747385 | Little Shop of Horrors      | PG-13 | 1986-12-19 |  94 | 6.9 | 1986 |\n|  2700000 | New Century Entertainment Corporation   | USA       | Mike Marvin      | Action    |   3500000 | The Wraith                  | PG-13 | 1986-11-21 |  93 | 5.9 | 1986 |\n| 35000000 | Universal Pictures                      | USA       | Willard Huyck    | Action    |  16295774 | Howard the Duck             | PG    | 1986-08-01 | 110 | 4.6 | 1986 |\n\n",
            "text/html": [
              "<table>\n",
              "<caption>A tibble: 20 × 12</caption>\n",
              "<thead>\n",
              "\t<tr><th scope=col>budget</th><th scope=col>company</th><th scope=col>country</th><th scope=col>director</th><th scope=col>genre</th><th scope=col>gross</th><th scope=col>name</th><th scope=col>rating</th><th scope=col>released</th><th scope=col>runtime</th><th scope=col>score</th><th scope=col>year</th></tr>\n",
              "\t<tr><th scope=col>&lt;dbl&gt;</th><th scope=col>&lt;chr&gt;</th><th scope=col>&lt;chr&gt;</th><th scope=col>&lt;chr&gt;</th><th scope=col>&lt;chr&gt;</th><th scope=col>&lt;dbl&gt;</th><th scope=col>&lt;chr&gt;</th><th scope=col>&lt;chr&gt;</th><th scope=col>&lt;chr&gt;</th><th scope=col>&lt;dbl&gt;</th><th scope=col>&lt;dbl&gt;</th><th scope=col>&lt;dbl&gt;</th></tr>\n",
              "</thead>\n",
              "<tbody>\n",
              "\t<tr><td> 8000000</td><td>Columbia Pictures Corporation          </td><td>USA      </td><td>Rob Reiner      </td><td>Adventure</td><td> 52287414</td><td>Stand by Me                </td><td>R    </td><td>1986-08-22</td><td> 89</td><td>8.1</td><td>1986</td></tr>\n",
              "\t<tr><td> 6000000</td><td>Paramount Pictures                     </td><td>USA      </td><td>John Hughes     </td><td>Comedy   </td><td> 70136369</td><td>Ferris Bueller's Day Off   </td><td>PG-13</td><td>1986-06-11</td><td>103</td><td>7.8</td><td>1986</td></tr>\n",
              "\t<tr><td>15000000</td><td>Paramount Pictures                     </td><td>USA      </td><td>Tony Scott      </td><td>Action   </td><td>179800601</td><td>Top Gun                    </td><td>PG   </td><td>1986-05-16</td><td>110</td><td>6.9</td><td>1986</td></tr>\n",
              "\t<tr><td>18500000</td><td>Twentieth Century Fox Film Corporation </td><td>USA      </td><td>James Cameron   </td><td>Action   </td><td> 85160248</td><td>Aliens                     </td><td>R    </td><td>1986-07-18</td><td>137</td><td>8.4</td><td>1986</td></tr>\n",
              "\t<tr><td> 9000000</td><td>Walt Disney Pictures                   </td><td>USA      </td><td>Randal Kleiser  </td><td>Adventure</td><td> 18564613</td><td>Flight of the Navigator    </td><td>PG   </td><td>1986-08-01</td><td> 90</td><td>6.9</td><td>1986</td></tr>\n",
              "\t<tr><td> 6000000</td><td>Hemdale                                </td><td>UK       </td><td>Oliver Stone    </td><td>Drama    </td><td>138530565</td><td>Platoon                    </td><td>R    </td><td>1987-02-06</td><td>120</td><td>8.1</td><td>1986</td></tr>\n",
              "\t<tr><td>25000000</td><td>Henson Associates (HA)                 </td><td>UK       </td><td>Jim Henson      </td><td>Adventure</td><td> 12729917</td><td>Labyrinth                  </td><td>PG   </td><td>1986-06-27</td><td>101</td><td>7.4</td><td>1986</td></tr>\n",
              "\t<tr><td> 6000000</td><td>De Laurentiis Entertainment Group (DEG)</td><td>USA      </td><td>David Lynch     </td><td>Drama    </td><td>  8551228</td><td>Blue Velvet                </td><td>R    </td><td>1986-10-23</td><td>120</td><td>7.8</td><td>1986</td></tr>\n",
              "\t<tr><td> 9000000</td><td>Paramount Pictures                     </td><td>USA      </td><td>Howard Deutch   </td><td>Comedy   </td><td> 40471663</td><td>Pretty in Pink             </td><td>PG-13</td><td>1986-02-28</td><td> 96</td><td>6.8</td><td>1986</td></tr>\n",
              "\t<tr><td>15000000</td><td>SLM Production Group                   </td><td>USA      </td><td>David Cronenberg</td><td>Drama    </td><td> 40456565</td><td>The Fly                    </td><td>R    </td><td>1986-08-15</td><td> 96</td><td>7.5</td><td>1986</td></tr>\n",
              "\t<tr><td> 8800000</td><td>Rimfire Films                          </td><td>Australia</td><td>Peter Faiman    </td><td>Adventure</td><td>174635000</td><td>Crocodile Dundee           </td><td>PG-13</td><td>1986-09-26</td><td> 97</td><td>6.5</td><td>1986</td></tr>\n",
              "\t<tr><td>16000000</td><td>Thorn EMI Screen Entertainment         </td><td>UK       </td><td>Russell Mulcahy </td><td>Action   </td><td>  5900000</td><td>Highlander                 </td><td>R    </td><td>1986-03-07</td><td>116</td><td>7.2</td><td>1986</td></tr>\n",
              "\t<tr><td> 6000000</td><td>Twentieth Century Fox Film Corporation </td><td>USA      </td><td>David Seltzer   </td><td>Comedy   </td><td>  8200000</td><td>Lucas                      </td><td>PG-13</td><td>1986-03-28</td><td>100</td><td>6.8</td><td>1986</td></tr>\n",
              "\t<tr><td>25000000</td><td>Twentieth Century Fox Film Corporation </td><td>USA      </td><td>John Carpenter  </td><td>Action   </td><td> 11100000</td><td>Big Trouble in Little China</td><td>PG-13</td><td>1986-07-02</td><td> 99</td><td>7.3</td><td>1986</td></tr>\n",
              "\t<tr><td>15000000</td><td>De Laurentiis Entertainment Group (DEG)</td><td>USA      </td><td>Michael Mann    </td><td>Crime    </td><td>  8620929</td><td>Manhunter                  </td><td>R    </td><td>1986-08-15</td><td>120</td><td>7.2</td><td>1986</td></tr>\n",
              "\t<tr><td>17000000</td><td><span style=white-space:pre-wrap>Producers Sales Organization (PSO)     </span></td><td><span style=white-space:pre-wrap>USA      </span></td><td><span style=white-space:pre-wrap>Adrian Lyne     </span></td><td><span style=white-space:pre-wrap>Drama    </span></td><td><span style=white-space:pre-wrap>  6734844</span></td><td><span style=white-space:pre-wrap>9&lt;U+00BD&gt; Weeks            </span></td><td><span style=white-space:pre-wrap>R    </span></td><td>1986-02-21</td><td>117</td><td>5.9</td><td>1986</td></tr>\n",
              "\t<tr><td>10000000</td><td>De Laurentiis Entertainment Group (DEG)</td><td>USA      </td><td>Stephen King    </td><td>Action   </td><td>  7433663</td><td>Maximum Overdrive          </td><td>R    </td><td>1986-07-25</td><td> 98</td><td>5.4</td><td>1986</td></tr>\n",
              "\t<tr><td>25000000</td><td>Geffen Company, The                    </td><td>USA      </td><td>Frank Oz        </td><td>Comedy   </td><td> 38747385</td><td>Little Shop of Horrors     </td><td>PG-13</td><td>1986-12-19</td><td> 94</td><td>6.9</td><td>1986</td></tr>\n",
              "\t<tr><td> 2700000</td><td>New Century Entertainment Corporation  </td><td>USA      </td><td>Mike Marvin     </td><td>Action   </td><td>  3500000</td><td>The Wraith                 </td><td>PG-13</td><td>1986-11-21</td><td> 93</td><td>5.9</td><td>1986</td></tr>\n",
              "\t<tr><td>35000000</td><td>Universal Pictures                     </td><td>USA      </td><td>Willard Huyck   </td><td>Action   </td><td> 16295774</td><td>Howard the Duck            </td><td>PG   </td><td>1986-08-01</td><td>110</td><td>4.6</td><td>1986</td></tr>\n",
              "</tbody>\n",
              "</table>\n"
            ]
          },
          "metadata": {
            "tags": []
          }
        }
      ]
    },
    {
      "cell_type": "markdown",
      "metadata": {
        "id": "Jn2GSBIYz3vK",
        "colab_type": "text"
      },
      "source": [
        "## **select() helpers**\n",
        "You can use the following functions to help select the columns:\n",
        "\n",
        "\n",
        "*   starts_with()\n",
        "*   ends_with()\n",
        "*   contains()\n",
        "*   matches() (matches a regular expression)\n",
        "*   num_range(\"x\", 1:4): pickes variables x1, x2, x3, x4\n",
        "\n",
        "Example:\n",
        "\n"
      ]
    },
    {
      "cell_type": "code",
      "metadata": {
        "id": "JJ6f3LTA0NVQ",
        "colab_type": "code",
        "colab": {
          "base_uri": "https://localhost:8080/",
          "height": 578
        },
        "outputId": "f34a0a8f-20e3-4380-e65b-1ef07ae87c4d"
      },
      "source": [
        "select(movies, starts_with(\"r\"))[1:6,,]\n",
        "select(movies, ends_with(\"e\"))[1:6,]\n",
        "select(movies, contains(\"re\"))[1:6,]"
      ],
      "execution_count": 17,
      "outputs": [
        {
          "output_type": "display_data",
          "data": {
            "text/plain": [
              "  rating released   runtime\n",
              "1 R      1986-08-22  89    \n",
              "2 PG-13  1986-06-11 103    \n",
              "3 PG     1986-05-16 110    \n",
              "4 R      1986-07-18 137    \n",
              "5 PG     1986-08-01  90    \n",
              "6 R      1987-02-06 120    "
            ],
            "text/latex": "A tibble: 6 × 3\n\\begin{tabular}{lll}\n rating & released & runtime\\\\\n <chr> & <chr> & <dbl>\\\\\n\\hline\n\t R     & 1986-08-22 &  89\\\\\n\t PG-13 & 1986-06-11 & 103\\\\\n\t PG    & 1986-05-16 & 110\\\\\n\t R     & 1986-07-18 & 137\\\\\n\t PG    & 1986-08-01 &  90\\\\\n\t R     & 1987-02-06 & 120\\\\\n\\end{tabular}\n",
            "text/markdown": "\nA tibble: 6 × 3\n\n| rating &lt;chr&gt; | released &lt;chr&gt; | runtime &lt;dbl&gt; |\n|---|---|---|\n| R     | 1986-08-22 |  89 |\n| PG-13 | 1986-06-11 | 103 |\n| PG    | 1986-05-16 | 110 |\n| R     | 1986-07-18 | 137 |\n| PG    | 1986-08-01 |  90 |\n| R     | 1987-02-06 | 120 |\n\n",
            "text/html": [
              "<table>\n",
              "<caption>A tibble: 6 × 3</caption>\n",
              "<thead>\n",
              "\t<tr><th scope=col>rating</th><th scope=col>released</th><th scope=col>runtime</th></tr>\n",
              "\t<tr><th scope=col>&lt;chr&gt;</th><th scope=col>&lt;chr&gt;</th><th scope=col>&lt;dbl&gt;</th></tr>\n",
              "</thead>\n",
              "<tbody>\n",
              "\t<tr><td>R    </td><td>1986-08-22</td><td> 89</td></tr>\n",
              "\t<tr><td>PG-13</td><td>1986-06-11</td><td>103</td></tr>\n",
              "\t<tr><td>PG   </td><td>1986-05-16</td><td>110</td></tr>\n",
              "\t<tr><td>R    </td><td>1986-07-18</td><td>137</td></tr>\n",
              "\t<tr><td>PG   </td><td>1986-08-01</td><td> 90</td></tr>\n",
              "\t<tr><td>R    </td><td>1987-02-06</td><td>120</td></tr>\n",
              "</tbody>\n",
              "</table>\n"
            ]
          },
          "metadata": {
            "tags": []
          }
        },
        {
          "output_type": "display_data",
          "data": {
            "text/plain": [
              "  genre     name                     runtime score\n",
              "1 Adventure Stand by Me               89     8.1  \n",
              "2 Comedy    Ferris Bueller's Day Off 103     7.8  \n",
              "3 Action    Top Gun                  110     6.9  \n",
              "4 Action    Aliens                   137     8.4  \n",
              "5 Adventure Flight of the Navigator   90     6.9  \n",
              "6 Drama     Platoon                  120     8.1  "
            ],
            "text/latex": "A tibble: 6 × 4\n\\begin{tabular}{llll}\n genre & name & runtime & score\\\\\n <chr> & <chr> & <dbl> & <dbl>\\\\\n\\hline\n\t Adventure & Stand by Me              &  89 & 8.1\\\\\n\t Comedy    & Ferris Bueller's Day Off & 103 & 7.8\\\\\n\t Action    & Top Gun                  & 110 & 6.9\\\\\n\t Action    & Aliens                   & 137 & 8.4\\\\\n\t Adventure & Flight of the Navigator  &  90 & 6.9\\\\\n\t Drama     & Platoon                  & 120 & 8.1\\\\\n\\end{tabular}\n",
            "text/markdown": "\nA tibble: 6 × 4\n\n| genre &lt;chr&gt; | name &lt;chr&gt; | runtime &lt;dbl&gt; | score &lt;dbl&gt; |\n|---|---|---|---|\n| Adventure | Stand by Me              |  89 | 8.1 |\n| Comedy    | Ferris Bueller's Day Off | 103 | 7.8 |\n| Action    | Top Gun                  | 110 | 6.9 |\n| Action    | Aliens                   | 137 | 8.4 |\n| Adventure | Flight of the Navigator  |  90 | 6.9 |\n| Drama     | Platoon                  | 120 | 8.1 |\n\n",
            "text/html": [
              "<table>\n",
              "<caption>A tibble: 6 × 4</caption>\n",
              "<thead>\n",
              "\t<tr><th scope=col>genre</th><th scope=col>name</th><th scope=col>runtime</th><th scope=col>score</th></tr>\n",
              "\t<tr><th scope=col>&lt;chr&gt;</th><th scope=col>&lt;chr&gt;</th><th scope=col>&lt;dbl&gt;</th><th scope=col>&lt;dbl&gt;</th></tr>\n",
              "</thead>\n",
              "<tbody>\n",
              "\t<tr><td>Adventure</td><td>Stand by Me             </td><td> 89</td><td>8.1</td></tr>\n",
              "\t<tr><td>Comedy   </td><td>Ferris Bueller's Day Off</td><td>103</td><td>7.8</td></tr>\n",
              "\t<tr><td>Action   </td><td>Top Gun                 </td><td>110</td><td>6.9</td></tr>\n",
              "\t<tr><td>Action   </td><td>Aliens                  </td><td>137</td><td>8.4</td></tr>\n",
              "\t<tr><td>Adventure</td><td>Flight of the Navigator </td><td> 90</td><td>6.9</td></tr>\n",
              "\t<tr><td>Drama    </td><td>Platoon                 </td><td>120</td><td>8.1</td></tr>\n",
              "</tbody>\n",
              "</table>\n"
            ]
          },
          "metadata": {
            "tags": []
          }
        },
        {
          "output_type": "display_data",
          "data": {
            "text/plain": [
              "  director       genre     released   score\n",
              "1 Rob Reiner     Adventure 1986-08-22 8.1  \n",
              "2 John Hughes    Comedy    1986-06-11 7.8  \n",
              "3 Tony Scott     Action    1986-05-16 6.9  \n",
              "4 James Cameron  Action    1986-07-18 8.4  \n",
              "5 Randal Kleiser Adventure 1986-08-01 6.9  \n",
              "6 Oliver Stone   Drama     1987-02-06 8.1  "
            ],
            "text/latex": "A tibble: 6 × 4\n\\begin{tabular}{llll}\n director & genre & released & score\\\\\n <chr> & <chr> & <chr> & <dbl>\\\\\n\\hline\n\t Rob Reiner     & Adventure & 1986-08-22 & 8.1\\\\\n\t John Hughes    & Comedy    & 1986-06-11 & 7.8\\\\\n\t Tony Scott     & Action    & 1986-05-16 & 6.9\\\\\n\t James Cameron  & Action    & 1986-07-18 & 8.4\\\\\n\t Randal Kleiser & Adventure & 1986-08-01 & 6.9\\\\\n\t Oliver Stone   & Drama     & 1987-02-06 & 8.1\\\\\n\\end{tabular}\n",
            "text/markdown": "\nA tibble: 6 × 4\n\n| director &lt;chr&gt; | genre &lt;chr&gt; | released &lt;chr&gt; | score &lt;dbl&gt; |\n|---|---|---|---|\n| Rob Reiner     | Adventure | 1986-08-22 | 8.1 |\n| John Hughes    | Comedy    | 1986-06-11 | 7.8 |\n| Tony Scott     | Action    | 1986-05-16 | 6.9 |\n| James Cameron  | Action    | 1986-07-18 | 8.4 |\n| Randal Kleiser | Adventure | 1986-08-01 | 6.9 |\n| Oliver Stone   | Drama     | 1987-02-06 | 8.1 |\n\n",
            "text/html": [
              "<table>\n",
              "<caption>A tibble: 6 × 4</caption>\n",
              "<thead>\n",
              "\t<tr><th scope=col>director</th><th scope=col>genre</th><th scope=col>released</th><th scope=col>score</th></tr>\n",
              "\t<tr><th scope=col>&lt;chr&gt;</th><th scope=col>&lt;chr&gt;</th><th scope=col>&lt;chr&gt;</th><th scope=col>&lt;dbl&gt;</th></tr>\n",
              "</thead>\n",
              "<tbody>\n",
              "\t<tr><td>Rob Reiner    </td><td>Adventure</td><td>1986-08-22</td><td>8.1</td></tr>\n",
              "\t<tr><td>John Hughes   </td><td>Comedy   </td><td>1986-06-11</td><td>7.8</td></tr>\n",
              "\t<tr><td>Tony Scott    </td><td>Action   </td><td>1986-05-16</td><td>6.9</td></tr>\n",
              "\t<tr><td>James Cameron </td><td>Action   </td><td>1986-07-18</td><td>8.4</td></tr>\n",
              "\t<tr><td>Randal Kleiser</td><td>Adventure</td><td>1986-08-01</td><td>6.9</td></tr>\n",
              "\t<tr><td>Oliver Stone  </td><td>Drama    </td><td>1987-02-06</td><td>8.1</td></tr>\n",
              "</tbody>\n",
              "</table>\n"
            ]
          },
          "metadata": {
            "tags": []
          }
        }
      ]
    },
    {
      "cell_type": "markdown",
      "metadata": {
        "id": "0vpZzas-Oe7C",
        "colab_type": "text"
      },
      "source": [
        "## **Exercise 2:**\n",
        "\n",
        "Write code that will have company as the first column and the columns starting with the letter 'g' as the following columns. Output the first 20 rows of such a dataset."
      ]
    },
    {
      "cell_type": "markdown",
      "metadata": {
        "id": "X_wcVUiT1qud",
        "colab_type": "text"
      },
      "source": [
        "## **arrange(): reorder rows**\n",
        "\n",
        "arrange() takes a data frame and a set of column names to order by.\n",
        "For descending order, use the function desc() around the column name."
      ]
    },
    {
      "cell_type": "code",
      "metadata": {
        "id": "iHSUUhXZ13Vz",
        "colab_type": "code",
        "colab": {
          "base_uri": "https://localhost:8080/",
          "height": 170
        },
        "outputId": "b6469f48-1952-472f-d378-c2e31a7aa31f"
      },
      "source": [
        "print(arrange(movies, runtime), n = 4)"
      ],
      "execution_count": 18,
      "outputs": [
        {
          "output_type": "stream",
          "text": [
            "\u001b[90m# A tibble: 6,820 x 15\u001b[39m\n",
            "  budget company country director genre  gross name  rating released runtime\n",
            "   \u001b[3m\u001b[90m<dbl>\u001b[39m\u001b[23m \u001b[3m\u001b[90m<chr>\u001b[39m\u001b[23m   \u001b[3m\u001b[90m<chr>\u001b[39m\u001b[23m   \u001b[3m\u001b[90m<chr>\u001b[39m\u001b[23m    \u001b[3m\u001b[90m<chr>\u001b[39m\u001b[23m  \u001b[3m\u001b[90m<dbl>\u001b[39m\u001b[23m \u001b[3m\u001b[90m<chr>\u001b[39m\u001b[23m \u001b[3m\u001b[90m<chr>\u001b[39m\u001b[23m  \u001b[3m\u001b[90m<chr>\u001b[39m\u001b[23m      \u001b[3m\u001b[90m<dbl>\u001b[39m\u001b[23m\n",
            "\u001b[90m1\u001b[39m 0.  \u001b[90m \u001b[39m  Iwerks~ France  Jean-Ja~ Adve~ 1.51\u001b[90me\u001b[39m7 \u001b[90m\"\u001b[39mWin~ G      1996-09~      50\n",
            "\u001b[90m2\u001b[39m 1.25\u001b[90me\u001b[39m7 Univer~ USA     Don Blu~ Anim~ 4.81\u001b[90me\u001b[39m7 \u001b[90m\"\u001b[39mThe~ G      1988-11~      69\n",
            "\u001b[90m3\u001b[39m 6.00\u001b[90me\u001b[39m3 Next W~ UK      Christo~ Crime 4.85\u001b[90me\u001b[39m4 \u001b[90m\"\u001b[39mFol~ R      1999-11~      69\n",
            "\u001b[90m4\u001b[39m 0.  \u001b[90m \u001b[39m  Hyperi~ USA     Bruce W~ Anim~ 8.44\u001b[90me\u001b[39m6 \u001b[90m\"\u001b[39mB\\x~ PG-13  1992-07~      70\n",
            "\u001b[90m# ... with 6,816 more rows, and 5 more variables: score \u001b[3m\u001b[90m<dbl>\u001b[90m\u001b[23m, star \u001b[3m\u001b[90m<chr>\u001b[90m\u001b[23m,\n",
            "#   votes \u001b[3m\u001b[90m<dbl>\u001b[90m\u001b[23m, writer \u001b[3m\u001b[90m<chr>\u001b[90m\u001b[23m, year \u001b[3m\u001b[90m<dbl>\u001b[90m\u001b[23m\u001b[39m\n"
          ],
          "name": "stdout"
        }
      ]
    },
    {
      "cell_type": "code",
      "metadata": {
        "id": "gxzLKPxh166Z",
        "colab_type": "code",
        "colab": {
          "base_uri": "https://localhost:8080/",
          "height": 170
        },
        "outputId": "23e97454-b559-4513-a400-48b170eade09"
      },
      "source": [
        "# use `desc` for descending\n",
        "print(arrange(movies, desc(budget)), n = 4)"
      ],
      "execution_count": 19,
      "outputs": [
        {
          "output_type": "stream",
          "text": [
            "\u001b[90m# A tibble: 6,820 x 15\u001b[39m\n",
            "  budget company country director genre  gross name  rating released runtime\n",
            "   \u001b[3m\u001b[90m<dbl>\u001b[39m\u001b[23m \u001b[3m\u001b[90m<chr>\u001b[39m\u001b[23m   \u001b[3m\u001b[90m<chr>\u001b[39m\u001b[23m   \u001b[3m\u001b[90m<chr>\u001b[39m\u001b[23m    \u001b[3m\u001b[90m<chr>\u001b[39m\u001b[23m  \u001b[3m\u001b[90m<dbl>\u001b[39m\u001b[23m \u001b[3m\u001b[90m<chr>\u001b[39m\u001b[23m \u001b[3m\u001b[90m<chr>\u001b[39m\u001b[23m  \u001b[3m\u001b[90m<chr>\u001b[39m\u001b[23m      \u001b[3m\u001b[90m<dbl>\u001b[39m\u001b[23m\n",
            "\u001b[90m1\u001b[39m 3.00\u001b[90me\u001b[39m8 Walt D~ USA     Gore Ve~ Acti~ 3.09\u001b[90me\u001b[39m8 Pira~ PG-13  2007-05~     169\n",
            "\u001b[90m2\u001b[39m 2.60\u001b[90me\u001b[39m8 Walt D~ USA     Nathan ~ Anim~ 2.01\u001b[90me\u001b[39m8 Tang~ PG     2010-11~     100\n",
            "\u001b[90m3\u001b[39m 2.58\u001b[90me\u001b[39m8 Columb~ USA     Sam Rai~ Acti~ 3.37\u001b[90me\u001b[39m8 Spid~ PG-13  2007-05~     139\n",
            "\u001b[90m4\u001b[39m 2.50\u001b[90me\u001b[39m8 Warner~ UK      David Y~ Adve~ 3.02\u001b[90me\u001b[39m8 Harr~ PG     2009-07~     153\n",
            "\u001b[90m# ... with 6,816 more rows, and 5 more variables: score \u001b[3m\u001b[90m<dbl>\u001b[90m\u001b[23m, star \u001b[3m\u001b[90m<chr>\u001b[90m\u001b[23m,\n",
            "#   votes \u001b[3m\u001b[90m<dbl>\u001b[90m\u001b[23m, writer \u001b[3m\u001b[90m<chr>\u001b[90m\u001b[23m, year \u001b[3m\u001b[90m<dbl>\u001b[90m\u001b[23m\u001b[39m\n"
          ],
          "name": "stdout"
        }
      ]
    },
    {
      "cell_type": "markdown",
      "metadata": {
        "id": "9DjSBMHfs23u",
        "colab_type": "text"
      },
      "source": [
        "Missing values are always sorted at the end:"
      ]
    },
    {
      "cell_type": "code",
      "metadata": {
        "id": "2z66QClss6CH",
        "colab_type": "code",
        "colab": {
          "base_uri": "https://localhost:8080/",
          "height": 175
        },
        "outputId": "1b8e94c3-feec-42f8-982a-8e96d311c4b6"
      },
      "source": [
        "df <- tibble(x = c(5, NA, 2))\n",
        "arrange(df, x)"
      ],
      "execution_count": 20,
      "outputs": [
        {
          "output_type": "display_data",
          "data": {
            "text/plain": [
              "  x \n",
              "1  2\n",
              "2  5\n",
              "3 NA"
            ],
            "text/latex": "A tibble: 3 × 1\n\\begin{tabular}{l}\n x\\\\\n <dbl>\\\\\n\\hline\n\t  2\\\\\n\t  5\\\\\n\t NA\\\\\n\\end{tabular}\n",
            "text/markdown": "\nA tibble: 3 × 1\n\n| x &lt;dbl&gt; |\n|---|\n|  2 |\n|  5 |\n| NA |\n\n",
            "text/html": [
              "<table>\n",
              "<caption>A tibble: 3 × 1</caption>\n",
              "<thead>\n",
              "\t<tr><th scope=col>x</th></tr>\n",
              "\t<tr><th scope=col>&lt;dbl&gt;</th></tr>\n",
              "</thead>\n",
              "<tbody>\n",
              "\t<tr><td> 2</td></tr>\n",
              "\t<tr><td> 5</td></tr>\n",
              "\t<tr><td>NA</td></tr>\n",
              "</tbody>\n",
              "</table>\n"
            ]
          },
          "metadata": {
            "tags": []
          }
        }
      ]
    },
    {
      "cell_type": "code",
      "metadata": {
        "id": "h9JU073ms9Z4",
        "colab_type": "code",
        "colab": {
          "base_uri": "https://localhost:8080/",
          "height": 175
        },
        "outputId": "cbd48c19-b370-4aba-9ea1-9b4595c1d5e2"
      },
      "source": [
        "arrange(df, desc(x))"
      ],
      "execution_count": 21,
      "outputs": [
        {
          "output_type": "display_data",
          "data": {
            "text/plain": [
              "  x \n",
              "1  5\n",
              "2  2\n",
              "3 NA"
            ],
            "text/latex": "A tibble: 3 × 1\n\\begin{tabular}{l}\n x\\\\\n <dbl>\\\\\n\\hline\n\t  5\\\\\n\t  2\\\\\n\t NA\\\\\n\\end{tabular}\n",
            "text/markdown": "\nA tibble: 3 × 1\n\n| x &lt;dbl&gt; |\n|---|\n|  5 |\n|  2 |\n| NA |\n\n",
            "text/html": [
              "<table>\n",
              "<caption>A tibble: 3 × 1</caption>\n",
              "<thead>\n",
              "\t<tr><th scope=col>x</th></tr>\n",
              "\t<tr><th scope=col>&lt;dbl&gt;</th></tr>\n",
              "</thead>\n",
              "<tbody>\n",
              "\t<tr><td> 5</td></tr>\n",
              "\t<tr><td> 2</td></tr>\n",
              "\t<tr><td>NA</td></tr>\n",
              "</tbody>\n",
              "</table>\n"
            ]
          },
          "metadata": {
            "tags": []
          }
        }
      ]
    },
    {
      "cell_type": "markdown",
      "metadata": {
        "id": "ktm6NMcrtBXS",
        "colab_type": "text"
      },
      "source": [
        "## **Exercise 3:**\n",
        "\n",
        "Use arrange to sort the `movies` dataset by ascending order of the product of the budget and score variables. Output the first 20 rows of the new dataset.\n"
      ]
    },
    {
      "cell_type": "markdown",
      "metadata": {
        "id": "-RcNHsr1QTcy",
        "colab_type": "text"
      },
      "source": [
        "## **mutate(): add new variables**\n",
        "\n",
        "mutate() adds new columns that are a function of the existing ones"
      ]
    },
    {
      "cell_type": "code",
      "metadata": {
        "id": "8CaZwOPmQZdv",
        "colab_type": "code",
        "colab": {
          "base_uri": "https://localhost:8080/",
          "height": 498
        },
        "outputId": "ae919ed2-1dc6-49f5-9163-d81f452f81e0"
      },
      "source": [
        "movies <- mutate(movies, profit = gross - budget)\n",
        "select(movies, name, gross, budget, profit)[1:20,]"
      ],
      "execution_count": 22,
      "outputs": [
        {
          "output_type": "display_data",
          "data": {
            "text/plain": [
              "   name                        gross     budget   profit   \n",
              "1  Stand by Me                  52287414  8000000  44287414\n",
              "2  Ferris Bueller's Day Off     70136369  6000000  64136369\n",
              "3  Top Gun                     179800601 15000000 164800601\n",
              "4  Aliens                       85160248 18500000  66660248\n",
              "5  Flight of the Navigator      18564613  9000000   9564613\n",
              "6  Platoon                     138530565  6000000 132530565\n",
              "7  Labyrinth                    12729917 25000000 -12270083\n",
              "8  Blue Velvet                   8551228  6000000   2551228\n",
              "9  Pretty in Pink               40471663  9000000  31471663\n",
              "10 The Fly                      40456565 15000000  25456565\n",
              "11 Crocodile Dundee            174635000  8800000 165835000\n",
              "12 Highlander                    5900000 16000000 -10100000\n",
              "13 Lucas                         8200000  6000000   2200000\n",
              "14 Big Trouble in Little China  11100000 25000000 -13900000\n",
              "15 Manhunter                     8620929 15000000  -6379071\n",
              "16 9<U+00BD> Weeks               6734844 17000000 -10265156\n",
              "17 Maximum Overdrive             7433663 10000000  -2566337\n",
              "18 Little Shop of Horrors       38747385 25000000  13747385\n",
              "19 The Wraith                    3500000  2700000    800000\n",
              "20 Howard the Duck              16295774 35000000 -18704226"
            ],
            "text/latex": "A tibble: 20 × 4\n\\begin{tabular}{llll}\n name & gross & budget & profit\\\\\n <chr> & <dbl> & <dbl> & <dbl>\\\\\n\\hline\n\t Stand by Me                 &  52287414 &  8000000 &  44287414\\\\\n\t Ferris Bueller's Day Off    &  70136369 &  6000000 &  64136369\\\\\n\t Top Gun                     & 179800601 & 15000000 & 164800601\\\\\n\t Aliens                      &  85160248 & 18500000 &  66660248\\\\\n\t Flight of the Navigator     &  18564613 &  9000000 &   9564613\\\\\n\t Platoon                     & 138530565 &  6000000 & 132530565\\\\\n\t Labyrinth                   &  12729917 & 25000000 & -12270083\\\\\n\t Blue Velvet                 &   8551228 &  6000000 &   2551228\\\\\n\t Pretty in Pink              &  40471663 &  9000000 &  31471663\\\\\n\t The Fly                     &  40456565 & 15000000 &  25456565\\\\\n\t Crocodile Dundee            & 174635000 &  8800000 & 165835000\\\\\n\t Highlander                  &   5900000 & 16000000 & -10100000\\\\\n\t Lucas                       &   8200000 &  6000000 &   2200000\\\\\n\t Big Trouble in Little China &  11100000 & 25000000 & -13900000\\\\\n\t Manhunter                   &   8620929 & 15000000 &  -6379071\\\\\n\t 9<U+00BD> Weeks             &   6734844 & 17000000 & -10265156\\\\\n\t Maximum Overdrive           &   7433663 & 10000000 &  -2566337\\\\\n\t Little Shop of Horrors      &  38747385 & 25000000 &  13747385\\\\\n\t The Wraith                  &   3500000 &  2700000 &    800000\\\\\n\t Howard the Duck             &  16295774 & 35000000 & -18704226\\\\\n\\end{tabular}\n",
            "text/markdown": "\nA tibble: 20 × 4\n\n| name &lt;chr&gt; | gross &lt;dbl&gt; | budget &lt;dbl&gt; | profit &lt;dbl&gt; |\n|---|---|---|---|\n| Stand by Me                 |  52287414 |  8000000 |  44287414 |\n| Ferris Bueller's Day Off    |  70136369 |  6000000 |  64136369 |\n| Top Gun                     | 179800601 | 15000000 | 164800601 |\n| Aliens                      |  85160248 | 18500000 |  66660248 |\n| Flight of the Navigator     |  18564613 |  9000000 |   9564613 |\n| Platoon                     | 138530565 |  6000000 | 132530565 |\n| Labyrinth                   |  12729917 | 25000000 | -12270083 |\n| Blue Velvet                 |   8551228 |  6000000 |   2551228 |\n| Pretty in Pink              |  40471663 |  9000000 |  31471663 |\n| The Fly                     |  40456565 | 15000000 |  25456565 |\n| Crocodile Dundee            | 174635000 |  8800000 | 165835000 |\n| Highlander                  |   5900000 | 16000000 | -10100000 |\n| Lucas                       |   8200000 |  6000000 |   2200000 |\n| Big Trouble in Little China |  11100000 | 25000000 | -13900000 |\n| Manhunter                   |   8620929 | 15000000 |  -6379071 |\n| 9&lt;U+00BD&gt; Weeks             |   6734844 | 17000000 | -10265156 |\n| Maximum Overdrive           |   7433663 | 10000000 |  -2566337 |\n| Little Shop of Horrors      |  38747385 | 25000000 |  13747385 |\n| The Wraith                  |   3500000 |  2700000 |    800000 |\n| Howard the Duck             |  16295774 | 35000000 | -18704226 |\n\n",
            "text/html": [
              "<table>\n",
              "<caption>A tibble: 20 × 4</caption>\n",
              "<thead>\n",
              "\t<tr><th scope=col>name</th><th scope=col>gross</th><th scope=col>budget</th><th scope=col>profit</th></tr>\n",
              "\t<tr><th scope=col>&lt;chr&gt;</th><th scope=col>&lt;dbl&gt;</th><th scope=col>&lt;dbl&gt;</th><th scope=col>&lt;dbl&gt;</th></tr>\n",
              "</thead>\n",
              "<tbody>\n",
              "\t<tr><td>Stand by Me                </td><td> 52287414</td><td> 8000000</td><td> 44287414</td></tr>\n",
              "\t<tr><td>Ferris Bueller's Day Off   </td><td> 70136369</td><td> 6000000</td><td> 64136369</td></tr>\n",
              "\t<tr><td>Top Gun                    </td><td>179800601</td><td>15000000</td><td>164800601</td></tr>\n",
              "\t<tr><td>Aliens                     </td><td> 85160248</td><td>18500000</td><td> 66660248</td></tr>\n",
              "\t<tr><td>Flight of the Navigator    </td><td> 18564613</td><td> 9000000</td><td>  9564613</td></tr>\n",
              "\t<tr><td>Platoon                    </td><td>138530565</td><td> 6000000</td><td>132530565</td></tr>\n",
              "\t<tr><td>Labyrinth                  </td><td> 12729917</td><td>25000000</td><td>-12270083</td></tr>\n",
              "\t<tr><td>Blue Velvet                </td><td>  8551228</td><td> 6000000</td><td>  2551228</td></tr>\n",
              "\t<tr><td>Pretty in Pink             </td><td> 40471663</td><td> 9000000</td><td> 31471663</td></tr>\n",
              "\t<tr><td>The Fly                    </td><td> 40456565</td><td>15000000</td><td> 25456565</td></tr>\n",
              "\t<tr><td>Crocodile Dundee           </td><td>174635000</td><td> 8800000</td><td>165835000</td></tr>\n",
              "\t<tr><td>Highlander                 </td><td>  5900000</td><td>16000000</td><td>-10100000</td></tr>\n",
              "\t<tr><td>Lucas                      </td><td>  8200000</td><td> 6000000</td><td>  2200000</td></tr>\n",
              "\t<tr><td>Big Trouble in Little China</td><td> 11100000</td><td>25000000</td><td>-13900000</td></tr>\n",
              "\t<tr><td>Manhunter                  </td><td>  8620929</td><td>15000000</td><td> -6379071</td></tr>\n",
              "\t<tr><td><span style=white-space:pre-wrap>9&lt;U+00BD&gt; Weeks            </span></td><td><span style=white-space:pre-wrap>  6734844</span></td><td>17000000</td><td>-10265156</td></tr>\n",
              "\t<tr><td>Maximum Overdrive          </td><td>  7433663</td><td>10000000</td><td> -2566337</td></tr>\n",
              "\t<tr><td>Little Shop of Horrors     </td><td> 38747385</td><td>25000000</td><td> 13747385</td></tr>\n",
              "\t<tr><td>The Wraith                 </td><td>  3500000</td><td> 2700000</td><td>   800000</td></tr>\n",
              "\t<tr><td>Howard the Duck            </td><td> 16295774</td><td>35000000</td><td>-18704226</td></tr>\n",
              "</tbody>\n",
              "</table>\n"
            ]
          },
          "metadata": {
            "tags": []
          }
        }
      ]
    },
    {
      "cell_type": "markdown",
      "metadata": {
        "id": "3iUl2hekQpiW",
        "colab_type": "text"
      },
      "source": [
        "To discard old variables, use transmute() instead of mutate()."
      ]
    },
    {
      "cell_type": "code",
      "metadata": {
        "id": "pEXpfFmOQqpX",
        "colab_type": "code",
        "colab": {
          "base_uri": "https://localhost:8080/",
          "height": 498
        },
        "outputId": "ae421a19-ada0-43a6-9010-c64f463bbbc1"
      },
      "source": [
        "# Generating multiple new variables\n",
        "movies <- mutate(\n",
        "movies,\n",
        "profit = gross - budget,\n",
        "gross_in_mil = gross/10^6,\n",
        "budget_in_mil = budget/10^6,\n",
        "profit_in_mil = profit/10^6\n",
        ")\n",
        "select(movies, name, year, country, contains(\"_in_mil\"), profit)[1:20,]"
      ],
      "execution_count": 23,
      "outputs": [
        {
          "output_type": "display_data",
          "data": {
            "text/plain": [
              "   name                        year country   gross_in_mil budget_in_mil\n",
              "1  Stand by Me                 1986 USA        52.287414    8.0         \n",
              "2  Ferris Bueller's Day Off    1986 USA        70.136369    6.0         \n",
              "3  Top Gun                     1986 USA       179.800601   15.0         \n",
              "4  Aliens                      1986 USA        85.160248   18.5         \n",
              "5  Flight of the Navigator     1986 USA        18.564613    9.0         \n",
              "6  Platoon                     1986 UK        138.530565    6.0         \n",
              "7  Labyrinth                   1986 UK         12.729917   25.0         \n",
              "8  Blue Velvet                 1986 USA         8.551228    6.0         \n",
              "9  Pretty in Pink              1986 USA        40.471663    9.0         \n",
              "10 The Fly                     1986 USA        40.456565   15.0         \n",
              "11 Crocodile Dundee            1986 Australia 174.635000    8.8         \n",
              "12 Highlander                  1986 UK          5.900000   16.0         \n",
              "13 Lucas                       1986 USA         8.200000    6.0         \n",
              "14 Big Trouble in Little China 1986 USA        11.100000   25.0         \n",
              "15 Manhunter                   1986 USA         8.620929   15.0         \n",
              "16 9<U+00BD> Weeks             1986 USA         6.734844   17.0         \n",
              "17 Maximum Overdrive           1986 USA         7.433663   10.0         \n",
              "18 Little Shop of Horrors      1986 USA        38.747385   25.0         \n",
              "19 The Wraith                  1986 USA         3.500000    2.7         \n",
              "20 Howard the Duck             1986 USA        16.295774   35.0         \n",
              "   profit_in_mil profit   \n",
              "1   44.287414     44287414\n",
              "2   64.136369     64136369\n",
              "3  164.800601    164800601\n",
              "4   66.660248     66660248\n",
              "5    9.564613      9564613\n",
              "6  132.530565    132530565\n",
              "7  -12.270083    -12270083\n",
              "8    2.551228      2551228\n",
              "9   31.471663     31471663\n",
              "10  25.456565     25456565\n",
              "11 165.835000    165835000\n",
              "12 -10.100000    -10100000\n",
              "13   2.200000      2200000\n",
              "14 -13.900000    -13900000\n",
              "15  -6.379071     -6379071\n",
              "16 -10.265156    -10265156\n",
              "17  -2.566337     -2566337\n",
              "18  13.747385     13747385\n",
              "19   0.800000       800000\n",
              "20 -18.704226    -18704226"
            ],
            "text/latex": "A tibble: 20 × 7\n\\begin{tabular}{lllllll}\n name & year & country & gross\\_in\\_mil & budget\\_in\\_mil & profit\\_in\\_mil & profit\\\\\n <chr> & <dbl> & <chr> & <dbl> & <dbl> & <dbl> & <dbl>\\\\\n\\hline\n\t Stand by Me                 & 1986 & USA       &  52.287414 &  8.0 &  44.287414 &  44287414\\\\\n\t Ferris Bueller's Day Off    & 1986 & USA       &  70.136369 &  6.0 &  64.136369 &  64136369\\\\\n\t Top Gun                     & 1986 & USA       & 179.800601 & 15.0 & 164.800601 & 164800601\\\\\n\t Aliens                      & 1986 & USA       &  85.160248 & 18.5 &  66.660248 &  66660248\\\\\n\t Flight of the Navigator     & 1986 & USA       &  18.564613 &  9.0 &   9.564613 &   9564613\\\\\n\t Platoon                     & 1986 & UK        & 138.530565 &  6.0 & 132.530565 & 132530565\\\\\n\t Labyrinth                   & 1986 & UK        &  12.729917 & 25.0 & -12.270083 & -12270083\\\\\n\t Blue Velvet                 & 1986 & USA       &   8.551228 &  6.0 &   2.551228 &   2551228\\\\\n\t Pretty in Pink              & 1986 & USA       &  40.471663 &  9.0 &  31.471663 &  31471663\\\\\n\t The Fly                     & 1986 & USA       &  40.456565 & 15.0 &  25.456565 &  25456565\\\\\n\t Crocodile Dundee            & 1986 & Australia & 174.635000 &  8.8 & 165.835000 & 165835000\\\\\n\t Highlander                  & 1986 & UK        &   5.900000 & 16.0 & -10.100000 & -10100000\\\\\n\t Lucas                       & 1986 & USA       &   8.200000 &  6.0 &   2.200000 &   2200000\\\\\n\t Big Trouble in Little China & 1986 & USA       &  11.100000 & 25.0 & -13.900000 & -13900000\\\\\n\t Manhunter                   & 1986 & USA       &   8.620929 & 15.0 &  -6.379071 &  -6379071\\\\\n\t 9<U+00BD> Weeks             & 1986 & USA       &   6.734844 & 17.0 & -10.265156 & -10265156\\\\\n\t Maximum Overdrive           & 1986 & USA       &   7.433663 & 10.0 &  -2.566337 &  -2566337\\\\\n\t Little Shop of Horrors      & 1986 & USA       &  38.747385 & 25.0 &  13.747385 &  13747385\\\\\n\t The Wraith                  & 1986 & USA       &   3.500000 &  2.7 &   0.800000 &    800000\\\\\n\t Howard the Duck             & 1986 & USA       &  16.295774 & 35.0 & -18.704226 & -18704226\\\\\n\\end{tabular}\n",
            "text/markdown": "\nA tibble: 20 × 7\n\n| name &lt;chr&gt; | year &lt;dbl&gt; | country &lt;chr&gt; | gross_in_mil &lt;dbl&gt; | budget_in_mil &lt;dbl&gt; | profit_in_mil &lt;dbl&gt; | profit &lt;dbl&gt; |\n|---|---|---|---|---|---|---|\n| Stand by Me                 | 1986 | USA       |  52.287414 |  8.0 |  44.287414 |  44287414 |\n| Ferris Bueller's Day Off    | 1986 | USA       |  70.136369 |  6.0 |  64.136369 |  64136369 |\n| Top Gun                     | 1986 | USA       | 179.800601 | 15.0 | 164.800601 | 164800601 |\n| Aliens                      | 1986 | USA       |  85.160248 | 18.5 |  66.660248 |  66660248 |\n| Flight of the Navigator     | 1986 | USA       |  18.564613 |  9.0 |   9.564613 |   9564613 |\n| Platoon                     | 1986 | UK        | 138.530565 |  6.0 | 132.530565 | 132530565 |\n| Labyrinth                   | 1986 | UK        |  12.729917 | 25.0 | -12.270083 | -12270083 |\n| Blue Velvet                 | 1986 | USA       |   8.551228 |  6.0 |   2.551228 |   2551228 |\n| Pretty in Pink              | 1986 | USA       |  40.471663 |  9.0 |  31.471663 |  31471663 |\n| The Fly                     | 1986 | USA       |  40.456565 | 15.0 |  25.456565 |  25456565 |\n| Crocodile Dundee            | 1986 | Australia | 174.635000 |  8.8 | 165.835000 | 165835000 |\n| Highlander                  | 1986 | UK        |   5.900000 | 16.0 | -10.100000 | -10100000 |\n| Lucas                       | 1986 | USA       |   8.200000 |  6.0 |   2.200000 |   2200000 |\n| Big Trouble in Little China | 1986 | USA       |  11.100000 | 25.0 | -13.900000 | -13900000 |\n| Manhunter                   | 1986 | USA       |   8.620929 | 15.0 |  -6.379071 |  -6379071 |\n| 9&lt;U+00BD&gt; Weeks             | 1986 | USA       |   6.734844 | 17.0 | -10.265156 | -10265156 |\n| Maximum Overdrive           | 1986 | USA       |   7.433663 | 10.0 |  -2.566337 |  -2566337 |\n| Little Shop of Horrors      | 1986 | USA       |  38.747385 | 25.0 |  13.747385 |  13747385 |\n| The Wraith                  | 1986 | USA       |   3.500000 |  2.7 |   0.800000 |    800000 |\n| Howard the Duck             | 1986 | USA       |  16.295774 | 35.0 | -18.704226 | -18704226 |\n\n",
            "text/html": [
              "<table>\n",
              "<caption>A tibble: 20 × 7</caption>\n",
              "<thead>\n",
              "\t<tr><th scope=col>name</th><th scope=col>year</th><th scope=col>country</th><th scope=col>gross_in_mil</th><th scope=col>budget_in_mil</th><th scope=col>profit_in_mil</th><th scope=col>profit</th></tr>\n",
              "\t<tr><th scope=col>&lt;chr&gt;</th><th scope=col>&lt;dbl&gt;</th><th scope=col>&lt;chr&gt;</th><th scope=col>&lt;dbl&gt;</th><th scope=col>&lt;dbl&gt;</th><th scope=col>&lt;dbl&gt;</th><th scope=col>&lt;dbl&gt;</th></tr>\n",
              "</thead>\n",
              "<tbody>\n",
              "\t<tr><td>Stand by Me                </td><td>1986</td><td>USA      </td><td> 52.287414</td><td> 8.0</td><td> 44.287414</td><td> 44287414</td></tr>\n",
              "\t<tr><td>Ferris Bueller's Day Off   </td><td>1986</td><td>USA      </td><td> 70.136369</td><td> 6.0</td><td> 64.136369</td><td> 64136369</td></tr>\n",
              "\t<tr><td>Top Gun                    </td><td>1986</td><td>USA      </td><td>179.800601</td><td>15.0</td><td>164.800601</td><td>164800601</td></tr>\n",
              "\t<tr><td>Aliens                     </td><td>1986</td><td>USA      </td><td> 85.160248</td><td>18.5</td><td> 66.660248</td><td> 66660248</td></tr>\n",
              "\t<tr><td>Flight of the Navigator    </td><td>1986</td><td>USA      </td><td> 18.564613</td><td> 9.0</td><td>  9.564613</td><td>  9564613</td></tr>\n",
              "\t<tr><td>Platoon                    </td><td>1986</td><td>UK       </td><td>138.530565</td><td> 6.0</td><td>132.530565</td><td>132530565</td></tr>\n",
              "\t<tr><td>Labyrinth                  </td><td>1986</td><td>UK       </td><td> 12.729917</td><td>25.0</td><td>-12.270083</td><td>-12270083</td></tr>\n",
              "\t<tr><td>Blue Velvet                </td><td>1986</td><td>USA      </td><td>  8.551228</td><td> 6.0</td><td>  2.551228</td><td>  2551228</td></tr>\n",
              "\t<tr><td>Pretty in Pink             </td><td>1986</td><td>USA      </td><td> 40.471663</td><td> 9.0</td><td> 31.471663</td><td> 31471663</td></tr>\n",
              "\t<tr><td>The Fly                    </td><td>1986</td><td>USA      </td><td> 40.456565</td><td>15.0</td><td> 25.456565</td><td> 25456565</td></tr>\n",
              "\t<tr><td>Crocodile Dundee           </td><td>1986</td><td>Australia</td><td>174.635000</td><td> 8.8</td><td>165.835000</td><td>165835000</td></tr>\n",
              "\t<tr><td>Highlander                 </td><td>1986</td><td>UK       </td><td>  5.900000</td><td>16.0</td><td>-10.100000</td><td>-10100000</td></tr>\n",
              "\t<tr><td>Lucas                      </td><td>1986</td><td>USA      </td><td>  8.200000</td><td> 6.0</td><td>  2.200000</td><td>  2200000</td></tr>\n",
              "\t<tr><td>Big Trouble in Little China</td><td>1986</td><td>USA      </td><td> 11.100000</td><td>25.0</td><td>-13.900000</td><td>-13900000</td></tr>\n",
              "\t<tr><td>Manhunter                  </td><td>1986</td><td>USA      </td><td>  8.620929</td><td>15.0</td><td> -6.379071</td><td> -6379071</td></tr>\n",
              "\t<tr><td><span style=white-space:pre-wrap>9&lt;U+00BD&gt; Weeks            </span></td><td>1986</td><td><span style=white-space:pre-wrap>USA      </span></td><td><span style=white-space:pre-wrap>  6.734844</span></td><td>17.0</td><td>-10.265156</td><td>-10265156</td></tr>\n",
              "\t<tr><td>Maximum Overdrive          </td><td>1986</td><td>USA      </td><td>  7.433663</td><td>10.0</td><td> -2.566337</td><td> -2566337</td></tr>\n",
              "\t<tr><td>Little Shop of Horrors     </td><td>1986</td><td>USA      </td><td> 38.747385</td><td>25.0</td><td> 13.747385</td><td> 13747385</td></tr>\n",
              "\t<tr><td>The Wraith                 </td><td>1986</td><td>USA      </td><td>  3.500000</td><td> 2.7</td><td>  0.800000</td><td>   800000</td></tr>\n",
              "\t<tr><td>Howard the Duck            </td><td>1986</td><td>USA      </td><td> 16.295774</td><td>35.0</td><td>-18.704226</td><td>-18704226</td></tr>\n",
              "</tbody>\n",
              "</table>\n"
            ]
          },
          "metadata": {
            "tags": []
          }
        }
      ]
    },
    {
      "cell_type": "markdown",
      "metadata": {
        "id": "QTneVRuwv5EE",
        "colab_type": "text"
      },
      "source": [
        "Any vectorized function can be used with mutate(), including:\n",
        "\n",
        "\n",
        "*   arithmetic operators (+,-,*,/, %, %%),\n",
        "*   logical operators (<,<=,>,>=,==,!=),\n",
        "*   logarithmic and exponential transfomations (log, log10, exp),\n",
        "*   offsets (lead, lag),\n",
        "*   cummulative rolling aggregates (cumsum, cumprod, cummin, cummax),\n",
        "*   ranking (min_rank, percent_rank).\n",
        "\n"
      ]
    }
  ]
}