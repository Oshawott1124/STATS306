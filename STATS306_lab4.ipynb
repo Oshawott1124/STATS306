{
  "nbformat": 4,
  "nbformat_minor": 0,
  "metadata": {
    "colab": {
      "name": "STATS306_lab4.ipynb",
      "provenance": []
    },
    "kernelspec": {
      "name": "ir",
      "display_name": "R"
    }
  },
  "cells": [
    {
      "cell_type": "markdown",
      "metadata": {
        "id": "YM5i5-9b-vKt",
        "colab_type": "text"
      },
      "source": [
        "# **Lab 4: Transforming data: Into to dplyr**"
      ]
    },
    {
      "cell_type": "markdown",
      "metadata": {
        "id": "W_rDGiSSPwJw",
        "colab_type": "text"
      },
      "source": [
        "## **dplyr verbs(functions)**\n",
        "dplyr utilities handle the vast majority of your data manipulation needs:\n",
        "\n",
        "*   filter() - for picking observations by their values,\n",
        "*   select() - for picking variables by their names,\n",
        "*   arrange() - for reorder the rows,\n",
        "*   mutate() - for creating new variables with functions on existing variables,\n",
        "*   summarise() - for collapse many values down to a single summary.\n",
        "\n",
        "\n"
      ]
    },
    {
      "cell_type": "markdown",
      "metadata": {
        "id": "CsJozkzds4j9",
        "colab_type": "text"
      },
      "source": [
        "## **The structure of dplyr functions**\n",
        "\n",
        "All verbs work similarly:\n",
        "\n",
        "\n",
        "*   The first argument is a tibble (or data frame)\n",
        "*   The subsequent ones describe what to do, using the variable names\n",
        "*   The result is a new tibble\n",
        "\n"
      ]
    },
    {
      "cell_type": "markdown",
      "metadata": {
        "id": "1Q6dYtEAtdVF",
        "colab_type": "text"
      },
      "source": [
        "## **The movie industry dataset**\n",
        "\n",
        "`movies.csv` contains information on last three decades of movies.\n",
        "The data has been scraped from the IMDb website and can be accessed from a [github repo](https://raw.githubusercontent.com/Juanets/movie-stats/master/movies.csv)."
      ]
    },
    {
      "cell_type": "code",
      "metadata": {
        "id": "d4p6kCtb-nP_",
        "colab_type": "code",
        "colab": {}
      },
      "source": [
        "library (tidyverse)"
      ],
      "execution_count": 0,
      "outputs": []
    },
    {
      "cell_type": "code",
      "metadata": {
        "id": "xeL4GMbf-uHb",
        "colab_type": "code",
        "colab": {}
      },
      "source": [
        "url <- \"https://raw.githubusercontent.com/Juanets/movie-stats/master/movies.csv\"\n",
        "movies <- read_csv(url)\n",
        "locale <- Sys.setlocale(category = \"LC_ALL\", locale = \"C\")\n",
        "movies"
      ],
      "execution_count": 0,
      "outputs": []
    },
    {
      "cell_type": "markdown",
      "metadata": {
        "id": "WnQYFmTQ3Ky8",
        "colab_type": "text"
      },
      "source": [
        "## **filter(): retain rows matching a criteria**\n",
        "\n",
        "filter() allows you to subset observations based on their values."
      ]
    },
    {
      "cell_type": "code",
      "metadata": {
        "id": "brHF0RmB3Iv7",
        "colab_type": "code",
        "colab": {}
      },
      "source": [
        "# note: both comma and \"&\" represent AND condition\n",
        "filter(movies, genre == \"Comedy\", director == \"Woody Allen\")"
      ],
      "execution_count": 0,
      "outputs": []
    },
    {
      "cell_type": "markdown",
      "metadata": {
        "id": "6XCy8W-rsjtf",
        "colab_type": "text"
      },
      "source": [
        "Package dplyr executes the filtering and returns a new data frame. It never modifies the original one."
      ]
    },
    {
      "cell_type": "markdown",
      "metadata": {
        "id": "8UrlUhwUtH3f",
        "colab_type": "text"
      },
      "source": [
        "## **Logical operators**"
      ]
    },
    {
      "cell_type": "code",
      "metadata": {
        "id": "hd1wjzSitOx4",
        "colab_type": "code",
        "colab": {}
      },
      "source": [
        "# Using AND operator\n",
        "filter(movies, country == \"USA\", budget > 2.5e8)\n",
        "# same as filter(movies, country == \"USA\" & budget > 2.5e8)"
      ],
      "execution_count": 0,
      "outputs": []
    },
    {
      "cell_type": "code",
      "metadata": {
        "id": "9bkdtOAVtPdX",
        "colab_type": "code",
        "colab": {}
      },
      "source": [
        "# Using OR operator\n",
        "filter(movies, country == \"USA\" | budget > 2.5e8)"
      ],
      "execution_count": 0,
      "outputs": []
    },
    {
      "cell_type": "code",
      "metadata": {
        "id": "_pmY32GWtSuP",
        "colab_type": "code",
        "colab": {}
      },
      "source": [
        "#Using xor(), xor indicates elementwise exclusive OR.\n",
        "filter(movies, xor(score > 9, budget > 2.5e8))"
      ],
      "execution_count": 0,
      "outputs": []
    },
    {
      "cell_type": "code",
      "metadata": {
        "id": "xeIYc7bntXLE",
        "colab_type": "code",
        "colab": {}
      },
      "source": [
        "# you can also use %in% operator\n",
        "filter(movies, country %in% c(\"Peru\", \"Colombia\", \"Chile\"))"
      ],
      "execution_count": 0,
      "outputs": []
    },
    {
      "cell_type": "markdown",
      "metadata": {
        "id": "mkiwqFNJvFJq",
        "colab_type": "text"
      },
      "source": [
        "In R, if you want to find if a variable's value is missing, use the is.na() function. In particular, do not check for equality with NA:"
      ]
    },
    {
      "cell_type": "code",
      "metadata": {
        "id": "mWHwzPWgvRS-",
        "colab_type": "code",
        "colab": {}
      },
      "source": [
        "x <- 1"
      ],
      "execution_count": 0,
      "outputs": []
    },
    {
      "cell_type": "code",
      "metadata": {
        "id": "MFkHeXPuvTAs",
        "colab_type": "code",
        "colab": {}
      },
      "source": [
        "x == NA"
      ],
      "execution_count": 0,
      "outputs": []
    },
    {
      "cell_type": "code",
      "metadata": {
        "id": "owi8KdOwvY8b",
        "colab_type": "code",
        "colab": {}
      },
      "source": [
        "is.na(x)"
      ],
      "execution_count": 0,
      "outputs": []
    },
    {
      "cell_type": "markdown",
      "metadata": {
        "id": "oa3vcN0yviNa",
        "colab_type": "text"
      },
      "source": [
        "Similarly, never put an equality condition with NA in your dplyr filter() statements."
      ]
    },
    {
      "cell_type": "code",
      "metadata": {
        "id": "8W1Z60LGvkhj",
        "colab_type": "code",
        "colab": {}
      },
      "source": [
        "# create a dataframe\n",
        "df <- tibble(x = c(1, NA, 3))\n",
        "print(df)"
      ],
      "execution_count": 0,
      "outputs": []
    },
    {
      "cell_type": "code",
      "metadata": {
        "id": "3I2WGBeuvoix",
        "colab_type": "code",
        "colab": {}
      },
      "source": [
        "filter(df, x > 1)"
      ],
      "execution_count": 0,
      "outputs": []
    },
    {
      "cell_type": "code",
      "metadata": {
        "id": "UmzdlDdxvwHX",
        "colab_type": "code",
        "colab": {}
      },
      "source": [
        "filter(df, is.na(x) | x > 1) # Note the special case of NA"
      ],
      "execution_count": 0,
      "outputs": []
    },
    {
      "cell_type": "markdown",
      "metadata": {
        "id": "Zgy_SAFIv0LO",
        "colab_type": "text"
      },
      "source": [
        "## **Exercise 1:**\n",
        "\n",
        "\n",
        "1.   Write code using filter that will allow you to output movies with `country` USA or UK and `genre` Action or Drama.\n",
        "2.   Write code using filter that will allow you to output movies with `released` later than 2014-12-01. (hint: `movies$released <- as.Date(movies$released)`)\n"
      ]
    },
    {
      "cell_type": "markdown",
      "metadata": {
        "id": "ZRPPC7oWzMro",
        "colab_type": "text"
      },
      "source": [
        "## **select(): pick columns by name**\n",
        "\n",
        "select() let’s you choose a subset variables, specified by name.\n",
        "Note, there is no need for quotation marks in dplyr:"
      ]
    },
    {
      "cell_type": "code",
      "metadata": {
        "id": "cnetgzyczWZ7",
        "colab_type": "code",
        "colab": {}
      },
      "source": [
        "#select 5 columns\n",
        "select(movies, name, country, year, genre)"
      ],
      "execution_count": 0,
      "outputs": []
    },
    {
      "cell_type": "code",
      "metadata": {
        "id": "lnKvPietzupN",
        "colab_type": "code",
        "colab": {}
      },
      "source": [
        "select(movies, name, genre:score) # use colon to select contiguous columns,"
      ],
      "execution_count": 0,
      "outputs": []
    },
    {
      "cell_type": "code",
      "metadata": {
        "id": "K-JJHgF_zvkx",
        "colab_type": "code",
        "colab": {}
      },
      "source": [
        "select(movies, -(star:writer)) # To drop columns use a minus, \"-\""
      ],
      "execution_count": 0,
      "outputs": []
    },
    {
      "cell_type": "markdown",
      "metadata": {
        "id": "Jn2GSBIYz3vK",
        "colab_type": "text"
      },
      "source": [
        "## **select() helpers**\n",
        "You can use the following functions to help select the columns:\n",
        "\n",
        "\n",
        "*   starts_with()\n",
        "*   ends_with()\n",
        "*   contains()\n",
        "*   matches() (matches a regular expression)\n",
        "*   num_range(\"x\", 1:4): pickes variables x1, x2, x3, x4\n",
        "\n",
        "Example:\n",
        "\n"
      ]
    },
    {
      "cell_type": "code",
      "metadata": {
        "id": "JJ6f3LTA0NVQ",
        "colab_type": "code",
        "colab": {}
      },
      "source": [
        "select(movies, starts_with(\"r\"))\n",
        "select(movies, ends_with(\"e\"))\n",
        "select(movies, contains(\"re\"))"
      ],
      "execution_count": 0,
      "outputs": []
    },
    {
      "cell_type": "markdown",
      "metadata": {
        "id": "0vpZzas-Oe7C",
        "colab_type": "text"
      },
      "source": [
        "## **Exercise 2:**\n",
        "\n",
        "Write code that will have company as the first column and the columns starting with the letter 'g' as the following columns. Output the first 20 rows of such a dataset."
      ]
    },
    {
      "cell_type": "markdown",
      "metadata": {
        "id": "X_wcVUiT1qud",
        "colab_type": "text"
      },
      "source": [
        "## **arrange(): reorder rows**\n",
        "\n",
        "arrange() takes a data frame and a set of column names to order by.\n",
        "For descending order, use the function desc() around the column name."
      ]
    },
    {
      "cell_type": "code",
      "metadata": {
        "id": "iHSUUhXZ13Vz",
        "colab_type": "code",
        "colab": {}
      },
      "source": [
        "print(arrange(movies, runtime), n = 4)"
      ],
      "execution_count": 0,
      "outputs": []
    },
    {
      "cell_type": "code",
      "metadata": {
        "id": "gxzLKPxh166Z",
        "colab_type": "code",
        "colab": {}
      },
      "source": [
        "# use `desc` for descending\n",
        "print(arrange(movies, desc(budget)), n = 4)"
      ],
      "execution_count": 0,
      "outputs": []
    },
    {
      "cell_type": "markdown",
      "metadata": {
        "id": "9DjSBMHfs23u",
        "colab_type": "text"
      },
      "source": [
        "Missing values are always sorted at the end:"
      ]
    },
    {
      "cell_type": "code",
      "metadata": {
        "id": "2z66QClss6CH",
        "colab_type": "code",
        "colab": {}
      },
      "source": [
        "df <- tibble(x = c(5, NA, 2))\n",
        "arrange(df, x)"
      ],
      "execution_count": 0,
      "outputs": []
    },
    {
      "cell_type": "code",
      "metadata": {
        "id": "h9JU073ms9Z4",
        "colab_type": "code",
        "colab": {}
      },
      "source": [
        "arrange(df, desc(x))"
      ],
      "execution_count": 0,
      "outputs": []
    },
    {
      "cell_type": "markdown",
      "metadata": {
        "id": "ktm6NMcrtBXS",
        "colab_type": "text"
      },
      "source": [
        "## **Exercise 3:**\n",
        "\n",
        "Use arrange to sort the `movies` dataset by ascending order of the product of the budget and score variables. Output the first 20 rows of the new dataset.\n"
      ]
    },
    {
      "cell_type": "markdown",
      "metadata": {
        "id": "-RcNHsr1QTcy",
        "colab_type": "text"
      },
      "source": [
        "## **mutate(): add new variables**\n",
        "\n",
        "mutate() adds new columns that are a function of the existing ones"
      ]
    },
    {
      "cell_type": "code",
      "metadata": {
        "id": "8CaZwOPmQZdv",
        "colab_type": "code",
        "colab": {}
      },
      "source": [
        "movies <- mutate(movies, profit = gross - budget)\n",
        "select(movies, name, gross, budget, profit)"
      ],
      "execution_count": 0,
      "outputs": []
    },
    {
      "cell_type": "markdown",
      "metadata": {
        "id": "3iUl2hekQpiW",
        "colab_type": "text"
      },
      "source": [
        "To discard old variables, use transmute() instead of mutate()."
      ]
    },
    {
      "cell_type": "code",
      "metadata": {
        "id": "pEXpfFmOQqpX",
        "colab_type": "code",
        "colab": {}
      },
      "source": [
        "# Generating multiple new variables\n",
        "movies <- mutate(\n",
        "movies,\n",
        "profit = gross - budget,\n",
        "gross_in_mil = gross/10^6,\n",
        "budget_in_mil = budget/10^6,\n",
        "profit_in_mil = profit/10^6\n",
        ")\n",
        "select(movies, name, year, country, contains(\"_in_mil\"), profit)"
      ],
      "execution_count": 0,
      "outputs": []
    },
    {
      "cell_type": "markdown",
      "metadata": {
        "id": "QTneVRuwv5EE",
        "colab_type": "text"
      },
      "source": [
        "Any vectorized function can be used with mutate(), including:\n",
        "\n",
        "\n",
        "*   arithmetic operators (+,-,*,/, %, %%),\n",
        "*   logical operators (<,<=,>,>=,==,!=),\n",
        "*   logarithmic and exponential transfomations (log, log10, exp),\n",
        "*   offsets (lead, lag),\n",
        "*   cummulative rolling aggregates (cumsum, cumprod, cummin, cummax),\n",
        "*   ranking (min_rank, percent_rank).\n",
        "\n"
      ]
    }
  ]
}