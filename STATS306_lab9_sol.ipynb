{
  "nbformat": 4,
  "nbformat_minor": 0,
  "metadata": {
    "colab": {
      "name": "STATS306_lab9_sol.ipynb",
      "provenance": []
    },
    "kernelspec": {
      "name": "ir",
      "display_name": "R"
    }
  },
  "cells": [
    {
      "cell_type": "code",
      "metadata": {
        "id": "MsS9zGvoy0oh",
        "colab_type": "code",
        "outputId": "a4066045-7a9a-4ef7-a52e-70dde6887085",
        "colab": {
          "base_uri": "https://localhost:8080/",
          "height": 204
        }
      },
      "source": [
        "library (tidyverse)"
      ],
      "execution_count": 0,
      "outputs": [
        {
          "output_type": "stream",
          "text": [
            "── \u001b[1mAttaching packages\u001b[22m ─────────────────────────────────────── tidyverse 1.3.0 ──\n",
            "\n",
            "\u001b[32m✔\u001b[39m \u001b[34mggplot2\u001b[39m 3.2.1     \u001b[32m✔\u001b[39m \u001b[34mpurrr  \u001b[39m 0.3.3\n",
            "\u001b[32m✔\u001b[39m \u001b[34mtibble \u001b[39m 2.1.3     \u001b[32m✔\u001b[39m \u001b[34mdplyr  \u001b[39m 0.8.4\n",
            "\u001b[32m✔\u001b[39m \u001b[34mtidyr  \u001b[39m 1.0.2     \u001b[32m✔\u001b[39m \u001b[34mstringr\u001b[39m 1.4.0\n",
            "\u001b[32m✔\u001b[39m \u001b[34mreadr  \u001b[39m 1.3.1     \u001b[32m✔\u001b[39m \u001b[34mforcats\u001b[39m 0.4.0\n",
            "\n",
            "── \u001b[1mConflicts\u001b[22m ────────────────────────────────────────── tidyverse_conflicts() ──\n",
            "\u001b[31m✖\u001b[39m \u001b[34mdplyr\u001b[39m::\u001b[32mfilter()\u001b[39m masks \u001b[34mstats\u001b[39m::filter()\n",
            "\u001b[31m✖\u001b[39m \u001b[34mdplyr\u001b[39m::\u001b[32mlag()\u001b[39m    masks \u001b[34mstats\u001b[39m::lag()\n",
            "\n"
          ],
          "name": "stderr"
        }
      ]
    },
    {
      "cell_type": "markdown",
      "metadata": {
        "id": "bh2NYzUtJZSH",
        "colab_type": "text"
      },
      "source": [
        "### **Exercise**:\n",
        "\n",
        "1.  This dataset only records when a fish was detected by the station - it doesn’t record when it wasn’t detected. Suppose we know that the absence of a record means that the fish was not seen, use `pivot_wider()` and `values_fill` argument to fill these missing values in with zeros(and also try to use chaining operator)."
      ]
    },
    {
      "cell_type": "code",
      "metadata": {
        "id": "Djp4V8msJYM8",
        "colab_type": "code",
        "colab": {}
      },
      "source": [
        "fish_encounters %>% pivot_wider(\n",
        "  names_from = station, \n",
        "  values_from = seen,\n",
        "  values_fill = list(seen = 0)\n",
        ")"
      ],
      "execution_count": 0,
      "outputs": []
    },
    {
      "cell_type": "markdown",
      "metadata": {
        "id": "mSK-F6yqJaHm",
        "colab_type": "text"
      },
      "source": [
        "\n",
        "2.   Tidy the following dataset:\n",
        " *   make it longer and eliminate the explcit `NA`s, add a column with name `checked` and assign value `TRUE` to each entry of the `checked` column.\n",
        " *   make the data wider, filling in the missing observations with `FALSE`(use `values_fill`)"
      ]
    },
    {
      "cell_type": "code",
      "metadata": {
        "id": "YReRCGLdJXzd",
        "colab_type": "code",
        "colab": {}
      },
      "source": [
        "multi <- tribble(\n",
        "  ~id, ~choice1, ~choice2, ~choice3,\n",
        "  1, \"A\", \"B\", \"C\",\n",
        "  2, \"C\", \"B\",  NA,\n",
        "  3, \"D\",  NA,  NA,\n",
        "  4, \"B\", \"D\",  NA\n",
        ")"
      ],
      "execution_count": 0,
      "outputs": []
    },
    {
      "cell_type": "code",
      "metadata": {
        "id": "rhuZx3BpJgG3",
        "colab_type": "code",
        "colab": {}
      },
      "source": [
        "multi2 <- multi %>% \n",
        "  pivot_longer(-id, values_drop_na = TRUE) %>% \n",
        "  mutate(checked = TRUE)\n",
        "multi2\n"
      ],
      "execution_count": 0,
      "outputs": []
    },
    {
      "cell_type": "code",
      "metadata": {
        "id": "zbqeUqtDJjZs",
        "colab_type": "code",
        "colab": {}
      },
      "source": [
        "multi2 %>% \n",
        "  pivot_wider(\n",
        "    id_cols = id,\n",
        "    names_from = value, \n",
        "    values_from = checked, \n",
        "  )"
      ],
      "execution_count": 0,
      "outputs": []
    },
    {
      "cell_type": "code",
      "metadata": {
        "id": "b7p_K6xRJnLN",
        "colab_type": "code",
        "colab": {}
      },
      "source": [
        "multi2 %>% \n",
        "  pivot_wider(\n",
        "    id_cols = id,\n",
        "    names_from = value, \n",
        "    values_from = checked, \n",
        "    values_fill = list(checked = FALSE)\n",
        "  )"
      ],
      "execution_count": 0,
      "outputs": []
    },
    {
      "cell_type": "markdown",
      "metadata": {
        "id": "cSPtRUggx9uS",
        "colab_type": "text"
      },
      "source": [
        "\n",
        "3.   Tidy the following dataset:\n",
        " *   Notice year is spread across multiple columns, first make it longer.\n",
        " *   Split the indicator up into two variables: `area` (total or urban) and `variable` (population or growth), i.e. discard \"SP\", keep other two characters and assign them to `area` and `variable` respectively.\n",
        " *   Complete the tidying by pivoting variable and value"
      ]
    },
    {
      "cell_type": "code",
      "metadata": {
        "id": "ruC-_jCbyREG",
        "colab_type": "code",
        "colab": {}
      },
      "source": [
        "pop2 <- world_bank_pop %>% \n",
        "  pivot_longer(`2000`:`2017`, names_to = \"year\", values_to = \"value\")\n",
        "pop2"
      ],
      "execution_count": 0,
      "outputs": []
    },
    {
      "cell_type": "code",
      "metadata": {
        "id": "wuf8m3iSyUpB",
        "colab_type": "code",
        "colab": {}
      },
      "source": [
        "pop3 <- pop2 %>% \n",
        "  separate(indicator, c(NA, \"area\", \"variable\"))\n",
        "pop3"
      ],
      "execution_count": 0,
      "outputs": []
    },
    {
      "cell_type": "code",
      "metadata": {
        "id": "fi9FrgiEyaUd",
        "colab_type": "code",
        "colab": {}
      },
      "source": [
        "pop3 %>% \n",
        "  pivot_wider(names_from = variable, values_from = value)\n"
      ],
      "execution_count": 0,
      "outputs": []
    }
  ]
}