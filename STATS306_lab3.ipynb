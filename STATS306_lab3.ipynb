{
  "nbformat": 4,
  "nbformat_minor": 0,
  "metadata": {
    "colab": {
      "name": "STATS306_lab3.ipynb",
      "provenance": []
    },
    "kernelspec": {
      "name": "ir",
      "display_name": "R"
    }
  },
  "cells": [
    {
      "cell_type": "markdown",
      "metadata": {
        "id": "zZJ8nv5GLh0Z",
        "colab_type": "text"
      },
      "source": [
        "# **Lab 3: Problem session: Exercise on ggplot**"
      ]
    },
    {
      "cell_type": "code",
      "metadata": {
        "id": "_HjMKGED8NsE",
        "colab_type": "code",
        "colab": {
          "base_uri": "https://localhost:8080/",
          "height": 204
        },
        "outputId": "975df6c1-4a95-4c8b-82d2-c72a81574a4b"
      },
      "source": [
        "library (tidyverse)"
      ],
      "execution_count": 1,
      "outputs": [
        {
          "output_type": "stream",
          "text": [
            "── \u001b[1mAttaching packages\u001b[22m ─────────────────────────────────────── tidyverse 1.3.0 ──\n",
            "\n",
            "\u001b[32m✔\u001b[39m \u001b[34mggplot2\u001b[39m 3.2.1     \u001b[32m✔\u001b[39m \u001b[34mpurrr  \u001b[39m 0.3.3\n",
            "\u001b[32m✔\u001b[39m \u001b[34mtibble \u001b[39m 2.1.3     \u001b[32m✔\u001b[39m \u001b[34mdplyr  \u001b[39m 0.8.3\n",
            "\u001b[32m✔\u001b[39m \u001b[34mtidyr  \u001b[39m 1.0.0     \u001b[32m✔\u001b[39m \u001b[34mstringr\u001b[39m 1.4.0\n",
            "\u001b[32m✔\u001b[39m \u001b[34mreadr  \u001b[39m 1.3.1     \u001b[32m✔\u001b[39m \u001b[34mforcats\u001b[39m 0.4.0\n",
            "\n",
            "── \u001b[1mConflicts\u001b[22m ────────────────────────────────────────── tidyverse_conflicts() ──\n",
            "\u001b[31m✖\u001b[39m \u001b[34mdplyr\u001b[39m::\u001b[32mfilter()\u001b[39m masks \u001b[34mstats\u001b[39m::filter()\n",
            "\u001b[31m✖\u001b[39m \u001b[34mdplyr\u001b[39m::\u001b[32mlag()\u001b[39m    masks \u001b[34mstats\u001b[39m::lag()\n",
            "\n"
          ],
          "name": "stderr"
        }
      ]
    },
    {
      "cell_type": "markdown",
      "metadata": {
        "id": "TsZNrU83Opeh",
        "colab_type": "text"
      },
      "source": [
        "## **Exercise 1: Customized scatter plot** \n",
        "\n",
        "You will try to recreate a [plot](https://www.economist.com/sites/default/files/imagecache/1280-width/images/2016/07/blogs/graphic-detail/20160723_woc155_1.png) from an Economist article showing the relationship between well-being and financial inclusion.\n",
        "\n",
        "You can find the accompanying article at this [link](https://www.economist.com/graphic-detail/2016/07/20/measuring-well-being)\n",
        "\n",
        "The data for the exercises `EconomistData.csv` can be downloaded from the class github repository."
      ]
    },
    {
      "cell_type": "code",
      "metadata": {
        "id": "0-dDbyCDLhH2",
        "colab_type": "code",
        "colab": {
          "base_uri": "https://localhost:8080/",
          "height": 221
        },
        "outputId": "1d5778f0-f5e5-4d99-dafe-4992a61af255"
      },
      "source": [
        "url <- paste0(\"https://raw.githubusercontent.com/yifanjin328/STATS306/\",\n",
        "              \"master/EconomistData.csv\")\n",
        "dat <- read_csv(url)"
      ],
      "execution_count": 2,
      "outputs": [
        {
          "output_type": "stream",
          "text": [
            "Parsed with column specification:\n",
            "cols(\n",
            "  Country = \u001b[31mcol_character()\u001b[39m,\n",
            "  SEDA.Current.level = \u001b[32mcol_double()\u001b[39m,\n",
            "  SEDA.Recent.progress = \u001b[32mcol_double()\u001b[39m,\n",
            "  Wealth.to.well.being.coefficient = \u001b[32mcol_double()\u001b[39m,\n",
            "  Growth.to.well.being.coefficient = \u001b[32mcol_double()\u001b[39m,\n",
            "  Percent.of.15plus.with.bank.account = \u001b[32mcol_double()\u001b[39m,\n",
            "  EPI_regions = \u001b[31mcol_character()\u001b[39m,\n",
            "  Region = \u001b[31mcol_character()\u001b[39m\n",
            ")\n",
            "\n"
          ],
          "name": "stderr"
        }
      ]
    },
    {
      "cell_type": "code",
      "metadata": {
        "id": "drMCO1doV_c6",
        "colab_type": "code",
        "colab": {
          "base_uri": "https://localhost:8080/",
          "height": 479
        },
        "outputId": "3e74328b-6055-4b6c-dbb3-0ca450b90e67"
      },
      "source": [
        "head(dat)"
      ],
      "execution_count": 3,
      "outputs": [
        {
          "output_type": "display_data",
          "data": {
            "text/plain": [
              "  Country   SEDA.Current.level SEDA.Recent.progress\n",
              "1 Albania   50.0               63.3                \n",
              "2 Algeria   40.6               46.5                \n",
              "3 Angola    17.8               76.2                \n",
              "4 Argentina 54.1               49.1                \n",
              "5 Armenia   43.8               46.0                \n",
              "6 Australia 87.9               40.9                \n",
              "  Wealth.to.well.being.coefficient Growth.to.well.being.coefficient\n",
              "1 1.27                             1.31                            \n",
              "2 0.87                             1.03                            \n",
              "3 0.54                             1.21                            \n",
              "4 0.91                             0.89                            \n",
              "5 1.25                             1.11                            \n",
              "6 1.07                             0.92                            \n",
              "  Percent.of.15plus.with.bank.account EPI_regions                 \n",
              "1 37.98635                            Central and Eastern Europ   \n",
              "2 50.47579                            Middle East and North Africa\n",
              "3 29.31812                            Sub-Saharan Africa          \n",
              "4 50.19730                            Latin America and Caribbe   \n",
              "5 17.66907                            Middle East and North Africa\n",
              "6 98.85957                            East Asia and the Pacific   \n",
              "  Region                       \n",
              "1 Europe                       \n",
              "2 Middle East & North Africa   \n",
              "3 Sub-Saharan Africa           \n",
              "4 Latin America & the Caribbean\n",
              "5 Middle East & North Africa   \n",
              "6 Oceania                      "
            ],
            "text/latex": "A tibble: 6 × 8\n\\begin{tabular}{llllllll}\n Country & SEDA.Current.level & SEDA.Recent.progress & Wealth.to.well.being.coefficient & Growth.to.well.being.coefficient & Percent.of.15plus.with.bank.account & EPI\\_regions & Region\\\\\n <chr> & <dbl> & <dbl> & <dbl> & <dbl> & <dbl> & <chr> & <chr>\\\\\n\\hline\n\t Albania   & 50.0 & 63.3 & 1.27 & 1.31 & 37.98635 & Central and Eastern Europ    & Europe                       \\\\\n\t Algeria   & 40.6 & 46.5 & 0.87 & 1.03 & 50.47579 & Middle East and North Africa & Middle East \\& North Africa   \\\\\n\t Angola    & 17.8 & 76.2 & 0.54 & 1.21 & 29.31812 & Sub-Saharan Africa           & Sub-Saharan Africa           \\\\\n\t Argentina & 54.1 & 49.1 & 0.91 & 0.89 & 50.19730 & Latin America and Caribbe    & Latin America \\& the Caribbean\\\\\n\t Armenia   & 43.8 & 46.0 & 1.25 & 1.11 & 17.66907 & Middle East and North Africa & Middle East \\& North Africa   \\\\\n\t Australia & 87.9 & 40.9 & 1.07 & 0.92 & 98.85957 & East Asia and the Pacific    & Oceania                      \\\\\n\\end{tabular}\n",
            "text/markdown": "\nA tibble: 6 × 8\n\n| Country &lt;chr&gt; | SEDA.Current.level &lt;dbl&gt; | SEDA.Recent.progress &lt;dbl&gt; | Wealth.to.well.being.coefficient &lt;dbl&gt; | Growth.to.well.being.coefficient &lt;dbl&gt; | Percent.of.15plus.with.bank.account &lt;dbl&gt; | EPI_regions &lt;chr&gt; | Region &lt;chr&gt; |\n|---|---|---|---|---|---|---|---|\n| Albania   | 50.0 | 63.3 | 1.27 | 1.31 | 37.98635 | Central and Eastern Europ    | Europe                        |\n| Algeria   | 40.6 | 46.5 | 0.87 | 1.03 | 50.47579 | Middle East and North Africa | Middle East &amp; North Africa    |\n| Angola    | 17.8 | 76.2 | 0.54 | 1.21 | 29.31812 | Sub-Saharan Africa           | Sub-Saharan Africa            |\n| Argentina | 54.1 | 49.1 | 0.91 | 0.89 | 50.19730 | Latin America and Caribbe    | Latin America &amp; the Caribbean |\n| Armenia   | 43.8 | 46.0 | 1.25 | 1.11 | 17.66907 | Middle East and North Africa | Middle East &amp; North Africa    |\n| Australia | 87.9 | 40.9 | 1.07 | 0.92 | 98.85957 | East Asia and the Pacific    | Oceania                       |\n\n",
            "text/html": [
              "<table>\n",
              "<caption>A tibble: 6 × 8</caption>\n",
              "<thead>\n",
              "\t<tr><th scope=col>Country</th><th scope=col>SEDA.Current.level</th><th scope=col>SEDA.Recent.progress</th><th scope=col>Wealth.to.well.being.coefficient</th><th scope=col>Growth.to.well.being.coefficient</th><th scope=col>Percent.of.15plus.with.bank.account</th><th scope=col>EPI_regions</th><th scope=col>Region</th></tr>\n",
              "\t<tr><th scope=col>&lt;chr&gt;</th><th scope=col>&lt;dbl&gt;</th><th scope=col>&lt;dbl&gt;</th><th scope=col>&lt;dbl&gt;</th><th scope=col>&lt;dbl&gt;</th><th scope=col>&lt;dbl&gt;</th><th scope=col>&lt;chr&gt;</th><th scope=col>&lt;chr&gt;</th></tr>\n",
              "</thead>\n",
              "<tbody>\n",
              "\t<tr><td>Albania  </td><td>50.0</td><td>63.3</td><td>1.27</td><td>1.31</td><td>37.98635</td><td>Central and Eastern Europ   </td><td>Europe                       </td></tr>\n",
              "\t<tr><td><span style=white-space:pre-wrap>Algeria  </span></td><td>40.6</td><td>46.5</td><td>0.87</td><td>1.03</td><td>50.47579</td><td>Middle East and North Africa</td><td><span style=white-space:pre-wrap>Middle East &amp; North Africa   </span></td></tr>\n",
              "\t<tr><td>Angola   </td><td>17.8</td><td>76.2</td><td>0.54</td><td>1.21</td><td>29.31812</td><td>Sub-Saharan Africa          </td><td>Sub-Saharan Africa           </td></tr>\n",
              "\t<tr><td>Argentina</td><td>54.1</td><td>49.1</td><td>0.91</td><td>0.89</td><td>50.19730</td><td><span style=white-space:pre-wrap>Latin America and Caribbe   </span></td><td>Latin America &amp; the Caribbean</td></tr>\n",
              "\t<tr><td><span style=white-space:pre-wrap>Armenia  </span></td><td>43.8</td><td>46.0</td><td>1.25</td><td>1.11</td><td>17.66907</td><td>Middle East and North Africa</td><td><span style=white-space:pre-wrap>Middle East &amp; North Africa   </span></td></tr>\n",
              "\t<tr><td>Australia</td><td>87.9</td><td>40.9</td><td>1.07</td><td>0.92</td><td>98.85957</td><td>East Asia and the Pacific   </td><td>Oceania                      </td></tr>\n",
              "</tbody>\n",
              "</table>\n"
            ]
          },
          "metadata": {
            "tags": []
          }
        }
      ]
    },
    {
      "cell_type": "markdown",
      "metadata": {
        "id": "UF-j5zzft0k9",
        "colab_type": "text"
      },
      "source": [
        "\n",
        "\n",
        "1.   Create a scatter plot similar to the one in the article, where the x axis corresponds to percent of people over the age of 15 with a bank account (the `Percent.of.15plus.with.bank.account` column) and the y axis corresponds to the current SEDA score `SEDA.Current.level`.\n",
        "2.   Color all points blue.\n",
        "3.   Color points according to the `Region` variable.\n",
        "4.   Overlay a fitted smoothing trend on top of the scatter plot. Try to change the span argument in `geom_smooth` to a low value and see what happens.\n",
        "5.   Overlay a regression line on top of the scatter plot Hint: use `geom_smooth` with an appropriate method argument.\n",
        "6.   Facet the previous plot by `Region`.\n",
        "\n"
      ]
    },
    {
      "cell_type": "markdown",
      "metadata": {
        "id": "J3hWbCIG6955",
        "colab_type": "text"
      },
      "source": [
        "## **Exercise 2: Distribution of categorical variables**\n",
        "\n",
        "\n",
        "1.   Generate a bar plot showing the number of countries included in the dataset from each `Region`.\n",
        "2.   Rotate the plot so the bars are horizontal.\n",
        "\n"
      ]
    },
    {
      "cell_type": "markdown",
      "metadata": {
        "id": "YEKiBtVzA8ua",
        "colab_type": "text"
      },
      "source": [
        "## **Exercise 3: Distribution of continuous variables**\n",
        "\n",
        "\n",
        "1.   Create boxplots of SEDA scores, `SEDA.Current.level` separately for each `Region`.\n",
        "2.   Overlay points on top of the box plots\n",
        "3.   The points you added are on top of each other, in order to distinguish them jitter each point by a little bit in the horizontal direction.\n",
        "\n"
      ]
    }
  ]
}