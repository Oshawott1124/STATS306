{
 "cells": [
  {
   "cell_type": "markdown",
   "metadata": {
    "colab_type": "text",
    "id": "BdD8ZtU-_69l"
   },
   "source": [
    "# **Lab 11: More on Regular Expressions**"
   ]
  },
  {
   "cell_type": "code",
   "execution_count": 1,
   "metadata": {
    "colab": {},
    "colab_type": "code",
    "id": "B3gjnLuCvGq5"
   },
   "outputs": [
    {
     "name": "stderr",
     "output_type": "stream",
     "text": [
      "Registered S3 methods overwritten by 'ggplot2':\n",
      "  method         from \n",
      "  [.quosures     rlang\n",
      "  c.quosures     rlang\n",
      "  print.quosures rlang\n",
      "Registered S3 method overwritten by 'rvest':\n",
      "  method            from\n",
      "  read_xml.response xml2\n",
      "── Attaching packages ─────────────────────────────────────── tidyverse 1.2.1 ──\n",
      "✔ ggplot2 3.1.1       ✔ purrr   0.3.2  \n",
      "✔ tibble  2.1.1       ✔ dplyr   0.8.0.1\n",
      "✔ tidyr   0.8.3       ✔ stringr 1.4.0  \n",
      "✔ readr   1.3.1       ✔ forcats 0.4.0  \n",
      "── Conflicts ────────────────────────────────────────── tidyverse_conflicts() ──\n",
      "✖ dplyr::filter() masks stats::filter()\n",
      "✖ dplyr::lag()    masks stats::lag()\n"
     ]
    }
   ],
   "source": [
    "library(tidyverse)\n",
    "library(stringr)"
   ]
  },
  {
   "cell_type": "markdown",
   "metadata": {},
   "source": [
    "This lab is a problem session. Before exercises, I create a cheatsheet that contains all important functions in `stringr` package. Moreover, I list some regular expression that might be useful. I will post the solution on my website, feel free to ask me question on Slack or Bluejeans."
   ]
  },
  {
   "cell_type": "markdown",
   "metadata": {},
   "source": [
    "## **Functions in `stringr` package**:\n",
    "\n",
    "*  `str_view`: View HTML rendering of regular expression match. `str_view` shows the first match.\n",
    "*  `str_view_all`: shows all the matches.\n",
    "*  `str_locate()`: Locate the position of patterns in a string.\n",
    "*  `str_locate_all()`: locates all the matches.\n",
    "*  `str_replace()`: Replace matched patterns in a string.\n",
    "*  `str_split()`: Split up a string into pieces.\n",
    "*  `str_detect()`: Detect the presence or absence of a pattern in a string.\n",
    "*  `str_count()`: Count the number of matches in a string.\n",
    "*  `str_extract()`: Extract matching patterns from a string.\n",
    "*  `str_extract_all()`: Extract all matches.\n",
    "*  `str_sub()`: Extract and replace substrings from a character vector."
   ]
  },
  {
   "cell_type": "markdown",
   "metadata": {},
   "source": [
    "## **More on Regex**\n",
    "[:alnum:]\n",
    "Alphanumeric characters: [:alpha:] and [:digit:].\n",
    "\n",
    "[:alpha:]\n",
    "Alphabetic characters: [:lower:] and [:upper:].\n",
    "\n",
    "[:blank:]\n",
    "Blank characters: space and tab, and possibly other locale-dependent characters such as non-breaking space.\n",
    "\n",
    "[:cntrl:]\n",
    "Control characters. In ASCII, these characters have octal codes 000 through 037, and 177 (DEL). In another character set, these are the equivalent characters, if any.\n",
    "\n",
    "\n",
    "[:digit:]\n",
    "Digits: 0 1 2 3 4 5 6 7 8 9.\n",
    "\n",
    "[:graph:]\n",
    "Graphical characters: [:alnum:] and [:punct:].\n",
    "\n",
    "[:lower:]\n",
    "Lower-case letters in the current locale.\n",
    "\n",
    "[:print:]\n",
    "Printable characters: [:alnum:], [:punct:] and space.\n",
    "\n",
    "[:punct:]\n",
    "Punctuation characters:\n",
    "! \" # $ % & ' ( ) * + , - . / : ; < = > ? @ [ \\ ] ^ _ ` { | } ~.\n",
    "\n",
    "[:space:]\n",
    "Space characters: tab, newline, vertical tab, form feed, carriage return, space and possibly other locale-dependent characters.\n",
    "\n",
    "[:upper:]\n",
    "Upper-case letters in the current locale.\n",
    "\n",
    "[:xdigit:]\n",
    "Hexadecimal digits:\n",
    "0 1 2 3 4 5 6 7 8 9 A B C D E F a b c d e f."
   ]
  },
  {
   "cell_type": "markdown",
   "metadata": {},
   "source": [
    "## **Exercise1: Annoying string**\n",
    "1.  Explain why each of these strings don’t match a `\\`: `\"\\\"`, `\"\\\\\"`, `\"\\\\\\\"`.\n",
    "2.  How would you match the sequence `\"'\\` ?\n",
    "3.  How would you match the sequence `\"'?\\` ?"
   ]
  },
  {
   "cell_type": "markdown",
   "metadata": {},
   "source": [
    "## **Exercise2: Repetition**\n",
    "1.  How would you match the literal string \"$^$\"?\n",
    "2.  Given the corpus of common words in stringr::words, create regular expressions that find all words that:\n",
    "   1.   Start with “y”.\n",
    "   2.   End with “x”\n",
    "   3.   Are exactly three letters long. (Don’t cheat by using str_length()!)\n",
    "   4.   Have seven letters or more."
   ]
  },
  {
   "cell_type": "markdown",
   "metadata": {},
   "source": [
    "## **Exercise3: Group mathcing**\n",
    "Construct regular expressions to match words that:\n",
    "1.   Start and end with the same character(including words with only 1 character).\n",
    "2.   Contain only consonants.\n",
    "3.   Contain two or more vowel-consonant pairs in a row.\n",
    "4.   Contain a repeated pair of letters (e.g. ``church'' contains ``ch'' repeated twice.)\n",
    "Find these words by either `str_subset()` or a combination of slicing and `str_detect()`"
   ]
  },
  {
   "cell_type": "markdown",
   "metadata": {},
   "source": [
    "## **Bonus Exercise: Matching HTTP/HTTPS Websites**\n",
    "Construct regular expressions to match websites like:\n",
    "http://www.google.com\n",
    "https://123.456.\n",
    "https://www.ab_c/d\n"
   ]
  },
  {
   "cell_type": "markdown",
   "metadata": {},
   "source": [
    "Write a regex that matches all the valid numbers below but none of the invalid ones:\n",
    "\n",
    "12\n",
    "\n",
    "1048\n",
    "\n",
    "3.14529\n",
    "\n",
    "0.87\n",
    "\n",
    "-255.34\n",
    "\n",
    "123,340.00 \n",
    "\n",
    "-16,123,340\n",
    "\n",
    "1.9e10 \n",
    "\n",
    "-5.8e5\n",
    "\n",
    "1.45e-5\n",
    "\n",
    "720p\n",
    "\n",
    "164.\n",
    "\n",
    ".87\n",
    "\n",
    "124..43\n",
    "\n",
    "153.243.232\n",
    "\n",
    "123,,546\n",
    "\n",
    "24.256,453\n",
    "\n",
    "123,34,123\n",
    "\n",
    ",253\n",
    "\n",
    "12.4e6"
   ]
  }
 ],
 "metadata": {
  "colab": {
   "collapsed_sections": [],
   "name": "STATS306_lab11.ipynb",
   "provenance": []
  },
  "kernelspec": {
   "display_name": "R",
   "language": "R",
   "name": "ir"
  },
  "language_info": {
   "codemirror_mode": "r",
   "file_extension": ".r",
   "mimetype": "text/x-r-source",
   "name": "R",
   "pygments_lexer": "r",
   "version": "3.6.0"
  }
 },
 "nbformat": 4,
 "nbformat_minor": 1
}
