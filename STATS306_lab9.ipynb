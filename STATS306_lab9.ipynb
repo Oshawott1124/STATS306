{
  "nbformat": 4,
  "nbformat_minor": 0,
  "metadata": {
    "colab": {
      "name": "STATS306_lab9.ipynb",
      "provenance": []
    },
    "kernelspec": {
      "name": "ir",
      "display_name": "R"
    }
  },
  "cells": [
    {
      "cell_type": "markdown",
      "metadata": {
        "id": "BdD8ZtU-_69l",
        "colab_type": "text"
      },
      "source": [
        "# **Lab 9: Tidying data: pivot, separate, unite**"
      ]
    },
    {
      "cell_type": "code",
      "metadata": {
        "id": "B3gjnLuCvGq5",
        "colab_type": "code",
        "outputId": "af467806-1a66-45e8-c890-46f6a9313cae",
        "colab": {
          "base_uri": "https://localhost:8080/",
          "height": 204
        }
      },
      "source": [
        "library(tidyverse)"
      ],
      "execution_count": 0,
      "outputs": [
        {
          "output_type": "stream",
          "text": [
            "── \u001b[1mAttaching packages\u001b[22m ─────────────────────────────────────── tidyverse 1.3.0 ──\n",
            "\n",
            "\u001b[32m✔\u001b[39m \u001b[34mggplot2\u001b[39m 3.2.1     \u001b[32m✔\u001b[39m \u001b[34mpurrr  \u001b[39m 0.3.3\n",
            "\u001b[32m✔\u001b[39m \u001b[34mtibble \u001b[39m 2.1.3     \u001b[32m✔\u001b[39m \u001b[34mdplyr  \u001b[39m 0.8.4\n",
            "\u001b[32m✔\u001b[39m \u001b[34mtidyr  \u001b[39m 1.0.2     \u001b[32m✔\u001b[39m \u001b[34mstringr\u001b[39m 1.4.0\n",
            "\u001b[32m✔\u001b[39m \u001b[34mreadr  \u001b[39m 1.3.1     \u001b[32m✔\u001b[39m \u001b[34mforcats\u001b[39m 0.4.0\n",
            "\n",
            "── \u001b[1mConflicts\u001b[22m ────────────────────────────────────────── tidyverse_conflicts() ──\n",
            "\u001b[31m✖\u001b[39m \u001b[34mdplyr\u001b[39m::\u001b[32mfilter()\u001b[39m masks \u001b[34mstats\u001b[39m::filter()\n",
            "\u001b[31m✖\u001b[39m \u001b[34mdplyr\u001b[39m::\u001b[32mlag()\u001b[39m    masks \u001b[34mstats\u001b[39m::lag()\n",
            "\n"
          ],
          "name": "stderr"
        }
      ]
    },
    {
      "cell_type": "markdown",
      "metadata": {
        "id": "r2DN9K50UFNz",
        "colab_type": "text"
      },
      "source": [
        "## **What is tidying data**\n",
        "\n",
        "There are three interrelated rules which make a dataset tidy:\n",
        "\n",
        "*   Each variable must have its own column.\n",
        "*   Each observation must have its own row.\n",
        "*   Each value must have its own cell.\n",
        "\n",
        "Tidy data works well with R because R is a vectorized programming language. Data structures in R are built from vectors and R’s operations are optimized to work with vectors. Tidy data takes advantage of both of these traits.\n"
      ]
    },
    {
      "cell_type": "markdown",
      "metadata": {
        "id": "chcnlQEhoWXC",
        "colab_type": "text"
      },
      "source": [
        "## **Key value pairs**\n",
        "\n",
        "A pair contains two parts: a key that explains what the information describes, and a value that contains the actual information. So for example,\n",
        "\n",
        "\n",
        "```\n",
        "Password: 0123456789 \n",
        "```\n",
        "where `0123456789` is the value, and it is associated with the key `Password`.\n"
      ]
    },
    {
      "cell_type": "markdown",
      "metadata": {
        "id": "utctrlwUo_5v",
        "colab_type": "text"
      },
      "source": [
        "## **pivot_wider()**\n",
        "\n",
        "`pivot_wider()` turns a pair of key:value columns into a set of tidy columns. It is an updated version of `spread()`."
      ]
    },
    {
      "cell_type": "code",
      "metadata": {
        "id": "6VHf2P_TorVP",
        "colab_type": "code",
        "outputId": "c6703581-b126-4ce3-c334-1f2c4180372e",
        "colab": {
          "base_uri": "https://localhost:8080/",
          "height": 958
        }
      },
      "source": [
        "head(fish_encounters, 20)\n",
        "pivot_wider(fish_encounters, names_from = station, values_from = seen)"
      ],
      "execution_count": 0,
      "outputs": [
        {
          "output_type": "display_data",
          "data": {
            "text/plain": [
              "   fish station seen\n",
              "1  4842 Release 1   \n",
              "2  4842 I80_1   1   \n",
              "3  4842 Lisbon  1   \n",
              "4  4842 Rstr    1   \n",
              "5  4842 Base_TD 1   \n",
              "6  4842 BCE     1   \n",
              "7  4842 BCW     1   \n",
              "8  4842 BCE2    1   \n",
              "9  4842 BCW2    1   \n",
              "10 4842 MAE     1   \n",
              "11 4842 MAW     1   \n",
              "12 4843 Release 1   \n",
              "13 4843 I80_1   1   \n",
              "14 4843 Lisbon  1   \n",
              "15 4843 Rstr    1   \n",
              "16 4843 Base_TD 1   \n",
              "17 4843 BCE     1   \n",
              "18 4843 BCW     1   \n",
              "19 4843 BCE2    1   \n",
              "20 4843 BCW2    1   "
            ],
            "text/latex": "A tibble: 20 × 3\n\\begin{tabular}{lll}\n fish & station & seen\\\\\n <fct> & <fct> & <int>\\\\\n\\hline\n\t 4842 & Release & 1\\\\\n\t 4842 & I80\\_1   & 1\\\\\n\t 4842 & Lisbon  & 1\\\\\n\t 4842 & Rstr    & 1\\\\\n\t 4842 & Base\\_TD & 1\\\\\n\t 4842 & BCE     & 1\\\\\n\t 4842 & BCW     & 1\\\\\n\t 4842 & BCE2    & 1\\\\\n\t 4842 & BCW2    & 1\\\\\n\t 4842 & MAE     & 1\\\\\n\t 4842 & MAW     & 1\\\\\n\t 4843 & Release & 1\\\\\n\t 4843 & I80\\_1   & 1\\\\\n\t 4843 & Lisbon  & 1\\\\\n\t 4843 & Rstr    & 1\\\\\n\t 4843 & Base\\_TD & 1\\\\\n\t 4843 & BCE     & 1\\\\\n\t 4843 & BCW     & 1\\\\\n\t 4843 & BCE2    & 1\\\\\n\t 4843 & BCW2    & 1\\\\\n\\end{tabular}\n",
            "text/markdown": "\nA tibble: 20 × 3\n\n| fish &lt;fct&gt; | station &lt;fct&gt; | seen &lt;int&gt; |\n|---|---|---|\n| 4842 | Release | 1 |\n| 4842 | I80_1   | 1 |\n| 4842 | Lisbon  | 1 |\n| 4842 | Rstr    | 1 |\n| 4842 | Base_TD | 1 |\n| 4842 | BCE     | 1 |\n| 4842 | BCW     | 1 |\n| 4842 | BCE2    | 1 |\n| 4842 | BCW2    | 1 |\n| 4842 | MAE     | 1 |\n| 4842 | MAW     | 1 |\n| 4843 | Release | 1 |\n| 4843 | I80_1   | 1 |\n| 4843 | Lisbon  | 1 |\n| 4843 | Rstr    | 1 |\n| 4843 | Base_TD | 1 |\n| 4843 | BCE     | 1 |\n| 4843 | BCW     | 1 |\n| 4843 | BCE2    | 1 |\n| 4843 | BCW2    | 1 |\n\n",
            "text/html": [
              "<table>\n",
              "<caption>A tibble: 20 × 3</caption>\n",
              "<thead>\n",
              "\t<tr><th scope=col>fish</th><th scope=col>station</th><th scope=col>seen</th></tr>\n",
              "\t<tr><th scope=col>&lt;fct&gt;</th><th scope=col>&lt;fct&gt;</th><th scope=col>&lt;int&gt;</th></tr>\n",
              "</thead>\n",
              "<tbody>\n",
              "\t<tr><td>4842</td><td>Release</td><td>1</td></tr>\n",
              "\t<tr><td>4842</td><td>I80_1  </td><td>1</td></tr>\n",
              "\t<tr><td>4842</td><td>Lisbon </td><td>1</td></tr>\n",
              "\t<tr><td>4842</td><td>Rstr   </td><td>1</td></tr>\n",
              "\t<tr><td>4842</td><td>Base_TD</td><td>1</td></tr>\n",
              "\t<tr><td>4842</td><td>BCE    </td><td>1</td></tr>\n",
              "\t<tr><td>4842</td><td>BCW    </td><td>1</td></tr>\n",
              "\t<tr><td>4842</td><td>BCE2   </td><td>1</td></tr>\n",
              "\t<tr><td>4842</td><td>BCW2   </td><td>1</td></tr>\n",
              "\t<tr><td>4842</td><td>MAE    </td><td>1</td></tr>\n",
              "\t<tr><td>4842</td><td>MAW    </td><td>1</td></tr>\n",
              "\t<tr><td>4843</td><td>Release</td><td>1</td></tr>\n",
              "\t<tr><td>4843</td><td>I80_1  </td><td>1</td></tr>\n",
              "\t<tr><td>4843</td><td>Lisbon </td><td>1</td></tr>\n",
              "\t<tr><td>4843</td><td>Rstr   </td><td>1</td></tr>\n",
              "\t<tr><td>4843</td><td>Base_TD</td><td>1</td></tr>\n",
              "\t<tr><td>4843</td><td>BCE    </td><td>1</td></tr>\n",
              "\t<tr><td>4843</td><td>BCW    </td><td>1</td></tr>\n",
              "\t<tr><td>4843</td><td>BCE2   </td><td>1</td></tr>\n",
              "\t<tr><td>4843</td><td>BCW2   </td><td>1</td></tr>\n",
              "</tbody>\n",
              "</table>\n"
            ]
          },
          "metadata": {
            "tags": []
          }
        },
        {
          "output_type": "display_data",
          "data": {
            "text/plain": [
              "   fish Release I80_1 Lisbon Rstr Base_TD BCE BCW BCE2 BCW2 MAE MAW\n",
              "1  4842 1       1      1      1    1       1   1   1    1    1   1 \n",
              "2  4843 1       1      1      1    1       1   1   1    1    1   1 \n",
              "3  4844 1       1      1      1    1       1   1   1    1    1   1 \n",
              "4  4845 1       1      1      1    1      NA  NA  NA   NA   NA  NA \n",
              "5  4847 1       1      1     NA   NA      NA  NA  NA   NA   NA  NA \n",
              "6  4848 1       1      1      1   NA      NA  NA  NA   NA   NA  NA \n",
              "7  4849 1       1     NA     NA   NA      NA  NA  NA   NA   NA  NA \n",
              "8  4850 1       1     NA      1    1       1   1  NA   NA   NA  NA \n",
              "9  4851 1       1     NA     NA   NA      NA  NA  NA   NA   NA  NA \n",
              "10 4854 1       1     NA     NA   NA      NA  NA  NA   NA   NA  NA \n",
              "11 4855 1       1      1      1    1      NA  NA  NA   NA   NA  NA \n",
              "12 4857 1       1      1      1    1       1   1   1    1   NA  NA \n",
              "13 4858 1       1      1      1    1       1   1   1    1    1   1 \n",
              "14 4859 1       1      1      1    1      NA  NA  NA   NA   NA  NA \n",
              "15 4861 1       1      1      1    1       1   1   1    1    1   1 \n",
              "16 4862 1       1      1      1    1       1   1   1    1   NA  NA \n",
              "17 4863 1       1     NA     NA   NA      NA  NA  NA   NA   NA  NA \n",
              "18 4864 1       1     NA     NA   NA      NA  NA  NA   NA   NA  NA \n",
              "19 4865 1       1      1     NA   NA      NA  NA  NA   NA   NA  NA "
            ],
            "text/latex": "A tibble: 19 × 12\n\\begin{tabular}{llllllllllll}\n fish & Release & I80\\_1 & Lisbon & Rstr & Base\\_TD & BCE & BCW & BCE2 & BCW2 & MAE & MAW\\\\\n <fct> & <int> & <int> & <int> & <int> & <int> & <int> & <int> & <int> & <int> & <int> & <int>\\\\\n\\hline\n\t 4842 & 1 & 1 &  1 &  1 &  1 &  1 &  1 &  1 &  1 &  1 &  1\\\\\n\t 4843 & 1 & 1 &  1 &  1 &  1 &  1 &  1 &  1 &  1 &  1 &  1\\\\\n\t 4844 & 1 & 1 &  1 &  1 &  1 &  1 &  1 &  1 &  1 &  1 &  1\\\\\n\t 4845 & 1 & 1 &  1 &  1 &  1 & NA & NA & NA & NA & NA & NA\\\\\n\t 4847 & 1 & 1 &  1 & NA & NA & NA & NA & NA & NA & NA & NA\\\\\n\t 4848 & 1 & 1 &  1 &  1 & NA & NA & NA & NA & NA & NA & NA\\\\\n\t 4849 & 1 & 1 & NA & NA & NA & NA & NA & NA & NA & NA & NA\\\\\n\t 4850 & 1 & 1 & NA &  1 &  1 &  1 &  1 & NA & NA & NA & NA\\\\\n\t 4851 & 1 & 1 & NA & NA & NA & NA & NA & NA & NA & NA & NA\\\\\n\t 4854 & 1 & 1 & NA & NA & NA & NA & NA & NA & NA & NA & NA\\\\\n\t 4855 & 1 & 1 &  1 &  1 &  1 & NA & NA & NA & NA & NA & NA\\\\\n\t 4857 & 1 & 1 &  1 &  1 &  1 &  1 &  1 &  1 &  1 & NA & NA\\\\\n\t 4858 & 1 & 1 &  1 &  1 &  1 &  1 &  1 &  1 &  1 &  1 &  1\\\\\n\t 4859 & 1 & 1 &  1 &  1 &  1 & NA & NA & NA & NA & NA & NA\\\\\n\t 4861 & 1 & 1 &  1 &  1 &  1 &  1 &  1 &  1 &  1 &  1 &  1\\\\\n\t 4862 & 1 & 1 &  1 &  1 &  1 &  1 &  1 &  1 &  1 & NA & NA\\\\\n\t 4863 & 1 & 1 & NA & NA & NA & NA & NA & NA & NA & NA & NA\\\\\n\t 4864 & 1 & 1 & NA & NA & NA & NA & NA & NA & NA & NA & NA\\\\\n\t 4865 & 1 & 1 &  1 & NA & NA & NA & NA & NA & NA & NA & NA\\\\\n\\end{tabular}\n",
            "text/markdown": "\nA tibble: 19 × 12\n\n| fish &lt;fct&gt; | Release &lt;int&gt; | I80_1 &lt;int&gt; | Lisbon &lt;int&gt; | Rstr &lt;int&gt; | Base_TD &lt;int&gt; | BCE &lt;int&gt; | BCW &lt;int&gt; | BCE2 &lt;int&gt; | BCW2 &lt;int&gt; | MAE &lt;int&gt; | MAW &lt;int&gt; |\n|---|---|---|---|---|---|---|---|---|---|---|---|\n| 4842 | 1 | 1 |  1 |  1 |  1 |  1 |  1 |  1 |  1 |  1 |  1 |\n| 4843 | 1 | 1 |  1 |  1 |  1 |  1 |  1 |  1 |  1 |  1 |  1 |\n| 4844 | 1 | 1 |  1 |  1 |  1 |  1 |  1 |  1 |  1 |  1 |  1 |\n| 4845 | 1 | 1 |  1 |  1 |  1 | NA | NA | NA | NA | NA | NA |\n| 4847 | 1 | 1 |  1 | NA | NA | NA | NA | NA | NA | NA | NA |\n| 4848 | 1 | 1 |  1 |  1 | NA | NA | NA | NA | NA | NA | NA |\n| 4849 | 1 | 1 | NA | NA | NA | NA | NA | NA | NA | NA | NA |\n| 4850 | 1 | 1 | NA |  1 |  1 |  1 |  1 | NA | NA | NA | NA |\n| 4851 | 1 | 1 | NA | NA | NA | NA | NA | NA | NA | NA | NA |\n| 4854 | 1 | 1 | NA | NA | NA | NA | NA | NA | NA | NA | NA |\n| 4855 | 1 | 1 |  1 |  1 |  1 | NA | NA | NA | NA | NA | NA |\n| 4857 | 1 | 1 |  1 |  1 |  1 |  1 |  1 |  1 |  1 | NA | NA |\n| 4858 | 1 | 1 |  1 |  1 |  1 |  1 |  1 |  1 |  1 |  1 |  1 |\n| 4859 | 1 | 1 |  1 |  1 |  1 | NA | NA | NA | NA | NA | NA |\n| 4861 | 1 | 1 |  1 |  1 |  1 |  1 |  1 |  1 |  1 |  1 |  1 |\n| 4862 | 1 | 1 |  1 |  1 |  1 |  1 |  1 |  1 |  1 | NA | NA |\n| 4863 | 1 | 1 | NA | NA | NA | NA | NA | NA | NA | NA | NA |\n| 4864 | 1 | 1 | NA | NA | NA | NA | NA | NA | NA | NA | NA |\n| 4865 | 1 | 1 |  1 | NA | NA | NA | NA | NA | NA | NA | NA |\n\n",
            "text/html": [
              "<table>\n",
              "<caption>A tibble: 19 × 12</caption>\n",
              "<thead>\n",
              "\t<tr><th scope=col>fish</th><th scope=col>Release</th><th scope=col>I80_1</th><th scope=col>Lisbon</th><th scope=col>Rstr</th><th scope=col>Base_TD</th><th scope=col>BCE</th><th scope=col>BCW</th><th scope=col>BCE2</th><th scope=col>BCW2</th><th scope=col>MAE</th><th scope=col>MAW</th></tr>\n",
              "\t<tr><th scope=col>&lt;fct&gt;</th><th scope=col>&lt;int&gt;</th><th scope=col>&lt;int&gt;</th><th scope=col>&lt;int&gt;</th><th scope=col>&lt;int&gt;</th><th scope=col>&lt;int&gt;</th><th scope=col>&lt;int&gt;</th><th scope=col>&lt;int&gt;</th><th scope=col>&lt;int&gt;</th><th scope=col>&lt;int&gt;</th><th scope=col>&lt;int&gt;</th><th scope=col>&lt;int&gt;</th></tr>\n",
              "</thead>\n",
              "<tbody>\n",
              "\t<tr><td>4842</td><td>1</td><td>1</td><td> 1</td><td> 1</td><td> 1</td><td> 1</td><td> 1</td><td> 1</td><td> 1</td><td> 1</td><td> 1</td></tr>\n",
              "\t<tr><td>4843</td><td>1</td><td>1</td><td> 1</td><td> 1</td><td> 1</td><td> 1</td><td> 1</td><td> 1</td><td> 1</td><td> 1</td><td> 1</td></tr>\n",
              "\t<tr><td>4844</td><td>1</td><td>1</td><td> 1</td><td> 1</td><td> 1</td><td> 1</td><td> 1</td><td> 1</td><td> 1</td><td> 1</td><td> 1</td></tr>\n",
              "\t<tr><td>4845</td><td>1</td><td>1</td><td> 1</td><td> 1</td><td> 1</td><td>NA</td><td>NA</td><td>NA</td><td>NA</td><td>NA</td><td>NA</td></tr>\n",
              "\t<tr><td>4847</td><td>1</td><td>1</td><td> 1</td><td>NA</td><td>NA</td><td>NA</td><td>NA</td><td>NA</td><td>NA</td><td>NA</td><td>NA</td></tr>\n",
              "\t<tr><td>4848</td><td>1</td><td>1</td><td> 1</td><td> 1</td><td>NA</td><td>NA</td><td>NA</td><td>NA</td><td>NA</td><td>NA</td><td>NA</td></tr>\n",
              "\t<tr><td>4849</td><td>1</td><td>1</td><td>NA</td><td>NA</td><td>NA</td><td>NA</td><td>NA</td><td>NA</td><td>NA</td><td>NA</td><td>NA</td></tr>\n",
              "\t<tr><td>4850</td><td>1</td><td>1</td><td>NA</td><td> 1</td><td> 1</td><td> 1</td><td> 1</td><td>NA</td><td>NA</td><td>NA</td><td>NA</td></tr>\n",
              "\t<tr><td>4851</td><td>1</td><td>1</td><td>NA</td><td>NA</td><td>NA</td><td>NA</td><td>NA</td><td>NA</td><td>NA</td><td>NA</td><td>NA</td></tr>\n",
              "\t<tr><td>4854</td><td>1</td><td>1</td><td>NA</td><td>NA</td><td>NA</td><td>NA</td><td>NA</td><td>NA</td><td>NA</td><td>NA</td><td>NA</td></tr>\n",
              "\t<tr><td>4855</td><td>1</td><td>1</td><td> 1</td><td> 1</td><td> 1</td><td>NA</td><td>NA</td><td>NA</td><td>NA</td><td>NA</td><td>NA</td></tr>\n",
              "\t<tr><td>4857</td><td>1</td><td>1</td><td> 1</td><td> 1</td><td> 1</td><td> 1</td><td> 1</td><td> 1</td><td> 1</td><td>NA</td><td>NA</td></tr>\n",
              "\t<tr><td>4858</td><td>1</td><td>1</td><td> 1</td><td> 1</td><td> 1</td><td> 1</td><td> 1</td><td> 1</td><td> 1</td><td> 1</td><td> 1</td></tr>\n",
              "\t<tr><td>4859</td><td>1</td><td>1</td><td> 1</td><td> 1</td><td> 1</td><td>NA</td><td>NA</td><td>NA</td><td>NA</td><td>NA</td><td>NA</td></tr>\n",
              "\t<tr><td>4861</td><td>1</td><td>1</td><td> 1</td><td> 1</td><td> 1</td><td> 1</td><td> 1</td><td> 1</td><td> 1</td><td> 1</td><td> 1</td></tr>\n",
              "\t<tr><td>4862</td><td>1</td><td>1</td><td> 1</td><td> 1</td><td> 1</td><td> 1</td><td> 1</td><td> 1</td><td> 1</td><td>NA</td><td>NA</td></tr>\n",
              "\t<tr><td>4863</td><td>1</td><td>1</td><td>NA</td><td>NA</td><td>NA</td><td>NA</td><td>NA</td><td>NA</td><td>NA</td><td>NA</td><td>NA</td></tr>\n",
              "\t<tr><td>4864</td><td>1</td><td>1</td><td>NA</td><td>NA</td><td>NA</td><td>NA</td><td>NA</td><td>NA</td><td>NA</td><td>NA</td><td>NA</td></tr>\n",
              "\t<tr><td>4865</td><td>1</td><td>1</td><td> 1</td><td>NA</td><td>NA</td><td>NA</td><td>NA</td><td>NA</td><td>NA</td><td>NA</td><td>NA</td></tr>\n",
              "</tbody>\n",
              "</table>\n"
            ]
          },
          "metadata": {
            "tags": []
          }
        }
      ]
    },
    {
      "cell_type": "code",
      "metadata": {
        "id": "w8_V2zKtrjKg",
        "colab_type": "code",
        "outputId": "c34ca423-02ad-47e8-caaa-6e33b2c8fb5f",
        "colab": {
          "base_uri": "https://localhost:8080/",
          "height": 477
        }
      },
      "source": [
        "spread(fish_encounters, key = station, value = seen)"
      ],
      "execution_count": 0,
      "outputs": [
        {
          "output_type": "display_data",
          "data": {
            "text/plain": [
              "   fish Release I80_1 Lisbon Rstr Base_TD BCE BCW BCE2 BCW2 MAE MAW\n",
              "1  4842 1       1      1      1    1       1   1   1    1    1   1 \n",
              "2  4843 1       1      1      1    1       1   1   1    1    1   1 \n",
              "3  4844 1       1      1      1    1       1   1   1    1    1   1 \n",
              "4  4845 1       1      1      1    1      NA  NA  NA   NA   NA  NA \n",
              "5  4847 1       1      1     NA   NA      NA  NA  NA   NA   NA  NA \n",
              "6  4848 1       1      1      1   NA      NA  NA  NA   NA   NA  NA \n",
              "7  4849 1       1     NA     NA   NA      NA  NA  NA   NA   NA  NA \n",
              "8  4850 1       1     NA      1    1       1   1  NA   NA   NA  NA \n",
              "9  4851 1       1     NA     NA   NA      NA  NA  NA   NA   NA  NA \n",
              "10 4854 1       1     NA     NA   NA      NA  NA  NA   NA   NA  NA \n",
              "11 4855 1       1      1      1    1      NA  NA  NA   NA   NA  NA \n",
              "12 4857 1       1      1      1    1       1   1   1    1   NA  NA \n",
              "13 4858 1       1      1      1    1       1   1   1    1    1   1 \n",
              "14 4859 1       1      1      1    1      NA  NA  NA   NA   NA  NA \n",
              "15 4861 1       1      1      1    1       1   1   1    1    1   1 \n",
              "16 4862 1       1      1      1    1       1   1   1    1   NA  NA \n",
              "17 4863 1       1     NA     NA   NA      NA  NA  NA   NA   NA  NA \n",
              "18 4864 1       1     NA     NA   NA      NA  NA  NA   NA   NA  NA \n",
              "19 4865 1       1      1     NA   NA      NA  NA  NA   NA   NA  NA "
            ],
            "text/latex": "A tibble: 19 × 12\n\\begin{tabular}{llllllllllll}\n fish & Release & I80\\_1 & Lisbon & Rstr & Base\\_TD & BCE & BCW & BCE2 & BCW2 & MAE & MAW\\\\\n <fct> & <int> & <int> & <int> & <int> & <int> & <int> & <int> & <int> & <int> & <int> & <int>\\\\\n\\hline\n\t 4842 & 1 & 1 &  1 &  1 &  1 &  1 &  1 &  1 &  1 &  1 &  1\\\\\n\t 4843 & 1 & 1 &  1 &  1 &  1 &  1 &  1 &  1 &  1 &  1 &  1\\\\\n\t 4844 & 1 & 1 &  1 &  1 &  1 &  1 &  1 &  1 &  1 &  1 &  1\\\\\n\t 4845 & 1 & 1 &  1 &  1 &  1 & NA & NA & NA & NA & NA & NA\\\\\n\t 4847 & 1 & 1 &  1 & NA & NA & NA & NA & NA & NA & NA & NA\\\\\n\t 4848 & 1 & 1 &  1 &  1 & NA & NA & NA & NA & NA & NA & NA\\\\\n\t 4849 & 1 & 1 & NA & NA & NA & NA & NA & NA & NA & NA & NA\\\\\n\t 4850 & 1 & 1 & NA &  1 &  1 &  1 &  1 & NA & NA & NA & NA\\\\\n\t 4851 & 1 & 1 & NA & NA & NA & NA & NA & NA & NA & NA & NA\\\\\n\t 4854 & 1 & 1 & NA & NA & NA & NA & NA & NA & NA & NA & NA\\\\\n\t 4855 & 1 & 1 &  1 &  1 &  1 & NA & NA & NA & NA & NA & NA\\\\\n\t 4857 & 1 & 1 &  1 &  1 &  1 &  1 &  1 &  1 &  1 & NA & NA\\\\\n\t 4858 & 1 & 1 &  1 &  1 &  1 &  1 &  1 &  1 &  1 &  1 &  1\\\\\n\t 4859 & 1 & 1 &  1 &  1 &  1 & NA & NA & NA & NA & NA & NA\\\\\n\t 4861 & 1 & 1 &  1 &  1 &  1 &  1 &  1 &  1 &  1 &  1 &  1\\\\\n\t 4862 & 1 & 1 &  1 &  1 &  1 &  1 &  1 &  1 &  1 & NA & NA\\\\\n\t 4863 & 1 & 1 & NA & NA & NA & NA & NA & NA & NA & NA & NA\\\\\n\t 4864 & 1 & 1 & NA & NA & NA & NA & NA & NA & NA & NA & NA\\\\\n\t 4865 & 1 & 1 &  1 & NA & NA & NA & NA & NA & NA & NA & NA\\\\\n\\end{tabular}\n",
            "text/markdown": "\nA tibble: 19 × 12\n\n| fish &lt;fct&gt; | Release &lt;int&gt; | I80_1 &lt;int&gt; | Lisbon &lt;int&gt; | Rstr &lt;int&gt; | Base_TD &lt;int&gt; | BCE &lt;int&gt; | BCW &lt;int&gt; | BCE2 &lt;int&gt; | BCW2 &lt;int&gt; | MAE &lt;int&gt; | MAW &lt;int&gt; |\n|---|---|---|---|---|---|---|---|---|---|---|---|\n| 4842 | 1 | 1 |  1 |  1 |  1 |  1 |  1 |  1 |  1 |  1 |  1 |\n| 4843 | 1 | 1 |  1 |  1 |  1 |  1 |  1 |  1 |  1 |  1 |  1 |\n| 4844 | 1 | 1 |  1 |  1 |  1 |  1 |  1 |  1 |  1 |  1 |  1 |\n| 4845 | 1 | 1 |  1 |  1 |  1 | NA | NA | NA | NA | NA | NA |\n| 4847 | 1 | 1 |  1 | NA | NA | NA | NA | NA | NA | NA | NA |\n| 4848 | 1 | 1 |  1 |  1 | NA | NA | NA | NA | NA | NA | NA |\n| 4849 | 1 | 1 | NA | NA | NA | NA | NA | NA | NA | NA | NA |\n| 4850 | 1 | 1 | NA |  1 |  1 |  1 |  1 | NA | NA | NA | NA |\n| 4851 | 1 | 1 | NA | NA | NA | NA | NA | NA | NA | NA | NA |\n| 4854 | 1 | 1 | NA | NA | NA | NA | NA | NA | NA | NA | NA |\n| 4855 | 1 | 1 |  1 |  1 |  1 | NA | NA | NA | NA | NA | NA |\n| 4857 | 1 | 1 |  1 |  1 |  1 |  1 |  1 |  1 |  1 | NA | NA |\n| 4858 | 1 | 1 |  1 |  1 |  1 |  1 |  1 |  1 |  1 |  1 |  1 |\n| 4859 | 1 | 1 |  1 |  1 |  1 | NA | NA | NA | NA | NA | NA |\n| 4861 | 1 | 1 |  1 |  1 |  1 |  1 |  1 |  1 |  1 |  1 |  1 |\n| 4862 | 1 | 1 |  1 |  1 |  1 |  1 |  1 |  1 |  1 | NA | NA |\n| 4863 | 1 | 1 | NA | NA | NA | NA | NA | NA | NA | NA | NA |\n| 4864 | 1 | 1 | NA | NA | NA | NA | NA | NA | NA | NA | NA |\n| 4865 | 1 | 1 |  1 | NA | NA | NA | NA | NA | NA | NA | NA |\n\n",
            "text/html": [
              "<table>\n",
              "<caption>A tibble: 19 × 12</caption>\n",
              "<thead>\n",
              "\t<tr><th scope=col>fish</th><th scope=col>Release</th><th scope=col>I80_1</th><th scope=col>Lisbon</th><th scope=col>Rstr</th><th scope=col>Base_TD</th><th scope=col>BCE</th><th scope=col>BCW</th><th scope=col>BCE2</th><th scope=col>BCW2</th><th scope=col>MAE</th><th scope=col>MAW</th></tr>\n",
              "\t<tr><th scope=col>&lt;fct&gt;</th><th scope=col>&lt;int&gt;</th><th scope=col>&lt;int&gt;</th><th scope=col>&lt;int&gt;</th><th scope=col>&lt;int&gt;</th><th scope=col>&lt;int&gt;</th><th scope=col>&lt;int&gt;</th><th scope=col>&lt;int&gt;</th><th scope=col>&lt;int&gt;</th><th scope=col>&lt;int&gt;</th><th scope=col>&lt;int&gt;</th><th scope=col>&lt;int&gt;</th></tr>\n",
              "</thead>\n",
              "<tbody>\n",
              "\t<tr><td>4842</td><td>1</td><td>1</td><td> 1</td><td> 1</td><td> 1</td><td> 1</td><td> 1</td><td> 1</td><td> 1</td><td> 1</td><td> 1</td></tr>\n",
              "\t<tr><td>4843</td><td>1</td><td>1</td><td> 1</td><td> 1</td><td> 1</td><td> 1</td><td> 1</td><td> 1</td><td> 1</td><td> 1</td><td> 1</td></tr>\n",
              "\t<tr><td>4844</td><td>1</td><td>1</td><td> 1</td><td> 1</td><td> 1</td><td> 1</td><td> 1</td><td> 1</td><td> 1</td><td> 1</td><td> 1</td></tr>\n",
              "\t<tr><td>4845</td><td>1</td><td>1</td><td> 1</td><td> 1</td><td> 1</td><td>NA</td><td>NA</td><td>NA</td><td>NA</td><td>NA</td><td>NA</td></tr>\n",
              "\t<tr><td>4847</td><td>1</td><td>1</td><td> 1</td><td>NA</td><td>NA</td><td>NA</td><td>NA</td><td>NA</td><td>NA</td><td>NA</td><td>NA</td></tr>\n",
              "\t<tr><td>4848</td><td>1</td><td>1</td><td> 1</td><td> 1</td><td>NA</td><td>NA</td><td>NA</td><td>NA</td><td>NA</td><td>NA</td><td>NA</td></tr>\n",
              "\t<tr><td>4849</td><td>1</td><td>1</td><td>NA</td><td>NA</td><td>NA</td><td>NA</td><td>NA</td><td>NA</td><td>NA</td><td>NA</td><td>NA</td></tr>\n",
              "\t<tr><td>4850</td><td>1</td><td>1</td><td>NA</td><td> 1</td><td> 1</td><td> 1</td><td> 1</td><td>NA</td><td>NA</td><td>NA</td><td>NA</td></tr>\n",
              "\t<tr><td>4851</td><td>1</td><td>1</td><td>NA</td><td>NA</td><td>NA</td><td>NA</td><td>NA</td><td>NA</td><td>NA</td><td>NA</td><td>NA</td></tr>\n",
              "\t<tr><td>4854</td><td>1</td><td>1</td><td>NA</td><td>NA</td><td>NA</td><td>NA</td><td>NA</td><td>NA</td><td>NA</td><td>NA</td><td>NA</td></tr>\n",
              "\t<tr><td>4855</td><td>1</td><td>1</td><td> 1</td><td> 1</td><td> 1</td><td>NA</td><td>NA</td><td>NA</td><td>NA</td><td>NA</td><td>NA</td></tr>\n",
              "\t<tr><td>4857</td><td>1</td><td>1</td><td> 1</td><td> 1</td><td> 1</td><td> 1</td><td> 1</td><td> 1</td><td> 1</td><td>NA</td><td>NA</td></tr>\n",
              "\t<tr><td>4858</td><td>1</td><td>1</td><td> 1</td><td> 1</td><td> 1</td><td> 1</td><td> 1</td><td> 1</td><td> 1</td><td> 1</td><td> 1</td></tr>\n",
              "\t<tr><td>4859</td><td>1</td><td>1</td><td> 1</td><td> 1</td><td> 1</td><td>NA</td><td>NA</td><td>NA</td><td>NA</td><td>NA</td><td>NA</td></tr>\n",
              "\t<tr><td>4861</td><td>1</td><td>1</td><td> 1</td><td> 1</td><td> 1</td><td> 1</td><td> 1</td><td> 1</td><td> 1</td><td> 1</td><td> 1</td></tr>\n",
              "\t<tr><td>4862</td><td>1</td><td>1</td><td> 1</td><td> 1</td><td> 1</td><td> 1</td><td> 1</td><td> 1</td><td> 1</td><td>NA</td><td>NA</td></tr>\n",
              "\t<tr><td>4863</td><td>1</td><td>1</td><td>NA</td><td>NA</td><td>NA</td><td>NA</td><td>NA</td><td>NA</td><td>NA</td><td>NA</td><td>NA</td></tr>\n",
              "\t<tr><td>4864</td><td>1</td><td>1</td><td>NA</td><td>NA</td><td>NA</td><td>NA</td><td>NA</td><td>NA</td><td>NA</td><td>NA</td><td>NA</td></tr>\n",
              "\t<tr><td>4865</td><td>1</td><td>1</td><td> 1</td><td>NA</td><td>NA</td><td>NA</td><td>NA</td><td>NA</td><td>NA</td><td>NA</td><td>NA</td></tr>\n",
              "</tbody>\n",
              "</table>\n"
            ]
          },
          "metadata": {
            "tags": []
          }
        }
      ]
    },
    {
      "cell_type": "markdown",
      "metadata": {
        "id": "cmtwmP7swyKx",
        "colab_type": "text"
      },
      "source": [
        "You can generate column names from multiple variables:"
      ]
    },
    {
      "cell_type": "code",
      "metadata": {
        "id": "_lETCWdew1O0",
        "colab_type": "code",
        "outputId": "e249caf9-f47c-423d-f61f-ba42f6e094be",
        "colab": {
          "base_uri": "https://localhost:8080/",
          "height": 393
        }
      },
      "source": [
        "head(us_rent_income, 15)"
      ],
      "execution_count": 0,
      "outputs": [
        {
          "output_type": "display_data",
          "data": {
            "text/plain": [
              "   GEOID NAME        variable estimate moe\n",
              "1  01    Alabama     income   24476    136\n",
              "2  01    Alabama     rent       747      3\n",
              "3  02    Alaska      income   32940    508\n",
              "4  02    Alaska      rent      1200     13\n",
              "5  04    Arizona     income   27517    148\n",
              "6  04    Arizona     rent       972      4\n",
              "7  05    Arkansas    income   23789    165\n",
              "8  05    Arkansas    rent       709      5\n",
              "9  06    California  income   29454    109\n",
              "10 06    California  rent      1358      3\n",
              "11 08    Colorado    income   32401    109\n",
              "12 08    Colorado    rent      1125      5\n",
              "13 09    Connecticut income   35326    195\n",
              "14 09    Connecticut rent      1123      5\n",
              "15 10    Delaware    income   31560    247"
            ],
            "text/latex": "A tibble: 15 × 5\n\\begin{tabular}{lllll}\n GEOID & NAME & variable & estimate & moe\\\\\n <chr> & <chr> & <chr> & <dbl> & <dbl>\\\\\n\\hline\n\t 01 & Alabama     & income & 24476 & 136\\\\\n\t 01 & Alabama     & rent   &   747 &   3\\\\\n\t 02 & Alaska      & income & 32940 & 508\\\\\n\t 02 & Alaska      & rent   &  1200 &  13\\\\\n\t 04 & Arizona     & income & 27517 & 148\\\\\n\t 04 & Arizona     & rent   &   972 &   4\\\\\n\t 05 & Arkansas    & income & 23789 & 165\\\\\n\t 05 & Arkansas    & rent   &   709 &   5\\\\\n\t 06 & California  & income & 29454 & 109\\\\\n\t 06 & California  & rent   &  1358 &   3\\\\\n\t 08 & Colorado    & income & 32401 & 109\\\\\n\t 08 & Colorado    & rent   &  1125 &   5\\\\\n\t 09 & Connecticut & income & 35326 & 195\\\\\n\t 09 & Connecticut & rent   &  1123 &   5\\\\\n\t 10 & Delaware    & income & 31560 & 247\\\\\n\\end{tabular}\n",
            "text/markdown": "\nA tibble: 15 × 5\n\n| GEOID &lt;chr&gt; | NAME &lt;chr&gt; | variable &lt;chr&gt; | estimate &lt;dbl&gt; | moe &lt;dbl&gt; |\n|---|---|---|---|---|\n| 01 | Alabama     | income | 24476 | 136 |\n| 01 | Alabama     | rent   |   747 |   3 |\n| 02 | Alaska      | income | 32940 | 508 |\n| 02 | Alaska      | rent   |  1200 |  13 |\n| 04 | Arizona     | income | 27517 | 148 |\n| 04 | Arizona     | rent   |   972 |   4 |\n| 05 | Arkansas    | income | 23789 | 165 |\n| 05 | Arkansas    | rent   |   709 |   5 |\n| 06 | California  | income | 29454 | 109 |\n| 06 | California  | rent   |  1358 |   3 |\n| 08 | Colorado    | income | 32401 | 109 |\n| 08 | Colorado    | rent   |  1125 |   5 |\n| 09 | Connecticut | income | 35326 | 195 |\n| 09 | Connecticut | rent   |  1123 |   5 |\n| 10 | Delaware    | income | 31560 | 247 |\n\n",
            "text/html": [
              "<table>\n",
              "<caption>A tibble: 15 × 5</caption>\n",
              "<thead>\n",
              "\t<tr><th scope=col>GEOID</th><th scope=col>NAME</th><th scope=col>variable</th><th scope=col>estimate</th><th scope=col>moe</th></tr>\n",
              "\t<tr><th scope=col>&lt;chr&gt;</th><th scope=col>&lt;chr&gt;</th><th scope=col>&lt;chr&gt;</th><th scope=col>&lt;dbl&gt;</th><th scope=col>&lt;dbl&gt;</th></tr>\n",
              "</thead>\n",
              "<tbody>\n",
              "\t<tr><td>01</td><td>Alabama    </td><td>income</td><td>24476</td><td>136</td></tr>\n",
              "\t<tr><td>01</td><td>Alabama    </td><td>rent  </td><td>  747</td><td>  3</td></tr>\n",
              "\t<tr><td>02</td><td>Alaska     </td><td>income</td><td>32940</td><td>508</td></tr>\n",
              "\t<tr><td>02</td><td>Alaska     </td><td>rent  </td><td> 1200</td><td> 13</td></tr>\n",
              "\t<tr><td>04</td><td>Arizona    </td><td>income</td><td>27517</td><td>148</td></tr>\n",
              "\t<tr><td>04</td><td>Arizona    </td><td>rent  </td><td>  972</td><td>  4</td></tr>\n",
              "\t<tr><td>05</td><td>Arkansas   </td><td>income</td><td>23789</td><td>165</td></tr>\n",
              "\t<tr><td>05</td><td>Arkansas   </td><td>rent  </td><td>  709</td><td>  5</td></tr>\n",
              "\t<tr><td>06</td><td>California </td><td>income</td><td>29454</td><td>109</td></tr>\n",
              "\t<tr><td>06</td><td>California </td><td>rent  </td><td> 1358</td><td>  3</td></tr>\n",
              "\t<tr><td>08</td><td>Colorado   </td><td>income</td><td>32401</td><td>109</td></tr>\n",
              "\t<tr><td>08</td><td>Colorado   </td><td>rent  </td><td> 1125</td><td>  5</td></tr>\n",
              "\t<tr><td>09</td><td>Connecticut</td><td>income</td><td>35326</td><td>195</td></tr>\n",
              "\t<tr><td>09</td><td>Connecticut</td><td>rent  </td><td> 1123</td><td>  5</td></tr>\n",
              "\t<tr><td>10</td><td>Delaware   </td><td>income</td><td>31560</td><td>247</td></tr>\n",
              "</tbody>\n",
              "</table>\n"
            ]
          },
          "metadata": {
            "tags": []
          }
        }
      ]
    },
    {
      "cell_type": "code",
      "metadata": {
        "id": "h5HiLVAYw7CF",
        "colab_type": "code",
        "outputId": "b327fcca-475f-4687-890f-d2ce8461a5e6",
        "colab": {
          "base_uri": "https://localhost:8080/",
          "height": 1000
        }
      },
      "source": [
        "us_rent_income %>%\n",
        "  pivot_wider(names_from = variable, values_from = c(estimate, moe))"
      ],
      "execution_count": 0,
      "outputs": [
        {
          "output_type": "display_data",
          "data": {
            "text/plain": [
              "   GEOID NAME                 estimate_income estimate_rent moe_income moe_rent\n",
              "1  01    Alabama              24476            747          136         3      \n",
              "2  02    Alaska               32940           1200          508        13      \n",
              "3  04    Arizona              27517            972          148         4      \n",
              "4  05    Arkansas             23789            709          165         5      \n",
              "5  06    California           29454           1358          109         3      \n",
              "6  08    Colorado             32401           1125          109         5      \n",
              "7  09    Connecticut          35326           1123          195         5      \n",
              "8  10    Delaware             31560           1076          247        10      \n",
              "9  11    District of Columbia 43198           1424          681        17      \n",
              "10 12    Florida              25952           1077           70         3      \n",
              "11 13    Georgia              27024            927          106         3      \n",
              "12 15    Hawaii               32453           1507          218        18      \n",
              "13 16    Idaho                25298            792          208         7      \n",
              "14 17    Illinois             30684            952           83         3      \n",
              "15 18    Indiana              27247            782          117         3      \n",
              "16 19    Iowa                 30002            740          143         4      \n",
              "17 20    Kansas               29126            801          208         5      \n",
              "18 21    Kentucky             24702            713          159         4      \n",
              "19 22    Louisiana            25086            825          155         4      \n",
              "20 23    Maine                26841            808          187         7      \n",
              "21 24    Maryland             37147           1311          152         5      \n",
              "22 25    Massachusetts        34498           1173          199         5      \n",
              "23 26    Michigan             26987            824           82         3      \n",
              "24 27    Minnesota            32734            906          189         4      \n",
              "25 28    Mississippi          22766            740          194         5      \n",
              "26 29    Missouri             26999            784          113         4      \n",
              "27 30    Montana              26249            751          206         9      \n",
              "28 31    Nebraska             30020            773          146         4      \n",
              "29 32    Nevada               29019           1017          213         6      \n",
              "30 33    New Hampshire        33172           1052          387         9      \n",
              "31 34    New Jersey           35075           1249          148         4      \n",
              "32 35    New Mexico           24457            809          214         6      \n",
              "33 36    New York             31057           1194           69         3      \n",
              "34 37    North Carolina       26482            844          111         3      \n",
              "35 38    North Dakota         32336            775          245         9      \n",
              "36 39    Ohio                 27435            764           94         2      \n",
              "37 40    Oklahoma             26207            766          101         3      \n",
              "38 41    Oregon               27389            988          146         4      \n",
              "39 42    Pennsylvania         28923            885          119         3      \n",
              "40 44    Rhode Island         30210            957          259         6      \n",
              "41 45    South Carolina       25454            836          123         4      \n",
              "42 46    South Dakota         28821            696          276         7      \n",
              "43 47    Tennessee            25453            808          102         4      \n",
              "44 48    Texas                28063            952          110         2      \n",
              "45 49    Utah                 27928            948          239         6      \n",
              "46 50    Vermont              29351            945          361        11      \n",
              "47 51    Virginia             32545           1166          202         5      \n",
              "48 53    Washington           32318           1120          113         4      \n",
              "49 54    West Virginia        23707            681          203         6      \n",
              "50 55    Wisconsin            29868            813          135         3      \n",
              "51 56    Wyoming              30854            828          342        11      \n",
              "52 72    Puerto Rico             NA            464           NA         6      "
            ],
            "text/latex": "A tibble: 52 × 6\n\\begin{tabular}{llllll}\n GEOID & NAME & estimate\\_income & estimate\\_rent & moe\\_income & moe\\_rent\\\\\n <chr> & <chr> & <dbl> & <dbl> & <dbl> & <dbl>\\\\\n\\hline\n\t 01 & Alabama              & 24476 &  747 & 136 &  3\\\\\n\t 02 & Alaska               & 32940 & 1200 & 508 & 13\\\\\n\t 04 & Arizona              & 27517 &  972 & 148 &  4\\\\\n\t 05 & Arkansas             & 23789 &  709 & 165 &  5\\\\\n\t 06 & California           & 29454 & 1358 & 109 &  3\\\\\n\t 08 & Colorado             & 32401 & 1125 & 109 &  5\\\\\n\t 09 & Connecticut          & 35326 & 1123 & 195 &  5\\\\\n\t 10 & Delaware             & 31560 & 1076 & 247 & 10\\\\\n\t 11 & District of Columbia & 43198 & 1424 & 681 & 17\\\\\n\t 12 & Florida              & 25952 & 1077 &  70 &  3\\\\\n\t 13 & Georgia              & 27024 &  927 & 106 &  3\\\\\n\t 15 & Hawaii               & 32453 & 1507 & 218 & 18\\\\\n\t 16 & Idaho                & 25298 &  792 & 208 &  7\\\\\n\t 17 & Illinois             & 30684 &  952 &  83 &  3\\\\\n\t 18 & Indiana              & 27247 &  782 & 117 &  3\\\\\n\t 19 & Iowa                 & 30002 &  740 & 143 &  4\\\\\n\t 20 & Kansas               & 29126 &  801 & 208 &  5\\\\\n\t 21 & Kentucky             & 24702 &  713 & 159 &  4\\\\\n\t 22 & Louisiana            & 25086 &  825 & 155 &  4\\\\\n\t 23 & Maine                & 26841 &  808 & 187 &  7\\\\\n\t 24 & Maryland             & 37147 & 1311 & 152 &  5\\\\\n\t 25 & Massachusetts        & 34498 & 1173 & 199 &  5\\\\\n\t 26 & Michigan             & 26987 &  824 &  82 &  3\\\\\n\t 27 & Minnesota            & 32734 &  906 & 189 &  4\\\\\n\t 28 & Mississippi          & 22766 &  740 & 194 &  5\\\\\n\t 29 & Missouri             & 26999 &  784 & 113 &  4\\\\\n\t 30 & Montana              & 26249 &  751 & 206 &  9\\\\\n\t 31 & Nebraska             & 30020 &  773 & 146 &  4\\\\\n\t 32 & Nevada               & 29019 & 1017 & 213 &  6\\\\\n\t 33 & New Hampshire        & 33172 & 1052 & 387 &  9\\\\\n\t 34 & New Jersey           & 35075 & 1249 & 148 &  4\\\\\n\t 35 & New Mexico           & 24457 &  809 & 214 &  6\\\\\n\t 36 & New York             & 31057 & 1194 &  69 &  3\\\\\n\t 37 & North Carolina       & 26482 &  844 & 111 &  3\\\\\n\t 38 & North Dakota         & 32336 &  775 & 245 &  9\\\\\n\t 39 & Ohio                 & 27435 &  764 &  94 &  2\\\\\n\t 40 & Oklahoma             & 26207 &  766 & 101 &  3\\\\\n\t 41 & Oregon               & 27389 &  988 & 146 &  4\\\\\n\t 42 & Pennsylvania         & 28923 &  885 & 119 &  3\\\\\n\t 44 & Rhode Island         & 30210 &  957 & 259 &  6\\\\\n\t 45 & South Carolina       & 25454 &  836 & 123 &  4\\\\\n\t 46 & South Dakota         & 28821 &  696 & 276 &  7\\\\\n\t 47 & Tennessee            & 25453 &  808 & 102 &  4\\\\\n\t 48 & Texas                & 28063 &  952 & 110 &  2\\\\\n\t 49 & Utah                 & 27928 &  948 & 239 &  6\\\\\n\t 50 & Vermont              & 29351 &  945 & 361 & 11\\\\\n\t 51 & Virginia             & 32545 & 1166 & 202 &  5\\\\\n\t 53 & Washington           & 32318 & 1120 & 113 &  4\\\\\n\t 54 & West Virginia        & 23707 &  681 & 203 &  6\\\\\n\t 55 & Wisconsin            & 29868 &  813 & 135 &  3\\\\\n\t 56 & Wyoming              & 30854 &  828 & 342 & 11\\\\\n\t 72 & Puerto Rico          &    NA &  464 &  NA &  6\\\\\n\\end{tabular}\n",
            "text/markdown": "\nA tibble: 52 × 6\n\n| GEOID &lt;chr&gt; | NAME &lt;chr&gt; | estimate_income &lt;dbl&gt; | estimate_rent &lt;dbl&gt; | moe_income &lt;dbl&gt; | moe_rent &lt;dbl&gt; |\n|---|---|---|---|---|---|\n| 01 | Alabama              | 24476 |  747 | 136 |  3 |\n| 02 | Alaska               | 32940 | 1200 | 508 | 13 |\n| 04 | Arizona              | 27517 |  972 | 148 |  4 |\n| 05 | Arkansas             | 23789 |  709 | 165 |  5 |\n| 06 | California           | 29454 | 1358 | 109 |  3 |\n| 08 | Colorado             | 32401 | 1125 | 109 |  5 |\n| 09 | Connecticut          | 35326 | 1123 | 195 |  5 |\n| 10 | Delaware             | 31560 | 1076 | 247 | 10 |\n| 11 | District of Columbia | 43198 | 1424 | 681 | 17 |\n| 12 | Florida              | 25952 | 1077 |  70 |  3 |\n| 13 | Georgia              | 27024 |  927 | 106 |  3 |\n| 15 | Hawaii               | 32453 | 1507 | 218 | 18 |\n| 16 | Idaho                | 25298 |  792 | 208 |  7 |\n| 17 | Illinois             | 30684 |  952 |  83 |  3 |\n| 18 | Indiana              | 27247 |  782 | 117 |  3 |\n| 19 | Iowa                 | 30002 |  740 | 143 |  4 |\n| 20 | Kansas               | 29126 |  801 | 208 |  5 |\n| 21 | Kentucky             | 24702 |  713 | 159 |  4 |\n| 22 | Louisiana            | 25086 |  825 | 155 |  4 |\n| 23 | Maine                | 26841 |  808 | 187 |  7 |\n| 24 | Maryland             | 37147 | 1311 | 152 |  5 |\n| 25 | Massachusetts        | 34498 | 1173 | 199 |  5 |\n| 26 | Michigan             | 26987 |  824 |  82 |  3 |\n| 27 | Minnesota            | 32734 |  906 | 189 |  4 |\n| 28 | Mississippi          | 22766 |  740 | 194 |  5 |\n| 29 | Missouri             | 26999 |  784 | 113 |  4 |\n| 30 | Montana              | 26249 |  751 | 206 |  9 |\n| 31 | Nebraska             | 30020 |  773 | 146 |  4 |\n| 32 | Nevada               | 29019 | 1017 | 213 |  6 |\n| 33 | New Hampshire        | 33172 | 1052 | 387 |  9 |\n| 34 | New Jersey           | 35075 | 1249 | 148 |  4 |\n| 35 | New Mexico           | 24457 |  809 | 214 |  6 |\n| 36 | New York             | 31057 | 1194 |  69 |  3 |\n| 37 | North Carolina       | 26482 |  844 | 111 |  3 |\n| 38 | North Dakota         | 32336 |  775 | 245 |  9 |\n| 39 | Ohio                 | 27435 |  764 |  94 |  2 |\n| 40 | Oklahoma             | 26207 |  766 | 101 |  3 |\n| 41 | Oregon               | 27389 |  988 | 146 |  4 |\n| 42 | Pennsylvania         | 28923 |  885 | 119 |  3 |\n| 44 | Rhode Island         | 30210 |  957 | 259 |  6 |\n| 45 | South Carolina       | 25454 |  836 | 123 |  4 |\n| 46 | South Dakota         | 28821 |  696 | 276 |  7 |\n| 47 | Tennessee            | 25453 |  808 | 102 |  4 |\n| 48 | Texas                | 28063 |  952 | 110 |  2 |\n| 49 | Utah                 | 27928 |  948 | 239 |  6 |\n| 50 | Vermont              | 29351 |  945 | 361 | 11 |\n| 51 | Virginia             | 32545 | 1166 | 202 |  5 |\n| 53 | Washington           | 32318 | 1120 | 113 |  4 |\n| 54 | West Virginia        | 23707 |  681 | 203 |  6 |\n| 55 | Wisconsin            | 29868 |  813 | 135 |  3 |\n| 56 | Wyoming              | 30854 |  828 | 342 | 11 |\n| 72 | Puerto Rico          |    NA |  464 |  NA |  6 |\n\n",
            "text/html": [
              "<table>\n",
              "<caption>A tibble: 52 × 6</caption>\n",
              "<thead>\n",
              "\t<tr><th scope=col>GEOID</th><th scope=col>NAME</th><th scope=col>estimate_income</th><th scope=col>estimate_rent</th><th scope=col>moe_income</th><th scope=col>moe_rent</th></tr>\n",
              "\t<tr><th scope=col>&lt;chr&gt;</th><th scope=col>&lt;chr&gt;</th><th scope=col>&lt;dbl&gt;</th><th scope=col>&lt;dbl&gt;</th><th scope=col>&lt;dbl&gt;</th><th scope=col>&lt;dbl&gt;</th></tr>\n",
              "</thead>\n",
              "<tbody>\n",
              "\t<tr><td>01</td><td>Alabama             </td><td>24476</td><td> 747</td><td>136</td><td> 3</td></tr>\n",
              "\t<tr><td>02</td><td>Alaska              </td><td>32940</td><td>1200</td><td>508</td><td>13</td></tr>\n",
              "\t<tr><td>04</td><td>Arizona             </td><td>27517</td><td> 972</td><td>148</td><td> 4</td></tr>\n",
              "\t<tr><td>05</td><td>Arkansas            </td><td>23789</td><td> 709</td><td>165</td><td> 5</td></tr>\n",
              "\t<tr><td>06</td><td>California          </td><td>29454</td><td>1358</td><td>109</td><td> 3</td></tr>\n",
              "\t<tr><td>08</td><td>Colorado            </td><td>32401</td><td>1125</td><td>109</td><td> 5</td></tr>\n",
              "\t<tr><td>09</td><td>Connecticut         </td><td>35326</td><td>1123</td><td>195</td><td> 5</td></tr>\n",
              "\t<tr><td>10</td><td>Delaware            </td><td>31560</td><td>1076</td><td>247</td><td>10</td></tr>\n",
              "\t<tr><td>11</td><td>District of Columbia</td><td>43198</td><td>1424</td><td>681</td><td>17</td></tr>\n",
              "\t<tr><td>12</td><td>Florida             </td><td>25952</td><td>1077</td><td> 70</td><td> 3</td></tr>\n",
              "\t<tr><td>13</td><td>Georgia             </td><td>27024</td><td> 927</td><td>106</td><td> 3</td></tr>\n",
              "\t<tr><td>15</td><td>Hawaii              </td><td>32453</td><td>1507</td><td>218</td><td>18</td></tr>\n",
              "\t<tr><td>16</td><td>Idaho               </td><td>25298</td><td> 792</td><td>208</td><td> 7</td></tr>\n",
              "\t<tr><td>17</td><td>Illinois            </td><td>30684</td><td> 952</td><td> 83</td><td> 3</td></tr>\n",
              "\t<tr><td>18</td><td>Indiana             </td><td>27247</td><td> 782</td><td>117</td><td> 3</td></tr>\n",
              "\t<tr><td>19</td><td>Iowa                </td><td>30002</td><td> 740</td><td>143</td><td> 4</td></tr>\n",
              "\t<tr><td>20</td><td>Kansas              </td><td>29126</td><td> 801</td><td>208</td><td> 5</td></tr>\n",
              "\t<tr><td>21</td><td>Kentucky            </td><td>24702</td><td> 713</td><td>159</td><td> 4</td></tr>\n",
              "\t<tr><td>22</td><td>Louisiana           </td><td>25086</td><td> 825</td><td>155</td><td> 4</td></tr>\n",
              "\t<tr><td>23</td><td>Maine               </td><td>26841</td><td> 808</td><td>187</td><td> 7</td></tr>\n",
              "\t<tr><td>24</td><td>Maryland            </td><td>37147</td><td>1311</td><td>152</td><td> 5</td></tr>\n",
              "\t<tr><td>25</td><td>Massachusetts       </td><td>34498</td><td>1173</td><td>199</td><td> 5</td></tr>\n",
              "\t<tr><td>26</td><td>Michigan            </td><td>26987</td><td> 824</td><td> 82</td><td> 3</td></tr>\n",
              "\t<tr><td>27</td><td>Minnesota           </td><td>32734</td><td> 906</td><td>189</td><td> 4</td></tr>\n",
              "\t<tr><td>28</td><td>Mississippi         </td><td>22766</td><td> 740</td><td>194</td><td> 5</td></tr>\n",
              "\t<tr><td>29</td><td>Missouri            </td><td>26999</td><td> 784</td><td>113</td><td> 4</td></tr>\n",
              "\t<tr><td>30</td><td>Montana             </td><td>26249</td><td> 751</td><td>206</td><td> 9</td></tr>\n",
              "\t<tr><td>31</td><td>Nebraska            </td><td>30020</td><td> 773</td><td>146</td><td> 4</td></tr>\n",
              "\t<tr><td>32</td><td>Nevada              </td><td>29019</td><td>1017</td><td>213</td><td> 6</td></tr>\n",
              "\t<tr><td>33</td><td>New Hampshire       </td><td>33172</td><td>1052</td><td>387</td><td> 9</td></tr>\n",
              "\t<tr><td>34</td><td>New Jersey          </td><td>35075</td><td>1249</td><td>148</td><td> 4</td></tr>\n",
              "\t<tr><td>35</td><td>New Mexico          </td><td>24457</td><td> 809</td><td>214</td><td> 6</td></tr>\n",
              "\t<tr><td>36</td><td>New York            </td><td>31057</td><td>1194</td><td> 69</td><td> 3</td></tr>\n",
              "\t<tr><td>37</td><td>North Carolina      </td><td>26482</td><td> 844</td><td>111</td><td> 3</td></tr>\n",
              "\t<tr><td>38</td><td>North Dakota        </td><td>32336</td><td> 775</td><td>245</td><td> 9</td></tr>\n",
              "\t<tr><td>39</td><td>Ohio                </td><td>27435</td><td> 764</td><td> 94</td><td> 2</td></tr>\n",
              "\t<tr><td>40</td><td>Oklahoma            </td><td>26207</td><td> 766</td><td>101</td><td> 3</td></tr>\n",
              "\t<tr><td>41</td><td>Oregon              </td><td>27389</td><td> 988</td><td>146</td><td> 4</td></tr>\n",
              "\t<tr><td>42</td><td>Pennsylvania        </td><td>28923</td><td> 885</td><td>119</td><td> 3</td></tr>\n",
              "\t<tr><td>44</td><td>Rhode Island        </td><td>30210</td><td> 957</td><td>259</td><td> 6</td></tr>\n",
              "\t<tr><td>45</td><td>South Carolina      </td><td>25454</td><td> 836</td><td>123</td><td> 4</td></tr>\n",
              "\t<tr><td>46</td><td>South Dakota        </td><td>28821</td><td> 696</td><td>276</td><td> 7</td></tr>\n",
              "\t<tr><td>47</td><td>Tennessee           </td><td>25453</td><td> 808</td><td>102</td><td> 4</td></tr>\n",
              "\t<tr><td>48</td><td>Texas               </td><td>28063</td><td> 952</td><td>110</td><td> 2</td></tr>\n",
              "\t<tr><td>49</td><td>Utah                </td><td>27928</td><td> 948</td><td>239</td><td> 6</td></tr>\n",
              "\t<tr><td>50</td><td>Vermont             </td><td>29351</td><td> 945</td><td>361</td><td>11</td></tr>\n",
              "\t<tr><td>51</td><td>Virginia            </td><td>32545</td><td>1166</td><td>202</td><td> 5</td></tr>\n",
              "\t<tr><td>53</td><td>Washington          </td><td>32318</td><td>1120</td><td>113</td><td> 4</td></tr>\n",
              "\t<tr><td>54</td><td>West Virginia       </td><td>23707</td><td> 681</td><td>203</td><td> 6</td></tr>\n",
              "\t<tr><td>55</td><td>Wisconsin           </td><td>29868</td><td> 813</td><td>135</td><td> 3</td></tr>\n",
              "\t<tr><td>56</td><td>Wyoming             </td><td>30854</td><td> 828</td><td>342</td><td>11</td></tr>\n",
              "\t<tr><td>72</td><td>Puerto Rico         </td><td>   NA</td><td> 464</td><td> NA</td><td> 6</td></tr>\n",
              "</tbody>\n",
              "</table>\n"
            ]
          },
          "metadata": {
            "tags": []
          }
        }
      ]
    },
    {
      "cell_type": "markdown",
      "metadata": {
        "id": "RN4xMroexWPK",
        "colab_type": "text"
      },
      "source": [
        "You can also perform aggregation with `values_fn`:"
      ]
    },
    {
      "cell_type": "code",
      "metadata": {
        "id": "bdyPYhk5xaeV",
        "colab_type": "code",
        "outputId": "081924af-10dd-4b6b-acb0-504e51510967",
        "colab": {
          "base_uri": "https://localhost:8080/",
          "height": 204
        }
      },
      "source": [
        "warpbreaks <- as_tibble(warpbreaks[c(\"wool\", \"tension\", \"breaks\")])\n",
        "head(warpbreaks)"
      ],
      "execution_count": 0,
      "outputs": [
        {
          "output_type": "display_data",
          "data": {
            "text/plain": [
              "  wool tension breaks\n",
              "1 A    L       26    \n",
              "2 A    L       30    \n",
              "3 A    L       54    \n",
              "4 A    L       25    \n",
              "5 A    L       70    \n",
              "6 A    L       52    "
            ],
            "text/latex": "A tibble: 6 × 3\n\\begin{tabular}{lll}\n wool & tension & breaks\\\\\n <fct> & <fct> & <dbl>\\\\\n\\hline\n\t A & L & 26\\\\\n\t A & L & 30\\\\\n\t A & L & 54\\\\\n\t A & L & 25\\\\\n\t A & L & 70\\\\\n\t A & L & 52\\\\\n\\end{tabular}\n",
            "text/markdown": "\nA tibble: 6 × 3\n\n| wool &lt;fct&gt; | tension &lt;fct&gt; | breaks &lt;dbl&gt; |\n|---|---|---|\n| A | L | 26 |\n| A | L | 30 |\n| A | L | 54 |\n| A | L | 25 |\n| A | L | 70 |\n| A | L | 52 |\n\n",
            "text/html": [
              "<table>\n",
              "<caption>A tibble: 6 × 3</caption>\n",
              "<thead>\n",
              "\t<tr><th scope=col>wool</th><th scope=col>tension</th><th scope=col>breaks</th></tr>\n",
              "\t<tr><th scope=col>&lt;fct&gt;</th><th scope=col>&lt;fct&gt;</th><th scope=col>&lt;dbl&gt;</th></tr>\n",
              "</thead>\n",
              "<tbody>\n",
              "\t<tr><td>A</td><td>L</td><td>26</td></tr>\n",
              "\t<tr><td>A</td><td>L</td><td>30</td></tr>\n",
              "\t<tr><td>A</td><td>L</td><td>54</td></tr>\n",
              "\t<tr><td>A</td><td>L</td><td>25</td></tr>\n",
              "\t<tr><td>A</td><td>L</td><td>70</td></tr>\n",
              "\t<tr><td>A</td><td>L</td><td>52</td></tr>\n",
              "</tbody>\n",
              "</table>\n"
            ]
          },
          "metadata": {
            "tags": []
          }
        }
      ]
    },
    {
      "cell_type": "code",
      "metadata": {
        "id": "USpB8FyPyyyB",
        "colab_type": "code",
        "outputId": "e826cd5c-1032-4d15-b3d9-c67b826a0ed8",
        "colab": {
          "base_uri": "https://localhost:8080/",
          "height": 141
        }
      },
      "source": [
        "warpbreaks %>%\n",
        "  pivot_wider(\n",
        "    names_from = wool,\n",
        "    values_from = breaks,\n",
        "    values_fn = list(breaks = mean)\n",
        "  )"
      ],
      "execution_count": 0,
      "outputs": [
        {
          "output_type": "display_data",
          "data": {
            "text/plain": [
              "  tension A        B       \n",
              "1 L       44.55556 28.22222\n",
              "2 M       24.00000 28.77778\n",
              "3 H       24.55556 18.77778"
            ],
            "text/latex": "A tibble: 3 × 3\n\\begin{tabular}{lll}\n tension & A & B\\\\\n <fct> & <dbl> & <dbl>\\\\\n\\hline\n\t L & 44.55556 & 28.22222\\\\\n\t M & 24.00000 & 28.77778\\\\\n\t H & 24.55556 & 18.77778\\\\\n\\end{tabular}\n",
            "text/markdown": "\nA tibble: 3 × 3\n\n| tension &lt;fct&gt; | A &lt;dbl&gt; | B &lt;dbl&gt; |\n|---|---|---|\n| L | 44.55556 | 28.22222 |\n| M | 24.00000 | 28.77778 |\n| H | 24.55556 | 18.77778 |\n\n",
            "text/html": [
              "<table>\n",
              "<caption>A tibble: 3 × 3</caption>\n",
              "<thead>\n",
              "\t<tr><th scope=col>tension</th><th scope=col>A</th><th scope=col>B</th></tr>\n",
              "\t<tr><th scope=col>&lt;fct&gt;</th><th scope=col>&lt;dbl&gt;</th><th scope=col>&lt;dbl&gt;</th></tr>\n",
              "</thead>\n",
              "<tbody>\n",
              "\t<tr><td>L</td><td>44.55556</td><td>28.22222</td></tr>\n",
              "\t<tr><td>M</td><td>24.00000</td><td>28.77778</td></tr>\n",
              "\t<tr><td>H</td><td>24.55556</td><td>18.77778</td></tr>\n",
              "</tbody>\n",
              "</table>\n"
            ]
          },
          "metadata": {
            "tags": []
          }
        }
      ]
    },
    {
      "cell_type": "markdown",
      "metadata": {
        "id": "8zflplGDr0rc",
        "colab_type": "text"
      },
      "source": [
        "## **pivot_longer()**\n",
        "\n",
        "`pivot_longer()` does the reverse of `pivot_wider()`. `pivot_longer()` collects a set of column names and places them into a single “key” column. It also collects the cells of those columns and places them into a single value column. "
      ]
    },
    {
      "cell_type": "code",
      "metadata": {
        "id": "gAgWvJgzNDJK",
        "colab_type": "code",
        "outputId": "cc4febe4-248f-4517-af71-cd7fa7b293b4",
        "colab": {
          "base_uri": "https://localhost:8080/",
          "height": 221
        }
      },
      "source": [
        "devtools::install_github(\"garrettgman/DSR\")\n",
        "library(DSR)"
      ],
      "execution_count": 0,
      "outputs": [
        {
          "output_type": "stream",
          "text": [
            "Skipping install of 'DSR' from a github remote, the SHA1 (07c9a350) has not changed since last install.\n",
            "  Use `force = TRUE` to force installation\n",
            "\n",
            "\n",
            "Attaching package: ‘DSR’\n",
            "\n",
            "\n",
            "The following objects are masked from ‘package:tidyr’:\n",
            "\n",
            "    table1, table2, table3, table5, who\n",
            "\n",
            "\n"
          ],
          "name": "stderr"
        }
      ]
    },
    {
      "cell_type": "code",
      "metadata": {
        "id": "TvdJ61HsMa5l",
        "colab_type": "code",
        "outputId": "cea0e35a-7a7e-498c-efbc-c0229f9c8bc7",
        "colab": {
          "base_uri": "https://localhost:8080/",
          "height": 141
        }
      },
      "source": [
        "table4"
      ],
      "execution_count": 0,
      "outputs": [
        {
          "output_type": "display_data",
          "data": {
            "text/plain": [
              "  country     1999   2000  \n",
              "1 Afghanistan    745   2666\n",
              "2 Brazil       37737  80488\n",
              "3 China       212258 213766"
            ],
            "text/latex": "A tibble: 3 × 3\n\\begin{tabular}{lll}\n country & 1999 & 2000\\\\\n <fct> & <int> & <int>\\\\\n\\hline\n\t Afghanistan &    745 &   2666\\\\\n\t Brazil      &  37737 &  80488\\\\\n\t China       & 212258 & 213766\\\\\n\\end{tabular}\n",
            "text/markdown": "\nA tibble: 3 × 3\n\n| country &lt;fct&gt; | 1999 &lt;int&gt; | 2000 &lt;int&gt; |\n|---|---|---|\n| Afghanistan |    745 |   2666 |\n| Brazil      |  37737 |  80488 |\n| China       | 212258 | 213766 |\n\n",
            "text/html": [
              "<table>\n",
              "<caption>A tibble: 3 × 3</caption>\n",
              "<thead>\n",
              "\t<tr><th scope=col>country</th><th scope=col>1999</th><th scope=col>2000</th></tr>\n",
              "\t<tr><th scope=col>&lt;fct&gt;</th><th scope=col>&lt;int&gt;</th><th scope=col>&lt;int&gt;</th></tr>\n",
              "</thead>\n",
              "<tbody>\n",
              "\t<tr><td>Afghanistan</td><td>   745</td><td>  2666</td></tr>\n",
              "\t<tr><td>Brazil     </td><td> 37737</td><td> 80488</td></tr>\n",
              "\t<tr><td>China      </td><td>212258</td><td>213766</td></tr>\n",
              "</tbody>\n",
              "</table>\n"
            ]
          },
          "metadata": {
            "tags": []
          }
        }
      ]
    },
    {
      "cell_type": "code",
      "metadata": {
        "id": "cPZZ5w_QzFgn",
        "colab_type": "code",
        "outputId": "a1a8b685-60ab-47a2-b252-147fc8341b5b",
        "colab": {
          "base_uri": "https://localhost:8080/",
          "height": 204
        }
      },
      "source": [
        "table4 %>%\n",
        "pivot_longer(c(\"1999\", \"2000\"), names_to = \"year\", values_to = \"cases\")"
      ],
      "execution_count": 0,
      "outputs": [
        {
          "output_type": "display_data",
          "data": {
            "text/plain": [
              "  country     year cases \n",
              "1 Afghanistan 1999    745\n",
              "2 Afghanistan 2000   2666\n",
              "3 Brazil      1999  37737\n",
              "4 Brazil      2000  80488\n",
              "5 China       1999 212258\n",
              "6 China       2000 213766"
            ],
            "text/latex": "A tibble: 6 × 3\n\\begin{tabular}{lll}\n country & year & cases\\\\\n <fct> & <chr> & <int>\\\\\n\\hline\n\t Afghanistan & 1999 &    745\\\\\n\t Afghanistan & 2000 &   2666\\\\\n\t Brazil      & 1999 &  37737\\\\\n\t Brazil      & 2000 &  80488\\\\\n\t China       & 1999 & 212258\\\\\n\t China       & 2000 & 213766\\\\\n\\end{tabular}\n",
            "text/markdown": "\nA tibble: 6 × 3\n\n| country &lt;fct&gt; | year &lt;chr&gt; | cases &lt;int&gt; |\n|---|---|---|\n| Afghanistan | 1999 |    745 |\n| Afghanistan | 2000 |   2666 |\n| Brazil      | 1999 |  37737 |\n| Brazil      | 2000 |  80488 |\n| China       | 1999 | 212258 |\n| China       | 2000 | 213766 |\n\n",
            "text/html": [
              "<table>\n",
              "<caption>A tibble: 6 × 3</caption>\n",
              "<thead>\n",
              "\t<tr><th scope=col>country</th><th scope=col>year</th><th scope=col>cases</th></tr>\n",
              "\t<tr><th scope=col>&lt;fct&gt;</th><th scope=col>&lt;chr&gt;</th><th scope=col>&lt;int&gt;</th></tr>\n",
              "</thead>\n",
              "<tbody>\n",
              "\t<tr><td>Afghanistan</td><td>1999</td><td>   745</td></tr>\n",
              "\t<tr><td>Afghanistan</td><td>2000</td><td>  2666</td></tr>\n",
              "\t<tr><td>Brazil     </td><td>1999</td><td> 37737</td></tr>\n",
              "\t<tr><td>Brazil     </td><td>2000</td><td> 80488</td></tr>\n",
              "\t<tr><td>China      </td><td>1999</td><td>212258</td></tr>\n",
              "\t<tr><td>China      </td><td>2000</td><td>213766</td></tr>\n",
              "</tbody>\n",
              "</table>\n"
            ]
          },
          "metadata": {
            "tags": []
          }
        }
      ]
    },
    {
      "cell_type": "markdown",
      "metadata": {
        "id": "BAHT8uT3tDjw",
        "colab_type": "text"
      },
      "source": [
        "If you have multiple columns need to be reshaped:"
      ]
    },
    {
      "cell_type": "code",
      "metadata": {
        "id": "GXCLKyLls_Ss",
        "colab_type": "code",
        "outputId": "0eebddef-6090-4bb7-cb01-c71c429eb590",
        "colab": {
          "base_uri": "https://localhost:8080/",
          "height": 204
        }
      },
      "source": [
        "head(relig_income)"
      ],
      "execution_count": 0,
      "outputs": [
        {
          "output_type": "display_data",
          "data": {
            "text/plain": [
              "  religion           <$10k $10-20k $20-30k $30-40k $40-50k $50-75k $75-100k\n",
              "1 Agnostic            27    34       60     81      76      137    122     \n",
              "2 Atheist             12    27       37     52      35       70     73     \n",
              "3 Buddhist            27    21       30     34      33       58     62     \n",
              "4 Catholic           418   617      732    670     638     1116    949     \n",
              "5 Don’t know/refused  15    14       15     11      10       35     21     \n",
              "6 Evangelical Prot   575   869     1064    982     881     1486    949     \n",
              "  $100-150k >150k Don't know/refused\n",
              "1 109        84     96              \n",
              "2  59        74     76              \n",
              "3  39        53     54              \n",
              "4 792       633   1489              \n",
              "5  17        18    116              \n",
              "6 723       414   1529              "
            ],
            "text/latex": "A tibble: 6 × 11\n\\begin{tabular}{lllllllllll}\n religion & <\\$10k & \\$10-20k & \\$20-30k & \\$30-40k & \\$40-50k & \\$50-75k & \\$75-100k & \\$100-150k & >150k & Don't know/refused\\\\\n <chr> & <dbl> & <dbl> & <dbl> & <dbl> & <dbl> & <dbl> & <dbl> & <dbl> & <dbl> & <dbl>\\\\\n\\hline\n\t Agnostic           &  27 &  34 &   60 &  81 &  76 &  137 & 122 & 109 &  84 &   96\\\\\n\t Atheist            &  12 &  27 &   37 &  52 &  35 &   70 &  73 &  59 &  74 &   76\\\\\n\t Buddhist           &  27 &  21 &   30 &  34 &  33 &   58 &  62 &  39 &  53 &   54\\\\\n\t Catholic           & 418 & 617 &  732 & 670 & 638 & 1116 & 949 & 792 & 633 & 1489\\\\\n\t Don’t know/refused &  15 &  14 &   15 &  11 &  10 &   35 &  21 &  17 &  18 &  116\\\\\n\t Evangelical Prot   & 575 & 869 & 1064 & 982 & 881 & 1486 & 949 & 723 & 414 & 1529\\\\\n\\end{tabular}\n",
            "text/markdown": "\nA tibble: 6 × 11\n\n| religion &lt;chr&gt; | &lt;$10k &lt;dbl&gt; | $10-20k &lt;dbl&gt; | $20-30k &lt;dbl&gt; | $30-40k &lt;dbl&gt; | $40-50k &lt;dbl&gt; | $50-75k &lt;dbl&gt; | $75-100k &lt;dbl&gt; | $100-150k &lt;dbl&gt; | &gt;150k &lt;dbl&gt; | Don't know/refused &lt;dbl&gt; |\n|---|---|---|---|---|---|---|---|---|---|---|\n| Agnostic           |  27 |  34 |   60 |  81 |  76 |  137 | 122 | 109 |  84 |   96 |\n| Atheist            |  12 |  27 |   37 |  52 |  35 |   70 |  73 |  59 |  74 |   76 |\n| Buddhist           |  27 |  21 |   30 |  34 |  33 |   58 |  62 |  39 |  53 |   54 |\n| Catholic           | 418 | 617 |  732 | 670 | 638 | 1116 | 949 | 792 | 633 | 1489 |\n| Don’t know/refused |  15 |  14 |   15 |  11 |  10 |   35 |  21 |  17 |  18 |  116 |\n| Evangelical Prot   | 575 | 869 | 1064 | 982 | 881 | 1486 | 949 | 723 | 414 | 1529 |\n\n",
            "text/html": [
              "<table>\n",
              "<caption>A tibble: 6 × 11</caption>\n",
              "<thead>\n",
              "\t<tr><th scope=col>religion</th><th scope=col>&lt;$10k</th><th scope=col>$10-20k</th><th scope=col>$20-30k</th><th scope=col>$30-40k</th><th scope=col>$40-50k</th><th scope=col>$50-75k</th><th scope=col>$75-100k</th><th scope=col>$100-150k</th><th scope=col>&gt;150k</th><th scope=col>Don't know/refused</th></tr>\n",
              "\t<tr><th scope=col>&lt;chr&gt;</th><th scope=col>&lt;dbl&gt;</th><th scope=col>&lt;dbl&gt;</th><th scope=col>&lt;dbl&gt;</th><th scope=col>&lt;dbl&gt;</th><th scope=col>&lt;dbl&gt;</th><th scope=col>&lt;dbl&gt;</th><th scope=col>&lt;dbl&gt;</th><th scope=col>&lt;dbl&gt;</th><th scope=col>&lt;dbl&gt;</th><th scope=col>&lt;dbl&gt;</th></tr>\n",
              "</thead>\n",
              "<tbody>\n",
              "\t<tr><td>Agnostic          </td><td> 27</td><td> 34</td><td>  60</td><td> 81</td><td> 76</td><td> 137</td><td>122</td><td>109</td><td> 84</td><td>  96</td></tr>\n",
              "\t<tr><td>Atheist           </td><td> 12</td><td> 27</td><td>  37</td><td> 52</td><td> 35</td><td>  70</td><td> 73</td><td> 59</td><td> 74</td><td>  76</td></tr>\n",
              "\t<tr><td>Buddhist          </td><td> 27</td><td> 21</td><td>  30</td><td> 34</td><td> 33</td><td>  58</td><td> 62</td><td> 39</td><td> 53</td><td>  54</td></tr>\n",
              "\t<tr><td>Catholic          </td><td>418</td><td>617</td><td> 732</td><td>670</td><td>638</td><td>1116</td><td>949</td><td>792</td><td>633</td><td>1489</td></tr>\n",
              "\t<tr><td>Don’t know/refused</td><td> 15</td><td> 14</td><td>  15</td><td> 11</td><td> 10</td><td>  35</td><td> 21</td><td> 17</td><td> 18</td><td> 116</td></tr>\n",
              "\t<tr><td>Evangelical Prot  </td><td>575</td><td>869</td><td>1064</td><td>982</td><td>881</td><td>1486</td><td>949</td><td>723</td><td>414</td><td>1529</td></tr>\n",
              "</tbody>\n",
              "</table>\n"
            ]
          },
          "metadata": {
            "tags": []
          }
        }
      ]
    },
    {
      "cell_type": "code",
      "metadata": {
        "id": "fBBryt6ytSH9",
        "colab_type": "code",
        "outputId": "de1de763-5ea2-4440-cabf-7c7fd721aef0",
        "colab": {
          "base_uri": "https://localhost:8080/",
          "height": 1000
        }
      },
      "source": [
        "relig_income %>% \n",
        "  pivot_longer(-religion, names_to = \"income\", values_to = \"count\")"
      ],
      "execution_count": 0,
      "outputs": [
        {
          "output_type": "display_data",
          "data": {
            "text/plain": [
              "    religion              income             count\n",
              "1   Agnostic              <$10k               27  \n",
              "2   Agnostic              $10-20k             34  \n",
              "3   Agnostic              $20-30k             60  \n",
              "4   Agnostic              $30-40k             81  \n",
              "5   Agnostic              $40-50k             76  \n",
              "6   Agnostic              $50-75k            137  \n",
              "7   Agnostic              $75-100k           122  \n",
              "8   Agnostic              $100-150k          109  \n",
              "9   Agnostic              >150k               84  \n",
              "10  Agnostic              Don't know/refused  96  \n",
              "11  Atheist               <$10k               12  \n",
              "12  Atheist               $10-20k             27  \n",
              "13  Atheist               $20-30k             37  \n",
              "14  Atheist               $30-40k             52  \n",
              "15  Atheist               $40-50k             35  \n",
              "16  Atheist               $50-75k             70  \n",
              "17  Atheist               $75-100k            73  \n",
              "18  Atheist               $100-150k           59  \n",
              "19  Atheist               >150k               74  \n",
              "20  Atheist               Don't know/refused  76  \n",
              "21  Buddhist              <$10k               27  \n",
              "22  Buddhist              $10-20k             21  \n",
              "23  Buddhist              $20-30k             30  \n",
              "24  Buddhist              $30-40k             34  \n",
              "25  Buddhist              $40-50k             33  \n",
              "26  Buddhist              $50-75k             58  \n",
              "27  Buddhist              $75-100k            62  \n",
              "28  Buddhist              $100-150k           39  \n",
              "29  Buddhist              >150k               53  \n",
              "30  Buddhist              Don't know/refused  54  \n",
              "⋮   ⋮                     ⋮                  ⋮    \n",
              "151 Other Faiths          <$10k               20  \n",
              "152 Other Faiths          $10-20k             33  \n",
              "153 Other Faiths          $20-30k             40  \n",
              "154 Other Faiths          $30-40k             46  \n",
              "155 Other Faiths          $40-50k             49  \n",
              "156 Other Faiths          $50-75k             63  \n",
              "157 Other Faiths          $75-100k            46  \n",
              "158 Other Faiths          $100-150k           40  \n",
              "159 Other Faiths          >150k               41  \n",
              "160 Other Faiths          Don't know/refused  71  \n",
              "161 Other World Religions <$10k                5  \n",
              "162 Other World Religions $10-20k              2  \n",
              "163 Other World Religions $20-30k              3  \n",
              "164 Other World Religions $30-40k              4  \n",
              "165 Other World Religions $40-50k              2  \n",
              "166 Other World Religions $50-75k              7  \n",
              "167 Other World Religions $75-100k             3  \n",
              "168 Other World Religions $100-150k            4  \n",
              "169 Other World Religions >150k                4  \n",
              "170 Other World Religions Don't know/refused   8  \n",
              "171 Unaffiliated          <$10k              217  \n",
              "172 Unaffiliated          $10-20k            299  \n",
              "173 Unaffiliated          $20-30k            374  \n",
              "174 Unaffiliated          $30-40k            365  \n",
              "175 Unaffiliated          $40-50k            341  \n",
              "176 Unaffiliated          $50-75k            528  \n",
              "177 Unaffiliated          $75-100k           407  \n",
              "178 Unaffiliated          $100-150k          321  \n",
              "179 Unaffiliated          >150k              258  \n",
              "180 Unaffiliated          Don't know/refused 597  "
            ],
            "text/latex": "A tibble: 180 × 3\n\\begin{tabular}{lll}\n religion & income & count\\\\\n <chr> & <chr> & <dbl>\\\\\n\\hline\n\t Agnostic & <\\$10k              &  27\\\\\n\t Agnostic & \\$10-20k            &  34\\\\\n\t Agnostic & \\$20-30k            &  60\\\\\n\t Agnostic & \\$30-40k            &  81\\\\\n\t Agnostic & \\$40-50k            &  76\\\\\n\t Agnostic & \\$50-75k            & 137\\\\\n\t Agnostic & \\$75-100k           & 122\\\\\n\t Agnostic & \\$100-150k          & 109\\\\\n\t Agnostic & >150k              &  84\\\\\n\t Agnostic & Don't know/refused &  96\\\\\n\t Atheist  & <\\$10k              &  12\\\\\n\t Atheist  & \\$10-20k            &  27\\\\\n\t Atheist  & \\$20-30k            &  37\\\\\n\t Atheist  & \\$30-40k            &  52\\\\\n\t Atheist  & \\$40-50k            &  35\\\\\n\t Atheist  & \\$50-75k            &  70\\\\\n\t Atheist  & \\$75-100k           &  73\\\\\n\t Atheist  & \\$100-150k          &  59\\\\\n\t Atheist  & >150k              &  74\\\\\n\t Atheist  & Don't know/refused &  76\\\\\n\t Buddhist & <\\$10k              &  27\\\\\n\t Buddhist & \\$10-20k            &  21\\\\\n\t Buddhist & \\$20-30k            &  30\\\\\n\t Buddhist & \\$30-40k            &  34\\\\\n\t Buddhist & \\$40-50k            &  33\\\\\n\t Buddhist & \\$50-75k            &  58\\\\\n\t Buddhist & \\$75-100k           &  62\\\\\n\t Buddhist & \\$100-150k          &  39\\\\\n\t Buddhist & >150k              &  53\\\\\n\t Buddhist & Don't know/refused &  54\\\\\n\t ⋮ & ⋮ & ⋮\\\\\n\t Other Faiths          & <\\$10k              &  20\\\\\n\t Other Faiths          & \\$10-20k            &  33\\\\\n\t Other Faiths          & \\$20-30k            &  40\\\\\n\t Other Faiths          & \\$30-40k            &  46\\\\\n\t Other Faiths          & \\$40-50k            &  49\\\\\n\t Other Faiths          & \\$50-75k            &  63\\\\\n\t Other Faiths          & \\$75-100k           &  46\\\\\n\t Other Faiths          & \\$100-150k          &  40\\\\\n\t Other Faiths          & >150k              &  41\\\\\n\t Other Faiths          & Don't know/refused &  71\\\\\n\t Other World Religions & <\\$10k              &   5\\\\\n\t Other World Religions & \\$10-20k            &   2\\\\\n\t Other World Religions & \\$20-30k            &   3\\\\\n\t Other World Religions & \\$30-40k            &   4\\\\\n\t Other World Religions & \\$40-50k            &   2\\\\\n\t Other World Religions & \\$50-75k            &   7\\\\\n\t Other World Religions & \\$75-100k           &   3\\\\\n\t Other World Religions & \\$100-150k          &   4\\\\\n\t Other World Religions & >150k              &   4\\\\\n\t Other World Religions & Don't know/refused &   8\\\\\n\t Unaffiliated          & <\\$10k              & 217\\\\\n\t Unaffiliated          & \\$10-20k            & 299\\\\\n\t Unaffiliated          & \\$20-30k            & 374\\\\\n\t Unaffiliated          & \\$30-40k            & 365\\\\\n\t Unaffiliated          & \\$40-50k            & 341\\\\\n\t Unaffiliated          & \\$50-75k            & 528\\\\\n\t Unaffiliated          & \\$75-100k           & 407\\\\\n\t Unaffiliated          & \\$100-150k          & 321\\\\\n\t Unaffiliated          & >150k              & 258\\\\\n\t Unaffiliated          & Don't know/refused & 597\\\\\n\\end{tabular}\n",
            "text/markdown": "\nA tibble: 180 × 3\n\n| religion &lt;chr&gt; | income &lt;chr&gt; | count &lt;dbl&gt; |\n|---|---|---|\n| Agnostic | &lt;$10k              |  27 |\n| Agnostic | $10-20k            |  34 |\n| Agnostic | $20-30k            |  60 |\n| Agnostic | $30-40k            |  81 |\n| Agnostic | $40-50k            |  76 |\n| Agnostic | $50-75k            | 137 |\n| Agnostic | $75-100k           | 122 |\n| Agnostic | $100-150k          | 109 |\n| Agnostic | &gt;150k              |  84 |\n| Agnostic | Don't know/refused |  96 |\n| Atheist  | &lt;$10k              |  12 |\n| Atheist  | $10-20k            |  27 |\n| Atheist  | $20-30k            |  37 |\n| Atheist  | $30-40k            |  52 |\n| Atheist  | $40-50k            |  35 |\n| Atheist  | $50-75k            |  70 |\n| Atheist  | $75-100k           |  73 |\n| Atheist  | $100-150k          |  59 |\n| Atheist  | &gt;150k              |  74 |\n| Atheist  | Don't know/refused |  76 |\n| Buddhist | &lt;$10k              |  27 |\n| Buddhist | $10-20k            |  21 |\n| Buddhist | $20-30k            |  30 |\n| Buddhist | $30-40k            |  34 |\n| Buddhist | $40-50k            |  33 |\n| Buddhist | $50-75k            |  58 |\n| Buddhist | $75-100k           |  62 |\n| Buddhist | $100-150k          |  39 |\n| Buddhist | &gt;150k              |  53 |\n| Buddhist | Don't know/refused |  54 |\n| ⋮ | ⋮ | ⋮ |\n| Other Faiths          | &lt;$10k              |  20 |\n| Other Faiths          | $10-20k            |  33 |\n| Other Faiths          | $20-30k            |  40 |\n| Other Faiths          | $30-40k            |  46 |\n| Other Faiths          | $40-50k            |  49 |\n| Other Faiths          | $50-75k            |  63 |\n| Other Faiths          | $75-100k           |  46 |\n| Other Faiths          | $100-150k          |  40 |\n| Other Faiths          | &gt;150k              |  41 |\n| Other Faiths          | Don't know/refused |  71 |\n| Other World Religions | &lt;$10k              |   5 |\n| Other World Religions | $10-20k            |   2 |\n| Other World Religions | $20-30k            |   3 |\n| Other World Religions | $30-40k            |   4 |\n| Other World Religions | $40-50k            |   2 |\n| Other World Religions | $50-75k            |   7 |\n| Other World Religions | $75-100k           |   3 |\n| Other World Religions | $100-150k          |   4 |\n| Other World Religions | &gt;150k              |   4 |\n| Other World Religions | Don't know/refused |   8 |\n| Unaffiliated          | &lt;$10k              | 217 |\n| Unaffiliated          | $10-20k            | 299 |\n| Unaffiliated          | $20-30k            | 374 |\n| Unaffiliated          | $30-40k            | 365 |\n| Unaffiliated          | $40-50k            | 341 |\n| Unaffiliated          | $50-75k            | 528 |\n| Unaffiliated          | $75-100k           | 407 |\n| Unaffiliated          | $100-150k          | 321 |\n| Unaffiliated          | &gt;150k              | 258 |\n| Unaffiliated          | Don't know/refused | 597 |\n\n",
            "text/html": [
              "<table>\n",
              "<caption>A tibble: 180 × 3</caption>\n",
              "<thead>\n",
              "\t<tr><th scope=col>religion</th><th scope=col>income</th><th scope=col>count</th></tr>\n",
              "\t<tr><th scope=col>&lt;chr&gt;</th><th scope=col>&lt;chr&gt;</th><th scope=col>&lt;dbl&gt;</th></tr>\n",
              "</thead>\n",
              "<tbody>\n",
              "\t<tr><td>Agnostic</td><td><span style=white-space:pre-wrap>&lt;$10k             </span></td><td> 27</td></tr>\n",
              "\t<tr><td>Agnostic</td><td>$10-20k           </td><td> 34</td></tr>\n",
              "\t<tr><td>Agnostic</td><td>$20-30k           </td><td> 60</td></tr>\n",
              "\t<tr><td>Agnostic</td><td>$30-40k           </td><td> 81</td></tr>\n",
              "\t<tr><td>Agnostic</td><td>$40-50k           </td><td> 76</td></tr>\n",
              "\t<tr><td>Agnostic</td><td>$50-75k           </td><td>137</td></tr>\n",
              "\t<tr><td>Agnostic</td><td>$75-100k          </td><td>122</td></tr>\n",
              "\t<tr><td>Agnostic</td><td>$100-150k         </td><td>109</td></tr>\n",
              "\t<tr><td>Agnostic</td><td><span style=white-space:pre-wrap>&gt;150k             </span></td><td> 84</td></tr>\n",
              "\t<tr><td>Agnostic</td><td>Don't know/refused</td><td> 96</td></tr>\n",
              "\t<tr><td>Atheist </td><td><span style=white-space:pre-wrap>&lt;$10k             </span></td><td> 12</td></tr>\n",
              "\t<tr><td>Atheist </td><td>$10-20k           </td><td> 27</td></tr>\n",
              "\t<tr><td>Atheist </td><td>$20-30k           </td><td> 37</td></tr>\n",
              "\t<tr><td>Atheist </td><td>$30-40k           </td><td> 52</td></tr>\n",
              "\t<tr><td>Atheist </td><td>$40-50k           </td><td> 35</td></tr>\n",
              "\t<tr><td>Atheist </td><td>$50-75k           </td><td> 70</td></tr>\n",
              "\t<tr><td>Atheist </td><td>$75-100k          </td><td> 73</td></tr>\n",
              "\t<tr><td>Atheist </td><td>$100-150k         </td><td> 59</td></tr>\n",
              "\t<tr><td>Atheist </td><td><span style=white-space:pre-wrap>&gt;150k             </span></td><td> 74</td></tr>\n",
              "\t<tr><td>Atheist </td><td>Don't know/refused</td><td> 76</td></tr>\n",
              "\t<tr><td>Buddhist</td><td><span style=white-space:pre-wrap>&lt;$10k             </span></td><td> 27</td></tr>\n",
              "\t<tr><td>Buddhist</td><td>$10-20k           </td><td> 21</td></tr>\n",
              "\t<tr><td>Buddhist</td><td>$20-30k           </td><td> 30</td></tr>\n",
              "\t<tr><td>Buddhist</td><td>$30-40k           </td><td> 34</td></tr>\n",
              "\t<tr><td>Buddhist</td><td>$40-50k           </td><td> 33</td></tr>\n",
              "\t<tr><td>Buddhist</td><td>$50-75k           </td><td> 58</td></tr>\n",
              "\t<tr><td>Buddhist</td><td>$75-100k          </td><td> 62</td></tr>\n",
              "\t<tr><td>Buddhist</td><td>$100-150k         </td><td> 39</td></tr>\n",
              "\t<tr><td>Buddhist</td><td><span style=white-space:pre-wrap>&gt;150k             </span></td><td> 53</td></tr>\n",
              "\t<tr><td>Buddhist</td><td>Don't know/refused</td><td> 54</td></tr>\n",
              "\t<tr><td>⋮</td><td>⋮</td><td>⋮</td></tr>\n",
              "\t<tr><td><span style=white-space:pre-wrap>Other Faiths         </span></td><td><span style=white-space:pre-wrap>&lt;$10k             </span></td><td> 20</td></tr>\n",
              "\t<tr><td>Other Faiths         </td><td>$10-20k           </td><td> 33</td></tr>\n",
              "\t<tr><td>Other Faiths         </td><td>$20-30k           </td><td> 40</td></tr>\n",
              "\t<tr><td>Other Faiths         </td><td>$30-40k           </td><td> 46</td></tr>\n",
              "\t<tr><td>Other Faiths         </td><td>$40-50k           </td><td> 49</td></tr>\n",
              "\t<tr><td>Other Faiths         </td><td>$50-75k           </td><td> 63</td></tr>\n",
              "\t<tr><td>Other Faiths         </td><td>$75-100k          </td><td> 46</td></tr>\n",
              "\t<tr><td>Other Faiths         </td><td>$100-150k         </td><td> 40</td></tr>\n",
              "\t<tr><td><span style=white-space:pre-wrap>Other Faiths         </span></td><td><span style=white-space:pre-wrap>&gt;150k             </span></td><td> 41</td></tr>\n",
              "\t<tr><td>Other Faiths         </td><td>Don't know/refused</td><td> 71</td></tr>\n",
              "\t<tr><td>Other World Religions</td><td><span style=white-space:pre-wrap>&lt;$10k             </span></td><td><span style=white-space:pre-wrap>  5</span></td></tr>\n",
              "\t<tr><td>Other World Religions</td><td>$10-20k           </td><td>  2</td></tr>\n",
              "\t<tr><td>Other World Religions</td><td>$20-30k           </td><td>  3</td></tr>\n",
              "\t<tr><td>Other World Religions</td><td>$30-40k           </td><td>  4</td></tr>\n",
              "\t<tr><td>Other World Religions</td><td>$40-50k           </td><td>  2</td></tr>\n",
              "\t<tr><td>Other World Religions</td><td>$50-75k           </td><td>  7</td></tr>\n",
              "\t<tr><td>Other World Religions</td><td>$75-100k          </td><td>  3</td></tr>\n",
              "\t<tr><td>Other World Religions</td><td>$100-150k         </td><td>  4</td></tr>\n",
              "\t<tr><td>Other World Religions</td><td><span style=white-space:pre-wrap>&gt;150k             </span></td><td><span style=white-space:pre-wrap>  4</span></td></tr>\n",
              "\t<tr><td>Other World Religions</td><td>Don't know/refused</td><td>  8</td></tr>\n",
              "\t<tr><td><span style=white-space:pre-wrap>Unaffiliated         </span></td><td><span style=white-space:pre-wrap>&lt;$10k             </span></td><td>217</td></tr>\n",
              "\t<tr><td>Unaffiliated         </td><td>$10-20k           </td><td>299</td></tr>\n",
              "\t<tr><td>Unaffiliated         </td><td>$20-30k           </td><td>374</td></tr>\n",
              "\t<tr><td>Unaffiliated         </td><td>$30-40k           </td><td>365</td></tr>\n",
              "\t<tr><td>Unaffiliated         </td><td>$40-50k           </td><td>341</td></tr>\n",
              "\t<tr><td>Unaffiliated         </td><td>$50-75k           </td><td>528</td></tr>\n",
              "\t<tr><td>Unaffiliated         </td><td>$75-100k          </td><td>407</td></tr>\n",
              "\t<tr><td>Unaffiliated         </td><td>$100-150k         </td><td>321</td></tr>\n",
              "\t<tr><td><span style=white-space:pre-wrap>Unaffiliated         </span></td><td><span style=white-space:pre-wrap>&gt;150k             </span></td><td>258</td></tr>\n",
              "\t<tr><td>Unaffiliated         </td><td>Don't know/refused</td><td>597</td></tr>\n",
              "</tbody>\n",
              "</table>\n"
            ]
          },
          "metadata": {
            "tags": []
          }
        }
      ]
    },
    {
      "cell_type": "markdown",
      "metadata": {
        "id": "8o2kfM1IuQOj",
        "colab_type": "text"
      },
      "source": [
        "you may also use \n",
        "\n",
        "```\n",
        "cols = c(), cols = start_with(), cols = \"<$10k\":\"Don't know/refused\", ...\n",
        "```\n",
        "\n"
      ]
    },
    {
      "cell_type": "markdown",
      "metadata": {
        "id": "ICDm3U_Y2rMK",
        "colab_type": "text"
      },
      "source": [
        "You may also encounter problems involve multiple observations per row:"
      ]
    },
    {
      "cell_type": "code",
      "metadata": {
        "id": "ctB2MfQLU0ln",
        "colab_type": "code",
        "outputId": "c33a0ef8-d376-4935-fb7f-9a840cd4e75e",
        "colab": {
          "base_uri": "https://localhost:8080/",
          "height": 183
        }
      },
      "source": [
        "family <- tribble(\n",
        "  ~family,  ~dob_child1,  ~dob_child2, ~gender_child1, ~gender_child2,\n",
        "       1L, \"1998-11-26\", \"2000-01-29\",             1L,             2L,\n",
        "       2L, \"1996-06-22\",           NA,             2L,             NA,\n",
        "       3L, \"2002-07-11\", \"2004-04-05\",             2L,             2L,\n",
        "       4L, \"2004-10-10\", \"2009-08-27\",             1L,             1L,\n",
        "       5L, \"2000-12-05\", \"2005-02-28\",             2L,             1L,\n",
        ")\n",
        "family <- family %>% mutate_at(vars(starts_with(\"dob\")), parse_date)\n",
        "family\n"
      ],
      "execution_count": 0,
      "outputs": [
        {
          "output_type": "display_data",
          "data": {
            "text/plain": [
              "  family dob_child1 dob_child2 gender_child1 gender_child2\n",
              "1 1      1998-11-26 2000-01-29 1              2           \n",
              "2 2      1996-06-22 <NA>       2             NA           \n",
              "3 3      2002-07-11 2004-04-05 2              2           \n",
              "4 4      2004-10-10 2009-08-27 1              1           \n",
              "5 5      2000-12-05 2005-02-28 2              1           "
            ],
            "text/latex": "A tibble: 5 × 5\n\\begin{tabular}{lllll}\n family & dob\\_child1 & dob\\_child2 & gender\\_child1 & gender\\_child2\\\\\n <int> & <date> & <date> & <int> & <int>\\\\\n\\hline\n\t 1 & 1998-11-26 & 2000-01-29 & 1 &  2\\\\\n\t 2 & 1996-06-22 & NA & 2 & NA\\\\\n\t 3 & 2002-07-11 & 2004-04-05 & 2 &  2\\\\\n\t 4 & 2004-10-10 & 2009-08-27 & 1 &  1\\\\\n\t 5 & 2000-12-05 & 2005-02-28 & 2 &  1\\\\\n\\end{tabular}\n",
            "text/markdown": "\nA tibble: 5 × 5\n\n| family &lt;int&gt; | dob_child1 &lt;date&gt; | dob_child2 &lt;date&gt; | gender_child1 &lt;int&gt; | gender_child2 &lt;int&gt; |\n|---|---|---|---|---|\n| 1 | 1998-11-26 | 2000-01-29 | 1 |  2 |\n| 2 | 1996-06-22 | NA | 2 | NA |\n| 3 | 2002-07-11 | 2004-04-05 | 2 |  2 |\n| 4 | 2004-10-10 | 2009-08-27 | 1 |  1 |\n| 5 | 2000-12-05 | 2005-02-28 | 2 |  1 |\n\n",
            "text/html": [
              "<table>\n",
              "<caption>A tibble: 5 × 5</caption>\n",
              "<thead>\n",
              "\t<tr><th scope=col>family</th><th scope=col>dob_child1</th><th scope=col>dob_child2</th><th scope=col>gender_child1</th><th scope=col>gender_child2</th></tr>\n",
              "\t<tr><th scope=col>&lt;int&gt;</th><th scope=col>&lt;date&gt;</th><th scope=col>&lt;date&gt;</th><th scope=col>&lt;int&gt;</th><th scope=col>&lt;int&gt;</th></tr>\n",
              "</thead>\n",
              "<tbody>\n",
              "\t<tr><td>1</td><td>1998-11-26</td><td>2000-01-29</td><td>1</td><td> 2</td></tr>\n",
              "\t<tr><td>2</td><td>1996-06-22</td><td>NA</td><td>2</td><td>NA</td></tr>\n",
              "\t<tr><td>3</td><td>2002-07-11</td><td>2004-04-05</td><td>2</td><td> 2</td></tr>\n",
              "\t<tr><td>4</td><td>2004-10-10</td><td>2009-08-27</td><td>1</td><td> 1</td></tr>\n",
              "\t<tr><td>5</td><td>2000-12-05</td><td>2005-02-28</td><td>2</td><td> 1</td></tr>\n",
              "</tbody>\n",
              "</table>\n"
            ]
          },
          "metadata": {
            "tags": []
          }
        }
      ]
    },
    {
      "cell_type": "code",
      "metadata": {
        "id": "cjanQMiNU2Y7",
        "colab_type": "code",
        "outputId": "61b1e6da-2280-485d-bc80-087a24c34ea0",
        "colab": {
          "base_uri": "https://localhost:8080/",
          "height": 267
        }
      },
      "source": [
        "family %>% \n",
        "  pivot_longer(\n",
        "    -family, \n",
        "    names_to = c(\".value\", \"child\"), \n",
        "    names_sep = \"_\", \n",
        "    values_drop_na = TRUE\n",
        "  )"
      ],
      "execution_count": 0,
      "outputs": [
        {
          "output_type": "display_data",
          "data": {
            "text/plain": [
              "  family child  dob        gender\n",
              "1 1      child1 1998-11-26 1     \n",
              "2 1      child2 2000-01-29 2     \n",
              "3 2      child1 1996-06-22 2     \n",
              "4 3      child1 2002-07-11 2     \n",
              "5 3      child2 2004-04-05 2     \n",
              "6 4      child1 2004-10-10 1     \n",
              "7 4      child2 2009-08-27 1     \n",
              "8 5      child1 2000-12-05 2     \n",
              "9 5      child2 2005-02-28 1     "
            ],
            "text/latex": "A tibble: 9 × 4\n\\begin{tabular}{llll}\n family & child & dob & gender\\\\\n <int> & <chr> & <date> & <int>\\\\\n\\hline\n\t 1 & child1 & 1998-11-26 & 1\\\\\n\t 1 & child2 & 2000-01-29 & 2\\\\\n\t 2 & child1 & 1996-06-22 & 2\\\\\n\t 3 & child1 & 2002-07-11 & 2\\\\\n\t 3 & child2 & 2004-04-05 & 2\\\\\n\t 4 & child1 & 2004-10-10 & 1\\\\\n\t 4 & child2 & 2009-08-27 & 1\\\\\n\t 5 & child1 & 2000-12-05 & 2\\\\\n\t 5 & child2 & 2005-02-28 & 1\\\\\n\\end{tabular}\n",
            "text/markdown": "\nA tibble: 9 × 4\n\n| family &lt;int&gt; | child &lt;chr&gt; | dob &lt;date&gt; | gender &lt;int&gt; |\n|---|---|---|---|\n| 1 | child1 | 1998-11-26 | 1 |\n| 1 | child2 | 2000-01-29 | 2 |\n| 2 | child1 | 1996-06-22 | 2 |\n| 3 | child1 | 2002-07-11 | 2 |\n| 3 | child2 | 2004-04-05 | 2 |\n| 4 | child1 | 2004-10-10 | 1 |\n| 4 | child2 | 2009-08-27 | 1 |\n| 5 | child1 | 2000-12-05 | 2 |\n| 5 | child2 | 2005-02-28 | 1 |\n\n",
            "text/html": [
              "<table>\n",
              "<caption>A tibble: 9 × 4</caption>\n",
              "<thead>\n",
              "\t<tr><th scope=col>family</th><th scope=col>child</th><th scope=col>dob</th><th scope=col>gender</th></tr>\n",
              "\t<tr><th scope=col>&lt;int&gt;</th><th scope=col>&lt;chr&gt;</th><th scope=col>&lt;date&gt;</th><th scope=col>&lt;int&gt;</th></tr>\n",
              "</thead>\n",
              "<tbody>\n",
              "\t<tr><td>1</td><td>child1</td><td>1998-11-26</td><td>1</td></tr>\n",
              "\t<tr><td>1</td><td>child2</td><td>2000-01-29</td><td>2</td></tr>\n",
              "\t<tr><td>2</td><td>child1</td><td>1996-06-22</td><td>2</td></tr>\n",
              "\t<tr><td>3</td><td>child1</td><td>2002-07-11</td><td>2</td></tr>\n",
              "\t<tr><td>3</td><td>child2</td><td>2004-04-05</td><td>2</td></tr>\n",
              "\t<tr><td>4</td><td>child1</td><td>2004-10-10</td><td>1</td></tr>\n",
              "\t<tr><td>4</td><td>child2</td><td>2009-08-27</td><td>1</td></tr>\n",
              "\t<tr><td>5</td><td>child1</td><td>2000-12-05</td><td>2</td></tr>\n",
              "\t<tr><td>5</td><td>child2</td><td>2005-02-28</td><td>1</td></tr>\n",
              "</tbody>\n",
              "</table>\n"
            ]
          },
          "metadata": {
            "tags": []
          }
        }
      ]
    },
    {
      "cell_type": "markdown",
      "metadata": {
        "id": "_UBaI8x5Kp0q",
        "colab_type": "text"
      },
      "source": [
        "## **separate() and unite()**\n",
        "\n",
        "`pivot_longer()` and `pivot_wider()` help you reshape the layout of your data to place variables in columns and observations in rows. `separate()` and `unite()` help you split and combine cells to place a single, complete value in each cell."
      ]
    },
    {
      "cell_type": "markdown",
      "metadata": {
        "id": "IBxUYkKoLBr8",
        "colab_type": "text"
      },
      "source": [
        "### **separate()**\n",
        "\n",
        "`separate()` turns a single character column into multiple columns by splitting the values of the column wherever a separator character appears."
      ]
    },
    {
      "cell_type": "code",
      "metadata": {
        "id": "uAeJLYfEOVk6",
        "colab_type": "code",
        "outputId": "02469136-11a1-4e6d-a0ef-fc452e6a7489",
        "colab": {
          "base_uri": "https://localhost:8080/",
          "height": 196
        }
      },
      "source": [
        "df <- data.frame(x = c(NA, \"a.b\", \"a.d\", \"b.c\"))\n",
        "df"
      ],
      "execution_count": 0,
      "outputs": [
        {
          "output_type": "display_data",
          "data": {
            "text/plain": [
              "  x  \n",
              "1 NA \n",
              "2 a.b\n",
              "3 a.d\n",
              "4 b.c"
            ],
            "text/latex": "A data.frame: 4 × 1\n\\begin{tabular}{l}\n x\\\\\n <fct>\\\\\n\\hline\n\t NA \\\\\n\t a.b\\\\\n\t a.d\\\\\n\t b.c\\\\\n\\end{tabular}\n",
            "text/markdown": "\nA data.frame: 4 × 1\n\n| x &lt;fct&gt; |\n|---|\n| NA  |\n| a.b |\n| a.d |\n| b.c |\n\n",
            "text/html": [
              "<table>\n",
              "<caption>A data.frame: 4 × 1</caption>\n",
              "<thead>\n",
              "\t<tr><th scope=col>x</th></tr>\n",
              "\t<tr><th scope=col>&lt;fct&gt;</th></tr>\n",
              "</thead>\n",
              "<tbody>\n",
              "\t<tr><td>NA </td></tr>\n",
              "\t<tr><td>a.b</td></tr>\n",
              "\t<tr><td>a.d</td></tr>\n",
              "\t<tr><td>b.c</td></tr>\n",
              "</tbody>\n",
              "</table>\n"
            ]
          },
          "metadata": {
            "tags": []
          }
        }
      ]
    },
    {
      "cell_type": "code",
      "metadata": {
        "id": "YxhHpBwCOWmE",
        "colab_type": "code",
        "outputId": "c807eb0a-0f24-4a1a-9179-016104e71cf3",
        "colab": {
          "base_uri": "https://localhost:8080/",
          "height": 179
        }
      },
      "source": [
        "df %>% separate(x, c(\"A\", \"B\"))"
      ],
      "execution_count": 0,
      "outputs": [
        {
          "output_type": "display_data",
          "data": {
            "text/plain": [
              "  A  B \n",
              "1 NA NA\n",
              "2 a  b \n",
              "3 a  d \n",
              "4 b  c "
            ],
            "text/latex": "A data.frame: 4 × 2\n\\begin{tabular}{ll}\n A & B\\\\\n <chr> & <chr>\\\\\n\\hline\n\t NA & NA\\\\\n\t a  & b \\\\\n\t a  & d \\\\\n\t b  & c \\\\\n\\end{tabular}\n",
            "text/markdown": "\nA data.frame: 4 × 2\n\n| A &lt;chr&gt; | B &lt;chr&gt; |\n|---|---|\n| NA | NA |\n| a  | b  |\n| a  | d  |\n| b  | c  |\n\n",
            "text/html": [
              "<table>\n",
              "<caption>A data.frame: 4 × 2</caption>\n",
              "<thead>\n",
              "\t<tr><th scope=col>A</th><th scope=col>B</th></tr>\n",
              "\t<tr><th scope=col>&lt;chr&gt;</th><th scope=col>&lt;chr&gt;</th></tr>\n",
              "</thead>\n",
              "<tbody>\n",
              "\t<tr><td>NA</td><td>NA</td></tr>\n",
              "\t<tr><td>a </td><td>b </td></tr>\n",
              "\t<tr><td>a </td><td>d </td></tr>\n",
              "\t<tr><td>b </td><td>c </td></tr>\n",
              "</tbody>\n",
              "</table>\n"
            ]
          },
          "metadata": {
            "tags": []
          }
        }
      ]
    },
    {
      "cell_type": "code",
      "metadata": {
        "id": "XK1yFAaqOaOB",
        "colab_type": "code",
        "outputId": "dbdb73d1-692f-49c6-f53c-6bd42b1a5956",
        "colab": {
          "base_uri": "https://localhost:8080/",
          "height": 196
        }
      },
      "source": [
        "# If you just want the second variable:\n",
        "df %>% separate(x, c(NA, \"B\"))"
      ],
      "execution_count": 0,
      "outputs": [
        {
          "output_type": "display_data",
          "data": {
            "text/plain": [
              "  B \n",
              "1 NA\n",
              "2 b \n",
              "3 d \n",
              "4 c "
            ],
            "text/latex": "A data.frame: 4 × 1\n\\begin{tabular}{l}\n B\\\\\n <chr>\\\\\n\\hline\n\t NA\\\\\n\t b \\\\\n\t d \\\\\n\t c \\\\\n\\end{tabular}\n",
            "text/markdown": "\nA data.frame: 4 × 1\n\n| B &lt;chr&gt; |\n|---|\n| NA |\n| b  |\n| d  |\n| c  |\n\n",
            "text/html": [
              "<table>\n",
              "<caption>A data.frame: 4 × 1</caption>\n",
              "<thead>\n",
              "\t<tr><th scope=col>B</th></tr>\n",
              "\t<tr><th scope=col>&lt;chr&gt;</th></tr>\n",
              "</thead>\n",
              "<tbody>\n",
              "\t<tr><td>NA</td></tr>\n",
              "\t<tr><td>b </td></tr>\n",
              "\t<tr><td>d </td></tr>\n",
              "\t<tr><td>c </td></tr>\n",
              "</tbody>\n",
              "</table>\n"
            ]
          },
          "metadata": {
            "tags": []
          }
        }
      ]
    },
    {
      "cell_type": "markdown",
      "metadata": {
        "id": "8LiwgGw3Lnz4",
        "colab_type": "text"
      },
      "source": [
        "### **unite()**\n",
        "`unite()` does the opposite of separate(): it combines multiple columns into a single column."
      ]
    },
    {
      "cell_type": "code",
      "metadata": {
        "id": "4WXspOJGOJGt",
        "colab_type": "code",
        "outputId": "c6447898-4b6a-442f-8105-daabe1ad216e",
        "colab": {
          "base_uri": "https://localhost:8080/",
          "height": 204
        }
      },
      "source": [
        "table6"
      ],
      "execution_count": 0,
      "outputs": [
        {
          "output_type": "display_data",
          "data": {
            "text/plain": [
              "  country     century year rate             \n",
              "1 Afghanistan 19      99   745/19987071     \n",
              "2 Afghanistan 20      00   2666/20595360    \n",
              "3 Brazil      19      99   37737/172006362  \n",
              "4 Brazil      20      00   80488/174504898  \n",
              "5 China       19      99   212258/1272915272\n",
              "6 China       20      00   213766/1280428583"
            ],
            "text/latex": "A tibble: 6 × 4\n\\begin{tabular}{llll}\n country & century & year & rate\\\\\n <fct> & <chr> & <chr> & <chr>\\\\\n\\hline\n\t Afghanistan & 19 & 99 & 745/19987071     \\\\\n\t Afghanistan & 20 & 00 & 2666/20595360    \\\\\n\t Brazil      & 19 & 99 & 37737/172006362  \\\\\n\t Brazil      & 20 & 00 & 80488/174504898  \\\\\n\t China       & 19 & 99 & 212258/1272915272\\\\\n\t China       & 20 & 00 & 213766/1280428583\\\\\n\\end{tabular}\n",
            "text/markdown": "\nA tibble: 6 × 4\n\n| country &lt;fct&gt; | century &lt;chr&gt; | year &lt;chr&gt; | rate &lt;chr&gt; |\n|---|---|---|---|\n| Afghanistan | 19 | 99 | 745/19987071      |\n| Afghanistan | 20 | 00 | 2666/20595360     |\n| Brazil      | 19 | 99 | 37737/172006362   |\n| Brazil      | 20 | 00 | 80488/174504898   |\n| China       | 19 | 99 | 212258/1272915272 |\n| China       | 20 | 00 | 213766/1280428583 |\n\n",
            "text/html": [
              "<table>\n",
              "<caption>A tibble: 6 × 4</caption>\n",
              "<thead>\n",
              "\t<tr><th scope=col>country</th><th scope=col>century</th><th scope=col>year</th><th scope=col>rate</th></tr>\n",
              "\t<tr><th scope=col>&lt;fct&gt;</th><th scope=col>&lt;chr&gt;</th><th scope=col>&lt;chr&gt;</th><th scope=col>&lt;chr&gt;</th></tr>\n",
              "</thead>\n",
              "<tbody>\n",
              "\t<tr><td>Afghanistan</td><td>19</td><td>99</td><td>745/19987071     </td></tr>\n",
              "\t<tr><td>Afghanistan</td><td>20</td><td>00</td><td>2666/20595360    </td></tr>\n",
              "\t<tr><td>Brazil     </td><td>19</td><td>99</td><td>37737/172006362  </td></tr>\n",
              "\t<tr><td>Brazil     </td><td>20</td><td>00</td><td>80488/174504898  </td></tr>\n",
              "\t<tr><td>China      </td><td>19</td><td>99</td><td>212258/1272915272</td></tr>\n",
              "\t<tr><td>China      </td><td>20</td><td>00</td><td>213766/1280428583</td></tr>\n",
              "</tbody>\n",
              "</table>\n"
            ]
          },
          "metadata": {
            "tags": []
          }
        }
      ]
    },
    {
      "cell_type": "code",
      "metadata": {
        "id": "ePxkb1k2OKcX",
        "colab_type": "code",
        "outputId": "dd82267b-70cf-472a-990a-6666bdd032af",
        "colab": {
          "base_uri": "https://localhost:8080/",
          "height": 204
        }
      },
      "source": [
        "unite(table6, \"new\", century, year, sep = \"\")"
      ],
      "execution_count": 0,
      "outputs": [
        {
          "output_type": "display_data",
          "data": {
            "text/plain": [
              "  country     new  rate             \n",
              "1 Afghanistan 1999 745/19987071     \n",
              "2 Afghanistan 2000 2666/20595360    \n",
              "3 Brazil      1999 37737/172006362  \n",
              "4 Brazil      2000 80488/174504898  \n",
              "5 China       1999 212258/1272915272\n",
              "6 China       2000 213766/1280428583"
            ],
            "text/latex": "A tibble: 6 × 3\n\\begin{tabular}{lll}\n country & new & rate\\\\\n <fct> & <chr> & <chr>\\\\\n\\hline\n\t Afghanistan & 1999 & 745/19987071     \\\\\n\t Afghanistan & 2000 & 2666/20595360    \\\\\n\t Brazil      & 1999 & 37737/172006362  \\\\\n\t Brazil      & 2000 & 80488/174504898  \\\\\n\t China       & 1999 & 212258/1272915272\\\\\n\t China       & 2000 & 213766/1280428583\\\\\n\\end{tabular}\n",
            "text/markdown": "\nA tibble: 6 × 3\n\n| country &lt;fct&gt; | new &lt;chr&gt; | rate &lt;chr&gt; |\n|---|---|---|\n| Afghanistan | 1999 | 745/19987071      |\n| Afghanistan | 2000 | 2666/20595360     |\n| Brazil      | 1999 | 37737/172006362   |\n| Brazil      | 2000 | 80488/174504898   |\n| China       | 1999 | 212258/1272915272 |\n| China       | 2000 | 213766/1280428583 |\n\n",
            "text/html": [
              "<table>\n",
              "<caption>A tibble: 6 × 3</caption>\n",
              "<thead>\n",
              "\t<tr><th scope=col>country</th><th scope=col>new</th><th scope=col>rate</th></tr>\n",
              "\t<tr><th scope=col>&lt;fct&gt;</th><th scope=col>&lt;chr&gt;</th><th scope=col>&lt;chr&gt;</th></tr>\n",
              "</thead>\n",
              "<tbody>\n",
              "\t<tr><td>Afghanistan</td><td>1999</td><td>745/19987071     </td></tr>\n",
              "\t<tr><td>Afghanistan</td><td>2000</td><td>2666/20595360    </td></tr>\n",
              "\t<tr><td>Brazil     </td><td>1999</td><td>37737/172006362  </td></tr>\n",
              "\t<tr><td>Brazil     </td><td>2000</td><td>80488/174504898  </td></tr>\n",
              "\t<tr><td>China      </td><td>1999</td><td>212258/1272915272</td></tr>\n",
              "\t<tr><td>China      </td><td>2000</td><td>213766/1280428583</td></tr>\n",
              "</tbody>\n",
              "</table>\n"
            ]
          },
          "metadata": {
            "tags": []
          }
        }
      ]
    },
    {
      "cell_type": "markdown",
      "metadata": {
        "id": "2ZYnNDy-DHlF",
        "colab_type": "text"
      },
      "source": [
        "### **Exercise**:\n",
        "\n",
        "1.   The `fish_encounters` dataset only records when a fish was detected by the station - it doesn’t record when it wasn’t detected. Suppose we know that the absence of a record means that the fish was not seen, use `pivot_wider()` and `values_fill` argument to fill these missing values in with zeros(and also try to use chaining operator)."
      ]
    },
    {
      "cell_type": "markdown",
      "metadata": {
        "id": "mBJzruhaGNNG",
        "colab_type": "text"
      },
      "source": [
        "\n",
        "\n",
        "2.   Tidy the following dataset:\n",
        " *   make it longer and eliminate the explcit `NA`s, add a column with name `checked` and assign value `TRUE` to each entry of the `checked` column.\n",
        " *   make the data wider, filling in the missing observations with `FALSE`(use `values_fill`)"
      ]
    },
    {
      "cell_type": "code",
      "metadata": {
        "id": "BMrlo_KlGSWl",
        "colab_type": "code",
        "colab": {}
      },
      "source": [
        "multi <- tribble(\n",
        "  ~id, ~choice1, ~choice2, ~choice3,\n",
        "  1, \"A\", \"B\", \"C\",\n",
        "  2, \"C\", \"B\",  NA,\n",
        "  3, \"D\",  NA,  NA,\n",
        "  4, \"B\", \"D\",  NA\n",
        ")"
      ],
      "execution_count": 0,
      "outputs": []
    },
    {
      "cell_type": "markdown",
      "metadata": {
        "id": "CLeX589kktxC",
        "colab_type": "text"
      },
      "source": [
        "3.   Tidy the following dataset:\n",
        " *   Notice year is spread across multiple columns, first make it longer.\n",
        " *   Split the indicator up into two variables: `area` (total or urban) and `variable` (population or growth), i.e. discard \"SP\", keep other two characters and assign them to `area` and `variable` respectively.\n",
        " *   Complete the tidying by pivoting variable and value"
      ]
    },
    {
      "cell_type": "code",
      "metadata": {
        "id": "gqyt8H0YxtKQ",
        "colab_type": "code",
        "outputId": "c67aec18-cc34-4829-d641-9fd09d1c94fb",
        "colab": {
          "base_uri": "https://localhost:8080/",
          "height": 241
        }
      },
      "source": [
        "world_bank_pop\n",
        "head(world_bank_pop)"
      ],
      "execution_count": 0,
      "outputs": [
        {
          "output_type": "display_data",
          "data": {
            "text/plain": [
              "  country indicator   2000         2001         2002         2003        \n",
              "1 ABW     SP.URB.TOTL 4.244400e+04 4.304800e+04 4.367000e+04 4.424600e+04\n",
              "2 ABW     SP.URB.GROW 1.182632e+00 1.413021e+00 1.434560e+00 1.310360e+00\n",
              "3 ABW     SP.POP.TOTL 9.085300e+04 9.289800e+04 9.499200e+04 9.701700e+04\n",
              "4 ABW     SP.POP.GROW 2.055027e+00 2.225930e+00 2.229056e+00 2.109354e+00\n",
              "5 AFG     SP.URB.TOTL 4.436299e+06 4.648055e+06 4.892951e+06 5.155686e+06\n",
              "6 AFG     SP.URB.GROW 3.912228e+00 4.662838e+00 5.134675e+00 5.230459e+00\n",
              "  2004         2005         2006          2007          2008         \n",
              "1 4.466900e+04 4.488900e+04  4.488100e+04  4.468600e+04  4.437500e+04\n",
              "2 9.514777e-01 4.913027e-01 -1.782333e-02 -4.354289e-01 -6.984006e-01\n",
              "3 9.873700e+04 1.000310e+05  1.008320e+05  1.012200e+05  1.013530e+05\n",
              "4 1.757353e+00 1.302039e+00  7.975628e-01  3.840600e-01  1.313107e-01\n",
              "5 5.426770e+06 5.691823e+06  5.931413e+06  6.151939e+06  6.364968e+06\n",
              "6 5.124393e+00 4.768647e+00  4.123188e+00  3.650485e+00  3.404189e+00\n",
              "  2009          2010          2011         2012         2013        \n",
              "1  4.405200e+04  4.377800e+04 4.382200e+04 4.406400e+04 4.436000e+04\n",
              "2 -7.305493e-01 -6.239346e-01 1.004566e-01 5.507148e-01 6.695040e-01\n",
              "3  1.014530e+05  1.016690e+05 1.020530e+05 1.025770e+05 1.031870e+05\n",
              "4  9.861642e-02  2.126801e-01 3.769848e-01 5.121450e-01 5.929140e-01\n",
              "5  6.588859e+06  6.837008e+06 7.114615e+06 7.416385e+06 7.733964e+06\n",
              "6  3.457099e+00  3.697002e+00 3.980091e+00 4.154062e+00 4.192980e+00\n",
              "  2014         2015         2016         2017        \n",
              "1 4.467400e+04 4.497900e+04 4.527500e+04 4.557200e+04\n",
              "2 7.053514e-01 6.804037e-01 6.559290e-01 6.538489e-01\n",
              "3 1.037950e+05 1.043410e+05 1.048220e+05 1.052640e+05\n",
              "4 5.874924e-01 5.246582e-01 4.599292e-01 4.207807e-01\n",
              "5 8.054214e+06 8.367663e+06 8.670939e+06 8.971345e+06\n",
              "6 4.057389e+00 3.817920e+00 3.560246e+00 3.405852e+00"
            ],
            "text/latex": "A tibble: 6 × 20\n\\begin{tabular}{llllllllllllllllllll}\n country & indicator & 2000 & 2001 & 2002 & 2003 & 2004 & 2005 & 2006 & 2007 & 2008 & 2009 & 2010 & 2011 & 2012 & 2013 & 2014 & 2015 & 2016 & 2017\\\\\n <chr> & <chr> & <dbl> & <dbl> & <dbl> & <dbl> & <dbl> & <dbl> & <dbl> & <dbl> & <dbl> & <dbl> & <dbl> & <dbl> & <dbl> & <dbl> & <dbl> & <dbl> & <dbl> & <dbl>\\\\\n\\hline\n\t ABW & SP.URB.TOTL & 4.244400e+04 & 4.304800e+04 & 4.367000e+04 & 4.424600e+04 & 4.466900e+04 & 4.488900e+04 &  4.488100e+04 &  4.468600e+04 &  4.437500e+04 &  4.405200e+04 &  4.377800e+04 & 4.382200e+04 & 4.406400e+04 & 4.436000e+04 & 4.467400e+04 & 4.497900e+04 & 4.527500e+04 & 4.557200e+04\\\\\n\t ABW & SP.URB.GROW & 1.182632e+00 & 1.413021e+00 & 1.434560e+00 & 1.310360e+00 & 9.514777e-01 & 4.913027e-01 & -1.782333e-02 & -4.354289e-01 & -6.984006e-01 & -7.305493e-01 & -6.239346e-01 & 1.004566e-01 & 5.507148e-01 & 6.695040e-01 & 7.053514e-01 & 6.804037e-01 & 6.559290e-01 & 6.538489e-01\\\\\n\t ABW & SP.POP.TOTL & 9.085300e+04 & 9.289800e+04 & 9.499200e+04 & 9.701700e+04 & 9.873700e+04 & 1.000310e+05 &  1.008320e+05 &  1.012200e+05 &  1.013530e+05 &  1.014530e+05 &  1.016690e+05 & 1.020530e+05 & 1.025770e+05 & 1.031870e+05 & 1.037950e+05 & 1.043410e+05 & 1.048220e+05 & 1.052640e+05\\\\\n\t ABW & SP.POP.GROW & 2.055027e+00 & 2.225930e+00 & 2.229056e+00 & 2.109354e+00 & 1.757353e+00 & 1.302039e+00 &  7.975628e-01 &  3.840600e-01 &  1.313107e-01 &  9.861642e-02 &  2.126801e-01 & 3.769848e-01 & 5.121450e-01 & 5.929140e-01 & 5.874924e-01 & 5.246582e-01 & 4.599292e-01 & 4.207807e-01\\\\\n\t AFG & SP.URB.TOTL & 4.436299e+06 & 4.648055e+06 & 4.892951e+06 & 5.155686e+06 & 5.426770e+06 & 5.691823e+06 &  5.931413e+06 &  6.151939e+06 &  6.364968e+06 &  6.588859e+06 &  6.837008e+06 & 7.114615e+06 & 7.416385e+06 & 7.733964e+06 & 8.054214e+06 & 8.367663e+06 & 8.670939e+06 & 8.971345e+06\\\\\n\t AFG & SP.URB.GROW & 3.912228e+00 & 4.662838e+00 & 5.134675e+00 & 5.230459e+00 & 5.124393e+00 & 4.768647e+00 &  4.123188e+00 &  3.650485e+00 &  3.404189e+00 &  3.457099e+00 &  3.697002e+00 & 3.980091e+00 & 4.154062e+00 & 4.192980e+00 & 4.057389e+00 & 3.817920e+00 & 3.560246e+00 & 3.405852e+00\\\\\n\\end{tabular}\n",
            "text/markdown": "\nA tibble: 6 × 20\n\n| country &lt;chr&gt; | indicator &lt;chr&gt; | 2000 &lt;dbl&gt; | 2001 &lt;dbl&gt; | 2002 &lt;dbl&gt; | 2003 &lt;dbl&gt; | 2004 &lt;dbl&gt; | 2005 &lt;dbl&gt; | 2006 &lt;dbl&gt; | 2007 &lt;dbl&gt; | 2008 &lt;dbl&gt; | 2009 &lt;dbl&gt; | 2010 &lt;dbl&gt; | 2011 &lt;dbl&gt; | 2012 &lt;dbl&gt; | 2013 &lt;dbl&gt; | 2014 &lt;dbl&gt; | 2015 &lt;dbl&gt; | 2016 &lt;dbl&gt; | 2017 &lt;dbl&gt; |\n|---|---|---|---|---|---|---|---|---|---|---|---|---|---|---|---|---|---|---|---|\n| ABW | SP.URB.TOTL | 4.244400e+04 | 4.304800e+04 | 4.367000e+04 | 4.424600e+04 | 4.466900e+04 | 4.488900e+04 |  4.488100e+04 |  4.468600e+04 |  4.437500e+04 |  4.405200e+04 |  4.377800e+04 | 4.382200e+04 | 4.406400e+04 | 4.436000e+04 | 4.467400e+04 | 4.497900e+04 | 4.527500e+04 | 4.557200e+04 |\n| ABW | SP.URB.GROW | 1.182632e+00 | 1.413021e+00 | 1.434560e+00 | 1.310360e+00 | 9.514777e-01 | 4.913027e-01 | -1.782333e-02 | -4.354289e-01 | -6.984006e-01 | -7.305493e-01 | -6.239346e-01 | 1.004566e-01 | 5.507148e-01 | 6.695040e-01 | 7.053514e-01 | 6.804037e-01 | 6.559290e-01 | 6.538489e-01 |\n| ABW | SP.POP.TOTL | 9.085300e+04 | 9.289800e+04 | 9.499200e+04 | 9.701700e+04 | 9.873700e+04 | 1.000310e+05 |  1.008320e+05 |  1.012200e+05 |  1.013530e+05 |  1.014530e+05 |  1.016690e+05 | 1.020530e+05 | 1.025770e+05 | 1.031870e+05 | 1.037950e+05 | 1.043410e+05 | 1.048220e+05 | 1.052640e+05 |\n| ABW | SP.POP.GROW | 2.055027e+00 | 2.225930e+00 | 2.229056e+00 | 2.109354e+00 | 1.757353e+00 | 1.302039e+00 |  7.975628e-01 |  3.840600e-01 |  1.313107e-01 |  9.861642e-02 |  2.126801e-01 | 3.769848e-01 | 5.121450e-01 | 5.929140e-01 | 5.874924e-01 | 5.246582e-01 | 4.599292e-01 | 4.207807e-01 |\n| AFG | SP.URB.TOTL | 4.436299e+06 | 4.648055e+06 | 4.892951e+06 | 5.155686e+06 | 5.426770e+06 | 5.691823e+06 |  5.931413e+06 |  6.151939e+06 |  6.364968e+06 |  6.588859e+06 |  6.837008e+06 | 7.114615e+06 | 7.416385e+06 | 7.733964e+06 | 8.054214e+06 | 8.367663e+06 | 8.670939e+06 | 8.971345e+06 |\n| AFG | SP.URB.GROW | 3.912228e+00 | 4.662838e+00 | 5.134675e+00 | 5.230459e+00 | 5.124393e+00 | 4.768647e+00 |  4.123188e+00 |  3.650485e+00 |  3.404189e+00 |  3.457099e+00 |  3.697002e+00 | 3.980091e+00 | 4.154062e+00 | 4.192980e+00 | 4.057389e+00 | 3.817920e+00 | 3.560246e+00 | 3.405852e+00 |\n\n",
            "text/html": [
              "<table>\n",
              "<caption>A tibble: 6 × 20</caption>\n",
              "<thead>\n",
              "\t<tr><th scope=col>country</th><th scope=col>indicator</th><th scope=col>2000</th><th scope=col>2001</th><th scope=col>2002</th><th scope=col>2003</th><th scope=col>2004</th><th scope=col>2005</th><th scope=col>2006</th><th scope=col>2007</th><th scope=col>2008</th><th scope=col>2009</th><th scope=col>2010</th><th scope=col>2011</th><th scope=col>2012</th><th scope=col>2013</th><th scope=col>2014</th><th scope=col>2015</th><th scope=col>2016</th><th scope=col>2017</th></tr>\n",
              "\t<tr><th scope=col>&lt;chr&gt;</th><th scope=col>&lt;chr&gt;</th><th scope=col>&lt;dbl&gt;</th><th scope=col>&lt;dbl&gt;</th><th scope=col>&lt;dbl&gt;</th><th scope=col>&lt;dbl&gt;</th><th scope=col>&lt;dbl&gt;</th><th scope=col>&lt;dbl&gt;</th><th scope=col>&lt;dbl&gt;</th><th scope=col>&lt;dbl&gt;</th><th scope=col>&lt;dbl&gt;</th><th scope=col>&lt;dbl&gt;</th><th scope=col>&lt;dbl&gt;</th><th scope=col>&lt;dbl&gt;</th><th scope=col>&lt;dbl&gt;</th><th scope=col>&lt;dbl&gt;</th><th scope=col>&lt;dbl&gt;</th><th scope=col>&lt;dbl&gt;</th><th scope=col>&lt;dbl&gt;</th><th scope=col>&lt;dbl&gt;</th></tr>\n",
              "</thead>\n",
              "<tbody>\n",
              "\t<tr><td>ABW</td><td>SP.URB.TOTL</td><td>4.244400e+04</td><td>4.304800e+04</td><td>4.367000e+04</td><td>4.424600e+04</td><td>4.466900e+04</td><td>4.488900e+04</td><td> 4.488100e+04</td><td> 4.468600e+04</td><td> 4.437500e+04</td><td> 4.405200e+04</td><td> 4.377800e+04</td><td>4.382200e+04</td><td>4.406400e+04</td><td>4.436000e+04</td><td>4.467400e+04</td><td>4.497900e+04</td><td>4.527500e+04</td><td>4.557200e+04</td></tr>\n",
              "\t<tr><td>ABW</td><td>SP.URB.GROW</td><td>1.182632e+00</td><td>1.413021e+00</td><td>1.434560e+00</td><td>1.310360e+00</td><td>9.514777e-01</td><td>4.913027e-01</td><td>-1.782333e-02</td><td>-4.354289e-01</td><td>-6.984006e-01</td><td>-7.305493e-01</td><td>-6.239346e-01</td><td>1.004566e-01</td><td>5.507148e-01</td><td>6.695040e-01</td><td>7.053514e-01</td><td>6.804037e-01</td><td>6.559290e-01</td><td>6.538489e-01</td></tr>\n",
              "\t<tr><td>ABW</td><td>SP.POP.TOTL</td><td>9.085300e+04</td><td>9.289800e+04</td><td>9.499200e+04</td><td>9.701700e+04</td><td>9.873700e+04</td><td>1.000310e+05</td><td> 1.008320e+05</td><td> 1.012200e+05</td><td> 1.013530e+05</td><td> 1.014530e+05</td><td> 1.016690e+05</td><td>1.020530e+05</td><td>1.025770e+05</td><td>1.031870e+05</td><td>1.037950e+05</td><td>1.043410e+05</td><td>1.048220e+05</td><td>1.052640e+05</td></tr>\n",
              "\t<tr><td>ABW</td><td>SP.POP.GROW</td><td>2.055027e+00</td><td>2.225930e+00</td><td>2.229056e+00</td><td>2.109354e+00</td><td>1.757353e+00</td><td>1.302039e+00</td><td> 7.975628e-01</td><td> 3.840600e-01</td><td> 1.313107e-01</td><td> 9.861642e-02</td><td> 2.126801e-01</td><td>3.769848e-01</td><td>5.121450e-01</td><td>5.929140e-01</td><td>5.874924e-01</td><td>5.246582e-01</td><td>4.599292e-01</td><td>4.207807e-01</td></tr>\n",
              "\t<tr><td>AFG</td><td>SP.URB.TOTL</td><td>4.436299e+06</td><td>4.648055e+06</td><td>4.892951e+06</td><td>5.155686e+06</td><td>5.426770e+06</td><td>5.691823e+06</td><td> 5.931413e+06</td><td> 6.151939e+06</td><td> 6.364968e+06</td><td> 6.588859e+06</td><td> 6.837008e+06</td><td>7.114615e+06</td><td>7.416385e+06</td><td>7.733964e+06</td><td>8.054214e+06</td><td>8.367663e+06</td><td>8.670939e+06</td><td>8.971345e+06</td></tr>\n",
              "\t<tr><td>AFG</td><td>SP.URB.GROW</td><td>3.912228e+00</td><td>4.662838e+00</td><td>5.134675e+00</td><td>5.230459e+00</td><td>5.124393e+00</td><td>4.768647e+00</td><td> 4.123188e+00</td><td> 3.650485e+00</td><td> 3.404189e+00</td><td> 3.457099e+00</td><td> 3.697002e+00</td><td>3.980091e+00</td><td>4.154062e+00</td><td>4.192980e+00</td><td>4.057389e+00</td><td>3.817920e+00</td><td>3.560246e+00</td><td>3.405852e+00</td></tr>\n",
              "</tbody>\n",
              "</table>\n"
            ]
          },
          "metadata": {
            "tags": []
          }
        }
      ]
    }
  ]
}