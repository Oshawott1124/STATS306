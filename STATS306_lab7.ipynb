{
  "nbformat": 4,
  "nbformat_minor": 0,
  "metadata": {
    "colab": {
      "name": "STATS306_lab7.ipynb",
      "provenance": []
    },
    "kernelspec": {
      "name": "ir",
      "display_name": "R"
    }
  },
  "cells": [
    {
      "cell_type": "markdown",
      "metadata": {
        "id": "BdD8ZtU-_69l",
        "colab_type": "text"
      },
      "source": [
        "# **Lab 7: Midterm review**"
      ]
    },
    {
      "cell_type": "code",
      "metadata": {
        "id": "B3gjnLuCvGq5",
        "colab_type": "code",
        "outputId": "9fc23935-de07-4058-e818-70cf250c646b",
        "colab": {
          "base_uri": "https://localhost:8080/",
          "height": 204
        }
      },
      "source": [
        "library(tidyverse)"
      ],
      "execution_count": 0,
      "outputs": [
        {
          "output_type": "stream",
          "text": [
            "── \u001b[1mAttaching packages\u001b[22m ─────────────────────────────────────── tidyverse 1.3.0 ──\n",
            "\n",
            "\u001b[32m✔\u001b[39m \u001b[34mggplot2\u001b[39m 3.2.1     \u001b[32m✔\u001b[39m \u001b[34mpurrr  \u001b[39m 0.3.3\n",
            "\u001b[32m✔\u001b[39m \u001b[34mtibble \u001b[39m 2.1.3     \u001b[32m✔\u001b[39m \u001b[34mdplyr  \u001b[39m 0.8.4\n",
            "\u001b[32m✔\u001b[39m \u001b[34mtidyr  \u001b[39m 1.0.2     \u001b[32m✔\u001b[39m \u001b[34mstringr\u001b[39m 1.4.0\n",
            "\u001b[32m✔\u001b[39m \u001b[34mreadr  \u001b[39m 1.3.1     \u001b[32m✔\u001b[39m \u001b[34mforcats\u001b[39m 0.4.0\n",
            "\n",
            "── \u001b[1mConflicts\u001b[22m ────────────────────────────────────────── tidyverse_conflicts() ──\n",
            "\u001b[31m✖\u001b[39m \u001b[34mdplyr\u001b[39m::\u001b[32mfilter()\u001b[39m masks \u001b[34mstats\u001b[39m::filter()\n",
            "\u001b[31m✖\u001b[39m \u001b[34mdplyr\u001b[39m::\u001b[32mlag()\u001b[39m    masks \u001b[34mstats\u001b[39m::lag()\n",
            "\n"
          ],
          "name": "stderr"
        }
      ]
    },
    {
      "cell_type": "markdown",
      "metadata": {
        "id": "r2DN9K50UFNz",
        "colab_type": "text"
      },
      "source": [
        "## **Bacis data structure and operations**\n",
        "\n",
        "*   Data structure: vector: `x = c(...)` (same data type), list: `x = list()`(different data types), matrix, data frame etc.\n",
        "\n",
        "*   arthimetic, logical operations, vector indexing etc."
      ]
    },
    {
      "cell_type": "markdown",
      "metadata": {
        "id": "kwM0Qd0iZX1H",
        "colab_type": "text"
      },
      "source": [
        "## **Data visulization**\n",
        "\n",
        "### **Buliding block of ggplot2 graphical objects**\n",
        "\n",
        "*   data\n",
        "*   aesthetic mapping\n",
        "*   geometric objects\n",
        "*   statistical transformaons\n",
        "*   facets\n",
        "*   scales\n",
        "*   coordinate system\n",
        "*   positioning adjustment\n",
        "\n",
        "\n",
        "\n",
        "\n",
        "\n",
        "```\n",
        "ggplot(data = <DATA>) +\n",
        "GEOM_FUNCTION(\n",
        "mapping = aes(<mappings>),\n",
        "stat = <statistic transformation>,\n",
        "position = <position options>,\n",
        "color = <fixed color>,\n",
        "<other arguments>) +\n",
        "FACET_FUNCTION(<facet options>) +\n",
        "SCALE_FUNCTION(<scale options>) +\n",
        "theme(<theme elements>)\n",
        "```"
      ]
    },
    {
      "cell_type": "markdown",
      "metadata": {
        "id": "L-aJ3mboAGEW",
        "colab_type": "text"
      },
      "source": [
        "### **Scale**\n",
        "\n",
        "To be specific, how to scale the axis? Ex:\n",
        "\n",
        "*   `scale_y_sqrt()`\n",
        "*   In the bar chart, `y = sqrt(..count..)`"
      ]
    },
    {
      "cell_type": "markdown",
      "metadata": {
        "id": "OZGwuwUcAray",
        "colab_type": "text"
      },
      "source": [
        "### **Facet**\n",
        "\n",
        "*   `facet_grid()`\n",
        "*   `facet_wrap()`"
      ]
    },
    {
      "cell_type": "markdown",
      "metadata": {
        "id": "emLlLk7nbnFB",
        "colab_type": "text"
      },
      "source": [
        "### **Types of statistical transformations**\n",
        "\n",
        "*   **boxplots**: `geom_boxplot`\n",
        "*   **histograms**: `geom_histogram`\n",
        "*   **bar charts**: `geom_bar`\n",
        "*   **smoothers**: `geom_smooth`\n",
        "\n",
        "What is the argument for each function? What asthetics does it understand? What is the meaning of each asthetics? "
      ]
    },
    {
      "cell_type": "markdown",
      "metadata": {
        "id": "blstHOMiY97I",
        "colab_type": "text"
      },
      "source": [
        "### **How to get help**\n",
        "\n",
        "`?` or `help()`\n",
        "\n",
        "Example: `?geom_boxplot`"
      ]
    },
    {
      "cell_type": "markdown",
      "metadata": {
        "id": "myh3inPPBoI8",
        "colab_type": "text"
      },
      "source": [
        "### **Position adjustment**\n",
        "\n",
        "To avoid overplotting,\n",
        "\n",
        "*   `geom_jitter()` etc."
      ]
    },
    {
      "cell_type": "markdown",
      "metadata": {
        "id": "7DTtVS0z4ygY",
        "colab_type": "text"
      },
      "source": [
        "### **Coordinate systems**\n",
        "\n",
        "*    Coxcomb chart\n",
        "*    pie chart\n",
        "*    bullseye chart"
      ]
    },
    {
      "cell_type": "markdown",
      "metadata": {
        "id": "TvP2_BpGTBL2",
        "colab_type": "text"
      },
      "source": [
        "## **Data manipulating: `dplyr` package**\n",
        "\n",
        "*   `filter()` - for picking observations by their values(picking rows),\n",
        "*   `select()` - for picking variables by their names(picking column),\n",
        "*   `arrange()` - for reorder the rows(use `desc()` for descending ordering),\n",
        "*   `mutate()` - for creating new variables with functions on existing variables( and `transmute()`),\n",
        "*   `summarise()` - for collapse many values down to a single summary.\n",
        "*   `group_by()`\n",
        "*   `tally()` - for counting observations or you can use `n()` combining with `summarise` instead. Example: `diamonds %>% group_by(cut) %>% summarise(cut_count = n()) `\n",
        "*   `top_n()`\n",
        "*   `sample_n()`"
      ]
    },
    {
      "cell_type": "markdown",
      "metadata": {
        "id": "DNG9IdM_gwf0",
        "colab_type": "text"
      },
      "source": [
        "### **Missing values**\n",
        "\n",
        "`is.na(x)` instead of `x == NA` \n",
        "\n",
        "how to get rid of data with `NA`? `filter(data, !is.na(y))`"
      ]
    },
    {
      "cell_type": "markdown",
      "metadata": {
        "id": "E3sSrOpqdMxI",
        "colab_type": "text"
      },
      "source": [
        "## **Chaining operators**\n",
        "\n",
        "*   The %>% is used pipe values forward into\n",
        "an expression or function call.\n",
        "*   In the pipe notation, you use x %>% f(y),\n",
        "rather than f(x, y)."
      ]
    },
    {
      "cell_type": "markdown",
      "metadata": {
        "id": "gltzi7SzTACc",
        "colab_type": "text"
      },
      "source": [
        "## **EDA**\n",
        "\n",
        "\n",
        "### **Variation**\n",
        "\n",
        "`geom_histogram()`, `geom_count()`, `geom_freqploy()`\n",
        "\n",
        "\n",
        "### **Identify outliers**\n",
        "Outliers are observations that are unusual – data points that don’t seem to fit the general pattern.\n",
        "\n",
        "Zoom and explore your data set carefully\n",
        "\n",
        "### **Covariation**\n",
        "\n",
        "*   Two categorical variables: `geom_count`, `geom_tile`\n",
        "*   A categorical and continuous variable: `geom_freqploy`, `geom_boxplot`, `geom_histogram`\n",
        "*   A countinuos and continuous variable: `geom_smooth`, `geom_point`, `geom_bin2d`, `geom_hex`"
      ]
    },
    {
      "cell_type": "markdown",
      "metadata": {
        "id": "KzYQMJPWFkI_",
        "colab_type": "text"
      },
      "source": [
        "## **Exercise**"
      ]
    },
    {
      "cell_type": "code",
      "metadata": {
        "id": "hmiG9tpLN55O",
        "colab_type": "code",
        "colab": {}
      },
      "source": [
        "zillow_url1 <- paste0(\"http://files.zillowstatic.com/research/public/City/\",\n",
        "                    \"City_MedianRentalPricePerSqft_AllHomes.csv\")\n",
        "zillow_url2 <- paste0(\"http://files.zillowstatic.com/research/public/City/\",\n",
        "                      \"City_ZriPerSqft_AllHomes.csv\")\n",
        "price_per_sqft <- read_csv(zillow_url1)\n",
        "value_per_sqft <- read_csv(zillow_url2)\n",
        "price_per_sqft <- price_per_sqft %>%\n",
        "    select(-Metro) %>%\n",
        "    gather(`2010-01`:`2018-08`, key = \"date\", value = \"price\") \n",
        "value_per_sqft <- value_per_sqft %>%\n",
        "    select(RegionID:CountyName, `2011-01`:`2018-08`) %>%\n",
        "    gather(`2011-01`:`2018-08`, key = \"date\", value = \"value\") \n",
        "home_per_sqft <- price_per_sqft %>%\n",
        "    inner_join(value_per_sqft)\n",
        "home_per_sqft <- home_per_sqft %>%\n",
        "    mutate(date = paste0(date, \"-01\"),\n",
        "           date = as.Date(date))\n",
        "top10_States <- home_per_sqft %>%\n",
        "    filter(date >= as.Date(\"2018-01-01\")) %>%\n",
        "    filter(State != \"HI\", State != \"DC\") %>%\n",
        "    group_by(State) %>%\n",
        "    summarise(price = mean(price, na.rm = TRUE)) %>%\n",
        "    top_n(10)\n",
        "home_per_sqft <- home_per_sqft %>%\n",
        "    filter(State %in% top10_States$State)\n",
        "locale <- Sys.setlocale(category = \"LC_ALL\", locale = \"C\")"
      ],
      "execution_count": 0,
      "outputs": []
    },
    {
      "cell_type": "markdown",
      "metadata": {
        "id": "a-pE8EccVwNa",
        "colab_type": "text"
      },
      "source": [
        "1.  Count the number of data with `value` missing"
      ]
    },
    {
      "cell_type": "markdown",
      "metadata": {
        "id": "kmWhvK-gO3_5",
        "colab_type": "text"
      },
      "source": [
        "2.  Exclude missing values, create a column called `profit=price-value`, which two `State` has the highest median `profit`?"
      ]
    },
    {
      "cell_type": "markdown",
      "metadata": {
        "id": "sseV-CA3SXe7",
        "colab_type": "text"
      },
      "source": [
        "3.  Computing the average of the home price per square foot for each (state, date) pair. Then show the price trend over time for each of the top 10 states separately for each `State`."
      ]
    },
    {
      "cell_type": "markdown",
      "metadata": {
        "id": "pFSWkP0uN3yo",
        "colab_type": "text"
      },
      "source": [
        "4.  Exclude data with `price` is `NA`, find the top 3 states(`State`) has the most number of regions with price(`price`) more than 1.5."
      ]
    }
  ]
}
